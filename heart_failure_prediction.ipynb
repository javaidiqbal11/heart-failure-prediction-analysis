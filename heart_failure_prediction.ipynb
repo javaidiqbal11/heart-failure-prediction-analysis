{
  "cells": [
    {
      "cell_type": "markdown",
      "metadata": {
        "id": "view-in-github",
        "colab_type": "text"
      },
      "source": [
        "<a href=\"https://colab.research.google.com/github/javaidiqbal11/heart-failure-prediction-analysis/blob/main/heart_failure_prediction.ipynb\" target=\"_parent\"><img src=\"https://colab.research.google.com/assets/colab-badge.svg\" alt=\"Open In Colab\"/></a>"
      ]
    },
    {
      "cell_type": "markdown",
      "metadata": {
        "papermill": {
          "duration": 0.058823,
          "end_time": "2021-01-30T12:06:45.531860",
          "exception": false,
          "start_time": "2021-01-30T12:06:45.473037",
          "status": "completed"
        },
        "tags": [],
        "id": "0p8LqfOALu8K"
      },
      "source": [
        "### Columns description\n",
        "\n",
        "1. anaemia:Decrease of red blood cells or hemoglobin (boolean)\n",
        "2. creatinine_phosphokinase:Level of the CPK enzyme in the blood (mcg/L)\n",
        "3. diabetes:If the patient has diabetes (boolean)\n",
        "4. ejection_fraction:Ejection fraction (EF) is a measurement, expressed as a percentage, of how much blood the left ventricle pumps out with each contraction\n",
        "5. high_blood_pressure:blood hypertension\n",
        "6. platelets:are a component of blood whose function (along with the coagulation factors)\n",
        "7. serum_creatinine:Serum creatinine is widely interpreted as a measure only of renal function\n",
        "8. serum_sodium: to see how much sodium is in your blood it is particularly important for nerve and muscle function.\n"
      ]
    },
    {
      "cell_type": "markdown",
      "metadata": {
        "papermill": {
          "duration": 0.056318,
          "end_time": "2021-01-30T12:06:45.644431",
          "exception": false,
          "start_time": "2021-01-30T12:06:45.588113",
          "status": "completed"
        },
        "tags": [],
        "id": "2TehzhtwLu8P"
      },
      "source": [
        "# 1. Import library"
      ]
    },
    {
      "cell_type": "code",
      "source": [
        "from google.colab import drive\n",
        "drive.mount('/content/drive')"
      ],
      "metadata": {
        "colab": {
          "base_uri": "https://localhost:8080/"
        },
        "id": "4dZ5QP8YMCcs",
        "outputId": "aa09f3ef-81d8-4ce2-f638-26469f856921"
      },
      "execution_count": null,
      "outputs": [
        {
          "output_type": "stream",
          "name": "stdout",
          "text": [
            "Mounted at /content/drive\n"
          ]
        }
      ]
    },
    {
      "cell_type": "code",
      "execution_count": null,
      "metadata": {
        "_cell_guid": "b1076dfc-b9ad-4769-8c92-a6c4dae69d19",
        "_uuid": "8f2839f25d086af736a60e9eeb907d3b93b6e0e5",
        "execution": {
          "iopub.execute_input": "2021-01-30T12:06:45.766355Z",
          "iopub.status.busy": "2021-01-30T12:06:45.765420Z",
          "iopub.status.idle": "2021-01-30T12:06:47.997534Z",
          "shell.execute_reply": "2021-01-30T12:06:47.996787Z"
        },
        "papermill": {
          "duration": 2.296426,
          "end_time": "2021-01-30T12:06:47.997659",
          "exception": false,
          "start_time": "2021-01-30T12:06:45.701233",
          "status": "completed"
        },
        "tags": [],
        "id": "2C_Ayc2SLu8Q"
      },
      "outputs": [],
      "source": [
        "# manipulation data\n",
        "import pandas as pd\n",
        "import numpy as np\n",
        "\n",
        "#visualiation data\n",
        "import matplotlib.pyplot as plt\n",
        "import seaborn as sns \n",
        "import matplotlib\n",
        "import plotly.graph_objects as go\n",
        "import plotly.express as px\n",
        "\n",
        "#default theme\n",
        "sns.set(context='notebook', style='darkgrid', palette='colorblind', font='sans-serif', font_scale=1, rc=None)\n",
        "matplotlib.rcParams['figure.figsize'] =[8,8]\n",
        "matplotlib.rcParams.update({'font.size': 15})\n",
        "matplotlib.rcParams['font.family'] = 'sans-serif'"
      ]
    },
    {
      "cell_type": "markdown",
      "metadata": {
        "papermill": {
          "duration": 0.056359,
          "end_time": "2021-01-30T12:06:48.112283",
          "exception": false,
          "start_time": "2021-01-30T12:06:48.055924",
          "status": "completed"
        },
        "tags": [],
        "id": "z90v4Hy_Lu8S"
      },
      "source": [
        "# 2. data analysis"
      ]
    },
    {
      "cell_type": "code",
      "execution_count": null,
      "metadata": {
        "execution": {
          "iopub.execute_input": "2021-01-30T12:06:48.236617Z",
          "iopub.status.busy": "2021-01-30T12:06:48.235874Z",
          "iopub.status.idle": "2021-01-30T12:06:48.274544Z",
          "shell.execute_reply": "2021-01-30T12:06:48.273894Z"
        },
        "papermill": {
          "duration": 0.105077,
          "end_time": "2021-01-30T12:06:48.274667",
          "exception": false,
          "start_time": "2021-01-30T12:06:48.169590",
          "status": "completed"
        },
        "tags": [],
        "colab": {
          "base_uri": "https://localhost:8080/",
          "height": 302
        },
        "id": "UlHq52X3Lu8S",
        "outputId": "8d4846c4-dc4a-4dc2-d9a6-09418a932aa5"
      },
      "outputs": [
        {
          "output_type": "execute_result",
          "data": {
            "text/plain": [
              "    age  anaemia  creatinine_phosphokinase  diabetes  ejection_fraction  \\\n",
              "0  75.0        0                       582         0                 20   \n",
              "1  55.0        0                      7861         0                 38   \n",
              "2  65.0        0                       146         0                 20   \n",
              "3  50.0        1                       111         0                 20   \n",
              "4  65.0        1                       160         1                 20   \n",
              "5  90.0        1                        47         0                 40   \n",
              "\n",
              "   high_blood_pressure  platelets  serum_creatinine  serum_sodium  sex  \\\n",
              "0                    1  265000.00               1.9           130    1   \n",
              "1                    0  263358.03               1.1           136    1   \n",
              "2                    0  162000.00               1.3           129    1   \n",
              "3                    0  210000.00               1.9           137    1   \n",
              "4                    0  327000.00               2.7           116    0   \n",
              "5                    1  204000.00               2.1           132    1   \n",
              "\n",
              "   smoking  time  DEATH_EVENT  \n",
              "0        0     4            1  \n",
              "1        0     6            1  \n",
              "2        1     7            1  \n",
              "3        0     7            1  \n",
              "4        0     8            1  \n",
              "5        1     8            1  "
            ],
            "text/html": [
              "\n",
              "  <div id=\"df-39572088-48c4-46c3-a7a4-d06204c0fdc0\">\n",
              "    <div class=\"colab-df-container\">\n",
              "      <div>\n",
              "<style scoped>\n",
              "    .dataframe tbody tr th:only-of-type {\n",
              "        vertical-align: middle;\n",
              "    }\n",
              "\n",
              "    .dataframe tbody tr th {\n",
              "        vertical-align: top;\n",
              "    }\n",
              "\n",
              "    .dataframe thead th {\n",
              "        text-align: right;\n",
              "    }\n",
              "</style>\n",
              "<table border=\"1\" class=\"dataframe\">\n",
              "  <thead>\n",
              "    <tr style=\"text-align: right;\">\n",
              "      <th></th>\n",
              "      <th>age</th>\n",
              "      <th>anaemia</th>\n",
              "      <th>creatinine_phosphokinase</th>\n",
              "      <th>diabetes</th>\n",
              "      <th>ejection_fraction</th>\n",
              "      <th>high_blood_pressure</th>\n",
              "      <th>platelets</th>\n",
              "      <th>serum_creatinine</th>\n",
              "      <th>serum_sodium</th>\n",
              "      <th>sex</th>\n",
              "      <th>smoking</th>\n",
              "      <th>time</th>\n",
              "      <th>DEATH_EVENT</th>\n",
              "    </tr>\n",
              "  </thead>\n",
              "  <tbody>\n",
              "    <tr>\n",
              "      <th>0</th>\n",
              "      <td>75.0</td>\n",
              "      <td>0</td>\n",
              "      <td>582</td>\n",
              "      <td>0</td>\n",
              "      <td>20</td>\n",
              "      <td>1</td>\n",
              "      <td>265000.00</td>\n",
              "      <td>1.9</td>\n",
              "      <td>130</td>\n",
              "      <td>1</td>\n",
              "      <td>0</td>\n",
              "      <td>4</td>\n",
              "      <td>1</td>\n",
              "    </tr>\n",
              "    <tr>\n",
              "      <th>1</th>\n",
              "      <td>55.0</td>\n",
              "      <td>0</td>\n",
              "      <td>7861</td>\n",
              "      <td>0</td>\n",
              "      <td>38</td>\n",
              "      <td>0</td>\n",
              "      <td>263358.03</td>\n",
              "      <td>1.1</td>\n",
              "      <td>136</td>\n",
              "      <td>1</td>\n",
              "      <td>0</td>\n",
              "      <td>6</td>\n",
              "      <td>1</td>\n",
              "    </tr>\n",
              "    <tr>\n",
              "      <th>2</th>\n",
              "      <td>65.0</td>\n",
              "      <td>0</td>\n",
              "      <td>146</td>\n",
              "      <td>0</td>\n",
              "      <td>20</td>\n",
              "      <td>0</td>\n",
              "      <td>162000.00</td>\n",
              "      <td>1.3</td>\n",
              "      <td>129</td>\n",
              "      <td>1</td>\n",
              "      <td>1</td>\n",
              "      <td>7</td>\n",
              "      <td>1</td>\n",
              "    </tr>\n",
              "    <tr>\n",
              "      <th>3</th>\n",
              "      <td>50.0</td>\n",
              "      <td>1</td>\n",
              "      <td>111</td>\n",
              "      <td>0</td>\n",
              "      <td>20</td>\n",
              "      <td>0</td>\n",
              "      <td>210000.00</td>\n",
              "      <td>1.9</td>\n",
              "      <td>137</td>\n",
              "      <td>1</td>\n",
              "      <td>0</td>\n",
              "      <td>7</td>\n",
              "      <td>1</td>\n",
              "    </tr>\n",
              "    <tr>\n",
              "      <th>4</th>\n",
              "      <td>65.0</td>\n",
              "      <td>1</td>\n",
              "      <td>160</td>\n",
              "      <td>1</td>\n",
              "      <td>20</td>\n",
              "      <td>0</td>\n",
              "      <td>327000.00</td>\n",
              "      <td>2.7</td>\n",
              "      <td>116</td>\n",
              "      <td>0</td>\n",
              "      <td>0</td>\n",
              "      <td>8</td>\n",
              "      <td>1</td>\n",
              "    </tr>\n",
              "    <tr>\n",
              "      <th>5</th>\n",
              "      <td>90.0</td>\n",
              "      <td>1</td>\n",
              "      <td>47</td>\n",
              "      <td>0</td>\n",
              "      <td>40</td>\n",
              "      <td>1</td>\n",
              "      <td>204000.00</td>\n",
              "      <td>2.1</td>\n",
              "      <td>132</td>\n",
              "      <td>1</td>\n",
              "      <td>1</td>\n",
              "      <td>8</td>\n",
              "      <td>1</td>\n",
              "    </tr>\n",
              "  </tbody>\n",
              "</table>\n",
              "</div>\n",
              "      <button class=\"colab-df-convert\" onclick=\"convertToInteractive('df-39572088-48c4-46c3-a7a4-d06204c0fdc0')\"\n",
              "              title=\"Convert this dataframe to an interactive table.\"\n",
              "              style=\"display:none;\">\n",
              "        \n",
              "  <svg xmlns=\"http://www.w3.org/2000/svg\" height=\"24px\"viewBox=\"0 0 24 24\"\n",
              "       width=\"24px\">\n",
              "    <path d=\"M0 0h24v24H0V0z\" fill=\"none\"/>\n",
              "    <path d=\"M18.56 5.44l.94 2.06.94-2.06 2.06-.94-2.06-.94-.94-2.06-.94 2.06-2.06.94zm-11 1L8.5 8.5l.94-2.06 2.06-.94-2.06-.94L8.5 2.5l-.94 2.06-2.06.94zm10 10l.94 2.06.94-2.06 2.06-.94-2.06-.94-.94-2.06-.94 2.06-2.06.94z\"/><path d=\"M17.41 7.96l-1.37-1.37c-.4-.4-.92-.59-1.43-.59-.52 0-1.04.2-1.43.59L10.3 9.45l-7.72 7.72c-.78.78-.78 2.05 0 2.83L4 21.41c.39.39.9.59 1.41.59.51 0 1.02-.2 1.41-.59l7.78-7.78 2.81-2.81c.8-.78.8-2.07 0-2.86zM5.41 20L4 18.59l7.72-7.72 1.47 1.35L5.41 20z\"/>\n",
              "  </svg>\n",
              "      </button>\n",
              "      \n",
              "  <style>\n",
              "    .colab-df-container {\n",
              "      display:flex;\n",
              "      flex-wrap:wrap;\n",
              "      gap: 12px;\n",
              "    }\n",
              "\n",
              "    .colab-df-convert {\n",
              "      background-color: #E8F0FE;\n",
              "      border: none;\n",
              "      border-radius: 50%;\n",
              "      cursor: pointer;\n",
              "      display: none;\n",
              "      fill: #1967D2;\n",
              "      height: 32px;\n",
              "      padding: 0 0 0 0;\n",
              "      width: 32px;\n",
              "    }\n",
              "\n",
              "    .colab-df-convert:hover {\n",
              "      background-color: #E2EBFA;\n",
              "      box-shadow: 0px 1px 2px rgba(60, 64, 67, 0.3), 0px 1px 3px 1px rgba(60, 64, 67, 0.15);\n",
              "      fill: #174EA6;\n",
              "    }\n",
              "\n",
              "    [theme=dark] .colab-df-convert {\n",
              "      background-color: #3B4455;\n",
              "      fill: #D2E3FC;\n",
              "    }\n",
              "\n",
              "    [theme=dark] .colab-df-convert:hover {\n",
              "      background-color: #434B5C;\n",
              "      box-shadow: 0px 1px 3px 1px rgba(0, 0, 0, 0.15);\n",
              "      filter: drop-shadow(0px 1px 2px rgba(0, 0, 0, 0.3));\n",
              "      fill: #FFFFFF;\n",
              "    }\n",
              "  </style>\n",
              "\n",
              "      <script>\n",
              "        const buttonEl =\n",
              "          document.querySelector('#df-39572088-48c4-46c3-a7a4-d06204c0fdc0 button.colab-df-convert');\n",
              "        buttonEl.style.display =\n",
              "          google.colab.kernel.accessAllowed ? 'block' : 'none';\n",
              "\n",
              "        async function convertToInteractive(key) {\n",
              "          const element = document.querySelector('#df-39572088-48c4-46c3-a7a4-d06204c0fdc0');\n",
              "          const dataTable =\n",
              "            await google.colab.kernel.invokeFunction('convertToInteractive',\n",
              "                                                     [key], {});\n",
              "          if (!dataTable) return;\n",
              "\n",
              "          const docLinkHtml = 'Like what you see? Visit the ' +\n",
              "            '<a target=\"_blank\" href=https://colab.research.google.com/notebooks/data_table.ipynb>data table notebook</a>'\n",
              "            + ' to learn more about interactive tables.';\n",
              "          element.innerHTML = '';\n",
              "          dataTable['output_type'] = 'display_data';\n",
              "          await google.colab.output.renderOutput(dataTable, element);\n",
              "          const docLink = document.createElement('div');\n",
              "          docLink.innerHTML = docLinkHtml;\n",
              "          element.appendChild(docLink);\n",
              "        }\n",
              "      </script>\n",
              "    </div>\n",
              "  </div>\n",
              "  "
            ]
          },
          "metadata": {},
          "execution_count": 5
        }
      ],
      "source": [
        "train = pd.read_csv('/content/drive/MyDrive/Waleed_Client/Healthcare_Projects/Project_03/source_code/heart_failure_clinical_records_dataset.csv')\n",
        "train.head(6)"
      ]
    },
    {
      "cell_type": "code",
      "execution_count": null,
      "metadata": {
        "execution": {
          "iopub.execute_input": "2021-01-30T12:06:48.405529Z",
          "iopub.status.busy": "2021-01-30T12:06:48.404715Z",
          "iopub.status.idle": "2021-01-30T12:06:48.408761Z",
          "shell.execute_reply": "2021-01-30T12:06:48.409284Z"
        },
        "papermill": {
          "duration": 0.077081,
          "end_time": "2021-01-30T12:06:48.409443",
          "exception": false,
          "start_time": "2021-01-30T12:06:48.332362",
          "status": "completed"
        },
        "tags": [],
        "colab": {
          "base_uri": "https://localhost:8080/"
        },
        "id": "sop_JgRjLu8T",
        "outputId": "de14ce48-5627-49db-d44a-95af739449f8"
      },
      "outputs": [
        {
          "output_type": "stream",
          "name": "stdout",
          "text": [
            "<class 'pandas.core.frame.DataFrame'>\n",
            "RangeIndex: 299 entries, 0 to 298\n",
            "Data columns (total 13 columns):\n",
            " #   Column                    Non-Null Count  Dtype  \n",
            "---  ------                    --------------  -----  \n",
            " 0   age                       299 non-null    float64\n",
            " 1   anaemia                   299 non-null    int64  \n",
            " 2   creatinine_phosphokinase  299 non-null    int64  \n",
            " 3   diabetes                  299 non-null    int64  \n",
            " 4   ejection_fraction         299 non-null    int64  \n",
            " 5   high_blood_pressure       299 non-null    int64  \n",
            " 6   platelets                 299 non-null    float64\n",
            " 7   serum_creatinine          299 non-null    float64\n",
            " 8   serum_sodium              299 non-null    int64  \n",
            " 9   sex                       299 non-null    int64  \n",
            " 10  smoking                   299 non-null    int64  \n",
            " 11  time                      299 non-null    int64  \n",
            " 12  DEATH_EVENT               299 non-null    int64  \n",
            "dtypes: float64(3), int64(10)\n",
            "memory usage: 30.5 KB\n"
          ]
        }
      ],
      "source": [
        "train.info()"
      ]
    },
    {
      "cell_type": "code",
      "execution_count": null,
      "metadata": {
        "execution": {
          "iopub.execute_input": "2021-01-30T12:06:48.537503Z",
          "iopub.status.busy": "2021-01-30T12:06:48.536854Z",
          "iopub.status.idle": "2021-01-30T12:06:48.708995Z",
          "shell.execute_reply": "2021-01-30T12:06:48.708453Z"
        },
        "papermill": {
          "duration": 0.240229,
          "end_time": "2021-01-30T12:06:48.709112",
          "exception": false,
          "start_time": "2021-01-30T12:06:48.468883",
          "status": "completed"
        },
        "tags": [],
        "colab": {
          "base_uri": "https://localhost:8080/",
          "height": 482
        },
        "id": "URqvTVfCLu8U",
        "outputId": "2cb19362-552f-4d09-d551-b3046354831b"
      },
      "outputs": [
        {
          "output_type": "display_data",
          "data": {
            "text/plain": [
              "<Figure size 576x576 with 1 Axes>"
            ],
            "image/png": "[encoded data removed]"
          },
          "metadata": {}
        }
      ],
      "source": [
        "\n",
        "train.dtypes.value_counts().plot.pie(explode=[0.1,0.1],autopct='%1.1f%%',shadow=True)\n",
        "plt.title('type of our data');"
      ]
    },
    {
      "cell_type": "code",
      "execution_count": null,
      "metadata": {
        "execution": {
          "iopub.execute_input": "2021-01-30T12:06:48.835832Z",
          "iopub.status.busy": "2021-01-30T12:06:48.834794Z",
          "iopub.status.idle": "2021-01-30T12:06:48.839259Z",
          "shell.execute_reply": "2021-01-30T12:06:48.838785Z"
        },
        "papermill": {
          "duration": 0.070222,
          "end_time": "2021-01-30T12:06:48.839387",
          "exception": false,
          "start_time": "2021-01-30T12:06:48.769165",
          "status": "completed"
        },
        "tags": [],
        "colab": {
          "base_uri": "https://localhost:8080/"
        },
        "id": "XmCHHqv2Lu8V",
        "outputId": "283af8c9-d30d-4adc-a523-e840bddc2c1d"
      },
      "outputs": [
        {
          "output_type": "execute_result",
          "data": {
            "text/plain": [
              "Index(['age', 'anaemia', 'creatinine_phosphokinase', 'diabetes',\n",
              "       'ejection_fraction', 'high_blood_pressure', 'platelets',\n",
              "       'serum_creatinine', 'serum_sodium', 'sex', 'smoking', 'time',\n",
              "       'DEATH_EVENT'],\n",
              "      dtype='object')"
            ]
          },
          "metadata": {},
          "execution_count": 8
        }
      ],
      "source": [
        "train.columns"
      ]
    },
    {
      "cell_type": "code",
      "execution_count": null,
      "metadata": {
        "execution": {
          "iopub.execute_input": "2021-01-30T12:06:48.969630Z",
          "iopub.status.busy": "2021-01-30T12:06:48.968570Z",
          "iopub.status.idle": "2021-01-30T12:06:49.025525Z",
          "shell.execute_reply": "2021-01-30T12:06:49.026015Z"
        },
        "papermill": {
          "duration": 0.126544,
          "end_time": "2021-01-30T12:06:49.026172",
          "exception": false,
          "start_time": "2021-01-30T12:06:48.899628",
          "status": "completed"
        },
        "tags": [],
        "colab": {
          "base_uri": "https://localhost:8080/",
          "height": 364
        },
        "id": "LIAW8LQHLu8W",
        "outputId": "73d2dccb-9e4a-4035-f5a8-bbab494a020e"
      },
      "outputs": [
        {
          "output_type": "execute_result",
          "data": {
            "text/plain": [
              "              age     anaemia  creatinine_phosphokinase    diabetes  \\\n",
              "count  299.000000  299.000000                299.000000  299.000000   \n",
              "mean    60.833893    0.431438                581.839465    0.418060   \n",
              "std     11.894809    0.496107                970.287881    0.494067   \n",
              "min     40.000000    0.000000                 23.000000    0.000000   \n",
              "25%     51.000000    0.000000                116.500000    0.000000   \n",
              "50%     60.000000    0.000000                250.000000    0.000000   \n",
              "75%     70.000000    1.000000                582.000000    1.000000   \n",
              "max     95.000000    1.000000               7861.000000    1.000000   \n",
              "\n",
              "       ejection_fraction  high_blood_pressure      platelets  \\\n",
              "count         299.000000           299.000000     299.000000   \n",
              "mean           38.083612             0.351171  263358.029264   \n",
              "std            11.834841             0.478136   97804.236869   \n",
              "min            14.000000             0.000000   25100.000000   \n",
              "25%            30.000000             0.000000  212500.000000   \n",
              "50%            38.000000             0.000000  262000.000000   \n",
              "75%            45.000000             1.000000  303500.000000   \n",
              "max            80.000000             1.000000  850000.000000   \n",
              "\n",
              "       serum_creatinine  serum_sodium         sex    smoking        time  \\\n",
              "count         299.00000    299.000000  299.000000  299.00000  299.000000   \n",
              "mean            1.39388    136.625418    0.648829    0.32107  130.260870   \n",
              "std             1.03451      4.412477    0.478136    0.46767   77.614208   \n",
              "min             0.50000    113.000000    0.000000    0.00000    4.000000   \n",
              "25%             0.90000    134.000000    0.000000    0.00000   73.000000   \n",
              "50%             1.10000    137.000000    1.000000    0.00000  115.000000   \n",
              "75%             1.40000    140.000000    1.000000    1.00000  203.000000   \n",
              "max             9.40000    148.000000    1.000000    1.00000  285.000000   \n",
              "\n",
              "       DEATH_EVENT  \n",
              "count    299.00000  \n",
              "mean       0.32107  \n",
              "std        0.46767  \n",
              "min        0.00000  \n",
              "25%        0.00000  \n",
              "50%        0.00000  \n",
              "75%        1.00000  \n",
              "max        1.00000  "
            ],
            "text/html": [
              "\n",
              "  <div id=\"df-78532662-b4ef-4c44-8526-ff4218b6db66\">\n",
              "    <div class=\"colab-df-container\">\n",
              "      <div>\n",
              "<style scoped>\n",
              "    .dataframe tbody tr th:only-of-type {\n",
              "        vertical-align: middle;\n",
              "    }\n",
              "\n",
              "    .dataframe tbody tr th {\n",
              "        vertical-align: top;\n",
              "    }\n",
              "\n",
              "    .dataframe thead th {\n",
              "        text-align: right;\n",
              "    }\n",
              "</style>\n",
              "<table border=\"1\" class=\"dataframe\">\n",
              "  <thead>\n",
              "    <tr style=\"text-align: right;\">\n",
              "      <th></th>\n",
              "      <th>age</th>\n",
              "      <th>anaemia</th>\n",
              "      <th>creatinine_phosphokinase</th>\n",
              "      <th>diabetes</th>\n",
              "      <th>ejection_fraction</th>\n",
              "      <th>high_blood_pressure</th>\n",
              "      <th>platelets</th>\n",
              "      <th>serum_creatinine</th>\n",
              "      <th>serum_sodium</th>\n",
              "      <th>sex</th>\n",
              "      <th>smoking</th>\n",
              "      <th>time</th>\n",
              "      <th>DEATH_EVENT</th>\n",
              "    </tr>\n",
              "  </thead>\n",
              "  <tbody>\n",
              "    <tr>\n",
              "      <th>count</th>\n",
              "      <td>299.000000</td>\n",
              "      <td>299.000000</td>\n",
              "      <td>299.000000</td>\n",
              "      <td>299.000000</td>\n",
              "      <td>299.000000</td>\n",
              "      <td>299.000000</td>\n",
              "      <td>299.000000</td>\n",
              "      <td>299.00000</td>\n",
              "      <td>299.000000</td>\n",
              "      <td>299.000000</td>\n",
              "      <td>299.00000</td>\n",
              "      <td>299.000000</td>\n",
              "      <td>299.00000</td>\n",
              "    </tr>\n",
              "    <tr>\n",
              "      <th>mean</th>\n",
              "      <td>60.833893</td>\n",
              "      <td>0.431438</td>\n",
              "      <td>581.839465</td>\n",
              "      <td>0.418060</td>\n",
              "      <td>38.083612</td>\n",
              "      <td>0.351171</td>\n",
              "      <td>263358.029264</td>\n",
              "      <td>1.39388</td>\n",
              "      <td>136.625418</td>\n",
              "      <td>0.648829</td>\n",
              "      <td>0.32107</td>\n",
              "      <td>130.260870</td>\n",
              "      <td>0.32107</td>\n",
              "    </tr>\n",
              "    <tr>\n",
              "      <th>std</th>\n",
              "      <td>11.894809</td>\n",
              "      <td>0.496107</td>\n",
              "      <td>970.287881</td>\n",
              "      <td>0.494067</td>\n",
              "      <td>11.834841</td>\n",
              "      <td>0.478136</td>\n",
              "      <td>97804.236869</td>\n",
              "      <td>1.03451</td>\n",
              "      <td>4.412477</td>\n",
              "      <td>0.478136</td>\n",
              "      <td>0.46767</td>\n",
              "      <td>77.614208</td>\n",
              "      <td>0.46767</td>\n",
              "    </tr>\n",
              "    <tr>\n",
              "      <th>min</th>\n",
              "      <td>40.000000</td>\n",
              "      <td>0.000000</td>\n",
              "      <td>23.000000</td>\n",
              "      <td>0.000000</td>\n",
              "      <td>14.000000</td>\n",
              "      <td>0.000000</td>\n",
              "      <td>25100.000000</td>\n",
              "      <td>0.50000</td>\n",
              "      <td>113.000000</td>\n",
              "      <td>0.000000</td>\n",
              "      <td>0.00000</td>\n",
              "      <td>4.000000</td>\n",
              "      <td>0.00000</td>\n",
              "    </tr>\n",
              "    <tr>\n",
              "      <th>25%</th>\n",
              "      <td>51.000000</td>\n",
              "      <td>0.000000</td>\n",
              "      <td>116.500000</td>\n",
              "      <td>0.000000</td>\n",
              "      <td>30.000000</td>\n",
              "      <td>0.000000</td>\n",
              "      <td>212500.000000</td>\n",
              "      <td>0.90000</td>\n",
              "      <td>134.000000</td>\n",
              "      <td>0.000000</td>\n",
              "      <td>0.00000</td>\n",
              "      <td>73.000000</td>\n",
              "      <td>0.00000</td>\n",
              "    </tr>\n",
              "    <tr>\n",
              "      <th>50%</th>\n",
              "      <td>60.000000</td>\n",
              "      <td>0.000000</td>\n",
              "      <td>250.000000</td>\n",
              "      <td>0.000000</td>\n",
              "      <td>38.000000</td>\n",
              "      <td>0.000000</td>\n",
              "      <td>262000.000000</td>\n",
              "      <td>1.10000</td>\n",
              "      <td>137.000000</td>\n",
              "      <td>1.000000</td>\n",
              "      <td>0.00000</td>\n",
              "      <td>115.000000</td>\n",
              "      <td>0.00000</td>\n",
              "    </tr>\n",
              "    <tr>\n",
              "      <th>75%</th>\n",
              "      <td>70.000000</td>\n",
              "      <td>1.000000</td>\n",
              "      <td>582.000000</td>\n",
              "      <td>1.000000</td>\n",
              "      <td>45.000000</td>\n",
              "      <td>1.000000</td>\n",
              "      <td>303500.000000</td>\n",
              "      <td>1.40000</td>\n",
              "      <td>140.000000</td>\n",
              "      <td>1.000000</td>\n",
              "      <td>1.00000</td>\n",
              "      <td>203.000000</td>\n",
              "      <td>1.00000</td>\n",
              "    </tr>\n",
              "    <tr>\n",
              "      <th>max</th>\n",
              "      <td>95.000000</td>\n",
              "      <td>1.000000</td>\n",
              "      <td>7861.000000</td>\n",
              "      <td>1.000000</td>\n",
              "      <td>80.000000</td>\n",
              "      <td>1.000000</td>\n",
              "      <td>850000.000000</td>\n",
              "      <td>9.40000</td>\n",
              "      <td>148.000000</td>\n",
              "      <td>1.000000</td>\n",
              "      <td>1.00000</td>\n",
              "      <td>285.000000</td>\n",
              "      <td>1.00000</td>\n",
              "    </tr>\n",
              "  </tbody>\n",
              "</table>\n",
              "</div>\n",
              "      <button class=\"colab-df-convert\" onclick=\"convertToInteractive('df-78532662-b4ef-4c44-8526-ff4218b6db66')\"\n",
              "              title=\"Convert this dataframe to an interactive table.\"\n",
              "              style=\"display:none;\">\n",
              "        \n",
              "  <svg xmlns=\"http://www.w3.org/2000/svg\" height=\"24px\"viewBox=\"0 0 24 24\"\n",
              "       width=\"24px\">\n",
              "    <path d=\"M0 0h24v24H0V0z\" fill=\"none\"/>\n",
              "    <path d=\"M18.56 5.44l.94 2.06.94-2.06 2.06-.94-2.06-.94-.94-2.06-.94 2.06-2.06.94zm-11 1L8.5 8.5l.94-2.06 2.06-.94-2.06-.94L8.5 2.5l-.94 2.06-2.06.94zm10 10l.94 2.06.94-2.06 2.06-.94-2.06-.94-.94-2.06-.94 2.06-2.06.94z\"/><path d=\"M17.41 7.96l-1.37-1.37c-.4-.4-.92-.59-1.43-.59-.52 0-1.04.2-1.43.59L10.3 9.45l-7.72 7.72c-.78.78-.78 2.05 0 2.83L4 21.41c.39.39.9.59 1.41.59.51 0 1.02-.2 1.41-.59l7.78-7.78 2.81-2.81c.8-.78.8-2.07 0-2.86zM5.41 20L4 18.59l7.72-7.72 1.47 1.35L5.41 20z\"/>\n",
              "  </svg>\n",
              "      </button>\n",
              "      \n",
              "  <style>\n",
              "    .colab-df-container {\n",
              "      display:flex;\n",
              "      flex-wrap:wrap;\n",
              "      gap: 12px;\n",
              "    }\n",
              "\n",
              "    .colab-df-convert {\n",
              "      background-color: #E8F0FE;\n",
              "      border: none;\n",
              "      border-radius: 50%;\n",
              "      cursor: pointer;\n",
              "      display: none;\n",
              "      fill: #1967D2;\n",
              "      height: 32px;\n",
              "      padding: 0 0 0 0;\n",
              "      width: 32px;\n",
              "    }\n",
              "\n",
              "    .colab-df-convert:hover {\n",
              "      background-color: #E2EBFA;\n",
              "      box-shadow: 0px 1px 2px rgba(60, 64, 67, 0.3), 0px 1px 3px 1px rgba(60, 64, 67, 0.15);\n",
              "      fill: #174EA6;\n",
              "    }\n",
              "\n",
              "    [theme=dark] .colab-df-convert {\n",
              "      background-color: #3B4455;\n",
              "      fill: #D2E3FC;\n",
              "    }\n",
              "\n",
              "    [theme=dark] .colab-df-convert:hover {\n",
              "      background-color: #434B5C;\n",
              "      box-shadow: 0px 1px 3px 1px rgba(0, 0, 0, 0.15);\n",
              "      filter: drop-shadow(0px 1px 2px rgba(0, 0, 0, 0.3));\n",
              "      fill: #FFFFFF;\n",
              "    }\n",
              "  </style>\n",
              "\n",
              "      <script>\n",
              "        const buttonEl =\n",
              "          document.querySelector('#df-78532662-b4ef-4c44-8526-ff4218b6db66 button.colab-df-convert');\n",
              "        buttonEl.style.display =\n",
              "          google.colab.kernel.accessAllowed ? 'block' : 'none';\n",
              "\n",
              "        async function convertToInteractive(key) {\n",
              "          const element = document.querySelector('#df-78532662-b4ef-4c44-8526-ff4218b6db66');\n",
              "          const dataTable =\n",
              "            await google.colab.kernel.invokeFunction('convertToInteractive',\n",
              "                                                     [key], {});\n",
              "          if (!dataTable) return;\n",
              "\n",
              "          const docLinkHtml = 'Like what you see? Visit the ' +\n",
              "            '<a target=\"_blank\" href=https://colab.research.google.com/notebooks/data_table.ipynb>data table notebook</a>'\n",
              "            + ' to learn more about interactive tables.';\n",
              "          element.innerHTML = '';\n",
              "          dataTable['output_type'] = 'display_data';\n",
              "          await google.colab.output.renderOutput(dataTable, element);\n",
              "          const docLink = document.createElement('div');\n",
              "          docLink.innerHTML = docLinkHtml;\n",
              "          element.appendChild(docLink);\n",
              "        }\n",
              "      </script>\n",
              "    </div>\n",
              "  </div>\n",
              "  "
            ]
          },
          "metadata": {},
          "execution_count": 9
        }
      ],
      "source": [
        "train.describe()"
      ]
    },
    {
      "cell_type": "markdown",
      "metadata": {
        "papermill": {
          "duration": 0.064015,
          "end_time": "2021-01-30T12:06:49.165155",
          "exception": false,
          "start_time": "2021-01-30T12:06:49.101140",
          "status": "completed"
        },
        "tags": [],
        "id": "mEiiyapzLu8W"
      },
      "source": [
        "# 3. finding missing values"
      ]
    },
    {
      "cell_type": "code",
      "execution_count": null,
      "metadata": {
        "execution": {
          "iopub.execute_input": "2021-01-30T12:06:49.291957Z",
          "iopub.status.busy": "2021-01-30T12:06:49.291167Z",
          "iopub.status.idle": "2021-01-30T12:06:49.296614Z",
          "shell.execute_reply": "2021-01-30T12:06:49.297097Z"
        },
        "papermill": {
          "duration": 0.071384,
          "end_time": "2021-01-30T12:06:49.297259",
          "exception": false,
          "start_time": "2021-01-30T12:06:49.225875",
          "status": "completed"
        },
        "tags": [],
        "colab": {
          "base_uri": "https://localhost:8080/"
        },
        "id": "bkifM4IcLu8X",
        "outputId": "cce248d5-c86e-4f14-e456-a5af33ed870c"
      },
      "outputs": [
        {
          "output_type": "execute_result",
          "data": {
            "text/plain": [
              "age                         0\n",
              "anaemia                     0\n",
              "creatinine_phosphokinase    0\n",
              "diabetes                    0\n",
              "ejection_fraction           0\n",
              "high_blood_pressure         0\n",
              "platelets                   0\n",
              "serum_creatinine            0\n",
              "serum_sodium                0\n",
              "sex                         0\n",
              "smoking                     0\n",
              "time                        0\n",
              "DEATH_EVENT                 0\n",
              "dtype: int64"
            ]
          },
          "metadata": {},
          "execution_count": 10
        }
      ],
      "source": [
        "train.isnull().sum()"
      ]
    },
    {
      "cell_type": "markdown",
      "metadata": {
        "papermill": {
          "duration": 0.061255,
          "end_time": "2021-01-30T12:06:49.420181",
          "exception": false,
          "start_time": "2021-01-30T12:06:49.358926",
          "status": "completed"
        },
        "tags": [],
        "id": "bCnh-7a-Lu8X"
      },
      "source": [
        "# 4. visualization"
      ]
    },
    {
      "cell_type": "code",
      "execution_count": null,
      "metadata": {
        "execution": {
          "iopub.execute_input": "2021-01-30T12:06:49.547349Z",
          "iopub.status.busy": "2021-01-30T12:06:49.546732Z",
          "iopub.status.idle": "2021-01-30T12:06:53.003408Z",
          "shell.execute_reply": "2021-01-30T12:06:53.004146Z"
        },
        "papermill": {
          "duration": 3.522841,
          "end_time": "2021-01-30T12:06:53.004320",
          "exception": false,
          "start_time": "2021-01-30T12:06:49.481479",
          "status": "completed"
        },
        "tags": [],
        "colab": {
          "base_uri": "https://localhost:8080/",
          "height": 882
        },
        "id": "m70zMyRuLu8X",
        "outputId": "5bd3bc4f-d3ff-4acd-824a-891f6aa030e1"
      },
      "outputs": [
        {
          "output_type": "display_data",
          "data": {
            "text/plain": [
              "<Figure size 1080x1080 with 16 Axes>"
            ],
            "image/png": "[encoded data removed]"
          },
          "metadata": {}
        }
      ],
      "source": [
        "train.hist(figsize=(15,15),edgecolor='black');"
      ]
    },
    {
      "cell_type": "markdown",
      "metadata": {
        "papermill": {
          "duration": 0.06491,
          "end_time": "2021-01-30T12:06:53.135346",
          "exception": false,
          "start_time": "2021-01-30T12:06:53.070436",
          "status": "completed"
        },
        "tags": [],
        "id": "b02SbEloLu8Y"
      },
      "source": [
        "### death events"
      ]
    },
    {
      "cell_type": "code",
      "execution_count": null,
      "metadata": {
        "execution": {
          "iopub.execute_input": "2021-01-30T12:06:53.271610Z",
          "iopub.status.busy": "2021-01-30T12:06:53.270513Z",
          "iopub.status.idle": "2021-01-30T12:06:53.356917Z",
          "shell.execute_reply": "2021-01-30T12:06:53.357393Z"
        },
        "papermill": {
          "duration": 0.15708,
          "end_time": "2021-01-30T12:06:53.357549",
          "exception": false,
          "start_time": "2021-01-30T12:06:53.200469",
          "status": "completed"
        },
        "tags": [],
        "colab": {
          "base_uri": "https://localhost:8080/",
          "height": 499
        },
        "id": "5NEiB9gfLu8Y",
        "outputId": "011390bb-b32f-4674-c106-29e0c5d011d9"
      },
      "outputs": [
        {
          "output_type": "execute_result",
          "data": {
            "text/plain": [
              "Text(0.5, 1.0, 'the % of deaths')"
            ]
          },
          "metadata": {},
          "execution_count": 12
        },
        {
          "output_type": "display_data",
          "data": {
            "text/plain": [
              "<Figure size 576x576 with 1 Axes>"
            ],
            "image/png": "[encoded data removed]"
          },
          "metadata": {}
        }
      ],
      "source": [
        "train.DEATH_EVENT.value_counts().plot.pie(explode=[0.1,0.1],autopct='%1.1f%%',shadow=True)\n",
        "plt.title('the % of deaths')"
      ]
    },
    {
      "cell_type": "markdown",
      "metadata": {
        "papermill": {
          "duration": 0.066103,
          "end_time": "2021-01-30T12:06:53.492488",
          "exception": false,
          "start_time": "2021-01-30T12:06:53.426385",
          "status": "completed"
        },
        "tags": [],
        "id": "EQx_p126Lu8Y"
      },
      "source": [
        "### Age"
      ]
    },
    {
      "cell_type": "code",
      "execution_count": null,
      "metadata": {
        "execution": {
          "iopub.execute_input": "2021-01-30T12:06:53.632687Z",
          "iopub.status.busy": "2021-01-30T12:06:53.631647Z",
          "iopub.status.idle": "2021-01-30T12:06:54.351108Z",
          "shell.execute_reply": "2021-01-30T12:06:54.351599Z"
        },
        "papermill": {
          "duration": 0.788711,
          "end_time": "2021-01-30T12:06:54.351754",
          "exception": false,
          "start_time": "2021-01-30T12:06:53.563043",
          "status": "completed"
        },
        "tags": [],
        "colab": {
          "base_uri": "https://localhost:8080/",
          "height": 400
        },
        "id": "bER5mPY3Lu8Z",
        "outputId": "ca477ef8-fdf4-484b-bbdd-25be3768de06"
      },
      "outputs": [
        {
          "output_type": "execute_result",
          "data": {
            "text/plain": [
              "Text(0.5, 1.0, 'the ages of our persone')"
            ]
          },
          "metadata": {},
          "execution_count": 13
        },
        {
          "output_type": "display_data",
          "data": {
            "text/plain": [
              "<Figure size 1440x432 with 1 Axes>"
            ],
            "image/png": "[encoded data removed]"
          },
          "metadata": {}
        }
      ],
      "source": [
        "plt.figure(figsize=(20,6))\n",
        "sns.countplot(x='age',data=train)\n",
        "plt.xticks(rotation=90)\n",
        "plt.title('the ages of our persone')"
      ]
    },
    {
      "cell_type": "code",
      "execution_count": null,
      "metadata": {
        "execution": {
          "iopub.execute_input": "2021-01-30T12:06:54.488245Z",
          "iopub.status.busy": "2021-01-30T12:06:54.487231Z",
          "iopub.status.idle": "2021-01-30T12:06:54.954249Z",
          "shell.execute_reply": "2021-01-30T12:06:54.954790Z"
        },
        "papermill": {
          "duration": 0.537275,
          "end_time": "2021-01-30T12:06:54.954942",
          "exception": false,
          "start_time": "2021-01-30T12:06:54.417667",
          "status": "completed"
        },
        "tags": [],
        "colab": {
          "base_uri": "https://localhost:8080/",
          "height": 542
        },
        "id": "sGLr60Z6Lu8Z",
        "outputId": "9f005b15-606d-4b56-9814-36302009331b"
      },
      "outputs": [
        {
          "output_type": "display_data",
          "data": {
            "text/html": [
              "<html>\n",
              "<head><meta charset=\"utf-8\" /></head>\n",
              "<body>\n",
              "    <div>            <script src=\"https://cdnjs.cloudflare.com/ajax/libs/mathjax/2.7.5/MathJax.js?config=TeX-AMS-MML_SVG\"></script><script type=\"text/javascript\">if (window.MathJax) {MathJax.Hub.Config({SVG: {font: \"STIX-Web\"}});}</script>                <script type=\"text/javascript\">window.PlotlyConfig = {MathJaxConfig: 'local'};</script>\n",
              "        <script src=\"https://cdn.plot.ly/plotly-2.8.3.min.js\"></script>                <div id=\"61f93a0a-4de5-4b57-b636-957f885306fb\" class=\"plotly-graph-div\" style=\"height:525px; width:100%;\"></div>            <script type=\"text/javascript\">                                    window.PLOTLYENV=window.PLOTLYENV || {};                                    if (document.getElementById(\"61f93a0a-4de5-4b57-b636-957f885306fb\")) {                    Plotly.newPlot(                        \"61f93a0a-4de5-4b57-b636-957f885306fb\",                        [{\"marker\":{\"color\":\"#e8ab60\"},\"opacity\":1,\"x\":[75.0,55.0,65.0,50.0,65.0,90.0,75.0,60.0,65.0,80.0,75.0,62.0,45.0,50.0,49.0,82.0,87.0,45.0,70.0,48.0,65.0,65.0,68.0,53.0,75.0,80.0,95.0,70.0,58.0,82.0,94.0,85.0,50.0,50.0,65.0,69.0,90.0,82.0,60.0,60.0,70.0,50.0,70.0,72.0,60.0,50.0,51.0,60.0,80.0,57.0,68.0,53.0,60.0,70.0,60.0,95.0,70.0,60.0,49.0,72.0,45.0,50.0,55.0,45.0,45.0,60.0,42.0,72.0,70.0,65.0,41.0,58.0,85.0,65.0,69.0,60.0,70.0,42.0,75.0,55.0,70.0,67.0,60.0,79.0,59.0,51.0,55.0,65.0,44.0,57.0,70.0,60.0,42.0,60.0,58.0,58.0,63.0,70.0,60.0,63.0,65.0,75.0,80.0,42.0,60.0,72.0,55.0,45.0,63.0,45.0,85.0,55.0,50.0,70.0,60.0,58.0,60.0,85.0,65.0,86.0,60.0,66.0,60.0,60.0,60.0,43.0,46.0,58.0,61.0,53.0,53.0,60.0,46.0,63.0,81.0,75.0,65.0,68.0,62.0,50.0,80.0,46.0,50.0,61.0,72.0,50.0,52.0,64.0,75.0,60.0,72.0,62.0,50.0,50.0,65.0,60.0,52.0,50.0,85.0,59.0,66.0,45.0,63.0,50.0,45.0,80.0,53.0,59.0,65.0,70.0,51.0,52.0,70.0,50.0,65.0,60.0,69.0,49.0,63.0,55.0,40.0,59.0,65.0,75.0,58.0,60.667,50.0,60.0,60.667,40.0,80.0,64.0,50.0,73.0,45.0,77.0,45.0,65.0,50.0,60.0,63.0,45.0,70.0,60.0,78.0,50.0,40.0,85.0,60.0,49.0,70.0,50.0,78.0,48.0,65.0,73.0,70.0,54.0,68.0,55.0,73.0,65.0,42.0,47.0,58.0,75.0,58.0,55.0,65.0,72.0,60.0,70.0,40.0,53.0,53.0,77.0,75.0,70.0,65.0,55.0,70.0,65.0,40.0,73.0,54.0,61.0,55.0,64.0,40.0,53.0,50.0,55.0,50.0,70.0,53.0,52.0,65.0,58.0,45.0,53.0,55.0,62.0,65.0,68.0,61.0,50.0,55.0,56.0,45.0,40.0,44.0,51.0,67.0,42.0,60.0,45.0,70.0,70.0,50.0,55.0,70.0,70.0,42.0,65.0,50.0,55.0,60.0,45.0,65.0,90.0,45.0,60.0,52.0,63.0,62.0,55.0,45.0,45.0,50.0],\"xbins\":{\"end\":95,\"size\":2,\"start\":40},\"type\":\"histogram\"}],                        {\"template\":{\"data\":{\"pie\":[{\"automargin\":true,\"type\":\"pie\"}],\"scatter3d\":[{\"line\":{\"width\":3},\"marker\":{\"size\":9},\"type\":\"scatter3d\"}],\"scattergeo\":[{\"line\":{\"width\":3},\"marker\":{\"size\":9},\"type\":\"scattergeo\"}],\"scattergl\":[{\"line\":{\"width\":3},\"marker\":{\"size\":9},\"type\":\"scattergl\"}],\"scatterpolargl\":[{\"line\":{\"width\":3},\"marker\":{\"size\":9},\"type\":\"scatterpolargl\"}],\"scatterpolar\":[{\"line\":{\"width\":3},\"marker\":{\"size\":9},\"type\":\"scatterpolar\"}],\"scatter\":[{\"line\":{\"width\":3},\"marker\":{\"size\":9},\"type\":\"scatter\"}],\"scatterternary\":[{\"line\":{\"width\":3},\"marker\":{\"size\":9},\"type\":\"scatterternary\"}],\"table\":[{\"cells\":{\"height\":30},\"header\":{\"height\":36},\"type\":\"table\"}]},\"layout\":{\"font\":{\"size\":18},\"xaxis\":{\"title\":{\"standoff\":15}},\"yaxis\":{\"title\":{\"standoff\":15}}}},\"title\":{\"text\":\"Distribution of Age\"},\"xaxis\":{\"title\":{\"text\":\"AGE\"},\"showgrid\":false},\"yaxis\":{\"title\":{\"text\":\"COUNT\"},\"showgrid\":false},\"bargap\":0.05},                        {\"responsive\": true}                    ).then(function(){\n",
              "                            \n",
              "var gd = document.getElementById('61f93a0a-4de5-4b57-b636-957f885306fb');\n",
              "var x = new MutationObserver(function (mutations, observer) {{\n",
              "        var display = window.getComputedStyle(gd).display;\n",
              "        if (!display || display === 'none') {{\n",
              "            console.log([gd, 'removed!']);\n",
              "            Plotly.purge(gd);\n",
              "            observer.disconnect();\n",
              "        }}\n",
              "}});\n",
              "\n",
              "// Listen for the removal of the full notebook cells\n",
              "var notebookContainer = gd.closest('#notebook-container');\n",
              "if (notebookContainer) {{\n",
              "    x.observe(notebookContainer, {childList: true});\n",
              "}}\n",
              "\n",
              "// Listen for the clearing of the current output cell\n",
              "var outputEl = gd.closest('.output');\n",
              "if (outputEl) {{\n",
              "    x.observe(outputEl, {childList: true});\n",
              "}}\n",
              "\n",
              "                        })                };                            </script>        </div>\n",
              "</body>\n",
              "</html>"
            ]
          },
          "metadata": {}
        }
      ],
      "source": [
        "# Distribution of Age\n",
        "\n",
        "\n",
        "fig = go.Figure()\n",
        "fig.add_trace(go.Histogram(\n",
        "    x = train['age'],\n",
        "    xbins=dict( # bins used for histogram\n",
        "        start=40,\n",
        "        end=95,\n",
        "        size=2\n",
        "    ),\n",
        "    marker_color='#e8ab60',\n",
        "    opacity=1\n",
        "))\n",
        "\n",
        "fig.update_layout(\n",
        "    title_text='Distribution of Age',\n",
        "    xaxis_title_text='AGE',\n",
        "    yaxis_title_text='COUNT', \n",
        "    bargap=0.05, # gap between bars of adjacent location coordinates\n",
        "    xaxis =  {'showgrid': False },\n",
        "    yaxis = {'showgrid': False },\n",
        "    template = 'presentation'\n",
        ")\n",
        "\n",
        "fig.show()"
      ]
    },
    {
      "cell_type": "code",
      "execution_count": null,
      "metadata": {
        "execution": {
          "iopub.execute_input": "2021-01-30T12:06:55.099103Z",
          "iopub.status.busy": "2021-01-30T12:06:55.098430Z",
          "iopub.status.idle": "2021-01-30T12:06:56.126641Z",
          "shell.execute_reply": "2021-01-30T12:06:56.127256Z"
        },
        "papermill": {
          "duration": 1.104281,
          "end_time": "2021-01-30T12:06:56.127453",
          "exception": false,
          "start_time": "2021-01-30T12:06:55.023172",
          "status": "completed"
        },
        "tags": [],
        "colab": {
          "base_uri": "https://localhost:8080/",
          "height": 542
        },
        "id": "HihnRO_9Lu8a",
        "outputId": "f90094d0-284c-491f-fe14-f8da1bffa467"
      },
      "outputs": [
        {
          "output_type": "display_data",
          "data": {
            "text/html": [
              "<html>\n",
              "<head><meta charset=\"utf-8\" /></head>\n",
              "<body>\n",
              "    <div>            <script src=\"https://cdnjs.cloudflare.com/ajax/libs/mathjax/2.7.5/MathJax.js?config=TeX-AMS-MML_SVG\"></script><script type=\"text/javascript\">if (window.MathJax) {MathJax.Hub.Config({SVG: {font: \"STIX-Web\"}});}</script>                <script type=\"text/javascript\">window.PlotlyConfig = {MathJaxConfig: 'local'};</script>\n",
              "        <script src=\"https://cdn.plot.ly/plotly-2.8.3.min.js\"></script>                <div id=\"b450c2f7-bf3b-40bc-8891-a84bcc0a09d1\" class=\"plotly-graph-div\" style=\"height:525px; width:100%;\"></div>            <script type=\"text/javascript\">                                    window.PLOTLYENV=window.PLOTLYENV || {};                                    if (document.getElementById(\"b450c2f7-bf3b-40bc-8891-a84bcc0a09d1\")) {                    Plotly.newPlot(                        \"b450c2f7-bf3b-40bc-8891-a84bcc0a09d1\",                        [{\"alignmentgroup\":\"True\",\"bingroup\":\"x\",\"hovertemplate\":\"DEATH_EVENT=1<br>AGE=%{x}<br>count=%{y}<extra></extra>\",\"legendgroup\":\"1\",\"marker\":{\"color\":\"#636efa\",\"pattern\":{\"shape\":\"\"}},\"name\":\"1\",\"offsetgroup\":\"1\",\"orientation\":\"v\",\"showlegend\":true,\"x\":[75.0,55.0,65.0,50.0,65.0,90.0,75.0,60.0,65.0,80.0,75.0,62.0,45.0,50.0,82.0,87.0,45.0,70.0,48.0,65.0,68.0,75.0,80.0,95.0,70.0,58.0,82.0,94.0,85.0,50.0,65.0,69.0,90.0,82.0,60.0,70.0,50.0,70.0,60.0,50.0,51.0,60.0,80.0,57.0,68.0,53.0,60.0,70.0,60.0,95.0,49.0,72.0,45.0,50.0,45.0,60.0,42.0,72.0,70.0,65.0,85.0,69.0,60.0,60.0,59.0,60.0,72.0,85.0,70.0,86.0,60.0,46.0,80.0,72.0,75.0,72.0,50.0,45.0,80.0,59.0,59.0,65.0,75.0,58.0,60.667,50.0,60.0,45.0,77.0,48.0,54.0,73.0,60.0,55.0,65.0,55.0],\"xaxis\":\"x\",\"yaxis\":\"y\",\"type\":\"histogram\"},{\"alignmentgroup\":\"True\",\"customdata\":[[0.0,582.0,0.0,20.0,1.0,265000.0,1.9,130.0,1.0,0.0,4.0,1.0],[0.0,7861.0,0.0,38.0,0.0,263358.03,1.1,136.0,1.0,0.0,6.0,1.0],[0.0,146.0,0.0,20.0,0.0,162000.0,1.3,129.0,1.0,1.0,7.0,1.0],[1.0,111.0,0.0,20.0,0.0,210000.0,1.9,137.0,1.0,0.0,7.0,1.0],[1.0,160.0,1.0,20.0,0.0,327000.0,2.7,116.0,0.0,0.0,8.0,1.0],[1.0,47.0,0.0,40.0,1.0,204000.0,2.1,132.0,1.0,1.0,8.0,1.0],[1.0,246.0,0.0,15.0,0.0,127000.0,1.2,137.0,1.0,0.0,10.0,1.0],[1.0,315.0,1.0,60.0,0.0,454000.0,1.1,131.0,1.0,1.0,10.0,1.0],[0.0,157.0,0.0,65.0,0.0,263358.03,1.5,138.0,0.0,0.0,10.0,1.0],[1.0,123.0,0.0,35.0,1.0,388000.0,9.4,133.0,1.0,1.0,10.0,1.0],[1.0,81.0,0.0,38.0,1.0,368000.0,4.0,131.0,1.0,1.0,10.0,1.0],[0.0,231.0,0.0,25.0,1.0,253000.0,0.9,140.0,1.0,1.0,10.0,1.0],[1.0,981.0,0.0,30.0,0.0,136000.0,1.1,137.0,1.0,0.0,11.0,1.0],[1.0,168.0,0.0,38.0,1.0,276000.0,1.1,137.0,1.0,0.0,11.0,1.0],[1.0,379.0,0.0,50.0,0.0,47000.0,1.3,136.0,1.0,0.0,13.0,1.0],[1.0,149.0,0.0,38.0,0.0,262000.0,0.9,140.0,1.0,0.0,14.0,1.0],[0.0,582.0,0.0,14.0,0.0,166000.0,0.8,127.0,1.0,0.0,14.0,1.0],[1.0,125.0,0.0,25.0,1.0,237000.0,1.0,140.0,0.0,0.0,15.0,1.0],[1.0,582.0,1.0,55.0,0.0,87000.0,1.9,121.0,0.0,0.0,15.0,1.0],[1.0,128.0,1.0,30.0,1.0,297000.0,1.6,136.0,0.0,0.0,20.0,1.0],[1.0,220.0,0.0,35.0,1.0,289000.0,0.9,140.0,1.0,1.0,20.0,1.0],[0.0,582.0,1.0,30.0,1.0,263358.03,1.83,134.0,0.0,0.0,23.0,1.0],[0.0,148.0,1.0,38.0,0.0,149000.0,1.9,144.0,1.0,1.0,23.0,1.0],[1.0,112.0,0.0,40.0,1.0,196000.0,1.0,138.0,0.0,0.0,24.0,1.0],[0.0,122.0,1.0,45.0,1.0,284000.0,1.3,136.0,1.0,1.0,26.0,1.0],[1.0,60.0,0.0,38.0,0.0,153000.0,5.8,134.0,1.0,0.0,26.0,1.0],[0.0,70.0,1.0,30.0,0.0,200000.0,1.2,132.0,1.0,1.0,26.0,1.0],[0.0,582.0,1.0,38.0,1.0,263358.03,1.83,134.0,1.0,0.0,27.0,1.0],[0.0,23.0,0.0,45.0,0.0,360000.0,3.0,132.0,1.0,0.0,28.0,1.0],[1.0,249.0,1.0,35.0,1.0,319000.0,1.0,128.0,0.0,0.0,28.0,1.0],[0.0,94.0,1.0,50.0,1.0,188000.0,1.0,140.0,1.0,0.0,29.0,1.0],[0.0,582.0,1.0,35.0,0.0,228000.0,3.5,134.0,1.0,0.0,30.0,1.0],[1.0,60.0,1.0,50.0,0.0,226000.0,1.0,134.0,1.0,0.0,30.0,1.0],[1.0,855.0,1.0,50.0,1.0,321000.0,1.0,145.0,0.0,0.0,30.0,1.0],[0.0,235.0,1.0,38.0,0.0,329000.0,3.0,142.0,0.0,0.0,30.0,1.0],[0.0,582.0,0.0,20.0,1.0,263358.03,1.83,134.0,1.0,1.0,31.0,1.0],[0.0,124.0,1.0,30.0,1.0,153000.0,1.2,136.0,0.0,1.0,32.0,1.0],[0.0,571.0,1.0,45.0,1.0,185000.0,1.2,139.0,1.0,1.0,33.0,1.0],[1.0,588.0,1.0,60.0,0.0,194000.0,1.1,142.0,0.0,0.0,33.0,1.0],[0.0,582.0,1.0,38.0,0.0,310000.0,1.9,135.0,1.0,1.0,35.0,1.0],[0.0,1380.0,0.0,25.0,1.0,271000.0,0.9,130.0,1.0,0.0,38.0,1.0],[0.0,582.0,1.0,38.0,1.0,451000.0,0.6,138.0,1.0,1.0,40.0,1.0],[1.0,553.0,0.0,20.0,1.0,140000.0,4.4,133.0,1.0,0.0,41.0,1.0],[1.0,129.0,0.0,30.0,0.0,395000.0,1.0,140.0,0.0,0.0,42.0,1.0],[1.0,577.0,0.0,25.0,1.0,166000.0,1.0,138.0,1.0,0.0,43.0,1.0],[1.0,91.0,0.0,20.0,1.0,418000.0,1.4,139.0,0.0,0.0,43.0,1.0],[0.0,3964.0,1.0,62.0,0.0,263358.03,6.8,146.0,0.0,0.0,43.0,1.0],[1.0,69.0,1.0,50.0,1.0,351000.0,1.0,134.0,0.0,0.0,44.0,1.0],[1.0,260.0,1.0,38.0,0.0,255000.0,2.2,132.0,0.0,1.0,45.0,1.0],[1.0,371.0,0.0,30.0,0.0,461000.0,2.0,132.0,1.0,0.0,50.0,1.0],[0.0,789.0,0.0,20.0,1.0,319000.0,1.1,136.0,1.0,1.0,55.0,1.0],[0.0,364.0,1.0,20.0,1.0,254000.0,1.3,136.0,1.0,1.0,59.0,1.0],[0.0,7702.0,1.0,25.0,1.0,390000.0,1.0,139.0,1.0,0.0,60.0,1.0],[0.0,318.0,0.0,40.0,1.0,216000.0,2.3,131.0,0.0,0.0,60.0,1.0],[0.0,582.0,0.0,35.0,0.0,385000.0,1.0,145.0,1.0,0.0,61.0,1.0],[0.0,68.0,0.0,20.0,0.0,119000.0,2.9,127.0,1.0,1.0,64.0,1.0],[1.0,250.0,1.0,15.0,0.0,213000.0,1.3,136.0,0.0,0.0,65.0,1.0],[1.0,110.0,0.0,25.0,0.0,274000.0,1.0,140.0,1.0,1.0,65.0,1.0],[0.0,161.0,0.0,25.0,0.0,244000.0,1.2,142.0,0.0,0.0,66.0,1.0],[0.0,113.0,1.0,25.0,0.0,497000.0,1.83,135.0,1.0,0.0,67.0,1.0],[0.0,5882.0,0.0,35.0,0.0,243000.0,1.0,132.0,1.0,1.0,72.0,1.0],[0.0,582.0,0.0,20.0,0.0,266000.0,1.2,134.0,1.0,1.0,73.0,1.0],[1.0,47.0,0.0,20.0,0.0,204000.0,0.7,139.0,1.0,1.0,73.0,1.0],[1.0,76.0,1.0,25.0,0.0,196000.0,2.5,132.0,0.0,0.0,77.0,1.0],[1.0,280.0,1.0,25.0,1.0,302000.0,1.0,141.0,0.0,0.0,78.0,1.0],[1.0,154.0,0.0,25.0,0.0,210000.0,1.7,135.0,1.0,0.0,82.0,1.0],[1.0,328.0,0.0,30.0,1.0,621000.0,1.7,138.0,0.0,1.0,88.0,1.0],[0.0,129.0,0.0,60.0,0.0,306000.0,1.2,132.0,1.0,1.0,90.0,1.0],[1.0,143.0,0.0,60.0,0.0,351000.0,1.3,137.0,0.0,0.0,90.0,1.0],[0.0,582.0,0.0,38.0,0.0,263358.03,1.83,134.0,0.0,0.0,95.0,1.0],[0.0,582.0,0.0,40.0,0.0,217000.0,3.7,134.0,1.0,0.0,96.0,1.0],[0.0,168.0,1.0,17.0,1.0,271000.0,2.1,124.0,0.0,0.0,100.0,1.0],[0.0,805.0,0.0,38.0,0.0,263358.03,1.1,134.0,1.0,0.0,109.0,1.0],[1.0,943.0,0.0,25.0,1.0,338000.0,1.7,139.0,1.0,1.0,111.0,1.0],[1.0,582.0,0.0,30.0,0.0,225000.0,1.83,134.0,1.0,0.0,113.0,1.0],[0.0,233.0,0.0,45.0,1.0,235000.0,2.5,135.0,0.0,0.0,115.0,1.0],[1.0,2334.0,1.0,35.0,0.0,75000.0,0.9,142.0,0.0,0.0,126.0,1.0],[0.0,2442.0,1.0,30.0,0.0,334000.0,1.1,139.0,1.0,0.0,129.0,1.0],[0.0,776.0,1.0,38.0,1.0,192000.0,1.3,135.0,0.0,0.0,130.0,1.0],[0.0,66.0,1.0,20.0,0.0,70000.0,2.4,134.0,1.0,0.0,135.0,1.0],[1.0,176.0,1.0,25.0,0.0,221000.0,1.0,136.0,1.0,1.0,150.0,1.0],[0.0,395.0,1.0,25.0,0.0,265000.0,1.2,136.0,1.0,1.0,154.0,1.0],[0.0,99.0,0.0,38.0,1.0,224000.0,2.5,134.0,1.0,0.0,162.0,1.0],[1.0,145.0,0.0,25.0,0.0,219000.0,1.2,137.0,1.0,1.0,170.0,1.0],[1.0,104.0,1.0,30.0,0.0,389000.0,1.5,136.0,1.0,0.0,171.0,1.0],[0.0,582.0,0.0,50.0,0.0,153000.0,0.6,134.0,0.0,0.0,172.0,1.0],[0.0,1896.0,1.0,25.0,0.0,365000.0,2.1,144.0,0.0,0.0,172.0,1.0],[0.0,582.0,0.0,20.0,1.0,126000.0,1.6,135.0,1.0,0.0,180.0,1.0],[1.0,418.0,0.0,45.0,0.0,223000.0,1.8,145.0,1.0,0.0,180.0,1.0],[1.0,131.0,1.0,30.0,1.0,244000.0,1.6,130.0,0.0,0.0,193.0,1.0],[1.0,427.0,0.0,70.0,1.0,151000.0,9.0,137.0,0.0,0.0,196.0,1.0],[0.0,582.0,0.0,20.0,0.0,263358.03,1.83,134.0,1.0,0.0,198.0,1.0],[0.0,166.0,0.0,30.0,0.0,62000.0,1.7,127.0,0.0,0.0,207.0,1.0],[0.0,2017.0,0.0,25.0,0.0,314000.0,1.1,138.0,1.0,0.0,214.0,1.0],[1.0,258.0,1.0,25.0,0.0,198000.0,1.4,129.0,1.0,0.0,235.0,1.0],[0.0,1199.0,0.0,20.0,0.0,263358.03,1.83,134.0,1.0,1.0,241.0,1.0]],\"hovertemplate\":\"DEATH_EVENT=%{customdata[11]}<br>AGE=%{x}<br>anaemia=%{customdata[0]}<br>creatinine_phosphokinase=%{customdata[1]}<br>diabetes=%{customdata[2]}<br>ejection_fraction=%{customdata[3]}<br>high_blood_pressure=%{customdata[4]}<br>platelets=%{customdata[5]}<br>serum_creatinine=%{customdata[6]}<br>serum_sodium=%{customdata[7]}<br>sex=%{customdata[8]}<br>smoking=%{customdata[9]}<br>time=%{customdata[10]}<extra></extra>\",\"legendgroup\":\"1\",\"marker\":{\"color\":\"#636efa\"},\"name\":\"1\",\"offsetgroup\":\"1\",\"scalegroup\":\"x\",\"showlegend\":false,\"x\":[75.0,55.0,65.0,50.0,65.0,90.0,75.0,60.0,65.0,80.0,75.0,62.0,45.0,50.0,82.0,87.0,45.0,70.0,48.0,65.0,68.0,75.0,80.0,95.0,70.0,58.0,82.0,94.0,85.0,50.0,65.0,69.0,90.0,82.0,60.0,70.0,50.0,70.0,60.0,50.0,51.0,60.0,80.0,57.0,68.0,53.0,60.0,70.0,60.0,95.0,49.0,72.0,45.0,50.0,45.0,60.0,42.0,72.0,70.0,65.0,85.0,69.0,60.0,60.0,59.0,60.0,72.0,85.0,70.0,86.0,60.0,46.0,80.0,72.0,75.0,72.0,50.0,45.0,80.0,59.0,59.0,65.0,75.0,58.0,60.667,50.0,60.0,45.0,77.0,48.0,54.0,73.0,60.0,55.0,65.0,55.0],\"xaxis\":\"x2\",\"yaxis\":\"y2\",\"type\":\"violin\"},{\"alignmentgroup\":\"True\",\"bingroup\":\"x\",\"hovertemplate\":\"DEATH_EVENT=0<br>AGE=%{x}<br>count=%{y}<extra></extra>\",\"legendgroup\":\"0\",\"marker\":{\"color\":\"#EF553B\",\"pattern\":{\"shape\":\"\"}},\"name\":\"0\",\"offsetgroup\":\"0\",\"orientation\":\"v\",\"showlegend\":true,\"x\":[49.0,65.0,53.0,50.0,60.0,72.0,70.0,60.0,55.0,45.0,41.0,58.0,65.0,70.0,42.0,75.0,55.0,70.0,67.0,79.0,51.0,55.0,65.0,44.0,57.0,70.0,60.0,42.0,58.0,58.0,63.0,70.0,60.0,63.0,65.0,75.0,80.0,42.0,60.0,55.0,45.0,63.0,45.0,55.0,50.0,60.0,58.0,60.0,85.0,65.0,60.0,66.0,60.0,60.0,43.0,58.0,61.0,53.0,53.0,60.0,46.0,63.0,81.0,75.0,65.0,68.0,62.0,50.0,46.0,50.0,61.0,50.0,52.0,64.0,60.0,62.0,50.0,50.0,65.0,60.0,52.0,50.0,85.0,59.0,66.0,45.0,63.0,53.0,65.0,70.0,51.0,52.0,70.0,50.0,65.0,60.0,69.0,49.0,63.0,55.0,40.0,60.667,40.0,80.0,64.0,50.0,73.0,45.0,65.0,50.0,60.0,63.0,45.0,70.0,60.0,78.0,50.0,40.0,85.0,60.0,49.0,70.0,50.0,78.0,65.0,73.0,70.0,68.0,55.0,65.0,42.0,47.0,58.0,75.0,58.0,55.0,65.0,72.0,70.0,40.0,53.0,53.0,77.0,75.0,70.0,65.0,55.0,70.0,65.0,40.0,73.0,54.0,61.0,64.0,40.0,53.0,50.0,55.0,50.0,70.0,53.0,52.0,65.0,58.0,45.0,53.0,55.0,62.0,68.0,61.0,50.0,56.0,45.0,40.0,44.0,51.0,67.0,42.0,60.0,45.0,70.0,70.0,50.0,55.0,70.0,70.0,42.0,65.0,50.0,55.0,60.0,45.0,65.0,90.0,45.0,60.0,52.0,63.0,62.0,55.0,45.0,45.0,50.0],\"xaxis\":\"x\",\"yaxis\":\"y\",\"type\":\"histogram\"},{\"alignmentgroup\":\"True\",\"customdata\":[[1.0,80.0,0.0,30.0,1.0,427000.0,1.0,138.0,0.0,0.0,12.0,0.0],[1.0,52.0,0.0,25.0,1.0,276000.0,1.3,137.0,0.0,0.0,16.0,0.0],[0.0,63.0,1.0,60.0,0.0,368000.0,0.8,135.0,1.0,0.0,22.0,0.0],[1.0,159.0,1.0,30.0,0.0,302000.0,1.2,138.0,0.0,0.0,29.0,0.0],[0.0,2656.0,1.0,30.0,0.0,305000.0,2.3,137.0,1.0,0.0,30.0,0.0],[0.0,127.0,1.0,50.0,1.0,218000.0,1.0,134.0,1.0,0.0,33.0,0.0],[1.0,75.0,0.0,35.0,0.0,223000.0,2.7,138.0,1.0,1.0,54.0,0.0],[1.0,607.0,0.0,40.0,0.0,216000.0,0.6,138.0,1.0,1.0,54.0,0.0],[0.0,109.0,0.0,35.0,0.0,254000.0,1.1,139.0,1.0,1.0,60.0,0.0],[0.0,582.0,0.0,80.0,0.0,263358.03,1.18,137.0,0.0,0.0,63.0,0.0],[0.0,148.0,0.0,40.0,0.0,374000.0,0.8,140.0,1.0,1.0,68.0,0.0],[0.0,582.0,1.0,35.0,0.0,122000.0,0.9,139.0,1.0,1.0,71.0,0.0],[0.0,224.0,1.0,50.0,0.0,149000.0,1.3,137.0,1.0,1.0,72.0,0.0],[0.0,92.0,0.0,60.0,1.0,317000.0,0.8,140.0,0.0,1.0,74.0,0.0],[0.0,102.0,1.0,40.0,0.0,237000.0,1.2,140.0,1.0,0.0,74.0,0.0],[1.0,203.0,1.0,38.0,1.0,283000.0,0.6,131.0,1.0,1.0,74.0,0.0],[0.0,336.0,0.0,45.0,1.0,324000.0,0.9,140.0,0.0,0.0,74.0,0.0],[0.0,69.0,0.0,40.0,0.0,293000.0,1.7,136.0,0.0,0.0,75.0,0.0],[0.0,582.0,0.0,50.0,0.0,263358.03,1.18,137.0,1.0,1.0,76.0,0.0],[1.0,55.0,0.0,50.0,1.0,172000.0,1.8,133.0,1.0,0.0,78.0,0.0],[0.0,78.0,0.0,50.0,0.0,406000.0,0.7,140.0,1.0,0.0,79.0,0.0],[0.0,47.0,0.0,35.0,1.0,173000.0,1.1,137.0,1.0,0.0,79.0,0.0],[1.0,68.0,1.0,60.0,1.0,304000.0,0.8,140.0,1.0,0.0,79.0,0.0],[0.0,84.0,1.0,40.0,1.0,235000.0,0.7,139.0,1.0,0.0,79.0,0.0],[1.0,115.0,0.0,25.0,1.0,181000.0,1.1,144.0,1.0,0.0,79.0,0.0],[0.0,66.0,1.0,45.0,0.0,249000.0,0.8,136.0,1.0,1.0,80.0,0.0],[0.0,897.0,1.0,45.0,0.0,297000.0,1.0,133.0,1.0,0.0,80.0,0.0],[0.0,582.0,0.0,60.0,0.0,263358.03,1.18,137.0,0.0,0.0,82.0,0.0],[0.0,144.0,1.0,38.0,1.0,327000.0,0.7,142.0,0.0,0.0,83.0,0.0],[1.0,133.0,0.0,60.0,1.0,219000.0,1.0,141.0,1.0,0.0,83.0,0.0],[1.0,514.0,1.0,25.0,1.0,254000.0,1.3,134.0,1.0,0.0,83.0,0.0],[1.0,59.0,0.0,60.0,0.0,255000.0,1.1,136.0,0.0,0.0,85.0,0.0],[1.0,156.0,1.0,25.0,1.0,318000.0,1.2,137.0,0.0,0.0,85.0,0.0],[1.0,61.0,1.0,40.0,0.0,221000.0,1.1,140.0,0.0,0.0,86.0,0.0],[1.0,305.0,0.0,25.0,0.0,298000.0,1.1,141.0,1.0,0.0,87.0,0.0],[0.0,582.0,0.0,45.0,1.0,263358.03,1.18,137.0,1.0,0.0,87.0,0.0],[0.0,898.0,0.0,25.0,0.0,149000.0,1.1,144.0,1.0,1.0,87.0,0.0],[0.0,5209.0,0.0,30.0,0.0,226000.0,1.0,140.0,1.0,1.0,87.0,0.0],[0.0,53.0,0.0,50.0,1.0,286000.0,2.3,143.0,0.0,0.0,87.0,0.0],[0.0,748.0,0.0,45.0,0.0,263000.0,1.3,137.0,1.0,0.0,88.0,0.0],[1.0,1876.0,1.0,35.0,0.0,226000.0,0.9,138.0,1.0,0.0,88.0,0.0],[0.0,936.0,0.0,38.0,0.0,304000.0,1.1,133.0,1.0,1.0,88.0,0.0],[0.0,292.0,1.0,35.0,0.0,850000.0,1.3,142.0,1.0,1.0,88.0,0.0],[0.0,60.0,0.0,35.0,0.0,228000.0,1.2,135.0,1.0,1.0,90.0,0.0],[0.0,369.0,1.0,25.0,0.0,252000.0,1.6,136.0,1.0,0.0,90.0,0.0],[1.0,754.0,1.0,40.0,1.0,328000.0,1.2,126.0,1.0,0.0,91.0,0.0],[1.0,400.0,0.0,40.0,0.0,164000.0,1.0,139.0,0.0,0.0,91.0,0.0],[1.0,96.0,1.0,60.0,1.0,271000.0,0.7,136.0,0.0,0.0,94.0,0.0],[1.0,102.0,0.0,60.0,0.0,507000.0,3.2,138.0,0.0,0.0,94.0,0.0],[1.0,113.0,1.0,60.0,1.0,203000.0,0.9,140.0,0.0,0.0,94.0,0.0],[1.0,737.0,0.0,60.0,1.0,210000.0,1.5,135.0,1.0,1.0,95.0,0.0],[1.0,68.0,1.0,38.0,1.0,162000.0,1.0,136.0,0.0,0.0,95.0,0.0],[0.0,96.0,1.0,38.0,0.0,228000.0,0.75,140.0,0.0,0.0,95.0,0.0],[1.0,582.0,0.0,30.0,1.0,127000.0,0.9,145.0,0.0,0.0,95.0,0.0],[1.0,358.0,0.0,50.0,0.0,237000.0,1.3,135.0,0.0,0.0,97.0,0.0],[1.0,200.0,1.0,60.0,0.0,300000.0,0.8,137.0,0.0,0.0,104.0,0.0],[0.0,248.0,0.0,30.0,1.0,267000.0,0.7,136.0,1.0,1.0,104.0,0.0],[1.0,270.0,1.0,35.0,0.0,227000.0,3.4,145.0,1.0,0.0,105.0,0.0],[1.0,1808.0,0.0,60.0,1.0,249000.0,0.7,138.0,1.0,1.0,106.0,0.0],[1.0,1082.0,1.0,45.0,0.0,250000.0,6.1,131.0,1.0,0.0,107.0,0.0],[0.0,719.0,0.0,40.0,1.0,263358.03,1.18,137.0,0.0,0.0,107.0,0.0],[0.0,193.0,0.0,60.0,1.0,295000.0,1.3,145.0,1.0,1.0,107.0,0.0],[0.0,4540.0,0.0,35.0,0.0,231000.0,1.18,137.0,1.0,1.0,107.0,0.0],[0.0,582.0,0.0,40.0,0.0,263358.03,1.18,137.0,1.0,0.0,107.0,0.0],[1.0,59.0,1.0,60.0,0.0,172000.0,0.9,137.0,0.0,0.0,107.0,0.0],[1.0,646.0,0.0,25.0,0.0,305000.0,2.1,130.0,1.0,0.0,108.0,0.0],[0.0,281.0,1.0,35.0,0.0,221000.0,1.0,136.0,0.0,0.0,108.0,0.0],[0.0,1548.0,0.0,30.0,1.0,211000.0,0.8,138.0,1.0,0.0,108.0,0.0],[1.0,291.0,0.0,35.0,0.0,348000.0,0.9,140.0,0.0,0.0,109.0,0.0],[0.0,482.0,1.0,30.0,0.0,329000.0,0.9,132.0,0.0,0.0,109.0,0.0],[1.0,84.0,0.0,40.0,1.0,229000.0,0.9,141.0,0.0,0.0,110.0,0.0],[0.0,185.0,0.0,30.0,0.0,266000.0,0.7,141.0,1.0,1.0,112.0,0.0],[0.0,132.0,0.0,30.0,0.0,218000.0,0.7,136.0,1.0,1.0,112.0,0.0],[0.0,1610.0,0.0,60.0,0.0,242000.0,1.0,137.0,1.0,0.0,113.0,0.0],[0.0,2261.0,0.0,35.0,1.0,228000.0,0.9,136.0,1.0,0.0,115.0,0.0],[0.0,30.0,1.0,60.0,1.0,244000.0,0.9,139.0,1.0,0.0,117.0,0.0],[0.0,115.0,0.0,45.0,1.0,184000.0,0.9,134.0,1.0,1.0,118.0,0.0],[0.0,1846.0,1.0,35.0,0.0,263358.03,1.18,137.0,1.0,1.0,119.0,0.0],[1.0,335.0,0.0,35.0,1.0,235000.0,0.8,136.0,0.0,0.0,120.0,0.0],[1.0,231.0,1.0,25.0,0.0,194000.0,1.7,140.0,1.0,0.0,120.0,0.0],[1.0,58.0,0.0,35.0,0.0,277000.0,1.4,136.0,0.0,0.0,120.0,0.0],[0.0,250.0,0.0,25.0,0.0,262000.0,1.0,136.0,1.0,1.0,120.0,0.0],[1.0,910.0,0.0,50.0,0.0,235000.0,1.3,134.0,1.0,0.0,121.0,0.0],[1.0,129.0,0.0,45.0,1.0,362000.0,1.1,139.0,1.0,1.0,121.0,0.0],[1.0,72.0,0.0,40.0,1.0,242000.0,1.2,134.0,1.0,0.0,121.0,0.0],[1.0,130.0,0.0,35.0,0.0,174000.0,0.8,139.0,1.0,1.0,121.0,0.0],[1.0,582.0,0.0,40.0,0.0,448000.0,0.9,137.0,1.0,1.0,123.0,0.0],[0.0,196.0,0.0,60.0,0.0,220000.0,0.7,133.0,1.0,1.0,134.0,0.0],[0.0,582.0,1.0,40.0,0.0,270000.0,1.0,138.0,0.0,0.0,140.0,0.0],[0.0,835.0,0.0,35.0,1.0,305000.0,0.8,133.0,0.0,0.0,145.0,0.0],[1.0,582.0,1.0,35.0,0.0,263358.03,1.5,136.0,1.0,1.0,145.0,0.0],[0.0,3966.0,0.0,40.0,0.0,325000.0,0.9,140.0,1.0,1.0,146.0,0.0],[1.0,171.0,0.0,60.0,1.0,176000.0,1.1,145.0,1.0,1.0,146.0,0.0],[1.0,115.0,0.0,20.0,0.0,189000.0,0.8,139.0,1.0,0.0,146.0,0.0],[0.0,198.0,1.0,35.0,1.0,281000.0,0.9,137.0,1.0,1.0,146.0,0.0],[1.0,95.0,0.0,60.0,0.0,337000.0,1.0,138.0,1.0,1.0,146.0,0.0],[0.0,1419.0,0.0,40.0,0.0,105000.0,1.0,135.0,1.0,1.0,147.0,0.0],[1.0,69.0,0.0,50.0,0.0,132000.0,1.0,140.0,0.0,0.0,147.0,0.0],[1.0,122.0,1.0,60.0,0.0,267000.0,1.2,145.0,1.0,0.0,147.0,0.0],[0.0,835.0,0.0,40.0,0.0,279000.0,0.7,140.0,1.0,1.0,147.0,0.0],[0.0,478.0,1.0,30.0,0.0,303000.0,0.9,136.0,1.0,0.0,148.0,0.0],[1.0,151.0,1.0,40.0,1.0,201000.0,1.0,136.0,0.0,0.0,172.0,0.0],[0.0,244.0,0.0,45.0,1.0,275000.0,0.9,140.0,0.0,0.0,174.0,0.0],[0.0,582.0,1.0,35.0,0.0,350000.0,2.1,134.0,1.0,0.0,174.0,0.0],[1.0,62.0,0.0,60.0,0.0,309000.0,1.5,135.0,0.0,0.0,174.0,0.0],[1.0,121.0,1.0,40.0,0.0,260000.0,0.7,130.0,1.0,0.0,175.0,0.0],[1.0,231.0,1.0,30.0,0.0,160000.0,1.18,142.0,1.0,1.0,180.0,0.0],[0.0,582.0,1.0,38.0,1.0,263358.03,1.18,137.0,0.0,0.0,185.0,0.0],[0.0,167.0,0.0,30.0,0.0,259000.0,0.8,138.0,0.0,0.0,186.0,0.0],[1.0,582.0,1.0,20.0,1.0,279000.0,1.0,134.0,0.0,0.0,186.0,0.0],[0.0,1211.0,1.0,35.0,0.0,263358.03,1.8,113.0,1.0,1.0,186.0,0.0],[1.0,1767.0,0.0,45.0,0.0,73000.0,0.7,137.0,1.0,0.0,186.0,0.0],[0.0,308.0,1.0,60.0,1.0,377000.0,1.0,136.0,1.0,0.0,186.0,0.0],[0.0,97.0,0.0,60.0,1.0,220000.0,0.9,138.0,1.0,0.0,186.0,0.0],[0.0,59.0,0.0,25.0,1.0,212000.0,3.5,136.0,1.0,1.0,187.0,0.0],[1.0,64.0,0.0,40.0,0.0,277000.0,0.7,137.0,1.0,1.0,187.0,0.0],[1.0,167.0,1.0,45.0,0.0,362000.0,1.0,136.0,0.0,0.0,187.0,0.0],[1.0,101.0,0.0,40.0,0.0,226000.0,0.8,141.0,0.0,0.0,187.0,0.0],[0.0,212.0,0.0,38.0,0.0,186000.0,0.9,136.0,1.0,0.0,187.0,0.0],[1.0,2281.0,1.0,40.0,0.0,283000.0,1.0,141.0,0.0,0.0,187.0,0.0],[0.0,972.0,1.0,35.0,1.0,268000.0,0.8,130.0,0.0,0.0,187.0,0.0],[0.0,212.0,1.0,17.0,1.0,389000.0,1.0,136.0,1.0,1.0,188.0,0.0],[0.0,582.0,0.0,62.0,1.0,147000.0,0.8,140.0,1.0,1.0,192.0,0.0],[0.0,224.0,0.0,50.0,0.0,481000.0,1.4,138.0,1.0,1.0,192.0,0.0],[1.0,135.0,0.0,35.0,1.0,290000.0,0.8,134.0,1.0,0.0,194.0,0.0],[0.0,582.0,0.0,35.0,1.0,203000.0,1.3,134.0,1.0,0.0,195.0,0.0],[0.0,1202.0,0.0,50.0,1.0,358000.0,0.9,141.0,0.0,0.0,196.0,0.0],[1.0,1021.0,1.0,35.0,0.0,271000.0,1.1,134.0,1.0,0.0,197.0,0.0],[0.0,582.0,1.0,35.0,1.0,371000.0,0.7,140.0,0.0,0.0,197.0,0.0],[0.0,118.0,0.0,50.0,0.0,194000.0,1.1,145.0,1.0,1.0,200.0,0.0],[1.0,86.0,0.0,35.0,0.0,365000.0,1.1,139.0,1.0,1.0,201.0,0.0],[0.0,582.0,0.0,25.0,0.0,130000.0,0.8,134.0,1.0,0.0,201.0,0.0],[0.0,582.0,1.0,25.0,0.0,504000.0,1.0,138.0,1.0,0.0,205.0,0.0],[0.0,675.0,1.0,60.0,0.0,265000.0,1.4,125.0,0.0,0.0,205.0,0.0],[1.0,57.0,0.0,25.0,0.0,189000.0,1.3,132.0,1.0,1.0,205.0,0.0],[1.0,2794.0,0.0,35.0,1.0,141000.0,1.0,140.0,1.0,0.0,206.0,0.0],[0.0,56.0,0.0,25.0,0.0,237000.0,5.0,130.0,0.0,0.0,207.0,0.0],[0.0,211.0,0.0,25.0,0.0,274000.0,1.2,134.0,0.0,0.0,207.0,0.0],[0.0,93.0,0.0,35.0,0.0,185000.0,1.1,134.0,1.0,1.0,208.0,0.0],[1.0,129.0,0.0,35.0,0.0,255000.0,0.9,137.0,1.0,0.0,209.0,0.0],[1.0,707.0,0.0,38.0,0.0,330000.0,1.4,137.0,1.0,1.0,209.0,0.0],[1.0,582.0,0.0,45.0,0.0,305000.0,1.1,137.0,1.0,1.0,209.0,0.0],[1.0,109.0,0.0,50.0,1.0,406000.0,1.1,137.0,1.0,0.0,209.0,0.0],[0.0,119.0,0.0,50.0,1.0,248000.0,1.1,148.0,1.0,0.0,209.0,0.0],[0.0,232.0,0.0,30.0,0.0,173000.0,1.2,132.0,1.0,0.0,210.0,0.0],[1.0,720.0,1.0,40.0,0.0,257000.0,1.0,136.0,0.0,0.0,210.0,0.0],[1.0,180.0,0.0,45.0,0.0,263358.03,1.18,137.0,1.0,1.0,211.0,0.0],[0.0,81.0,1.0,35.0,1.0,533000.0,1.3,139.0,0.0,0.0,212.0,0.0],[0.0,582.0,1.0,30.0,0.0,249000.0,1.3,136.0,1.0,1.0,212.0,0.0],[0.0,90.0,0.0,35.0,0.0,255000.0,1.1,136.0,1.0,1.0,212.0,0.0],[1.0,1185.0,0.0,40.0,1.0,220000.0,0.9,141.0,0.0,0.0,213.0,0.0],[0.0,582.0,1.0,38.0,0.0,264000.0,1.8,134.0,1.0,0.0,213.0,0.0],[1.0,80.0,1.0,38.0,0.0,282000.0,1.4,137.0,1.0,0.0,213.0,0.0],[0.0,143.0,0.0,25.0,0.0,246000.0,2.4,135.0,1.0,0.0,214.0,0.0],[0.0,624.0,0.0,35.0,0.0,301000.0,1.0,142.0,1.0,1.0,214.0,0.0],[0.0,207.0,1.0,40.0,0.0,223000.0,1.2,130.0,0.0,0.0,214.0,0.0],[0.0,2522.0,0.0,30.0,1.0,404000.0,0.5,139.0,0.0,0.0,214.0,0.0],[0.0,572.0,1.0,35.0,0.0,231000.0,0.8,143.0,0.0,0.0,215.0,0.0],[0.0,245.0,0.0,45.0,1.0,274000.0,1.0,133.0,1.0,0.0,215.0,0.0],[0.0,88.0,1.0,35.0,1.0,236000.0,1.2,132.0,0.0,0.0,215.0,0.0],[1.0,446.0,0.0,60.0,1.0,263358.03,1.0,139.0,1.0,0.0,215.0,0.0],[1.0,191.0,1.0,30.0,1.0,334000.0,1.0,142.0,1.0,1.0,216.0,0.0],[0.0,326.0,0.0,38.0,0.0,294000.0,1.7,139.0,0.0,0.0,220.0,0.0],[0.0,132.0,1.0,38.0,1.0,253000.0,1.0,139.0,1.0,0.0,230.0,0.0],[1.0,66.0,1.0,25.0,0.0,233000.0,0.8,135.0,1.0,0.0,230.0,0.0],[0.0,56.0,0.0,50.0,0.0,308000.0,0.7,135.0,1.0,1.0,231.0,0.0],[0.0,66.0,0.0,40.0,0.0,203000.0,1.0,138.0,1.0,0.0,233.0,0.0],[1.0,655.0,0.0,40.0,0.0,283000.0,0.7,133.0,0.0,0.0,233.0,0.0],[1.0,157.0,1.0,60.0,0.0,208000.0,1.0,140.0,0.0,0.0,237.0,0.0],[0.0,582.0,1.0,38.0,0.0,147000.0,1.2,141.0,1.0,0.0,237.0,0.0],[1.0,298.0,0.0,35.0,0.0,362000.0,0.9,140.0,1.0,1.0,240.0,0.0],[1.0,135.0,1.0,38.0,0.0,133000.0,1.7,140.0,1.0,0.0,244.0,0.0],[0.0,582.0,1.0,38.0,0.0,302000.0,0.9,140.0,0.0,0.0,244.0,0.0],[0.0,582.0,1.0,35.0,0.0,222000.0,1.0,132.0,1.0,0.0,244.0,0.0],[0.0,582.0,1.0,30.0,1.0,263358.03,1.6,130.0,1.0,1.0,244.0,0.0],[0.0,582.0,1.0,40.0,0.0,221000.0,0.9,134.0,0.0,0.0,244.0,0.0],[0.0,213.0,0.0,38.0,0.0,215000.0,1.2,133.0,0.0,0.0,245.0,0.0],[0.0,64.0,0.0,40.0,0.0,189000.0,0.7,140.0,1.0,0.0,245.0,0.0],[1.0,257.0,1.0,30.0,0.0,150000.0,1.0,137.0,1.0,1.0,245.0,0.0],[0.0,582.0,0.0,38.0,1.0,422000.0,0.8,137.0,0.0,0.0,245.0,0.0],[0.0,618.0,0.0,35.0,0.0,327000.0,1.1,142.0,0.0,0.0,245.0,0.0],[0.0,582.0,1.0,38.0,0.0,25100.0,1.1,140.0,1.0,0.0,246.0,0.0],[1.0,1051.0,1.0,30.0,0.0,232000.0,0.7,136.0,0.0,0.0,246.0,0.0],[0.0,84.0,1.0,38.0,0.0,451000.0,1.3,136.0,0.0,0.0,246.0,0.0],[0.0,2695.0,1.0,40.0,0.0,241000.0,1.0,137.0,1.0,0.0,247.0,0.0],[0.0,582.0,0.0,40.0,0.0,51000.0,2.7,136.0,1.0,1.0,250.0,0.0],[0.0,64.0,0.0,30.0,0.0,215000.0,3.8,128.0,1.0,1.0,250.0,0.0],[0.0,1688.0,0.0,38.0,0.0,263358.03,1.1,138.0,1.0,1.0,250.0,0.0],[1.0,54.0,0.0,40.0,0.0,279000.0,0.8,141.0,1.0,0.0,250.0,0.0],[1.0,170.0,1.0,40.0,0.0,336000.0,1.2,135.0,1.0,0.0,250.0,0.0],[0.0,253.0,0.0,35.0,0.0,279000.0,1.7,140.0,1.0,0.0,250.0,0.0],[0.0,582.0,1.0,55.0,0.0,543000.0,1.0,132.0,0.0,0.0,250.0,0.0],[0.0,892.0,1.0,35.0,0.0,263358.03,1.1,142.0,0.0,0.0,256.0,0.0],[1.0,337.0,0.0,38.0,0.0,390000.0,0.9,144.0,0.0,0.0,256.0,0.0],[0.0,615.0,1.0,55.0,0.0,222000.0,0.8,141.0,0.0,0.0,257.0,0.0],[0.0,320.0,0.0,35.0,0.0,133000.0,1.4,139.0,1.0,0.0,258.0,0.0],[0.0,190.0,1.0,38.0,0.0,382000.0,1.0,140.0,1.0,1.0,258.0,0.0],[1.0,103.0,1.0,35.0,0.0,179000.0,0.9,136.0,1.0,1.0,270.0,0.0],[0.0,61.0,1.0,38.0,1.0,155000.0,1.1,143.0,1.0,1.0,270.0,0.0],[0.0,1820.0,0.0,38.0,0.0,270000.0,1.2,139.0,0.0,0.0,271.0,0.0],[0.0,2060.0,1.0,60.0,0.0,742000.0,0.8,138.0,0.0,0.0,278.0,0.0],[0.0,2413.0,0.0,38.0,0.0,140000.0,1.4,140.0,1.0,1.0,280.0,0.0],[0.0,196.0,0.0,45.0,0.0,395000.0,1.6,136.0,1.0,1.0,285.0,0.0]],\"hovertemplate\":\"DEATH_EVENT=%{customdata[11]}<br>AGE=%{x}<br>anaemia=%{customdata[0]}<br>creatinine_phosphokinase=%{customdata[1]}<br>diabetes=%{customdata[2]}<br>ejection_fraction=%{customdata[3]}<br>high_blood_pressure=%{customdata[4]}<br>platelets=%{customdata[5]}<br>serum_creatinine=%{customdata[6]}<br>serum_sodium=%{customdata[7]}<br>sex=%{customdata[8]}<br>smoking=%{customdata[9]}<br>time=%{customdata[10]}<extra></extra>\",\"legendgroup\":\"0\",\"marker\":{\"color\":\"#EF553B\"},\"name\":\"0\",\"offsetgroup\":\"0\",\"scalegroup\":\"x\",\"showlegend\":false,\"x\":[49.0,65.0,53.0,50.0,60.0,72.0,70.0,60.0,55.0,45.0,41.0,58.0,65.0,70.0,42.0,75.0,55.0,70.0,67.0,79.0,51.0,55.0,65.0,44.0,57.0,70.0,60.0,42.0,58.0,58.0,63.0,70.0,60.0,63.0,65.0,75.0,80.0,42.0,60.0,55.0,45.0,63.0,45.0,55.0,50.0,60.0,58.0,60.0,85.0,65.0,60.0,66.0,60.0,60.0,43.0,58.0,61.0,53.0,53.0,60.0,46.0,63.0,81.0,75.0,65.0,68.0,62.0,50.0,46.0,50.0,61.0,50.0,52.0,64.0,60.0,62.0,50.0,50.0,65.0,60.0,52.0,50.0,85.0,59.0,66.0,45.0,63.0,53.0,65.0,70.0,51.0,52.0,70.0,50.0,65.0,60.0,69.0,49.0,63.0,55.0,40.0,60.667,40.0,80.0,64.0,50.0,73.0,45.0,65.0,50.0,60.0,63.0,45.0,70.0,60.0,78.0,50.0,40.0,85.0,60.0,49.0,70.0,50.0,78.0,65.0,73.0,70.0,68.0,55.0,65.0,42.0,47.0,58.0,75.0,58.0,55.0,65.0,72.0,70.0,40.0,53.0,53.0,77.0,75.0,70.0,65.0,55.0,70.0,65.0,40.0,73.0,54.0,61.0,64.0,40.0,53.0,50.0,55.0,50.0,70.0,53.0,52.0,65.0,58.0,45.0,53.0,55.0,62.0,68.0,61.0,50.0,56.0,45.0,40.0,44.0,51.0,67.0,42.0,60.0,45.0,70.0,70.0,50.0,55.0,70.0,70.0,42.0,65.0,50.0,55.0,60.0,45.0,65.0,90.0,45.0,60.0,52.0,63.0,62.0,55.0,45.0,45.0,50.0],\"xaxis\":\"x2\",\"yaxis\":\"y2\",\"type\":\"violin\"}],                        {\"template\":{\"data\":{\"bar\":[{\"error_x\":{\"color\":\"#2a3f5f\"},\"error_y\":{\"color\":\"#2a3f5f\"},\"marker\":{\"line\":{\"color\":\"#E5ECF6\",\"width\":0.5},\"pattern\":{\"fillmode\":\"overlay\",\"size\":10,\"solidity\":0.2}},\"type\":\"bar\"}],\"barpolar\":[{\"marker\":{\"line\":{\"color\":\"#E5ECF6\",\"width\":0.5},\"pattern\":{\"fillmode\":\"overlay\",\"size\":10,\"solidity\":0.2}},\"type\":\"barpolar\"}],\"carpet\":[{\"aaxis\":{\"endlinecolor\":\"#2a3f5f\",\"gridcolor\":\"white\",\"linecolor\":\"white\",\"minorgridcolor\":\"white\",\"startlinecolor\":\"#2a3f5f\"},\"baxis\":{\"endlinecolor\":\"#2a3f5f\",\"gridcolor\":\"white\",\"linecolor\":\"white\",\"minorgridcolor\":\"white\",\"startlinecolor\":\"#2a3f5f\"},\"type\":\"carpet\"}],\"choropleth\":[{\"colorbar\":{\"outlinewidth\":0,\"ticks\":\"\"},\"type\":\"choropleth\"}],\"contour\":[{\"colorbar\":{\"outlinewidth\":0,\"ticks\":\"\"},\"colorscale\":[[0.0,\"#0d0887\"],[0.1111111111111111,\"#46039f\"],[0.2222222222222222,\"#7201a8\"],[0.3333333333333333,\"#9c179e\"],[0.4444444444444444,\"#bd3786\"],[0.5555555555555556,\"#d8576b\"],[0.6666666666666666,\"#ed7953\"],[0.7777777777777778,\"#fb9f3a\"],[0.8888888888888888,\"#fdca26\"],[1.0,\"#f0f921\"]],\"type\":\"contour\"}],\"contourcarpet\":[{\"colorbar\":{\"outlinewidth\":0,\"ticks\":\"\"},\"type\":\"contourcarpet\"}],\"heatmap\":[{\"colorbar\":{\"outlinewidth\":0,\"ticks\":\"\"},\"colorscale\":[[0.0,\"#0d0887\"],[0.1111111111111111,\"#46039f\"],[0.2222222222222222,\"#7201a8\"],[0.3333333333333333,\"#9c179e\"],[0.4444444444444444,\"#bd3786\"],[0.5555555555555556,\"#d8576b\"],[0.6666666666666666,\"#ed7953\"],[0.7777777777777778,\"#fb9f3a\"],[0.8888888888888888,\"#fdca26\"],[1.0,\"#f0f921\"]],\"type\":\"heatmap\"}],\"heatmapgl\":[{\"colorbar\":{\"outlinewidth\":0,\"ticks\":\"\"},\"colorscale\":[[0.0,\"#0d0887\"],[0.1111111111111111,\"#46039f\"],[0.2222222222222222,\"#7201a8\"],[0.3333333333333333,\"#9c179e\"],[0.4444444444444444,\"#bd3786\"],[0.5555555555555556,\"#d8576b\"],[0.6666666666666666,\"#ed7953\"],[0.7777777777777778,\"#fb9f3a\"],[0.8888888888888888,\"#fdca26\"],[1.0,\"#f0f921\"]],\"type\":\"heatmapgl\"}],\"histogram\":[{\"marker\":{\"pattern\":{\"fillmode\":\"overlay\",\"size\":10,\"solidity\":0.2}},\"type\":\"histogram\"}],\"histogram2d\":[{\"colorbar\":{\"outlinewidth\":0,\"ticks\":\"\"},\"colorscale\":[[0.0,\"#0d0887\"],[0.1111111111111111,\"#46039f\"],[0.2222222222222222,\"#7201a8\"],[0.3333333333333333,\"#9c179e\"],[0.4444444444444444,\"#bd3786\"],[0.5555555555555556,\"#d8576b\"],[0.6666666666666666,\"#ed7953\"],[0.7777777777777778,\"#fb9f3a\"],[0.8888888888888888,\"#fdca26\"],[1.0,\"#f0f921\"]],\"type\":\"histogram2d\"}],\"histogram2dcontour\":[{\"colorbar\":{\"outlinewidth\":0,\"ticks\":\"\"},\"colorscale\":[[0.0,\"#0d0887\"],[0.1111111111111111,\"#46039f\"],[0.2222222222222222,\"#7201a8\"],[0.3333333333333333,\"#9c179e\"],[0.4444444444444444,\"#bd3786\"],[0.5555555555555556,\"#d8576b\"],[0.6666666666666666,\"#ed7953\"],[0.7777777777777778,\"#fb9f3a\"],[0.8888888888888888,\"#fdca26\"],[1.0,\"#f0f921\"]],\"type\":\"histogram2dcontour\"}],\"mesh3d\":[{\"colorbar\":{\"outlinewidth\":0,\"ticks\":\"\"},\"type\":\"mesh3d\"}],\"parcoords\":[{\"line\":{\"colorbar\":{\"outlinewidth\":0,\"ticks\":\"\"}},\"type\":\"parcoords\"}],\"pie\":[{\"automargin\":true,\"type\":\"pie\"}],\"scatter\":[{\"marker\":{\"colorbar\":{\"outlinewidth\":0,\"ticks\":\"\"}},\"type\":\"scatter\"}],\"scatter3d\":[{\"line\":{\"colorbar\":{\"outlinewidth\":0,\"ticks\":\"\"}},\"marker\":{\"colorbar\":{\"outlinewidth\":0,\"ticks\":\"\"}},\"type\":\"scatter3d\"}],\"scattercarpet\":[{\"marker\":{\"colorbar\":{\"outlinewidth\":0,\"ticks\":\"\"}},\"type\":\"scattercarpet\"}],\"scattergeo\":[{\"marker\":{\"colorbar\":{\"outlinewidth\":0,\"ticks\":\"\"}},\"type\":\"scattergeo\"}],\"scattergl\":[{\"marker\":{\"colorbar\":{\"outlinewidth\":0,\"ticks\":\"\"}},\"type\":\"scattergl\"}],\"scattermapbox\":[{\"marker\":{\"colorbar\":{\"outlinewidth\":0,\"ticks\":\"\"}},\"type\":\"scattermapbox\"}],\"scatterpolar\":[{\"marker\":{\"colorbar\":{\"outlinewidth\":0,\"ticks\":\"\"}},\"type\":\"scatterpolar\"}],\"scatterpolargl\":[{\"marker\":{\"colorbar\":{\"outlinewidth\":0,\"ticks\":\"\"}},\"type\":\"scatterpolargl\"}],\"scatterternary\":[{\"marker\":{\"colorbar\":{\"outlinewidth\":0,\"ticks\":\"\"}},\"type\":\"scatterternary\"}],\"surface\":[{\"colorbar\":{\"outlinewidth\":0,\"ticks\":\"\"},\"colorscale\":[[0.0,\"#0d0887\"],[0.1111111111111111,\"#46039f\"],[0.2222222222222222,\"#7201a8\"],[0.3333333333333333,\"#9c179e\"],[0.4444444444444444,\"#bd3786\"],[0.5555555555555556,\"#d8576b\"],[0.6666666666666666,\"#ed7953\"],[0.7777777777777778,\"#fb9f3a\"],[0.8888888888888888,\"#fdca26\"],[1.0,\"#f0f921\"]],\"type\":\"surface\"}],\"table\":[{\"cells\":{\"fill\":{\"color\":\"#EBF0F8\"},\"line\":{\"color\":\"white\"}},\"header\":{\"fill\":{\"color\":\"#C8D4E3\"},\"line\":{\"color\":\"white\"}},\"type\":\"table\"}]},\"layout\":{\"annotationdefaults\":{\"arrowcolor\":\"#2a3f5f\",\"arrowhead\":0,\"arrowwidth\":1},\"autotypenumbers\":\"strict\",\"coloraxis\":{\"colorbar\":{\"outlinewidth\":0,\"ticks\":\"\"}},\"colorscale\":{\"diverging\":[[0,\"#8e0152\"],[0.1,\"#c51b7d\"],[0.2,\"#de77ae\"],[0.3,\"#f1b6da\"],[0.4,\"#fde0ef\"],[0.5,\"#f7f7f7\"],[0.6,\"#e6f5d0\"],[0.7,\"#b8e186\"],[0.8,\"#7fbc41\"],[0.9,\"#4d9221\"],[1,\"#276419\"]],\"sequential\":[[0.0,\"#0d0887\"],[0.1111111111111111,\"#46039f\"],[0.2222222222222222,\"#7201a8\"],[0.3333333333333333,\"#9c179e\"],[0.4444444444444444,\"#bd3786\"],[0.5555555555555556,\"#d8576b\"],[0.6666666666666666,\"#ed7953\"],[0.7777777777777778,\"#fb9f3a\"],[0.8888888888888888,\"#fdca26\"],[1.0,\"#f0f921\"]],\"sequentialminus\":[[0.0,\"#0d0887\"],[0.1111111111111111,\"#46039f\"],[0.2222222222222222,\"#7201a8\"],[0.3333333333333333,\"#9c179e\"],[0.4444444444444444,\"#bd3786\"],[0.5555555555555556,\"#d8576b\"],[0.6666666666666666,\"#ed7953\"],[0.7777777777777778,\"#fb9f3a\"],[0.8888888888888888,\"#fdca26\"],[1.0,\"#f0f921\"]]},\"colorway\":[\"#636efa\",\"#EF553B\",\"#00cc96\",\"#ab63fa\",\"#FFA15A\",\"#19d3f3\",\"#FF6692\",\"#B6E880\",\"#FF97FF\",\"#FECB52\"],\"font\":{\"color\":\"#2a3f5f\"},\"geo\":{\"bgcolor\":\"white\",\"lakecolor\":\"white\",\"landcolor\":\"#E5ECF6\",\"showlakes\":true,\"showland\":true,\"subunitcolor\":\"white\"},\"hoverlabel\":{\"align\":\"left\"},\"hovermode\":\"closest\",\"mapbox\":{\"style\":\"light\"},\"paper_bgcolor\":\"white\",\"plot_bgcolor\":\"#E5ECF6\",\"polar\":{\"angularaxis\":{\"gridcolor\":\"white\",\"linecolor\":\"white\",\"ticks\":\"\"},\"bgcolor\":\"#E5ECF6\",\"radialaxis\":{\"gridcolor\":\"white\",\"linecolor\":\"white\",\"ticks\":\"\"}},\"scene\":{\"xaxis\":{\"backgroundcolor\":\"#E5ECF6\",\"gridcolor\":\"white\",\"gridwidth\":2,\"linecolor\":\"white\",\"showbackground\":true,\"ticks\":\"\",\"zerolinecolor\":\"white\"},\"yaxis\":{\"backgroundcolor\":\"#E5ECF6\",\"gridcolor\":\"white\",\"gridwidth\":2,\"linecolor\":\"white\",\"showbackground\":true,\"ticks\":\"\",\"zerolinecolor\":\"white\"},\"zaxis\":{\"backgroundcolor\":\"#E5ECF6\",\"gridcolor\":\"white\",\"gridwidth\":2,\"linecolor\":\"white\",\"showbackground\":true,\"ticks\":\"\",\"zerolinecolor\":\"white\"}},\"shapedefaults\":{\"line\":{\"color\":\"#2a3f5f\"}},\"ternary\":{\"aaxis\":{\"gridcolor\":\"white\",\"linecolor\":\"white\",\"ticks\":\"\"},\"baxis\":{\"gridcolor\":\"white\",\"linecolor\":\"white\",\"ticks\":\"\"},\"bgcolor\":\"#E5ECF6\",\"caxis\":{\"gridcolor\":\"white\",\"linecolor\":\"white\",\"ticks\":\"\"}},\"title\":{\"x\":0.05},\"xaxis\":{\"automargin\":true,\"gridcolor\":\"white\",\"linecolor\":\"white\",\"ticks\":\"\",\"title\":{\"standoff\":15},\"zerolinecolor\":\"white\",\"zerolinewidth\":2},\"yaxis\":{\"automargin\":true,\"gridcolor\":\"white\",\"linecolor\":\"white\",\"ticks\":\"\",\"title\":{\"standoff\":15},\"zerolinecolor\":\"white\",\"zerolinewidth\":2}}},\"xaxis\":{\"anchor\":\"y\",\"domain\":[0.0,1.0],\"title\":{\"text\":\"AGE\"}},\"yaxis\":{\"anchor\":\"x\",\"domain\":[0.0,0.7326],\"title\":{\"text\":\"count\"}},\"xaxis2\":{\"anchor\":\"y2\",\"domain\":[0.0,1.0],\"matches\":\"x\",\"showticklabels\":false,\"showgrid\":true},\"yaxis2\":{\"anchor\":\"x2\",\"domain\":[0.7426,1.0],\"matches\":\"y2\",\"showticklabels\":false,\"showline\":false,\"ticks\":\"\",\"showgrid\":false},\"legend\":{\"title\":{\"text\":\"DEATH_EVENT\"},\"tracegroupgap\":0},\"title\":{\"text\":\"Distribution of AGE Vs DEATH_EVENT\"},\"barmode\":\"relative\"},                        {\"responsive\": true}                    ).then(function(){\n",
              "                            \n",
              "var gd = document.getElementById('b450c2f7-bf3b-40bc-8891-a84bcc0a09d1');\n",
              "var x = new MutationObserver(function (mutations, observer) {{\n",
              "        var display = window.getComputedStyle(gd).display;\n",
              "        if (!display || display === 'none') {{\n",
              "            console.log([gd, 'removed!']);\n",
              "            Plotly.purge(gd);\n",
              "            observer.disconnect();\n",
              "        }}\n",
              "}});\n",
              "\n",
              "// Listen for the removal of the full notebook cells\n",
              "var notebookContainer = gd.closest('#notebook-container');\n",
              "if (notebookContainer) {{\n",
              "    x.observe(notebookContainer, {childList: true});\n",
              "}}\n",
              "\n",
              "// Listen for the clearing of the current output cell\n",
              "var outputEl = gd.closest('.output');\n",
              "if (outputEl) {{\n",
              "    x.observe(outputEl, {childList: true});\n",
              "}}\n",
              "\n",
              "                        })                };                            </script>        </div>\n",
              "</body>\n",
              "</html>"
            ]
          },
          "metadata": {}
        }
      ],
      "source": [
        "# Distribution of AGE Vs DEATH_EVENT\n",
        "\n",
        "fig = px.histogram(train, x=\"age\", color=\"DEATH_EVENT\", marginal=\"violin\", hover_data=train.columns, \n",
        "                   title =\"Distribution of AGE Vs DEATH_EVENT\", \n",
        "                   labels={\"age\": \"AGE\"},\n",
        "                   template=\"plotly\",\n",
        "                   \n",
        "                   \n",
        "                  )\n",
        "fig.show()"
      ]
    },
    {
      "cell_type": "markdown",
      "metadata": {
        "papermill": {
          "duration": 0.068823,
          "end_time": "2021-01-30T12:06:56.265521",
          "exception": false,
          "start_time": "2021-01-30T12:06:56.196698",
          "status": "completed"
        },
        "tags": [],
        "id": "2cDQ-WKELu8a"
      },
      "source": [
        "### sex"
      ]
    },
    {
      "cell_type": "code",
      "execution_count": null,
      "metadata": {
        "execution": {
          "iopub.execute_input": "2021-01-30T12:06:56.407068Z",
          "iopub.status.busy": "2021-01-30T12:06:56.406384Z",
          "iopub.status.idle": "2021-01-30T12:06:56.486786Z",
          "shell.execute_reply": "2021-01-30T12:06:56.487399Z"
        },
        "papermill": {
          "duration": 0.152778,
          "end_time": "2021-01-30T12:06:56.487550",
          "exception": false,
          "start_time": "2021-01-30T12:06:56.334772",
          "status": "completed"
        },
        "tags": [],
        "colab": {
          "base_uri": "https://localhost:8080/",
          "height": 483
        },
        "id": "Mt1_0BoDLu8a",
        "outputId": "ad3c8c26-07cf-4eb7-ef61-04664fb23dbc"
      },
      "outputs": [
        {
          "output_type": "execute_result",
          "data": {
            "text/plain": [
              "<matplotlib.axes._subplots.AxesSubplot at 0x7fd913e6db90>"
            ]
          },
          "metadata": {},
          "execution_count": 16
        },
        {
          "output_type": "display_data",
          "data": {
            "text/plain": [
              "<Figure size 576x576 with 1 Axes>"
            ],
            "image/png": "[encoded data removed]"
          },
          "metadata": {}
        }
      ],
      "source": [
        "train.sex.value_counts().plot.pie(explode=[0.1,0.1],autopct='%1.1f%%',shadow=True)"
      ]
    },
    {
      "cell_type": "code",
      "execution_count": null,
      "metadata": {
        "execution": {
          "iopub.execute_input": "2021-01-30T12:06:56.632660Z",
          "iopub.status.busy": "2021-01-30T12:06:56.631989Z",
          "iopub.status.idle": "2021-01-30T12:06:56.797943Z",
          "shell.execute_reply": "2021-01-30T12:06:56.798471Z"
        },
        "papermill": {
          "duration": 0.239876,
          "end_time": "2021-01-30T12:06:56.798624",
          "exception": false,
          "start_time": "2021-01-30T12:06:56.558748",
          "status": "completed"
        },
        "tags": [],
        "colab": {
          "base_uri": "https://localhost:8080/",
          "height": 519
        },
        "id": "1XYiOlQuLu8b",
        "outputId": "b859c107-1651-404a-e1d6-ed4dde7476d2"
      },
      "outputs": [
        {
          "output_type": "execute_result",
          "data": {
            "text/plain": [
              "<matplotlib.legend.Legend at 0x7fd9144ae310>"
            ]
          },
          "metadata": {},
          "execution_count": 17
        },
        {
          "output_type": "display_data",
          "data": {
            "text/plain": [
              "<Figure size 576x576 with 1 Axes>"
            ],
            "image/png": "[encoded data removed]"
          },
          "metadata": {}
        }
      ],
      "source": [
        "sns.countplot(x='sex',hue='DEATH_EVENT',data=train)\n",
        "plt.legend(['yes','no'])"
      ]
    },
    {
      "cell_type": "code",
      "execution_count": null,
      "metadata": {
        "execution": {
          "iopub.execute_input": "2021-01-30T12:06:56.947451Z",
          "iopub.status.busy": "2021-01-30T12:06:56.946746Z",
          "iopub.status.idle": "2021-01-30T12:06:57.022223Z",
          "shell.execute_reply": "2021-01-30T12:06:57.022726Z"
        },
        "papermill": {
          "duration": 0.15225,
          "end_time": "2021-01-30T12:06:57.022879",
          "exception": false,
          "start_time": "2021-01-30T12:06:56.870629",
          "status": "completed"
        },
        "tags": [],
        "colab": {
          "base_uri": "https://localhost:8080/",
          "height": 537
        },
        "id": "jOsk4zf4Lu8b",
        "outputId": "ce2b56d0-8b9a-4943-9afa-edcd0fab9238"
      },
      "outputs": [
        {
          "output_type": "display_data",
          "data": {
            "text/html": [
              "<html>\n",
              "<head><meta charset=\"utf-8\" /></head>\n",
              "<body>\n",
              "    <div>            <script src=\"https://cdnjs.cloudflare.com/ajax/libs/mathjax/2.7.5/MathJax.js?config=TeX-AMS-MML_SVG\"></script><script type=\"text/javascript\">if (window.MathJax) {MathJax.Hub.Config({SVG: {font: \"STIX-Web\"}});}</script>                <script type=\"text/javascript\">window.PlotlyConfig = {MathJaxConfig: 'local'};</script>\n",
              "        <script src=\"https://cdn.plot.ly/plotly-2.8.3.min.js\"></script>                <div id=\"25bc0263-5000-4bdc-a7af-2954d12fd564\" class=\"plotly-graph-div\" style=\"height:500px; width:1200px;\"></div>            <script type=\"text/javascript\">                                    window.PLOTLYENV=window.PLOTLYENV || {};                                    if (document.getElementById(\"25bc0263-5000-4bdc-a7af-2954d12fd564\")) {                    Plotly.newPlot(                        \"25bc0263-5000-4bdc-a7af-2954d12fd564\",                        [{\"labels\":[\"Male\",\"Female\"],\"name\":\"GENDER\",\"values\":[194,105],\"type\":\"pie\",\"domain\":{\"x\":[0.0,0.45],\"y\":[0.0,1.0]},\"hole\":0.4,\"hoverinfo\":\"label+percent\"},{\"labels\":[\"Male - Survived\",\"Male - Died\",\"Female -  Survived\",\"Female - Died\"],\"name\":\"GENDER VS DEATH_EVENT\",\"values\":[132,62,71,34],\"type\":\"pie\",\"domain\":{\"x\":[0.55,1.0],\"y\":[0.0,1.0]},\"hole\":0.4,\"hoverinfo\":\"label+percent\"}],                        {\"template\":{\"data\":{\"bar\":[{\"error_x\":{\"color\":\"#2a3f5f\"},\"error_y\":{\"color\":\"#2a3f5f\"},\"marker\":{\"line\":{\"color\":\"#E5ECF6\",\"width\":0.5},\"pattern\":{\"fillmode\":\"overlay\",\"size\":10,\"solidity\":0.2}},\"type\":\"bar\"}],\"barpolar\":[{\"marker\":{\"line\":{\"color\":\"#E5ECF6\",\"width\":0.5},\"pattern\":{\"fillmode\":\"overlay\",\"size\":10,\"solidity\":0.2}},\"type\":\"barpolar\"}],\"carpet\":[{\"aaxis\":{\"endlinecolor\":\"#2a3f5f\",\"gridcolor\":\"white\",\"linecolor\":\"white\",\"minorgridcolor\":\"white\",\"startlinecolor\":\"#2a3f5f\"},\"baxis\":{\"endlinecolor\":\"#2a3f5f\",\"gridcolor\":\"white\",\"linecolor\":\"white\",\"minorgridcolor\":\"white\",\"startlinecolor\":\"#2a3f5f\"},\"type\":\"carpet\"}],\"choropleth\":[{\"colorbar\":{\"outlinewidth\":0,\"ticks\":\"\"},\"type\":\"choropleth\"}],\"contour\":[{\"colorbar\":{\"outlinewidth\":0,\"ticks\":\"\"},\"colorscale\":[[0.0,\"#0d0887\"],[0.1111111111111111,\"#46039f\"],[0.2222222222222222,\"#7201a8\"],[0.3333333333333333,\"#9c179e\"],[0.4444444444444444,\"#bd3786\"],[0.5555555555555556,\"#d8576b\"],[0.6666666666666666,\"#ed7953\"],[0.7777777777777778,\"#fb9f3a\"],[0.8888888888888888,\"#fdca26\"],[1.0,\"#f0f921\"]],\"type\":\"contour\"}],\"contourcarpet\":[{\"colorbar\":{\"outlinewidth\":0,\"ticks\":\"\"},\"type\":\"contourcarpet\"}],\"heatmap\":[{\"colorbar\":{\"outlinewidth\":0,\"ticks\":\"\"},\"colorscale\":[[0.0,\"#0d0887\"],[0.1111111111111111,\"#46039f\"],[0.2222222222222222,\"#7201a8\"],[0.3333333333333333,\"#9c179e\"],[0.4444444444444444,\"#bd3786\"],[0.5555555555555556,\"#d8576b\"],[0.6666666666666666,\"#ed7953\"],[0.7777777777777778,\"#fb9f3a\"],[0.8888888888888888,\"#fdca26\"],[1.0,\"#f0f921\"]],\"type\":\"heatmap\"}],\"heatmapgl\":[{\"colorbar\":{\"outlinewidth\":0,\"ticks\":\"\"},\"colorscale\":[[0.0,\"#0d0887\"],[0.1111111111111111,\"#46039f\"],[0.2222222222222222,\"#7201a8\"],[0.3333333333333333,\"#9c179e\"],[0.4444444444444444,\"#bd3786\"],[0.5555555555555556,\"#d8576b\"],[0.6666666666666666,\"#ed7953\"],[0.7777777777777778,\"#fb9f3a\"],[0.8888888888888888,\"#fdca26\"],[1.0,\"#f0f921\"]],\"type\":\"heatmapgl\"}],\"histogram\":[{\"marker\":{\"pattern\":{\"fillmode\":\"overlay\",\"size\":10,\"solidity\":0.2}},\"type\":\"histogram\"}],\"histogram2d\":[{\"colorbar\":{\"outlinewidth\":0,\"ticks\":\"\"},\"colorscale\":[[0.0,\"#0d0887\"],[0.1111111111111111,\"#46039f\"],[0.2222222222222222,\"#7201a8\"],[0.3333333333333333,\"#9c179e\"],[0.4444444444444444,\"#bd3786\"],[0.5555555555555556,\"#d8576b\"],[0.6666666666666666,\"#ed7953\"],[0.7777777777777778,\"#fb9f3a\"],[0.8888888888888888,\"#fdca26\"],[1.0,\"#f0f921\"]],\"type\":\"histogram2d\"}],\"histogram2dcontour\":[{\"colorbar\":{\"outlinewidth\":0,\"ticks\":\"\"},\"colorscale\":[[0.0,\"#0d0887\"],[0.1111111111111111,\"#46039f\"],[0.2222222222222222,\"#7201a8\"],[0.3333333333333333,\"#9c179e\"],[0.4444444444444444,\"#bd3786\"],[0.5555555555555556,\"#d8576b\"],[0.6666666666666666,\"#ed7953\"],[0.7777777777777778,\"#fb9f3a\"],[0.8888888888888888,\"#fdca26\"],[1.0,\"#f0f921\"]],\"type\":\"histogram2dcontour\"}],\"mesh3d\":[{\"colorbar\":{\"outlinewidth\":0,\"ticks\":\"\"},\"type\":\"mesh3d\"}],\"parcoords\":[{\"line\":{\"colorbar\":{\"outlinewidth\":0,\"ticks\":\"\"}},\"type\":\"parcoords\"}],\"pie\":[{\"automargin\":true,\"type\":\"pie\"}],\"scatter\":[{\"marker\":{\"colorbar\":{\"outlinewidth\":0,\"ticks\":\"\"}},\"type\":\"scatter\"}],\"scatter3d\":[{\"line\":{\"colorbar\":{\"outlinewidth\":0,\"ticks\":\"\"}},\"marker\":{\"colorbar\":{\"outlinewidth\":0,\"ticks\":\"\"}},\"type\":\"scatter3d\"}],\"scattercarpet\":[{\"marker\":{\"colorbar\":{\"outlinewidth\":0,\"ticks\":\"\"}},\"type\":\"scattercarpet\"}],\"scattergeo\":[{\"marker\":{\"colorbar\":{\"outlinewidth\":0,\"ticks\":\"\"}},\"type\":\"scattergeo\"}],\"scattergl\":[{\"marker\":{\"colorbar\":{\"outlinewidth\":0,\"ticks\":\"\"}},\"type\":\"scattergl\"}],\"scattermapbox\":[{\"marker\":{\"colorbar\":{\"outlinewidth\":0,\"ticks\":\"\"}},\"type\":\"scattermapbox\"}],\"scatterpolar\":[{\"marker\":{\"colorbar\":{\"outlinewidth\":0,\"ticks\":\"\"}},\"type\":\"scatterpolar\"}],\"scatterpolargl\":[{\"marker\":{\"colorbar\":{\"outlinewidth\":0,\"ticks\":\"\"}},\"type\":\"scatterpolargl\"}],\"scatterternary\":[{\"marker\":{\"colorbar\":{\"outlinewidth\":0,\"ticks\":\"\"}},\"type\":\"scatterternary\"}],\"surface\":[{\"colorbar\":{\"outlinewidth\":0,\"ticks\":\"\"},\"colorscale\":[[0.0,\"#0d0887\"],[0.1111111111111111,\"#46039f\"],[0.2222222222222222,\"#7201a8\"],[0.3333333333333333,\"#9c179e\"],[0.4444444444444444,\"#bd3786\"],[0.5555555555555556,\"#d8576b\"],[0.6666666666666666,\"#ed7953\"],[0.7777777777777778,\"#fb9f3a\"],[0.8888888888888888,\"#fdca26\"],[1.0,\"#f0f921\"]],\"type\":\"surface\"}],\"table\":[{\"cells\":{\"fill\":{\"color\":\"#EBF0F8\"},\"line\":{\"color\":\"white\"}},\"header\":{\"fill\":{\"color\":\"#C8D4E3\"},\"line\":{\"color\":\"white\"}},\"type\":\"table\"}]},\"layout\":{\"annotationdefaults\":{\"arrowcolor\":\"#2a3f5f\",\"arrowhead\":0,\"arrowwidth\":1},\"autotypenumbers\":\"strict\",\"coloraxis\":{\"colorbar\":{\"outlinewidth\":0,\"ticks\":\"\"}},\"colorscale\":{\"diverging\":[[0,\"#8e0152\"],[0.1,\"#c51b7d\"],[0.2,\"#de77ae\"],[0.3,\"#f1b6da\"],[0.4,\"#fde0ef\"],[0.5,\"#f7f7f7\"],[0.6,\"#e6f5d0\"],[0.7,\"#b8e186\"],[0.8,\"#7fbc41\"],[0.9,\"#4d9221\"],[1,\"#276419\"]],\"sequential\":[[0.0,\"#0d0887\"],[0.1111111111111111,\"#46039f\"],[0.2222222222222222,\"#7201a8\"],[0.3333333333333333,\"#9c179e\"],[0.4444444444444444,\"#bd3786\"],[0.5555555555555556,\"#d8576b\"],[0.6666666666666666,\"#ed7953\"],[0.7777777777777778,\"#fb9f3a\"],[0.8888888888888888,\"#fdca26\"],[1.0,\"#f0f921\"]],\"sequentialminus\":[[0.0,\"#0d0887\"],[0.1111111111111111,\"#46039f\"],[0.2222222222222222,\"#7201a8\"],[0.3333333333333333,\"#9c179e\"],[0.4444444444444444,\"#bd3786\"],[0.5555555555555556,\"#d8576b\"],[0.6666666666666666,\"#ed7953\"],[0.7777777777777778,\"#fb9f3a\"],[0.8888888888888888,\"#fdca26\"],[1.0,\"#f0f921\"]]},\"colorway\":[\"#636efa\",\"#EF553B\",\"#00cc96\",\"#ab63fa\",\"#FFA15A\",\"#19d3f3\",\"#FF6692\",\"#B6E880\",\"#FF97FF\",\"#FECB52\"],\"font\":{\"color\":\"#2a3f5f\"},\"geo\":{\"bgcolor\":\"white\",\"lakecolor\":\"white\",\"landcolor\":\"#E5ECF6\",\"showlakes\":true,\"showland\":true,\"subunitcolor\":\"white\"},\"hoverlabel\":{\"align\":\"left\"},\"hovermode\":\"closest\",\"mapbox\":{\"style\":\"light\"},\"paper_bgcolor\":\"white\",\"plot_bgcolor\":\"#E5ECF6\",\"polar\":{\"angularaxis\":{\"gridcolor\":\"white\",\"linecolor\":\"white\",\"ticks\":\"\"},\"bgcolor\":\"#E5ECF6\",\"radialaxis\":{\"gridcolor\":\"white\",\"linecolor\":\"white\",\"ticks\":\"\"}},\"scene\":{\"xaxis\":{\"backgroundcolor\":\"#E5ECF6\",\"gridcolor\":\"white\",\"gridwidth\":2,\"linecolor\":\"white\",\"showbackground\":true,\"ticks\":\"\",\"zerolinecolor\":\"white\"},\"yaxis\":{\"backgroundcolor\":\"#E5ECF6\",\"gridcolor\":\"white\",\"gridwidth\":2,\"linecolor\":\"white\",\"showbackground\":true,\"ticks\":\"\",\"zerolinecolor\":\"white\"},\"zaxis\":{\"backgroundcolor\":\"#E5ECF6\",\"gridcolor\":\"white\",\"gridwidth\":2,\"linecolor\":\"white\",\"showbackground\":true,\"ticks\":\"\",\"zerolinecolor\":\"white\"}},\"shapedefaults\":{\"line\":{\"color\":\"#2a3f5f\"}},\"ternary\":{\"aaxis\":{\"gridcolor\":\"white\",\"linecolor\":\"white\",\"ticks\":\"\"},\"baxis\":{\"gridcolor\":\"white\",\"linecolor\":\"white\",\"ticks\":\"\"},\"bgcolor\":\"#E5ECF6\",\"caxis\":{\"gridcolor\":\"white\",\"linecolor\":\"white\",\"ticks\":\"\"}},\"title\":{\"x\":0.05},\"xaxis\":{\"automargin\":true,\"gridcolor\":\"white\",\"linecolor\":\"white\",\"ticks\":\"\",\"title\":{\"standoff\":15},\"zerolinecolor\":\"white\",\"zerolinewidth\":2},\"yaxis\":{\"automargin\":true,\"gridcolor\":\"white\",\"linecolor\":\"white\",\"ticks\":\"\",\"title\":{\"standoff\":15},\"zerolinecolor\":\"white\",\"zerolinewidth\":2}}},\"title\":{\"text\":\"GENDER DISTRIBUTION IN THE DATASET                     GENDER VS DEATH_EVENT\"},\"annotations\":[{\"showarrow\":false,\"text\":\"GENDER\",\"x\":0.19,\"y\":0.5,\"font\":{\"size\":10}},{\"showarrow\":false,\"text\":\"GENDER VS DEATH_EVENT\",\"x\":0.84,\"y\":0.5,\"font\":{\"size\":9}}],\"autosize\":false,\"width\":1200,\"height\":500,\"paper_bgcolor\":\"white\"},                        {\"responsive\": true}                    ).then(function(){\n",
              "                            \n",
              "var gd = document.getElementById('25bc0263-5000-4bdc-a7af-2954d12fd564');\n",
              "var x = new MutationObserver(function (mutations, observer) {{\n",
              "        var display = window.getComputedStyle(gd).display;\n",
              "        if (!display || display === 'none') {{\n",
              "            console.log([gd, 'removed!']);\n",
              "            Plotly.purge(gd);\n",
              "            observer.disconnect();\n",
              "        }}\n",
              "}});\n",
              "\n",
              "// Listen for the removal of the full notebook cells\n",
              "var notebookContainer = gd.closest('#notebook-container');\n",
              "if (notebookContainer) {{\n",
              "    x.observe(notebookContainer, {childList: true});\n",
              "}}\n",
              "\n",
              "// Listen for the clearing of the current output cell\n",
              "var outputEl = gd.closest('.output');\n",
              "if (outputEl) {{\n",
              "    x.observe(outputEl, {childList: true});\n",
              "}}\n",
              "\n",
              "                        })                };                            </script>        </div>\n",
              "</body>\n",
              "</html>"
            ]
          },
          "metadata": {}
        }
      ],
      "source": [
        "import plotly.graph_objects as go\n",
        "from plotly.subplots import make_subplots\n",
        "\n",
        "d1 = train[(train[\"DEATH_EVENT\"]==0) & (train[\"sex\"]==1)]\n",
        "d2 = train[(train[\"DEATH_EVENT\"]==1) & (train[\"sex\"]==1)]\n",
        "d3 = train[(train[\"DEATH_EVENT\"]==0) & (train[\"sex\"]==0)]\n",
        "d4 = train[(train[\"DEATH_EVENT\"]==1) & (train[\"sex\"]==0)]\n",
        "\n",
        "label1 = [\"Male\",\"Female\"]\n",
        "label2 = ['Male - Survived','Male - Died', \"Female -  Survived\", \"Female - Died\"]\n",
        "\n",
        "values1 = [(len(d1)+len(d2)), (len(d3)+len(d4))]\n",
        "values2 = [len(d1),len(d2),len(d3),len(d4)]\n",
        "\n",
        "# Create subplots: use 'domain' type for Pie subplot\n",
        "fig = make_subplots(rows=1, cols=2, specs=[[{'type':'domain'}, {'type':'domain'}]])\n",
        "fig.add_trace(go.Pie(labels=label1, values=values1, name=\"GENDER\"),\n",
        "              1, 1)\n",
        "fig.add_trace(go.Pie(labels=label2, values=values2, name=\"GENDER VS DEATH_EVENT\"),\n",
        "              1, 2)\n",
        "\n",
        "# Use `hole` to create a donut-like pie chart\n",
        "fig.update_traces(hole=.4, hoverinfo=\"label+percent\")\n",
        "\n",
        "fig.update_layout(\n",
        "    title_text=\"GENDER DISTRIBUTION IN THE DATASET  \\\n",
        "                   GENDER VS DEATH_EVENT\",\n",
        "    # Add annotations in the center of the donut pies.\n",
        "    annotations=[dict(text='GENDER', x=0.19, y=0.5, font_size=10, showarrow=False),\n",
        "                 dict(text='GENDER VS DEATH_EVENT', x=0.84, y=0.5, font_size=9, showarrow=False)],\n",
        "    autosize=False,width=1200, height=500, paper_bgcolor=\"white\")\n",
        "\n",
        "fig.show()"
      ]
    },
    {
      "cell_type": "code",
      "execution_count": null,
      "metadata": {
        "execution": {
          "iopub.execute_input": "2021-01-30T12:06:57.172803Z",
          "iopub.status.busy": "2021-01-30T12:06:57.171781Z",
          "iopub.status.idle": "2021-01-30T12:06:57.486174Z",
          "shell.execute_reply": "2021-01-30T12:06:57.486672Z"
        },
        "papermill": {
          "duration": 0.390936,
          "end_time": "2021-01-30T12:06:57.486837",
          "exception": false,
          "start_time": "2021-01-30T12:06:57.095901",
          "status": "completed"
        },
        "tags": [],
        "colab": {
          "base_uri": "https://localhost:8080/",
          "height": 502
        },
        "id": "1ZOtasaQLu8c",
        "outputId": "31376b89-4bf7-4a85-e992-15cbf30da7fd"
      },
      "outputs": [
        {
          "output_type": "display_data",
          "data": {
            "text/plain": [
              "<Figure size 576x576 with 1 Axes>"
            ],
            "image/png": "[encoded data removed]"
          },
          "metadata": {}
        }
      ],
      "source": [
        "sns.barplot(x='sex',y='smoking',hue='DEATH_EVENT',data=train);"
      ]
    },
    {
      "cell_type": "code",
      "execution_count": null,
      "metadata": {
        "execution": {
          "iopub.execute_input": "2021-01-30T12:06:57.639153Z",
          "iopub.status.busy": "2021-01-30T12:06:57.638103Z",
          "iopub.status.idle": "2021-01-30T12:06:57.949293Z",
          "shell.execute_reply": "2021-01-30T12:06:57.949783Z"
        },
        "papermill": {
          "duration": 0.388161,
          "end_time": "2021-01-30T12:06:57.949930",
          "exception": false,
          "start_time": "2021-01-30T12:06:57.561769",
          "status": "completed"
        },
        "tags": [],
        "colab": {
          "base_uri": "https://localhost:8080/",
          "height": 502
        },
        "id": "YU_KSyUyLu8c",
        "outputId": "c8201bc4-6641-4c10-92b6-656f272d305d"
      },
      "outputs": [
        {
          "output_type": "display_data",
          "data": {
            "text/plain": [
              "<Figure size 576x576 with 1 Axes>"
            ],
            "image/png": "[encoded data removed]"
          },
          "metadata": {}
        }
      ],
      "source": [
        "sns.countplot(x='sex',hue='smoking',data=train)\n",
        "plt.legend(['yes','no']);"
      ]
    },
    {
      "cell_type": "code",
      "execution_count": null,
      "metadata": {
        "execution": {
          "iopub.execute_input": "2021-01-30T12:06:58.102882Z",
          "iopub.status.busy": "2021-01-30T12:06:58.102011Z",
          "iopub.status.idle": "2021-01-30T12:06:58.269990Z",
          "shell.execute_reply": "2021-01-30T12:06:58.270570Z"
        },
        "papermill": {
          "duration": 0.246654,
          "end_time": "2021-01-30T12:06:58.270730",
          "exception": false,
          "start_time": "2021-01-30T12:06:58.024076",
          "status": "completed"
        },
        "tags": [],
        "colab": {
          "base_uri": "https://localhost:8080/",
          "height": 502
        },
        "id": "BoIgE_IPLu8c",
        "outputId": "9556ee51-b61c-4a58-de35-707ffb674262"
      },
      "outputs": [
        {
          "output_type": "display_data",
          "data": {
            "text/plain": [
              "<Figure size 576x576 with 1 Axes>"
            ],
            "image/png": "[encoded data removed]"
          },
          "metadata": {}
        }
      ],
      "source": [
        "sns.countplot(x='sex',hue='diabetes',data=train)\n",
        "plt.legend(['yes','no']);"
      ]
    },
    {
      "cell_type": "markdown",
      "metadata": {
        "papermill": {
          "duration": 0.075615,
          "end_time": "2021-01-30T12:06:58.422119",
          "exception": false,
          "start_time": "2021-01-30T12:06:58.346504",
          "status": "completed"
        },
        "tags": [],
        "id": "OHnIlxgxLu8c"
      },
      "source": [
        "### diabet"
      ]
    },
    {
      "cell_type": "code",
      "execution_count": null,
      "metadata": {
        "execution": {
          "iopub.execute_input": "2021-01-30T12:06:58.578221Z",
          "iopub.status.busy": "2021-01-30T12:06:58.577510Z",
          "iopub.status.idle": "2021-01-30T12:06:58.658166Z",
          "shell.execute_reply": "2021-01-30T12:06:58.657465Z"
        },
        "papermill": {
          "duration": 0.160553,
          "end_time": "2021-01-30T12:06:58.658294",
          "exception": false,
          "start_time": "2021-01-30T12:06:58.497741",
          "status": "completed"
        },
        "tags": [],
        "colab": {
          "base_uri": "https://localhost:8080/",
          "height": 483
        },
        "id": "mjR0gi3fLu8d",
        "outputId": "949a35e1-735d-4b56-a42e-bdacb9aa85e7"
      },
      "outputs": [
        {
          "output_type": "execute_result",
          "data": {
            "text/plain": [
              "<matplotlib.axes._subplots.AxesSubplot at 0x7fd913d903d0>"
            ]
          },
          "metadata": {},
          "execution_count": 22
        },
        {
          "output_type": "display_data",
          "data": {
            "text/plain": [
              "<Figure size 576x576 with 1 Axes>"
            ],
            "image/png": "[encoded data removed]"
          },
          "metadata": {}
        }
      ],
      "source": [
        "train.diabetes.value_counts().plot.pie(explode=[0.1,0.1],autopct='%2.2f%%',shadow=True)"
      ]
    },
    {
      "cell_type": "code",
      "execution_count": null,
      "metadata": {
        "execution": {
          "iopub.execute_input": "2021-01-30T12:06:58.818708Z",
          "iopub.status.busy": "2021-01-30T12:06:58.818016Z",
          "iopub.status.idle": "2021-01-30T12:06:58.989101Z",
          "shell.execute_reply": "2021-01-30T12:06:58.989647Z"
        },
        "papermill": {
          "duration": 0.253631,
          "end_time": "2021-01-30T12:06:58.989787",
          "exception": false,
          "start_time": "2021-01-30T12:06:58.736156",
          "status": "completed"
        },
        "tags": [],
        "colab": {
          "base_uri": "https://localhost:8080/",
          "height": 502
        },
        "id": "JDeya4HjLu8d",
        "outputId": "0a438f77-af64-4529-d273-6d76e1f5eb84"
      },
      "outputs": [
        {
          "output_type": "display_data",
          "data": {
            "text/plain": [
              "<Figure size 576x576 with 1 Axes>"
            ],
            "image/png": "[encoded data removed]"
          },
          "metadata": {}
        }
      ],
      "source": [
        "sns.countplot(x='diabetes',hue='DEATH_EVENT',data=train)\n",
        "plt.legend(['yes','no']);"
      ]
    },
    {
      "cell_type": "markdown",
      "metadata": {
        "papermill": {
          "duration": 0.078833,
          "end_time": "2021-01-30T12:06:59.147380",
          "exception": false,
          "start_time": "2021-01-30T12:06:59.068547",
          "status": "completed"
        },
        "tags": [],
        "id": "66P4LYjULu8d"
      },
      "source": [
        "### ejection_fraction\n"
      ]
    },
    {
      "cell_type": "code",
      "execution_count": null,
      "metadata": {
        "execution": {
          "iopub.execute_input": "2021-01-30T12:06:59.309749Z",
          "iopub.status.busy": "2021-01-30T12:06:59.308722Z",
          "iopub.status.idle": "2021-01-30T12:06:59.556788Z",
          "shell.execute_reply": "2021-01-30T12:06:59.557356Z"
        },
        "papermill": {
          "duration": 0.330691,
          "end_time": "2021-01-30T12:06:59.557505",
          "exception": false,
          "start_time": "2021-01-30T12:06:59.226814",
          "status": "completed"
        },
        "tags": [],
        "colab": {
          "base_uri": "https://localhost:8080/",
          "height": 502
        },
        "id": "zGfFP4gvLu8d",
        "outputId": "939f948d-b39d-4515-8a76-790fa1eb5d0e"
      },
      "outputs": [
        {
          "output_type": "display_data",
          "data": {
            "text/plain": [
              "<Figure size 576x576 with 1 Axes>"
            ],
            "image/png": "[encoded data removed]"
          },
          "metadata": {}
        }
      ],
      "source": [
        "sns.boxplot(x = train.ejection_fraction, color = 'green')\n",
        "plt.show()"
      ]
    },
    {
      "cell_type": "markdown",
      "metadata": {
        "papermill": {
          "duration": 0.077474,
          "end_time": "2021-01-30T12:06:59.713081",
          "exception": false,
          "start_time": "2021-01-30T12:06:59.635607",
          "status": "completed"
        },
        "tags": [],
        "id": "_eXnOcrPLu8e"
      },
      "source": [
        "We can see there are two outliers. Lets remove them (70 and 80) "
      ]
    },
    {
      "cell_type": "code",
      "execution_count": null,
      "metadata": {
        "execution": {
          "iopub.execute_input": "2021-01-30T12:06:59.873795Z",
          "iopub.status.busy": "2021-01-30T12:06:59.872761Z",
          "iopub.status.idle": "2021-01-30T12:06:59.887664Z",
          "shell.execute_reply": "2021-01-30T12:06:59.888117Z"
        },
        "papermill": {
          "duration": 0.096545,
          "end_time": "2021-01-30T12:06:59.888265",
          "exception": false,
          "start_time": "2021-01-30T12:06:59.791720",
          "status": "completed"
        },
        "tags": [],
        "colab": {
          "base_uri": "https://localhost:8080/",
          "height": 176
        },
        "id": "4Njsm7pILu8e",
        "outputId": "bdc69d4d-7437-4f2f-8c70-8e4193e40b4e"
      },
      "outputs": [
        {
          "output_type": "execute_result",
          "data": {
            "text/plain": [
              "      age  anaemia  creatinine_phosphokinase  diabetes  ejection_fraction  \\\n",
              "64   45.0        0                       582         0                 80   \n",
              "217  54.0        1                       427         0                 70   \n",
              "\n",
              "     high_blood_pressure  platelets  serum_creatinine  serum_sodium  sex  \\\n",
              "64                     0  263358.03              1.18           137    0   \n",
              "217                    1  151000.00              9.00           137    0   \n",
              "\n",
              "     smoking  time  DEATH_EVENT  \n",
              "64         0    63            0  \n",
              "217        0   196            1  "
            ],
            "text/html": [
              "\n",
              "  <div id=\"df-9861696b-4977-436b-af73-6bd3deddaf25\">\n",
              "    <div class=\"colab-df-container\">\n",
              "      <div>\n",
              "<style scoped>\n",
              "    .dataframe tbody tr th:only-of-type {\n",
              "        vertical-align: middle;\n",
              "    }\n",
              "\n",
              "    .dataframe tbody tr th {\n",
              "        vertical-align: top;\n",
              "    }\n",
              "\n",
              "    .dataframe thead th {\n",
              "        text-align: right;\n",
              "    }\n",
              "</style>\n",
              "<table border=\"1\" class=\"dataframe\">\n",
              "  <thead>\n",
              "    <tr style=\"text-align: right;\">\n",
              "      <th></th>\n",
              "      <th>age</th>\n",
              "      <th>anaemia</th>\n",
              "      <th>creatinine_phosphokinase</th>\n",
              "      <th>diabetes</th>\n",
              "      <th>ejection_fraction</th>\n",
              "      <th>high_blood_pressure</th>\n",
              "      <th>platelets</th>\n",
              "      <th>serum_creatinine</th>\n",
              "      <th>serum_sodium</th>\n",
              "      <th>sex</th>\n",
              "      <th>smoking</th>\n",
              "      <th>time</th>\n",
              "      <th>DEATH_EVENT</th>\n",
              "    </tr>\n",
              "  </thead>\n",
              "  <tbody>\n",
              "    <tr>\n",
              "      <th>64</th>\n",
              "      <td>45.0</td>\n",
              "      <td>0</td>\n",
              "      <td>582</td>\n",
              "      <td>0</td>\n",
              "      <td>80</td>\n",
              "      <td>0</td>\n",
              "      <td>263358.03</td>\n",
              "      <td>1.18</td>\n",
              "      <td>137</td>\n",
              "      <td>0</td>\n",
              "      <td>0</td>\n",
              "      <td>63</td>\n",
              "      <td>0</td>\n",
              "    </tr>\n",
              "    <tr>\n",
              "      <th>217</th>\n",
              "      <td>54.0</td>\n",
              "      <td>1</td>\n",
              "      <td>427</td>\n",
              "      <td>0</td>\n",
              "      <td>70</td>\n",
              "      <td>1</td>\n",
              "      <td>151000.00</td>\n",
              "      <td>9.00</td>\n",
              "      <td>137</td>\n",
              "      <td>0</td>\n",
              "      <td>0</td>\n",
              "      <td>196</td>\n",
              "      <td>1</td>\n",
              "    </tr>\n",
              "  </tbody>\n",
              "</table>\n",
              "</div>\n",
              "      <button class=\"colab-df-convert\" onclick=\"convertToInteractive('df-9861696b-4977-436b-af73-6bd3deddaf25')\"\n",
              "              title=\"Convert this dataframe to an interactive table.\"\n",
              "              style=\"display:none;\">\n",
              "        \n",
              "  <svg xmlns=\"http://www.w3.org/2000/svg\" height=\"24px\"viewBox=\"0 0 24 24\"\n",
              "       width=\"24px\">\n",
              "    <path d=\"M0 0h24v24H0V0z\" fill=\"none\"/>\n",
              "    <path d=\"M18.56 5.44l.94 2.06.94-2.06 2.06-.94-2.06-.94-.94-2.06-.94 2.06-2.06.94zm-11 1L8.5 8.5l.94-2.06 2.06-.94-2.06-.94L8.5 2.5l-.94 2.06-2.06.94zm10 10l.94 2.06.94-2.06 2.06-.94-2.06-.94-.94-2.06-.94 2.06-2.06.94z\"/><path d=\"M17.41 7.96l-1.37-1.37c-.4-.4-.92-.59-1.43-.59-.52 0-1.04.2-1.43.59L10.3 9.45l-7.72 7.72c-.78.78-.78 2.05 0 2.83L4 21.41c.39.39.9.59 1.41.59.51 0 1.02-.2 1.41-.59l7.78-7.78 2.81-2.81c.8-.78.8-2.07 0-2.86zM5.41 20L4 18.59l7.72-7.72 1.47 1.35L5.41 20z\"/>\n",
              "  </svg>\n",
              "      </button>\n",
              "      \n",
              "  <style>\n",
              "    .colab-df-container {\n",
              "      display:flex;\n",
              "      flex-wrap:wrap;\n",
              "      gap: 12px;\n",
              "    }\n",
              "\n",
              "    .colab-df-convert {\n",
              "      background-color: #E8F0FE;\n",
              "      border: none;\n",
              "      border-radius: 50%;\n",
              "      cursor: pointer;\n",
              "      display: none;\n",
              "      fill: #1967D2;\n",
              "      height: 32px;\n",
              "      padding: 0 0 0 0;\n",
              "      width: 32px;\n",
              "    }\n",
              "\n",
              "    .colab-df-convert:hover {\n",
              "      background-color: #E2EBFA;\n",
              "      box-shadow: 0px 1px 2px rgba(60, 64, 67, 0.3), 0px 1px 3px 1px rgba(60, 64, 67, 0.15);\n",
              "      fill: #174EA6;\n",
              "    }\n",
              "\n",
              "    [theme=dark] .colab-df-convert {\n",
              "      background-color: #3B4455;\n",
              "      fill: #D2E3FC;\n",
              "    }\n",
              "\n",
              "    [theme=dark] .colab-df-convert:hover {\n",
              "      background-color: #434B5C;\n",
              "      box-shadow: 0px 1px 3px 1px rgba(0, 0, 0, 0.15);\n",
              "      filter: drop-shadow(0px 1px 2px rgba(0, 0, 0, 0.3));\n",
              "      fill: #FFFFFF;\n",
              "    }\n",
              "  </style>\n",
              "\n",
              "      <script>\n",
              "        const buttonEl =\n",
              "          document.querySelector('#df-9861696b-4977-436b-af73-6bd3deddaf25 button.colab-df-convert');\n",
              "        buttonEl.style.display =\n",
              "          google.colab.kernel.accessAllowed ? 'block' : 'none';\n",
              "\n",
              "        async function convertToInteractive(key) {\n",
              "          const element = document.querySelector('#df-9861696b-4977-436b-af73-6bd3deddaf25');\n",
              "          const dataTable =\n",
              "            await google.colab.kernel.invokeFunction('convertToInteractive',\n",
              "                                                     [key], {});\n",
              "          if (!dataTable) return;\n",
              "\n",
              "          const docLinkHtml = 'Like what you see? Visit the ' +\n",
              "            '<a target=\"_blank\" href=https://colab.research.google.com/notebooks/data_table.ipynb>data table notebook</a>'\n",
              "            + ' to learn more about interactive tables.';\n",
              "          element.innerHTML = '';\n",
              "          dataTable['output_type'] = 'display_data';\n",
              "          await google.colab.output.renderOutput(dataTable, element);\n",
              "          const docLink = document.createElement('div');\n",
              "          docLink.innerHTML = docLinkHtml;\n",
              "          element.appendChild(docLink);\n",
              "        }\n",
              "      </script>\n",
              "    </div>\n",
              "  </div>\n",
              "  "
            ]
          },
          "metadata": {},
          "execution_count": 25
        }
      ],
      "source": [
        "train[train['ejection_fraction']>=70]"
      ]
    },
    {
      "cell_type": "code",
      "execution_count": null,
      "metadata": {
        "execution": {
          "iopub.execute_input": "2021-01-30T12:07:00.066398Z",
          "iopub.status.busy": "2021-01-30T12:07:00.065277Z",
          "iopub.status.idle": "2021-01-30T12:07:00.072918Z",
          "shell.execute_reply": "2021-01-30T12:07:00.072205Z"
        },
        "papermill": {
          "duration": 0.104551,
          "end_time": "2021-01-30T12:07:00.073032",
          "exception": false,
          "start_time": "2021-01-30T12:06:59.968481",
          "status": "completed"
        },
        "tags": [],
        "id": "sCo2OJ8yLu8e"
      },
      "outputs": [],
      "source": [
        "train = train[train['ejection_fraction']<70]"
      ]
    },
    {
      "cell_type": "code",
      "execution_count": null,
      "metadata": {
        "execution": {
          "iopub.execute_input": "2021-01-30T12:07:00.248499Z",
          "iopub.status.busy": "2021-01-30T12:07:00.247788Z",
          "iopub.status.idle": "2021-01-30T12:07:00.319437Z",
          "shell.execute_reply": "2021-01-30T12:07:00.318727Z"
        },
        "papermill": {
          "duration": 0.154041,
          "end_time": "2021-01-30T12:07:00.319557",
          "exception": false,
          "start_time": "2021-01-30T12:07:00.165516",
          "status": "completed"
        },
        "tags": [],
        "colab": {
          "base_uri": "https://localhost:8080/",
          "height": 542
        },
        "id": "SjJdy-p3Lu8e",
        "outputId": "603164df-c5a5-4045-c3d2-dad96a4f2f3b"
      },
      "outputs": [
        {
          "output_type": "display_data",
          "data": {
            "text/html": [
              "<html>\n",
              "<head><meta charset=\"utf-8\" /></head>\n",
              "<body>\n",
              "    <div>            <script src=\"https://cdnjs.cloudflare.com/ajax/libs/mathjax/2.7.5/MathJax.js?config=TeX-AMS-MML_SVG\"></script><script type=\"text/javascript\">if (window.MathJax) {MathJax.Hub.Config({SVG: {font: \"STIX-Web\"}});}</script>                <script type=\"text/javascript\">window.PlotlyConfig = {MathJaxConfig: 'local'};</script>\n",
              "        <script src=\"https://cdn.plot.ly/plotly-2.8.3.min.js\"></script>                <div id=\"e9e33fe8-d330-466c-8cc6-e12e52710213\" class=\"plotly-graph-div\" style=\"height:525px; width:100%;\"></div>            <script type=\"text/javascript\">                                    window.PLOTLYENV=window.PLOTLYENV || {};                                    if (document.getElementById(\"e9e33fe8-d330-466c-8cc6-e12e52710213\")) {                    Plotly.newPlot(                        \"e9e33fe8-d330-466c-8cc6-e12e52710213\",                        [{\"marker\":{\"color\":\"#A7F432\"},\"opacity\":1,\"x\":[20,38,20,20,20,40,15,60,65,35,38,25,30,38,30,50,38,14,25,55,25,30,35,60,30,38,40,45,38,30,38,45,35,30,50,35,50,50,30,38,20,30,45,50,60,38,25,38,20,30,25,20,62,50,38,30,35,40,20,20,25,40,35,35,20,15,25,25,25,40,35,35,50,20,20,60,40,38,45,40,50,25,50,25,50,35,60,40,25,45,45,60,25,38,60,25,60,25,40,25,45,25,30,50,30,45,35,38,35,60,35,25,60,40,40,60,60,60,38,60,38,38,30,40,50,17,60,30,35,60,45,40,60,35,40,60,25,35,30,38,35,30,40,25,30,30,60,30,35,45,60,45,35,35,25,35,25,50,45,40,35,40,35,30,38,60,20,40,35,35,40,60,20,35,60,40,50,60,40,30,25,25,38,25,30,50,25,40,45,35,60,40,30,20,45,38,30,20,35,45,60,60,25,40,45,40,38,40,35,17,62,50,30,35,35,50,35,35,20,50,35,25,25,60,25,35,25,25,30,35,35,38,45,50,50,30,40,45,35,30,35,40,38,38,25,25,35,40,30,35,45,35,60,30,38,38,25,50,40,40,25,60,38,35,20,38,38,35,30,40,38,40,30,38,35,38,30,38,40,40,30,38,40,40,35,55,35,38,55,35,38,35,38,38,60,38,45],\"xbins\":{\"end\":80,\"size\":2,\"start\":14},\"type\":\"histogram\"}],                        {\"template\":{\"data\":{\"barpolar\":[{\"marker\":{\"line\":{\"color\":\"rgb(17,17,17)\",\"width\":0.5},\"pattern\":{\"fillmode\":\"overlay\",\"size\":10,\"solidity\":0.2}},\"type\":\"barpolar\"}],\"bar\":[{\"error_x\":{\"color\":\"#f2f5fa\"},\"error_y\":{\"color\":\"#f2f5fa\"},\"marker\":{\"line\":{\"color\":\"rgb(17,17,17)\",\"width\":0.5},\"pattern\":{\"fillmode\":\"overlay\",\"size\":10,\"solidity\":0.2}},\"type\":\"bar\"}],\"carpet\":[{\"aaxis\":{\"endlinecolor\":\"#A2B1C6\",\"gridcolor\":\"#506784\",\"linecolor\":\"#506784\",\"minorgridcolor\":\"#506784\",\"startlinecolor\":\"#A2B1C6\"},\"baxis\":{\"endlinecolor\":\"#A2B1C6\",\"gridcolor\":\"#506784\",\"linecolor\":\"#506784\",\"minorgridcolor\":\"#506784\",\"startlinecolor\":\"#A2B1C6\"},\"type\":\"carpet\"}],\"choropleth\":[{\"colorbar\":{\"outlinewidth\":0,\"ticks\":\"\"},\"type\":\"choropleth\"}],\"contourcarpet\":[{\"colorbar\":{\"outlinewidth\":0,\"ticks\":\"\"},\"type\":\"contourcarpet\"}],\"contour\":[{\"colorbar\":{\"outlinewidth\":0,\"ticks\":\"\"},\"colorscale\":[[0.0,\"#0d0887\"],[0.1111111111111111,\"#46039f\"],[0.2222222222222222,\"#7201a8\"],[0.3333333333333333,\"#9c179e\"],[0.4444444444444444,\"#bd3786\"],[0.5555555555555556,\"#d8576b\"],[0.6666666666666666,\"#ed7953\"],[0.7777777777777778,\"#fb9f3a\"],[0.8888888888888888,\"#fdca26\"],[1.0,\"#f0f921\"]],\"type\":\"contour\"}],\"heatmapgl\":[{\"colorbar\":{\"outlinewidth\":0,\"ticks\":\"\"},\"colorscale\":[[0.0,\"#0d0887\"],[0.1111111111111111,\"#46039f\"],[0.2222222222222222,\"#7201a8\"],[0.3333333333333333,\"#9c179e\"],[0.4444444444444444,\"#bd3786\"],[0.5555555555555556,\"#d8576b\"],[0.6666666666666666,\"#ed7953\"],[0.7777777777777778,\"#fb9f3a\"],[0.8888888888888888,\"#fdca26\"],[1.0,\"#f0f921\"]],\"type\":\"heatmapgl\"}],\"heatmap\":[{\"colorbar\":{\"outlinewidth\":0,\"ticks\":\"\"},\"colorscale\":[[0.0,\"#0d0887\"],[0.1111111111111111,\"#46039f\"],[0.2222222222222222,\"#7201a8\"],[0.3333333333333333,\"#9c179e\"],[0.4444444444444444,\"#bd3786\"],[0.5555555555555556,\"#d8576b\"],[0.6666666666666666,\"#ed7953\"],[0.7777777777777778,\"#fb9f3a\"],[0.8888888888888888,\"#fdca26\"],[1.0,\"#f0f921\"]],\"type\":\"heatmap\"}],\"histogram2dcontour\":[{\"colorbar\":{\"outlinewidth\":0,\"ticks\":\"\"},\"colorscale\":[[0.0,\"#0d0887\"],[0.1111111111111111,\"#46039f\"],[0.2222222222222222,\"#7201a8\"],[0.3333333333333333,\"#9c179e\"],[0.4444444444444444,\"#bd3786\"],[0.5555555555555556,\"#d8576b\"],[0.6666666666666666,\"#ed7953\"],[0.7777777777777778,\"#fb9f3a\"],[0.8888888888888888,\"#fdca26\"],[1.0,\"#f0f921\"]],\"type\":\"histogram2dcontour\"}],\"histogram2d\":[{\"colorbar\":{\"outlinewidth\":0,\"ticks\":\"\"},\"colorscale\":[[0.0,\"#0d0887\"],[0.1111111111111111,\"#46039f\"],[0.2222222222222222,\"#7201a8\"],[0.3333333333333333,\"#9c179e\"],[0.4444444444444444,\"#bd3786\"],[0.5555555555555556,\"#d8576b\"],[0.6666666666666666,\"#ed7953\"],[0.7777777777777778,\"#fb9f3a\"],[0.8888888888888888,\"#fdca26\"],[1.0,\"#f0f921\"]],\"type\":\"histogram2d\"}],\"histogram\":[{\"marker\":{\"pattern\":{\"fillmode\":\"overlay\",\"size\":10,\"solidity\":0.2}},\"type\":\"histogram\"}],\"mesh3d\":[{\"colorbar\":{\"outlinewidth\":0,\"ticks\":\"\"},\"type\":\"mesh3d\"}],\"parcoords\":[{\"line\":{\"colorbar\":{\"outlinewidth\":0,\"ticks\":\"\"}},\"type\":\"parcoords\"}],\"pie\":[{\"automargin\":true,\"type\":\"pie\"}],\"scatter3d\":[{\"line\":{\"colorbar\":{\"outlinewidth\":0,\"ticks\":\"\"}},\"marker\":{\"colorbar\":{\"outlinewidth\":0,\"ticks\":\"\"}},\"type\":\"scatter3d\"}],\"scattercarpet\":[{\"marker\":{\"colorbar\":{\"outlinewidth\":0,\"ticks\":\"\"}},\"type\":\"scattercarpet\"}],\"scattergeo\":[{\"marker\":{\"colorbar\":{\"outlinewidth\":0,\"ticks\":\"\"}},\"type\":\"scattergeo\"}],\"scattergl\":[{\"marker\":{\"line\":{\"color\":\"#283442\"}},\"type\":\"scattergl\"}],\"scattermapbox\":[{\"marker\":{\"colorbar\":{\"outlinewidth\":0,\"ticks\":\"\"}},\"type\":\"scattermapbox\"}],\"scatterpolargl\":[{\"marker\":{\"colorbar\":{\"outlinewidth\":0,\"ticks\":\"\"}},\"type\":\"scatterpolargl\"}],\"scatterpolar\":[{\"marker\":{\"colorbar\":{\"outlinewidth\":0,\"ticks\":\"\"}},\"type\":\"scatterpolar\"}],\"scatter\":[{\"marker\":{\"line\":{\"color\":\"#283442\"}},\"type\":\"scatter\"}],\"scatterternary\":[{\"marker\":{\"colorbar\":{\"outlinewidth\":0,\"ticks\":\"\"}},\"type\":\"scatterternary\"}],\"surface\":[{\"colorbar\":{\"outlinewidth\":0,\"ticks\":\"\"},\"colorscale\":[[0.0,\"#0d0887\"],[0.1111111111111111,\"#46039f\"],[0.2222222222222222,\"#7201a8\"],[0.3333333333333333,\"#9c179e\"],[0.4444444444444444,\"#bd3786\"],[0.5555555555555556,\"#d8576b\"],[0.6666666666666666,\"#ed7953\"],[0.7777777777777778,\"#fb9f3a\"],[0.8888888888888888,\"#fdca26\"],[1.0,\"#f0f921\"]],\"type\":\"surface\"}],\"table\":[{\"cells\":{\"fill\":{\"color\":\"#506784\"},\"line\":{\"color\":\"rgb(17,17,17)\"}},\"header\":{\"fill\":{\"color\":\"#2a3f5f\"},\"line\":{\"color\":\"rgb(17,17,17)\"}},\"type\":\"table\"}]},\"layout\":{\"annotationdefaults\":{\"arrowcolor\":\"#f2f5fa\",\"arrowhead\":0,\"arrowwidth\":1},\"autotypenumbers\":\"strict\",\"coloraxis\":{\"colorbar\":{\"outlinewidth\":0,\"ticks\":\"\"}},\"colorscale\":{\"diverging\":[[0,\"#8e0152\"],[0.1,\"#c51b7d\"],[0.2,\"#de77ae\"],[0.3,\"#f1b6da\"],[0.4,\"#fde0ef\"],[0.5,\"#f7f7f7\"],[0.6,\"#e6f5d0\"],[0.7,\"#b8e186\"],[0.8,\"#7fbc41\"],[0.9,\"#4d9221\"],[1,\"#276419\"]],\"sequential\":[[0.0,\"#0d0887\"],[0.1111111111111111,\"#46039f\"],[0.2222222222222222,\"#7201a8\"],[0.3333333333333333,\"#9c179e\"],[0.4444444444444444,\"#bd3786\"],[0.5555555555555556,\"#d8576b\"],[0.6666666666666666,\"#ed7953\"],[0.7777777777777778,\"#fb9f3a\"],[0.8888888888888888,\"#fdca26\"],[1.0,\"#f0f921\"]],\"sequentialminus\":[[0.0,\"#0d0887\"],[0.1111111111111111,\"#46039f\"],[0.2222222222222222,\"#7201a8\"],[0.3333333333333333,\"#9c179e\"],[0.4444444444444444,\"#bd3786\"],[0.5555555555555556,\"#d8576b\"],[0.6666666666666666,\"#ed7953\"],[0.7777777777777778,\"#fb9f3a\"],[0.8888888888888888,\"#fdca26\"],[1.0,\"#f0f921\"]]},\"colorway\":[\"#636efa\",\"#EF553B\",\"#00cc96\",\"#ab63fa\",\"#FFA15A\",\"#19d3f3\",\"#FF6692\",\"#B6E880\",\"#FF97FF\",\"#FECB52\"],\"font\":{\"color\":\"#f2f5fa\"},\"geo\":{\"bgcolor\":\"rgb(17,17,17)\",\"lakecolor\":\"rgb(17,17,17)\",\"landcolor\":\"rgb(17,17,17)\",\"showlakes\":true,\"showland\":true,\"subunitcolor\":\"#506784\"},\"hoverlabel\":{\"align\":\"left\"},\"hovermode\":\"closest\",\"mapbox\":{\"style\":\"dark\"},\"paper_bgcolor\":\"rgb(17,17,17)\",\"plot_bgcolor\":\"rgb(17,17,17)\",\"polar\":{\"angularaxis\":{\"gridcolor\":\"#506784\",\"linecolor\":\"#506784\",\"ticks\":\"\"},\"bgcolor\":\"rgb(17,17,17)\",\"radialaxis\":{\"gridcolor\":\"#506784\",\"linecolor\":\"#506784\",\"ticks\":\"\"}},\"scene\":{\"xaxis\":{\"backgroundcolor\":\"rgb(17,17,17)\",\"gridcolor\":\"#506784\",\"gridwidth\":2,\"linecolor\":\"#506784\",\"showbackground\":true,\"ticks\":\"\",\"zerolinecolor\":\"#C8D4E3\"},\"yaxis\":{\"backgroundcolor\":\"rgb(17,17,17)\",\"gridcolor\":\"#506784\",\"gridwidth\":2,\"linecolor\":\"#506784\",\"showbackground\":true,\"ticks\":\"\",\"zerolinecolor\":\"#C8D4E3\"},\"zaxis\":{\"backgroundcolor\":\"rgb(17,17,17)\",\"gridcolor\":\"#506784\",\"gridwidth\":2,\"linecolor\":\"#506784\",\"showbackground\":true,\"ticks\":\"\",\"zerolinecolor\":\"#C8D4E3\"}},\"shapedefaults\":{\"line\":{\"color\":\"#f2f5fa\"}},\"sliderdefaults\":{\"bgcolor\":\"#C8D4E3\",\"bordercolor\":\"rgb(17,17,17)\",\"borderwidth\":1,\"tickwidth\":0},\"ternary\":{\"aaxis\":{\"gridcolor\":\"#506784\",\"linecolor\":\"#506784\",\"ticks\":\"\"},\"baxis\":{\"gridcolor\":\"#506784\",\"linecolor\":\"#506784\",\"ticks\":\"\"},\"bgcolor\":\"rgb(17,17,17)\",\"caxis\":{\"gridcolor\":\"#506784\",\"linecolor\":\"#506784\",\"ticks\":\"\"}},\"title\":{\"x\":0.05},\"updatemenudefaults\":{\"bgcolor\":\"#506784\",\"borderwidth\":0},\"xaxis\":{\"automargin\":true,\"gridcolor\":\"#283442\",\"linecolor\":\"#506784\",\"ticks\":\"\",\"title\":{\"standoff\":15},\"zerolinecolor\":\"#283442\",\"zerolinewidth\":2},\"yaxis\":{\"automargin\":true,\"gridcolor\":\"#283442\",\"linecolor\":\"#506784\",\"ticks\":\"\",\"title\":{\"standoff\":15},\"zerolinecolor\":\"#283442\",\"zerolinewidth\":2}}},\"title\":{\"text\":\"EJECTION FRACTION DISTRIBUTION\"},\"xaxis\":{\"title\":{\"text\":\"EJECTION FRACTION\"}},\"yaxis\":{\"title\":{\"text\":\"COUNT\"}},\"bargap\":0.05},                        {\"responsive\": true}                    ).then(function(){\n",
              "                            \n",
              "var gd = document.getElementById('e9e33fe8-d330-466c-8cc6-e12e52710213');\n",
              "var x = new MutationObserver(function (mutations, observer) {{\n",
              "        var display = window.getComputedStyle(gd).display;\n",
              "        if (!display || display === 'none') {{\n",
              "            console.log([gd, 'removed!']);\n",
              "            Plotly.purge(gd);\n",
              "            observer.disconnect();\n",
              "        }}\n",
              "}});\n",
              "\n",
              "// Listen for the removal of the full notebook cells\n",
              "var notebookContainer = gd.closest('#notebook-container');\n",
              "if (notebookContainer) {{\n",
              "    x.observe(notebookContainer, {childList: true});\n",
              "}}\n",
              "\n",
              "// Listen for the clearing of the current output cell\n",
              "var outputEl = gd.closest('.output');\n",
              "if (outputEl) {{\n",
              "    x.observe(outputEl, {childList: true});\n",
              "}}\n",
              "\n",
              "                        })                };                            </script>        </div>\n",
              "</body>\n",
              "</html>"
            ]
          },
          "metadata": {}
        }
      ],
      "source": [
        "import plotly.graph_objects as go\n",
        "\n",
        "fig = go.Figure()\n",
        "fig.add_trace(go.Histogram(\n",
        "    x = train['ejection_fraction'],\n",
        "    xbins=dict( # bins used for histogram\n",
        "        start=14,\n",
        "        end=80,\n",
        "        size=2\n",
        "    ),\n",
        "    marker_color='#A7F432',\n",
        "    opacity=1\n",
        "))\n",
        "\n",
        "fig.update_layout(\n",
        "    title_text='EJECTION FRACTION DISTRIBUTION',\n",
        "    xaxis_title_text='EJECTION FRACTION',\n",
        "    yaxis_title_text='COUNT', \n",
        "    bargap=0.05, # gap between bars of adjacent location coordinates\n",
        "\n",
        "    template = 'plotly_dark'\n",
        ")\n",
        "\n",
        "fig.show()"
      ]
    },
    {
      "cell_type": "markdown",
      "metadata": {
        "papermill": {
          "duration": 0.079695,
          "end_time": "2021-01-30T12:07:00.479293",
          "exception": false,
          "start_time": "2021-01-30T12:07:00.399598",
          "status": "completed"
        },
        "tags": [],
        "id": "WtLg0uUJLu8e"
      },
      "source": [
        "### Time"
      ]
    },
    {
      "cell_type": "markdown",
      "metadata": {
        "papermill": {
          "duration": 0.07979,
          "end_time": "2021-01-30T12:07:00.639628",
          "exception": false,
          "start_time": "2021-01-30T12:07:00.559838",
          "status": "completed"
        },
        "tags": [],
        "id": "gg7ljhNuLu8g"
      },
      "source": [
        "## features selection "
      ]
    },
    {
      "cell_type": "code",
      "execution_count": null,
      "metadata": {
        "execution": {
          "iopub.execute_input": "2021-01-30T12:07:00.806483Z",
          "iopub.status.busy": "2021-01-30T12:07:00.805778Z",
          "iopub.status.idle": "2021-01-30T12:07:01.041146Z",
          "shell.execute_reply": "2021-01-30T12:07:01.041691Z"
        },
        "papermill": {
          "duration": 0.322622,
          "end_time": "2021-01-30T12:07:01.041834",
          "exception": false,
          "start_time": "2021-01-30T12:07:00.719212",
          "status": "completed"
        },
        "tags": [],
        "colab": {
          "base_uri": "https://localhost:8080/",
          "height": 502
        },
        "id": "IqM0YyW1Lu8g",
        "outputId": "014233f3-c383-4afe-da9c-f186496bd690"
      },
      "outputs": [
        {
          "output_type": "display_data",
          "data": {
            "text/plain": [
              "<Figure size 576x576 with 1 Axes>"
            ],
            "image/png": "[encoded data removed]"
          },
          "metadata": {}
        }
      ],
      "source": [
        "sns.boxplot(x=train.time, color = 'yellow')\n",
        "plt.show()"
      ]
    },
    {
      "cell_type": "markdown",
      "metadata": {
        "papermill": {
          "duration": 0.081008,
          "end_time": "2021-01-30T12:07:01.204722",
          "exception": false,
          "start_time": "2021-01-30T12:07:01.123714",
          "status": "completed"
        },
        "tags": [],
        "id": "FLVI2KbnLu8g"
      },
      "source": [
        "No outliers in time "
      ]
    },
    {
      "cell_type": "markdown",
      "metadata": {
        "papermill": {
          "duration": 0.081077,
          "end_time": "2021-01-30T12:07:01.367632",
          "exception": false,
          "start_time": "2021-01-30T12:07:01.286555",
          "status": "completed"
        },
        "tags": [],
        "id": "PGh-At1bLu8g"
      },
      "source": [
        "### ejection_fraction"
      ]
    },
    {
      "cell_type": "code",
      "execution_count": null,
      "metadata": {
        "execution": {
          "iopub.execute_input": "2021-01-30T12:07:01.534340Z",
          "iopub.status.busy": "2021-01-30T12:07:01.533650Z",
          "iopub.status.idle": "2021-01-30T12:07:01.755043Z",
          "shell.execute_reply": "2021-01-30T12:07:01.755586Z"
        },
        "papermill": {
          "duration": 0.306998,
          "end_time": "2021-01-30T12:07:01.755732",
          "exception": false,
          "start_time": "2021-01-30T12:07:01.448734",
          "status": "completed"
        },
        "tags": [],
        "colab": {
          "base_uri": "https://localhost:8080/",
          "height": 502
        },
        "id": "beAohUK6Lu8h",
        "outputId": "b1894193-fd7c-4b8d-b36b-0620db0bd204"
      },
      "outputs": [
        {
          "output_type": "display_data",
          "data": {
            "text/plain": [
              "<Figure size 576x576 with 1 Axes>"
            ],
            "image/png": "[encoded data removed]"
          },
          "metadata": {}
        }
      ],
      "source": [
        "sns.boxplot(x=train.serum_creatinine, color = 'red')\n",
        "plt.show()"
      ]
    },
    {
      "cell_type": "code",
      "execution_count": null,
      "metadata": {
        "execution": {
          "iopub.execute_input": "2021-01-30T12:07:01.925758Z",
          "iopub.status.busy": "2021-01-30T12:07:01.925018Z",
          "iopub.status.idle": "2021-01-30T12:07:01.929579Z",
          "shell.execute_reply": "2021-01-30T12:07:01.929040Z"
        },
        "papermill": {
          "duration": 0.090505,
          "end_time": "2021-01-30T12:07:01.929704",
          "exception": false,
          "start_time": "2021-01-30T12:07:01.839199",
          "status": "completed"
        },
        "tags": [],
        "id": "b1wb3vEmLu8h"
      },
      "outputs": [],
      "source": [
        "# Before dealing with outliers we require knowledge about the outlier, the dataset and possibly some domain knowledge.\n",
        "\n",
        "# Removing outliers without a good reason will not always increase accuracy. Without a deep understanding of what are the possible ranges that\n",
        "# exist within each feature, removing outliers becomes tricky.\n",
        "\n",
        "# When I researched a bit I found that all the values in serum_creatinine falls in possible range of values. So they are not outliers. \n",
        "# They are actual data points that helps in predicting DEATH_EVENT."
      ]
    },
    {
      "cell_type": "markdown",
      "metadata": {
        "papermill": {
          "duration": 0.081665,
          "end_time": "2021-01-30T12:07:02.093888",
          "exception": false,
          "start_time": "2021-01-30T12:07:02.012223",
          "status": "completed"
        },
        "tags": [],
        "id": "52s5mXJ9Lu8h"
      },
      "source": [
        "## feature selection"
      ]
    },
    {
      "cell_type": "code",
      "execution_count": null,
      "metadata": {
        "execution": {
          "iopub.execute_input": "2021-01-30T12:07:02.267858Z",
          "iopub.status.busy": "2021-01-30T12:07:02.267089Z",
          "iopub.status.idle": "2021-01-30T12:07:02.475356Z",
          "shell.execute_reply": "2021-01-30T12:07:02.475979Z"
        },
        "papermill": {
          "duration": 0.299428,
          "end_time": "2021-01-30T12:07:02.476124",
          "exception": false,
          "start_time": "2021-01-30T12:07:02.176696",
          "status": "completed"
        },
        "tags": [],
        "colab": {
          "base_uri": "https://localhost:8080/",
          "height": 546
        },
        "id": "PZTQ2tSoLu8h",
        "outputId": "6ed7162b-42de-46f4-b3e7-8145072eed10"
      },
      "outputs": [
        {
          "output_type": "stream",
          "name": "stderr",
          "text": [
            "/usr/local/lib/python3.7/dist-packages/ipykernel_launcher.py:1: FutureWarning:\n",
            "\n",
            "this method is deprecated in favour of `Styler.format(precision=..)`\n",
            "\n"
          ]
        },
        {
          "output_type": "execute_result",
          "data": {
            "text/plain": [
              "<pandas.io.formats.style.Styler at 0x7fd913aa4d90>"
            ],
            "text/html": [
              "<style type=\"text/css\">\n",
              "#T_6724a_row0_col0, #T_6724a_row1_col1, #T_6724a_row2_col2, #T_6724a_row3_col3, #T_6724a_row4_col4, #T_6724a_row5_col5, #T_6724a_row6_col6, #T_6724a_row7_col7, #T_6724a_row8_col8, #T_6724a_row9_col9, #T_6724a_row10_col10, #T_6724a_row11_col11, #T_6724a_row12_col12 {\n",
              "  background-color: #b40426;\n",
              "  color: #f1f1f1;\n",
              "}\n",
              "#T_6724a_row0_col1, #T_6724a_row3_col4, #T_6724a_row9_col0 {\n",
              "  background-color: #86a9fc;\n",
              "  color: #f1f1f1;\n",
              "}\n",
              "#T_6724a_row0_col2 {\n",
              "  background-color: #5673e0;\n",
              "  color: #f1f1f1;\n",
              "}\n",
              "#T_6724a_row0_col3 {\n",
              "  background-color: #4a63d3;\n",
              "  color: #f1f1f1;\n",
              "}\n",
              "#T_6724a_row0_col4, #T_6724a_row6_col4 {\n",
              "  background-color: #9abbff;\n",
              "  color: #000000;\n",
              "}\n",
              "#T_6724a_row0_col5, #T_6724a_row1_col4, #T_6724a_row11_col8 {\n",
              "  background-color: #8caffe;\n",
              "  color: #000000;\n",
              "}\n",
              "#T_6724a_row0_col6, #T_6724a_row8_col3, #T_6724a_row10_col1 {\n",
              "  background-color: #4f69d9;\n",
              "  color: #f1f1f1;\n",
              "}\n",
              "#T_6724a_row0_col7, #T_6724a_row10_col11 {\n",
              "  background-color: #aac7fd;\n",
              "  color: #000000;\n",
              "}\n",
              "#T_6724a_row0_col8, #T_6724a_row2_col6, #T_6724a_row5_col7, #T_6724a_row10_col6 {\n",
              "  background-color: #6687ed;\n",
              "  color: #f1f1f1;\n",
              "}\n",
              "#T_6724a_row0_col9, #T_6724a_row1_col5, #T_6724a_row3_col6, #T_6724a_row4_col6 {\n",
              "  background-color: #799cf8;\n",
              "  color: #f1f1f1;\n",
              "}\n",
              "#T_6724a_row0_col10, #T_6724a_row6_col0, #T_6724a_row12_col3, #T_6724a_row12_col9 {\n",
              "  background-color: #6788ee;\n",
              "  color: #f1f1f1;\n",
              "}\n",
              "#T_6724a_row0_col11, #T_6724a_row8_col5 {\n",
              "  background-color: #7b9ff9;\n",
              "  color: #f1f1f1;\n",
              "}\n",
              "#T_6724a_row0_col12 {\n",
              "  background-color: #e0dbd8;\n",
              "  color: #000000;\n",
              "}\n",
              "#T_6724a_row1_col0, #T_6724a_row4_col0, #T_6724a_row11_col4 {\n",
              "  background-color: #8fb1fe;\n",
              "  color: #000000;\n",
              "}\n",
              "#T_6724a_row1_col2, #T_6724a_row2_col1, #T_6724a_row3_col9, #T_6724a_row3_col10, #T_6724a_row7_col8, #T_6724a_row8_col7, #T_6724a_row9_col3, #T_6724a_row9_col6, #T_6724a_row11_col0, #T_6724a_row11_col5, #T_6724a_row11_col12, #T_6724a_row12_col4, #T_6724a_row12_col11 {\n",
              "  background-color: #3b4cc0;\n",
              "  color: #f1f1f1;\n",
              "}\n",
              "#T_6724a_row1_col3, #T_6724a_row11_col9 {\n",
              "  background-color: #6384eb;\n",
              "  color: #f1f1f1;\n",
              "}\n",
              "#T_6724a_row1_col6, #T_6724a_row9_col1 {\n",
              "  background-color: #536edd;\n",
              "  color: #f1f1f1;\n",
              "}\n",
              "#T_6724a_row1_col7, #T_6724a_row8_col1, #T_6724a_row10_col0 {\n",
              "  background-color: #7a9df8;\n",
              "  color: #f1f1f1;\n",
              "}\n",
              "#T_6724a_row1_col8, #T_6724a_row8_col2, #T_6724a_row12_col1 {\n",
              "  background-color: #7ea1fa;\n",
              "  color: #f1f1f1;\n",
              "}\n",
              "#T_6724a_row1_col9 {\n",
              "  background-color: #4c66d6;\n",
              "  color: #f1f1f1;\n",
              "}\n",
              "#T_6724a_row1_col10, #T_6724a_row4_col9, #T_6724a_row11_col1 {\n",
              "  background-color: #455cce;\n",
              "  color: #f1f1f1;\n",
              "}\n",
              "#T_6724a_row1_col11 {\n",
              "  background-color: #8db0fe;\n",
              "  color: #000000;\n",
              "}\n",
              "#T_6724a_row1_col12 {\n",
              "  background-color: #bcd2f7;\n",
              "  color: #000000;\n",
              "}\n",
              "#T_6724a_row2_col0, #T_6724a_row7_col3, #T_6724a_row8_col9 {\n",
              "  background-color: #5f7fe8;\n",
              "  color: #f1f1f1;\n",
              "}\n",
              "#T_6724a_row2_col3, #T_6724a_row2_col10, #T_6724a_row5_col3, #T_6724a_row7_col5, #T_6724a_row8_col10 {\n",
              "  background-color: #6485ec;\n",
              "  color: #f1f1f1;\n",
              "}\n",
              "#T_6724a_row2_col4, #T_6724a_row4_col5, #T_6724a_row5_col1 {\n",
              "  background-color: #7699f6;\n",
              "  color: #f1f1f1;\n",
              "}\n",
              "#T_6724a_row2_col5, #T_6724a_row11_col10 {\n",
              "  background-color: #5d7ce6;\n",
              "  color: #f1f1f1;\n",
              "}\n",
              "#T_6724a_row2_col7, #T_6724a_row6_col7, #T_6724a_row10_col2 {\n",
              "  background-color: #6e90f2;\n",
              "  color: #f1f1f1;\n",
              "}\n",
              "#T_6724a_row2_col8, #T_6724a_row6_col8, #T_6724a_row7_col11 {\n",
              "  background-color: #84a7fc;\n",
              "  color: #f1f1f1;\n",
              "}\n",
              "#T_6724a_row2_col9, #T_6724a_row9_col7, #T_6724a_row12_col2 {\n",
              "  background-color: #80a3fa;\n",
              "  color: #f1f1f1;\n",
              "}\n",
              "#T_6724a_row2_col11, #T_6724a_row7_col0, #T_6724a_row10_col12 {\n",
              "  background-color: #adc9fd;\n",
              "  color: #000000;\n",
              "}\n",
              "#T_6724a_row2_col12, #T_6724a_row12_col0 {\n",
              "  background-color: #bed2f6;\n",
              "  color: #000000;\n",
              "}\n",
              "#T_6724a_row3_col0, #T_6724a_row3_col8, #T_6724a_row5_col2 {\n",
              "  background-color: #5977e3;\n",
              "  color: #f1f1f1;\n",
              "}\n",
              "#T_6724a_row3_col1, #T_6724a_row3_col2, #T_6724a_row3_col7, #T_6724a_row7_col2, #T_6724a_row9_col8 {\n",
              "  background-color: #6a8bef;\n",
              "  color: #f1f1f1;\n",
              "}\n",
              "#T_6724a_row3_col5 {\n",
              "  background-color: #6c8ff1;\n",
              "  color: #f1f1f1;\n",
              "}\n",
              "#T_6724a_row3_col11 {\n",
              "  background-color: #b7cff9;\n",
              "  color: #000000;\n",
              "}\n",
              "#T_6724a_row3_col12, #T_6724a_row9_col12 {\n",
              "  background-color: #afcafc;\n",
              "  color: #000000;\n",
              "}\n",
              "#T_6724a_row4_col1 {\n",
              "  background-color: #779af7;\n",
              "  color: #f1f1f1;\n",
              "}\n",
              "#T_6724a_row4_col2, #T_6724a_row7_col10, #T_6724a_row9_col4, #T_6724a_row10_col5, #T_6724a_row12_col10 {\n",
              "  background-color: #6180e9;\n",
              "  color: #f1f1f1;\n",
              "}\n",
              "#T_6724a_row4_col3, #T_6724a_row6_col10, #T_6724a_row7_col4, #T_6724a_row11_col2 {\n",
              "  background-color: #6b8df0;\n",
              "  color: #f1f1f1;\n",
              "}\n",
              "#T_6724a_row4_col7, #T_6724a_row7_col6 {\n",
              "  background-color: #5a78e4;\n",
              "  color: #f1f1f1;\n",
              "}\n",
              "#T_6724a_row4_col8, #T_6724a_row6_col12 {\n",
              "  background-color: #a6c4fe;\n",
              "  color: #000000;\n",
              "}\n",
              "#T_6724a_row4_col10, #T_6724a_row5_col10, #T_6724a_row9_col5 {\n",
              "  background-color: #5470de;\n",
              "  color: #f1f1f1;\n",
              "}\n",
              "#T_6724a_row4_col11 {\n",
              "  background-color: #bad0f8;\n",
              "  color: #000000;\n",
              "}\n",
              "#T_6724a_row4_col12, #T_6724a_row5_col6, #T_6724a_row10_col7 {\n",
              "  background-color: #6f92f3;\n",
              "  color: #f1f1f1;\n",
              "}\n",
              "#T_6724a_row5_col0 {\n",
              "  background-color: #90b2fe;\n",
              "  color: #000000;\n",
              "}\n",
              "#T_6724a_row5_col4 {\n",
              "  background-color: #89acfd;\n",
              "  color: #000000;\n",
              "}\n",
              "#T_6724a_row5_col8 {\n",
              "  background-color: #7da0f9;\n",
              "  color: #f1f1f1;\n",
              "}\n",
              "#T_6724a_row5_col9 {\n",
              "  background-color: #4b64d5;\n",
              "  color: #f1f1f1;\n",
              "}\n",
              "#T_6724a_row5_col11, #T_6724a_row6_col5 {\n",
              "  background-color: #81a4fb;\n",
              "  color: #f1f1f1;\n",
              "}\n",
              "#T_6724a_row5_col12 {\n",
              "  background-color: #bfd3f6;\n",
              "  color: #000000;\n",
              "}\n",
              "#T_6724a_row6_col1, #T_6724a_row11_col6 {\n",
              "  background-color: #6282ea;\n",
              "  color: #f1f1f1;\n",
              "}\n",
              "#T_6724a_row6_col2, #T_6724a_row7_col1, #T_6724a_row7_col9 {\n",
              "  background-color: #7597f6;\n",
              "  color: #f1f1f1;\n",
              "}\n",
              "#T_6724a_row6_col3, #T_6724a_row8_col12 {\n",
              "  background-color: #82a6fb;\n",
              "  color: #f1f1f1;\n",
              "}\n",
              "#T_6724a_row6_col9 {\n",
              "  background-color: #4358cb;\n",
              "  color: #f1f1f1;\n",
              "}\n",
              "#T_6724a_row6_col11 {\n",
              "  background-color: #b2ccfb;\n",
              "  color: #000000;\n",
              "}\n",
              "#T_6724a_row7_col12 {\n",
              "  background-color: #e6d7cf;\n",
              "  color: #000000;\n",
              "}\n",
              "#T_6724a_row8_col0 {\n",
              "  background-color: #688aef;\n",
              "  color: #f1f1f1;\n",
              "}\n",
              "#T_6724a_row8_col4 {\n",
              "  background-color: #b3cdfb;\n",
              "  color: #000000;\n",
              "}\n",
              "#T_6724a_row8_col6 {\n",
              "  background-color: #7093f3;\n",
              "  color: #f1f1f1;\n",
              "}\n",
              "#T_6724a_row8_col11 {\n",
              "  background-color: #c3d5f4;\n",
              "  color: #000000;\n",
              "}\n",
              "#T_6724a_row9_col2, #T_6724a_row12_col5 {\n",
              "  background-color: #85a8fc;\n",
              "  color: #f1f1f1;\n",
              "}\n",
              "#T_6724a_row9_col10 {\n",
              "  background-color: #e1dad6;\n",
              "  color: #000000;\n",
              "}\n",
              "#T_6724a_row9_col11 {\n",
              "  background-color: #abc8fd;\n",
              "  color: #000000;\n",
              "}\n",
              "#T_6724a_row10_col3, #T_6724a_row12_col8 {\n",
              "  background-color: #3e51c5;\n",
              "  color: #f1f1f1;\n",
              "}\n",
              "#T_6724a_row10_col4, #T_6724a_row10_col8 {\n",
              "  background-color: #7396f5;\n",
              "  color: #f1f1f1;\n",
              "}\n",
              "#T_6724a_row10_col9 {\n",
              "  background-color: #e2dad5;\n",
              "  color: #000000;\n",
              "}\n",
              "#T_6724a_row11_col3 {\n",
              "  background-color: #7295f4;\n",
              "  color: #f1f1f1;\n",
              "}\n",
              "#T_6724a_row11_col7 {\n",
              "  background-color: #3f53c6;\n",
              "  color: #f1f1f1;\n",
              "}\n",
              "#T_6724a_row12_col6 {\n",
              "  background-color: #516ddb;\n",
              "  color: #f1f1f1;\n",
              "}\n",
              "#T_6724a_row12_col7 {\n",
              "  background-color: #c4d5f3;\n",
              "  color: #000000;\n",
              "}\n",
              "</style>\n",
              "<table id=\"T_6724a_\" class=\"dataframe\">\n",
              "  <thead>\n",
              "    <tr>\n",
              "      <th class=\"blank level0\" >&nbsp;</th>\n",
              "      <th class=\"col_heading level0 col0\" >age</th>\n",
              "      <th class=\"col_heading level0 col1\" >anaemia</th>\n",
              "      <th class=\"col_heading level0 col2\" >creatinine_phosphokinase</th>\n",
              "      <th class=\"col_heading level0 col3\" >diabetes</th>\n",
              "      <th class=\"col_heading level0 col4\" >ejection_fraction</th>\n",
              "      <th class=\"col_heading level0 col5\" >high_blood_pressure</th>\n",
              "      <th class=\"col_heading level0 col6\" >platelets</th>\n",
              "      <th class=\"col_heading level0 col7\" >serum_creatinine</th>\n",
              "      <th class=\"col_heading level0 col8\" >serum_sodium</th>\n",
              "      <th class=\"col_heading level0 col9\" >sex</th>\n",
              "      <th class=\"col_heading level0 col10\" >smoking</th>\n",
              "      <th class=\"col_heading level0 col11\" >time</th>\n",
              "      <th class=\"col_heading level0 col12\" >DEATH_EVENT</th>\n",
              "    </tr>\n",
              "  </thead>\n",
              "  <tbody>\n",
              "    <tr>\n",
              "      <th id=\"T_6724a_level0_row0\" class=\"row_heading level0 row0\" >age</th>\n",
              "      <td id=\"T_6724a_row0_col0\" class=\"data row0 col0\" >1.00</td>\n",
              "      <td id=\"T_6724a_row0_col1\" class=\"data row0 col1\" >0.09</td>\n",
              "      <td id=\"T_6724a_row0_col2\" class=\"data row0 col2\" >-0.08</td>\n",
              "      <td id=\"T_6724a_row0_col3\" class=\"data row0 col3\" >-0.11</td>\n",
              "      <td id=\"T_6724a_row0_col4\" class=\"data row0 col4\" >0.08</td>\n",
              "      <td id=\"T_6724a_row0_col5\" class=\"data row0 col5\" >0.09</td>\n",
              "      <td id=\"T_6724a_row0_col6\" class=\"data row0 col6\" >-0.05</td>\n",
              "      <td id=\"T_6724a_row0_col7\" class=\"data row0 col7\" >0.19</td>\n",
              "      <td id=\"T_6724a_row0_col8\" class=\"data row0 col8\" >-0.05</td>\n",
              "      <td id=\"T_6724a_row0_col9\" class=\"data row0 col9\" >0.06</td>\n",
              "      <td id=\"T_6724a_row0_col10\" class=\"data row0 col10\" >0.01</td>\n",
              "      <td id=\"T_6724a_row0_col11\" class=\"data row0 col11\" >-0.23</td>\n",
              "      <td id=\"T_6724a_row0_col12\" class=\"data row0 col12\" >0.26</td>\n",
              "    </tr>\n",
              "    <tr>\n",
              "      <th id=\"T_6724a_level0_row1\" class=\"row_heading level0 row1\" >anaemia</th>\n",
              "      <td id=\"T_6724a_row1_col0\" class=\"data row1 col0\" >0.09</td>\n",
              "      <td id=\"T_6724a_row1_col1\" class=\"data row1 col1\" >1.00</td>\n",
              "      <td id=\"T_6724a_row1_col2\" class=\"data row1 col2\" >-0.19</td>\n",
              "      <td id=\"T_6724a_row1_col3\" class=\"data row1 col3\" >-0.01</td>\n",
              "      <td id=\"T_6724a_row1_col4\" class=\"data row1 col4\" >0.03</td>\n",
              "      <td id=\"T_6724a_row1_col5\" class=\"data row1 col5\" >0.03</td>\n",
              "      <td id=\"T_6724a_row1_col6\" class=\"data row1 col6\" >-0.04</td>\n",
              "      <td id=\"T_6724a_row1_col7\" class=\"data row1 col7\" >0.03</td>\n",
              "      <td id=\"T_6724a_row1_col8\" class=\"data row1 col8\" >0.04</td>\n",
              "      <td id=\"T_6724a_row1_col9\" class=\"data row1 col9\" >-0.09</td>\n",
              "      <td id=\"T_6724a_row1_col10\" class=\"data row1 col10\" >-0.11</td>\n",
              "      <td id=\"T_6724a_row1_col11\" class=\"data row1 col11\" >-0.15</td>\n",
              "      <td id=\"T_6724a_row1_col12\" class=\"data row1 col12\" >0.06</td>\n",
              "    </tr>\n",
              "    <tr>\n",
              "      <th id=\"T_6724a_level0_row2\" class=\"row_heading level0 row2\" >creatinine_phosphokinase</th>\n",
              "      <td id=\"T_6724a_row2_col0\" class=\"data row2 col0\" >-0.08</td>\n",
              "      <td id=\"T_6724a_row2_col1\" class=\"data row2 col1\" >-0.19</td>\n",
              "      <td id=\"T_6724a_row2_col2\" class=\"data row2 col2\" >1.00</td>\n",
              "      <td id=\"T_6724a_row2_col3\" class=\"data row2 col3\" >-0.01</td>\n",
              "      <td id=\"T_6724a_row2_col4\" class=\"data row2 col4\" >-0.04</td>\n",
              "      <td id=\"T_6724a_row2_col5\" class=\"data row2 col5\" >-0.07</td>\n",
              "      <td id=\"T_6724a_row2_col6\" class=\"data row2 col6\" >0.02</td>\n",
              "      <td id=\"T_6724a_row2_col7\" class=\"data row2 col7\" >-0.01</td>\n",
              "      <td id=\"T_6724a_row2_col8\" class=\"data row2 col8\" >0.06</td>\n",
              "      <td id=\"T_6724a_row2_col9\" class=\"data row2 col9\" >0.08</td>\n",
              "      <td id=\"T_6724a_row2_col10\" class=\"data row2 col10\" >0.00</td>\n",
              "      <td id=\"T_6724a_row2_col11\" class=\"data row2 col11\" >-0.01</td>\n",
              "      <td id=\"T_6724a_row2_col12\" class=\"data row2 col12\" >0.06</td>\n",
              "    </tr>\n",
              "    <tr>\n",
              "      <th id=\"T_6724a_level0_row3\" class=\"row_heading level0 row3\" >diabetes</th>\n",
              "      <td id=\"T_6724a_row3_col0\" class=\"data row3 col0\" >-0.11</td>\n",
              "      <td id=\"T_6724a_row3_col1\" class=\"data row3 col1\" >-0.01</td>\n",
              "      <td id=\"T_6724a_row3_col2\" class=\"data row3 col2\" >-0.01</td>\n",
              "      <td id=\"T_6724a_row3_col3\" class=\"data row3 col3\" >1.00</td>\n",
              "      <td id=\"T_6724a_row3_col4\" class=\"data row3 col4\" >0.01</td>\n",
              "      <td id=\"T_6724a_row3_col5\" class=\"data row3 col5\" >-0.01</td>\n",
              "      <td id=\"T_6724a_row3_col6\" class=\"data row3 col6\" >0.09</td>\n",
              "      <td id=\"T_6724a_row3_col7\" class=\"data row3 col7\" >-0.03</td>\n",
              "      <td id=\"T_6724a_row3_col8\" class=\"data row3 col8\" >-0.09</td>\n",
              "      <td id=\"T_6724a_row3_col9\" class=\"data row3 col9\" >-0.17</td>\n",
              "      <td id=\"T_6724a_row3_col10\" class=\"data row3 col10\" >-0.15</td>\n",
              "      <td id=\"T_6724a_row3_col11\" class=\"data row3 col11\" >0.03</td>\n",
              "      <td id=\"T_6724a_row3_col12\" class=\"data row3 col12\" >0.00</td>\n",
              "    </tr>\n",
              "    <tr>\n",
              "      <th id=\"T_6724a_level0_row4\" class=\"row_heading level0 row4\" >ejection_fraction</th>\n",
              "      <td id=\"T_6724a_row4_col0\" class=\"data row4 col0\" >0.08</td>\n",
              "      <td id=\"T_6724a_row4_col1\" class=\"data row4 col1\" >0.03</td>\n",
              "      <td id=\"T_6724a_row4_col2\" class=\"data row4 col2\" >-0.04</td>\n",
              "      <td id=\"T_6724a_row4_col3\" class=\"data row4 col3\" >0.01</td>\n",
              "      <td id=\"T_6724a_row4_col4\" class=\"data row4 col4\" >1.00</td>\n",
              "      <td id=\"T_6724a_row4_col5\" class=\"data row4 col5\" >0.02</td>\n",
              "      <td id=\"T_6724a_row4_col6\" class=\"data row4 col6\" >0.09</td>\n",
              "      <td id=\"T_6724a_row4_col7\" class=\"data row4 col7\" >-0.09</td>\n",
              "      <td id=\"T_6724a_row4_col8\" class=\"data row4 col8\" >0.18</td>\n",
              "      <td id=\"T_6724a_row4_col9\" class=\"data row4 col9\" >-0.12</td>\n",
              "      <td id=\"T_6724a_row4_col10\" class=\"data row4 col10\" >-0.05</td>\n",
              "      <td id=\"T_6724a_row4_col11\" class=\"data row4 col11\" >0.05</td>\n",
              "      <td id=\"T_6724a_row4_col12\" class=\"data row4 col12\" >-0.28</td>\n",
              "    </tr>\n",
              "    <tr>\n",
              "      <th id=\"T_6724a_level0_row5\" class=\"row_heading level0 row5\" >high_blood_pressure</th>\n",
              "      <td id=\"T_6724a_row5_col0\" class=\"data row5 col0\" >0.09</td>\n",
              "      <td id=\"T_6724a_row5_col1\" class=\"data row5 col1\" >0.03</td>\n",
              "      <td id=\"T_6724a_row5_col2\" class=\"data row5 col2\" >-0.07</td>\n",
              "      <td id=\"T_6724a_row5_col3\" class=\"data row5 col3\" >-0.01</td>\n",
              "      <td id=\"T_6724a_row5_col4\" class=\"data row5 col4\" >0.02</td>\n",
              "      <td id=\"T_6724a_row5_col5\" class=\"data row5 col5\" >1.00</td>\n",
              "      <td id=\"T_6724a_row5_col6\" class=\"data row5 col6\" >0.06</td>\n",
              "      <td id=\"T_6724a_row5_col7\" class=\"data row5 col7\" >-0.04</td>\n",
              "      <td id=\"T_6724a_row5_col8\" class=\"data row5 col8\" >0.04</td>\n",
              "      <td id=\"T_6724a_row5_col9\" class=\"data row5 col9\" >-0.10</td>\n",
              "      <td id=\"T_6724a_row5_col10\" class=\"data row5 col10\" >-0.05</td>\n",
              "      <td id=\"T_6724a_row5_col11\" class=\"data row5 col11\" >-0.20</td>\n",
              "      <td id=\"T_6724a_row5_col12\" class=\"data row5 col12\" >0.07</td>\n",
              "    </tr>\n",
              "    <tr>\n",
              "      <th id=\"T_6724a_level0_row6\" class=\"row_heading level0 row6\" >platelets</th>\n",
              "      <td id=\"T_6724a_row6_col0\" class=\"data row6 col0\" >-0.05</td>\n",
              "      <td id=\"T_6724a_row6_col1\" class=\"data row6 col1\" >-0.04</td>\n",
              "      <td id=\"T_6724a_row6_col2\" class=\"data row6 col2\" >0.02</td>\n",
              "      <td id=\"T_6724a_row6_col3\" class=\"data row6 col3\" >0.09</td>\n",
              "      <td id=\"T_6724a_row6_col4\" class=\"data row6 col4\" >0.09</td>\n",
              "      <td id=\"T_6724a_row6_col5\" class=\"data row6 col5\" >0.06</td>\n",
              "      <td id=\"T_6724a_row6_col6\" class=\"data row6 col6\" >1.00</td>\n",
              "      <td id=\"T_6724a_row6_col7\" class=\"data row6 col7\" >-0.01</td>\n",
              "      <td id=\"T_6724a_row6_col8\" class=\"data row6 col8\" >0.06</td>\n",
              "      <td id=\"T_6724a_row6_col9\" class=\"data row6 col9\" >-0.13</td>\n",
              "      <td id=\"T_6724a_row6_col10\" class=\"data row6 col10\" >0.03</td>\n",
              "      <td id=\"T_6724a_row6_col11\" class=\"data row6 col11\" >0.01</td>\n",
              "      <td id=\"T_6724a_row6_col12\" class=\"data row6 col12\" >-0.04</td>\n",
              "    </tr>\n",
              "    <tr>\n",
              "      <th id=\"T_6724a_level0_row7\" class=\"row_heading level0 row7\" >serum_creatinine</th>\n",
              "      <td id=\"T_6724a_row7_col0\" class=\"data row7 col0\" >0.19</td>\n",
              "      <td id=\"T_6724a_row7_col1\" class=\"data row7 col1\" >0.03</td>\n",
              "      <td id=\"T_6724a_row7_col2\" class=\"data row7 col2\" >-0.01</td>\n",
              "      <td id=\"T_6724a_row7_col3\" class=\"data row7 col3\" >-0.03</td>\n",
              "      <td id=\"T_6724a_row7_col4\" class=\"data row7 col4\" >-0.09</td>\n",
              "      <td id=\"T_6724a_row7_col5\" class=\"data row7 col5\" >-0.04</td>\n",
              "      <td id=\"T_6724a_row7_col6\" class=\"data row7 col6\" >-0.01</td>\n",
              "      <td id=\"T_6724a_row7_col7\" class=\"data row7 col7\" >1.00</td>\n",
              "      <td id=\"T_6724a_row7_col8\" class=\"data row7 col8\" >-0.21</td>\n",
              "      <td id=\"T_6724a_row7_col9\" class=\"data row7 col9\" >0.04</td>\n",
              "      <td id=\"T_6724a_row7_col10\" class=\"data row7 col10\" >-0.01</td>\n",
              "      <td id=\"T_6724a_row7_col11\" class=\"data row7 col11\" >-0.19</td>\n",
              "      <td id=\"T_6724a_row7_col12\" class=\"data row7 col12\" >0.29</td>\n",
              "    </tr>\n",
              "    <tr>\n",
              "      <th id=\"T_6724a_level0_row8\" class=\"row_heading level0 row8\" >serum_sodium</th>\n",
              "      <td id=\"T_6724a_row8_col0\" class=\"data row8 col0\" >-0.05</td>\n",
              "      <td id=\"T_6724a_row8_col1\" class=\"data row8 col1\" >0.04</td>\n",
              "      <td id=\"T_6724a_row8_col2\" class=\"data row8 col2\" >0.06</td>\n",
              "      <td id=\"T_6724a_row8_col3\" class=\"data row8 col3\" >-0.09</td>\n",
              "      <td id=\"T_6724a_row8_col4\" class=\"data row8 col4\" >0.18</td>\n",
              "      <td id=\"T_6724a_row8_col5\" class=\"data row8 col5\" >0.04</td>\n",
              "      <td id=\"T_6724a_row8_col6\" class=\"data row8 col6\" >0.06</td>\n",
              "      <td id=\"T_6724a_row8_col7\" class=\"data row8 col7\" >-0.21</td>\n",
              "      <td id=\"T_6724a_row8_col8\" class=\"data row8 col8\" >1.00</td>\n",
              "      <td id=\"T_6724a_row8_col9\" class=\"data row8 col9\" >-0.03</td>\n",
              "      <td id=\"T_6724a_row8_col10\" class=\"data row8 col10\" >0.01</td>\n",
              "      <td id=\"T_6724a_row8_col11\" class=\"data row8 col11\" >0.09</td>\n",
              "      <td id=\"T_6724a_row8_col12\" class=\"data row8 col12\" >-0.20</td>\n",
              "    </tr>\n",
              "    <tr>\n",
              "      <th id=\"T_6724a_level0_row9\" class=\"row_heading level0 row9\" >sex</th>\n",
              "      <td id=\"T_6724a_row9_col0\" class=\"data row9 col0\" >0.06</td>\n",
              "      <td id=\"T_6724a_row9_col1\" class=\"data row9 col1\" >-0.09</td>\n",
              "      <td id=\"T_6724a_row9_col2\" class=\"data row9 col2\" >0.08</td>\n",
              "      <td id=\"T_6724a_row9_col3\" class=\"data row9 col3\" >-0.17</td>\n",
              "      <td id=\"T_6724a_row9_col4\" class=\"data row9 col4\" >-0.12</td>\n",
              "      <td id=\"T_6724a_row9_col5\" class=\"data row9 col5\" >-0.10</td>\n",
              "      <td id=\"T_6724a_row9_col6\" class=\"data row9 col6\" >-0.13</td>\n",
              "      <td id=\"T_6724a_row9_col7\" class=\"data row9 col7\" >0.04</td>\n",
              "      <td id=\"T_6724a_row9_col8\" class=\"data row9 col8\" >-0.03</td>\n",
              "      <td id=\"T_6724a_row9_col9\" class=\"data row9 col9\" >1.00</td>\n",
              "      <td id=\"T_6724a_row9_col10\" class=\"data row9 col10\" >0.44</td>\n",
              "      <td id=\"T_6724a_row9_col11\" class=\"data row9 col11\" >-0.02</td>\n",
              "      <td id=\"T_6724a_row9_col12\" class=\"data row9 col12\" >-0.00</td>\n",
              "    </tr>\n",
              "    <tr>\n",
              "      <th id=\"T_6724a_level0_row10\" class=\"row_heading level0 row10\" >smoking</th>\n",
              "      <td id=\"T_6724a_row10_col0\" class=\"data row10 col0\" >0.01</td>\n",
              "      <td id=\"T_6724a_row10_col1\" class=\"data row10 col1\" >-0.11</td>\n",
              "      <td id=\"T_6724a_row10_col2\" class=\"data row10 col2\" >0.00</td>\n",
              "      <td id=\"T_6724a_row10_col3\" class=\"data row10 col3\" >-0.15</td>\n",
              "      <td id=\"T_6724a_row10_col4\" class=\"data row10 col4\" >-0.05</td>\n",
              "      <td id=\"T_6724a_row10_col5\" class=\"data row10 col5\" >-0.05</td>\n",
              "      <td id=\"T_6724a_row10_col6\" class=\"data row10 col6\" >0.03</td>\n",
              "      <td id=\"T_6724a_row10_col7\" class=\"data row10 col7\" >-0.01</td>\n",
              "      <td id=\"T_6724a_row10_col8\" class=\"data row10 col8\" >0.01</td>\n",
              "      <td id=\"T_6724a_row10_col9\" class=\"data row10 col9\" >0.44</td>\n",
              "      <td id=\"T_6724a_row10_col10\" class=\"data row10 col10\" >1.00</td>\n",
              "      <td id=\"T_6724a_row10_col11\" class=\"data row10 col11\" >-0.02</td>\n",
              "      <td id=\"T_6724a_row10_col12\" class=\"data row10 col12\" >-0.01</td>\n",
              "    </tr>\n",
              "    <tr>\n",
              "      <th id=\"T_6724a_level0_row11\" class=\"row_heading level0 row11\" >time</th>\n",
              "      <td id=\"T_6724a_row11_col0\" class=\"data row11 col0\" >-0.23</td>\n",
              "      <td id=\"T_6724a_row11_col1\" class=\"data row11 col1\" >-0.15</td>\n",
              "      <td id=\"T_6724a_row11_col2\" class=\"data row11 col2\" >-0.01</td>\n",
              "      <td id=\"T_6724a_row11_col3\" class=\"data row11 col3\" >0.03</td>\n",
              "      <td id=\"T_6724a_row11_col4\" class=\"data row11 col4\" >0.05</td>\n",
              "      <td id=\"T_6724a_row11_col5\" class=\"data row11 col5\" >-0.20</td>\n",
              "      <td id=\"T_6724a_row11_col6\" class=\"data row11 col6\" >0.01</td>\n",
              "      <td id=\"T_6724a_row11_col7\" class=\"data row11 col7\" >-0.19</td>\n",
              "      <td id=\"T_6724a_row11_col8\" class=\"data row11 col8\" >0.09</td>\n",
              "      <td id=\"T_6724a_row11_col9\" class=\"data row11 col9\" >-0.02</td>\n",
              "      <td id=\"T_6724a_row11_col10\" class=\"data row11 col10\" >-0.02</td>\n",
              "      <td id=\"T_6724a_row11_col11\" class=\"data row11 col11\" >1.00</td>\n",
              "      <td id=\"T_6724a_row11_col12\" class=\"data row11 col12\" >-0.54</td>\n",
              "    </tr>\n",
              "    <tr>\n",
              "      <th id=\"T_6724a_level0_row12\" class=\"row_heading level0 row12\" >DEATH_EVENT</th>\n",
              "      <td id=\"T_6724a_row12_col0\" class=\"data row12 col0\" >0.26</td>\n",
              "      <td id=\"T_6724a_row12_col1\" class=\"data row12 col1\" >0.06</td>\n",
              "      <td id=\"T_6724a_row12_col2\" class=\"data row12 col2\" >0.06</td>\n",
              "      <td id=\"T_6724a_row12_col3\" class=\"data row12 col3\" >0.00</td>\n",
              "      <td id=\"T_6724a_row12_col4\" class=\"data row12 col4\" >-0.28</td>\n",
              "      <td id=\"T_6724a_row12_col5\" class=\"data row12 col5\" >0.07</td>\n",
              "      <td id=\"T_6724a_row12_col6\" class=\"data row12 col6\" >-0.04</td>\n",
              "      <td id=\"T_6724a_row12_col7\" class=\"data row12 col7\" >0.29</td>\n",
              "      <td id=\"T_6724a_row12_col8\" class=\"data row12 col8\" >-0.20</td>\n",
              "      <td id=\"T_6724a_row12_col9\" class=\"data row12 col9\" >-0.00</td>\n",
              "      <td id=\"T_6724a_row12_col10\" class=\"data row12 col10\" >-0.01</td>\n",
              "      <td id=\"T_6724a_row12_col11\" class=\"data row12 col11\" >-0.54</td>\n",
              "      <td id=\"T_6724a_row12_col12\" class=\"data row12 col12\" >1.00</td>\n",
              "    </tr>\n",
              "  </tbody>\n",
              "</table>\n"
            ]
          },
          "metadata": {},
          "execution_count": 31
        }
      ],
      "source": [
        "train.corr().style.background_gradient(cmap='coolwarm').set_precision(2)"
      ]
    },
    {
      "cell_type": "code",
      "execution_count": null,
      "metadata": {
        "execution": {
          "iopub.execute_input": "2021-01-30T12:07:02.648420Z",
          "iopub.status.busy": "2021-01-30T12:07:02.647720Z",
          "iopub.status.idle": "2021-01-30T12:07:03.517874Z",
          "shell.execute_reply": "2021-01-30T12:07:03.518379Z"
        },
        "papermill": {
          "duration": 0.958305,
          "end_time": "2021-01-30T12:07:03.518546",
          "exception": false,
          "start_time": "2021-01-30T12:07:02.560241",
          "status": "completed"
        },
        "tags": [],
        "colab": {
          "base_uri": "https://localhost:8080/",
          "height": 412
        },
        "id": "nyLbcLfoLu8h",
        "outputId": "a4f0ff11-9749-4b40-8a32-2e451dccef30"
      },
      "outputs": [
        {
          "output_type": "stream",
          "name": "stdout",
          "text": [
            "[0.09847955 0.02744084 0.07307182 0.02852487 0.13542531 0.02563852\n",
            " 0.07096294 0.11382558 0.08356623 0.02741785 0.02700653 0.28863996]\n"
          ]
        },
        {
          "output_type": "display_data",
          "data": {
            "text/plain": [
              "<Figure size 1080x432 with 1 Axes>"
            ],
            "image/png": "[encoded data removed]"
          },
          "metadata": {}
        }
      ],
      "source": [
        "# Feature Selection\n",
        "\n",
        "plt.rcParams['figure.figsize']=15,6 \n",
        "sns.set_style(\"darkgrid\")\n",
        "\n",
        "x = train.iloc[:, :-1]\n",
        "y = train.iloc[:,-1]\n",
        "\n",
        "from sklearn.ensemble import ExtraTreesClassifier\n",
        "\n",
        "model = ExtraTreesClassifier()\n",
        "model.fit(x,y)\n",
        "print(model.feature_importances_) \n",
        "feat_importances = pd.Series(model.feature_importances_, index=x.columns)\n",
        "feat_importances.nlargest(12).plot(kind='barh')\n",
        "plt.show()"
      ]
    },
    {
      "cell_type": "markdown",
      "metadata": {
        "papermill": {
          "duration": 0.08798,
          "end_time": "2021-01-30T12:07:03.694543",
          "exception": false,
          "start_time": "2021-01-30T12:07:03.606563",
          "status": "completed"
        },
        "tags": [],
        "id": "1awq8USYLu8i"
      },
      "source": [
        "### like we can c that some of our feature had a corrolation almost aqual to 0 so we gonna drop them like :\n",
        "* anaemia\n",
        "* creatinine_phosphokinase\n",
        "* diabetes\n",
        "* high_blood_pressure\n",
        "* platelets\n",
        "* sex\n",
        "* smoking\n",
        "\n",
        "\n",
        "We will select only 3 features : time, ejection_fraction, serum_creatinine "
      ]
    },
    {
      "cell_type": "code",
      "execution_count": null,
      "metadata": {
        "execution": {
          "iopub.execute_input": "2021-01-30T12:07:03.870078Z",
          "iopub.status.busy": "2021-01-30T12:07:03.869430Z",
          "iopub.status.idle": "2021-01-30T12:07:03.875137Z",
          "shell.execute_reply": "2021-01-30T12:07:03.875756Z"
        },
        "papermill": {
          "duration": 0.095529,
          "end_time": "2021-01-30T12:07:03.875904",
          "exception": false,
          "start_time": "2021-01-30T12:07:03.780375",
          "status": "completed"
        },
        "tags": [],
        "id": "0lzKALpcLu8i"
      },
      "outputs": [],
      "source": [
        "train=train.drop(['anaemia','creatinine_phosphokinase','diabetes','high_blood_pressure','platelets','sex','smoking','age'],axis=1)"
      ]
    },
    {
      "cell_type": "code",
      "execution_count": null,
      "metadata": {
        "execution": {
          "iopub.execute_input": "2021-01-30T12:07:04.064106Z",
          "iopub.status.busy": "2021-01-30T12:07:04.051010Z",
          "iopub.status.idle": "2021-01-30T12:07:04.069024Z",
          "shell.execute_reply": "2021-01-30T12:07:04.068456Z"
        },
        "papermill": {
          "duration": 0.106612,
          "end_time": "2021-01-30T12:07:04.069136",
          "exception": false,
          "start_time": "2021-01-30T12:07:03.962524",
          "status": "completed"
        },
        "tags": [],
        "colab": {
          "base_uri": "https://localhost:8080/",
          "height": 424
        },
        "id": "qTsz5M_fLu8i",
        "outputId": "5e2c1753-ac5b-4d25-b638-11a8ea40dde5"
      },
      "outputs": [
        {
          "output_type": "execute_result",
          "data": {
            "text/plain": [
              "     ejection_fraction  serum_creatinine  serum_sodium  time  DEATH_EVENT\n",
              "0                   20               1.9           130     4            1\n",
              "1                   38               1.1           136     6            1\n",
              "2                   20               1.3           129     7            1\n",
              "3                   20               1.9           137     7            1\n",
              "4                   20               2.7           116     8            1\n",
              "..                 ...               ...           ...   ...          ...\n",
              "294                 38               1.1           143   270            0\n",
              "295                 38               1.2           139   271            0\n",
              "296                 60               0.8           138   278            0\n",
              "297                 38               1.4           140   280            0\n",
              "298                 45               1.6           136   285            0\n",
              "\n",
              "[297 rows x 5 columns]"
            ],
            "text/html": [
              "\n",
              "  <div id=\"df-a0863788-66e5-41e0-89a8-636db1e8a701\">\n",
              "    <div class=\"colab-df-container\">\n",
              "      <div>\n",
              "<style scoped>\n",
              "    .dataframe tbody tr th:only-of-type {\n",
              "        vertical-align: middle;\n",
              "    }\n",
              "\n",
              "    .dataframe tbody tr th {\n",
              "        vertical-align: top;\n",
              "    }\n",
              "\n",
              "    .dataframe thead th {\n",
              "        text-align: right;\n",
              "    }\n",
              "</style>\n",
              "<table border=\"1\" class=\"dataframe\">\n",
              "  <thead>\n",
              "    <tr style=\"text-align: right;\">\n",
              "      <th></th>\n",
              "      <th>ejection_fraction</th>\n",
              "      <th>serum_creatinine</th>\n",
              "      <th>serum_sodium</th>\n",
              "      <th>time</th>\n",
              "      <th>DEATH_EVENT</th>\n",
              "    </tr>\n",
              "  </thead>\n",
              "  <tbody>\n",
              "    <tr>\n",
              "      <th>0</th>\n",
              "      <td>20</td>\n",
              "      <td>1.9</td>\n",
              "      <td>130</td>\n",
              "      <td>4</td>\n",
              "      <td>1</td>\n",
              "    </tr>\n",
              "    <tr>\n",
              "      <th>1</th>\n",
              "      <td>38</td>\n",
              "      <td>1.1</td>\n",
              "      <td>136</td>\n",
              "      <td>6</td>\n",
              "      <td>1</td>\n",
              "    </tr>\n",
              "    <tr>\n",
              "      <th>2</th>\n",
              "      <td>20</td>\n",
              "      <td>1.3</td>\n",
              "      <td>129</td>\n",
              "      <td>7</td>\n",
              "      <td>1</td>\n",
              "    </tr>\n",
              "    <tr>\n",
              "      <th>3</th>\n",
              "      <td>20</td>\n",
              "      <td>1.9</td>\n",
              "      <td>137</td>\n",
              "      <td>7</td>\n",
              "      <td>1</td>\n",
              "    </tr>\n",
              "    <tr>\n",
              "      <th>4</th>\n",
              "      <td>20</td>\n",
              "      <td>2.7</td>\n",
              "      <td>116</td>\n",
              "      <td>8</td>\n",
              "      <td>1</td>\n",
              "    </tr>\n",
              "    <tr>\n",
              "      <th>...</th>\n",
              "      <td>...</td>\n",
              "      <td>...</td>\n",
              "      <td>...</td>\n",
              "      <td>...</td>\n",
              "      <td>...</td>\n",
              "    </tr>\n",
              "    <tr>\n",
              "      <th>294</th>\n",
              "      <td>38</td>\n",
              "      <td>1.1</td>\n",
              "      <td>143</td>\n",
              "      <td>270</td>\n",
              "      <td>0</td>\n",
              "    </tr>\n",
              "    <tr>\n",
              "      <th>295</th>\n",
              "      <td>38</td>\n",
              "      <td>1.2</td>\n",
              "      <td>139</td>\n",
              "      <td>271</td>\n",
              "      <td>0</td>\n",
              "    </tr>\n",
              "    <tr>\n",
              "      <th>296</th>\n",
              "      <td>60</td>\n",
              "      <td>0.8</td>\n",
              "      <td>138</td>\n",
              "      <td>278</td>\n",
              "      <td>0</td>\n",
              "    </tr>\n",
              "    <tr>\n",
              "      <th>297</th>\n",
              "      <td>38</td>\n",
              "      <td>1.4</td>\n",
              "      <td>140</td>\n",
              "      <td>280</td>\n",
              "      <td>0</td>\n",
              "    </tr>\n",
              "    <tr>\n",
              "      <th>298</th>\n",
              "      <td>45</td>\n",
              "      <td>1.6</td>\n",
              "      <td>136</td>\n",
              "      <td>285</td>\n",
              "      <td>0</td>\n",
              "    </tr>\n",
              "  </tbody>\n",
              "</table>\n",
              "<p>297 rows × 5 columns</p>\n",
              "</div>\n",
              "      <button class=\"colab-df-convert\" onclick=\"convertToInteractive('df-a0863788-66e5-41e0-89a8-636db1e8a701')\"\n",
              "              title=\"Convert this dataframe to an interactive table.\"\n",
              "              style=\"display:none;\">\n",
              "        \n",
              "  <svg xmlns=\"http://www.w3.org/2000/svg\" height=\"24px\"viewBox=\"0 0 24 24\"\n",
              "       width=\"24px\">\n",
              "    <path d=\"M0 0h24v24H0V0z\" fill=\"none\"/>\n",
              "    <path d=\"M18.56 5.44l.94 2.06.94-2.06 2.06-.94-2.06-.94-.94-2.06-.94 2.06-2.06.94zm-11 1L8.5 8.5l.94-2.06 2.06-.94-2.06-.94L8.5 2.5l-.94 2.06-2.06.94zm10 10l.94 2.06.94-2.06 2.06-.94-2.06-.94-.94-2.06-.94 2.06-2.06.94z\"/><path d=\"M17.41 7.96l-1.37-1.37c-.4-.4-.92-.59-1.43-.59-.52 0-1.04.2-1.43.59L10.3 9.45l-7.72 7.72c-.78.78-.78 2.05 0 2.83L4 21.41c.39.39.9.59 1.41.59.51 0 1.02-.2 1.41-.59l7.78-7.78 2.81-2.81c.8-.78.8-2.07 0-2.86zM5.41 20L4 18.59l7.72-7.72 1.47 1.35L5.41 20z\"/>\n",
              "  </svg>\n",
              "      </button>\n",
              "      \n",
              "  <style>\n",
              "    .colab-df-container {\n",
              "      display:flex;\n",
              "      flex-wrap:wrap;\n",
              "      gap: 12px;\n",
              "    }\n",
              "\n",
              "    .colab-df-convert {\n",
              "      background-color: #E8F0FE;\n",
              "      border: none;\n",
              "      border-radius: 50%;\n",
              "      cursor: pointer;\n",
              "      display: none;\n",
              "      fill: #1967D2;\n",
              "      height: 32px;\n",
              "      padding: 0 0 0 0;\n",
              "      width: 32px;\n",
              "    }\n",
              "\n",
              "    .colab-df-convert:hover {\n",
              "      background-color: #E2EBFA;\n",
              "      box-shadow: 0px 1px 2px rgba(60, 64, 67, 0.3), 0px 1px 3px 1px rgba(60, 64, 67, 0.15);\n",
              "      fill: #174EA6;\n",
              "    }\n",
              "\n",
              "    [theme=dark] .colab-df-convert {\n",
              "      background-color: #3B4455;\n",
              "      fill: #D2E3FC;\n",
              "    }\n",
              "\n",
              "    [theme=dark] .colab-df-convert:hover {\n",
              "      background-color: #434B5C;\n",
              "      box-shadow: 0px 1px 3px 1px rgba(0, 0, 0, 0.15);\n",
              "      filter: drop-shadow(0px 1px 2px rgba(0, 0, 0, 0.3));\n",
              "      fill: #FFFFFF;\n",
              "    }\n",
              "  </style>\n",
              "\n",
              "      <script>\n",
              "        const buttonEl =\n",
              "          document.querySelector('#df-a0863788-66e5-41e0-89a8-636db1e8a701 button.colab-df-convert');\n",
              "        buttonEl.style.display =\n",
              "          google.colab.kernel.accessAllowed ? 'block' : 'none';\n",
              "\n",
              "        async function convertToInteractive(key) {\n",
              "          const element = document.querySelector('#df-a0863788-66e5-41e0-89a8-636db1e8a701');\n",
              "          const dataTable =\n",
              "            await google.colab.kernel.invokeFunction('convertToInteractive',\n",
              "                                                     [key], {});\n",
              "          if (!dataTable) return;\n",
              "\n",
              "          const docLinkHtml = 'Like what you see? Visit the ' +\n",
              "            '<a target=\"_blank\" href=https://colab.research.google.com/notebooks/data_table.ipynb>data table notebook</a>'\n",
              "            + ' to learn more about interactive tables.';\n",
              "          element.innerHTML = '';\n",
              "          dataTable['output_type'] = 'display_data';\n",
              "          await google.colab.output.renderOutput(dataTable, element);\n",
              "          const docLink = document.createElement('div');\n",
              "          docLink.innerHTML = docLinkHtml;\n",
              "          element.appendChild(docLink);\n",
              "        }\n",
              "      </script>\n",
              "    </div>\n",
              "  </div>\n",
              "  "
            ]
          },
          "metadata": {},
          "execution_count": 34
        }
      ],
      "source": [
        "train"
      ]
    },
    {
      "cell_type": "code",
      "execution_count": null,
      "metadata": {
        "execution": {
          "iopub.execute_input": "2021-01-30T12:07:04.253177Z",
          "iopub.status.busy": "2021-01-30T12:07:04.252428Z",
          "iopub.status.idle": "2021-01-30T12:07:04.267876Z",
          "shell.execute_reply": "2021-01-30T12:07:04.268592Z"
        },
        "papermill": {
          "duration": 0.113107,
          "end_time": "2021-01-30T12:07:04.268741",
          "exception": false,
          "start_time": "2021-01-30T12:07:04.155634",
          "status": "completed"
        },
        "tags": [],
        "colab": {
          "base_uri": "https://localhost:8080/",
          "height": 276
        },
        "id": "YJtDOSPPLu8i",
        "outputId": "b8366342-8bbc-4a36-c652-0251038a19fc"
      },
      "outputs": [
        {
          "output_type": "stream",
          "name": "stderr",
          "text": [
            "/usr/local/lib/python3.7/dist-packages/ipykernel_launcher.py:1: FutureWarning:\n",
            "\n",
            "this method is deprecated in favour of `Styler.format(precision=..)`\n",
            "\n"
          ]
        },
        {
          "output_type": "execute_result",
          "data": {
            "text/plain": [
              "<pandas.io.formats.style.Styler at 0x7fd911faae50>"
            ],
            "text/html": [
              "<style type=\"text/css\">\n",
              "#T_3c13c_row0_col0, #T_3c13c_row1_col1, #T_3c13c_row2_col2, #T_3c13c_row3_col3, #T_3c13c_row4_col4 {\n",
              "  background-color: #b40426;\n",
              "  color: #f1f1f1;\n",
              "}\n",
              "#T_3c13c_row0_col1 {\n",
              "  background-color: #5a78e4;\n",
              "  color: #f1f1f1;\n",
              "}\n",
              "#T_3c13c_row0_col2 {\n",
              "  background-color: #a6c4fe;\n",
              "  color: #000000;\n",
              "}\n",
              "#T_3c13c_row0_col3 {\n",
              "  background-color: #bad0f8;\n",
              "  color: #000000;\n",
              "}\n",
              "#T_3c13c_row0_col4 {\n",
              "  background-color: #6f92f3;\n",
              "  color: #f1f1f1;\n",
              "}\n",
              "#T_3c13c_row1_col0 {\n",
              "  background-color: #6b8df0;\n",
              "  color: #f1f1f1;\n",
              "}\n",
              "#T_3c13c_row1_col2, #T_3c13c_row2_col1, #T_3c13c_row3_col4, #T_3c13c_row4_col0, #T_3c13c_row4_col3 {\n",
              "  background-color: #3b4cc0;\n",
              "  color: #f1f1f1;\n",
              "}\n",
              "#T_3c13c_row1_col3 {\n",
              "  background-color: #84a7fc;\n",
              "  color: #f1f1f1;\n",
              "}\n",
              "#T_3c13c_row1_col4 {\n",
              "  background-color: #e6d7cf;\n",
              "  color: #000000;\n",
              "}\n",
              "#T_3c13c_row2_col0 {\n",
              "  background-color: #b3cdfb;\n",
              "  color: #000000;\n",
              "}\n",
              "#T_3c13c_row2_col3 {\n",
              "  background-color: #c3d5f4;\n",
              "  color: #000000;\n",
              "}\n",
              "#T_3c13c_row2_col4 {\n",
              "  background-color: #82a6fb;\n",
              "  color: #f1f1f1;\n",
              "}\n",
              "#T_3c13c_row3_col0 {\n",
              "  background-color: #8fb1fe;\n",
              "  color: #000000;\n",
              "}\n",
              "#T_3c13c_row3_col1 {\n",
              "  background-color: #3f53c6;\n",
              "  color: #f1f1f1;\n",
              "}\n",
              "#T_3c13c_row3_col2 {\n",
              "  background-color: #8caffe;\n",
              "  color: #000000;\n",
              "}\n",
              "#T_3c13c_row4_col1 {\n",
              "  background-color: #c4d5f3;\n",
              "  color: #000000;\n",
              "}\n",
              "#T_3c13c_row4_col2 {\n",
              "  background-color: #3e51c5;\n",
              "  color: #f1f1f1;\n",
              "}\n",
              "</style>\n",
              "<table id=\"T_3c13c_\" class=\"dataframe\">\n",
              "  <thead>\n",
              "    <tr>\n",
              "      <th class=\"blank level0\" >&nbsp;</th>\n",
              "      <th class=\"col_heading level0 col0\" >ejection_fraction</th>\n",
              "      <th class=\"col_heading level0 col1\" >serum_creatinine</th>\n",
              "      <th class=\"col_heading level0 col2\" >serum_sodium</th>\n",
              "      <th class=\"col_heading level0 col3\" >time</th>\n",
              "      <th class=\"col_heading level0 col4\" >DEATH_EVENT</th>\n",
              "    </tr>\n",
              "  </thead>\n",
              "  <tbody>\n",
              "    <tr>\n",
              "      <th id=\"T_3c13c_level0_row0\" class=\"row_heading level0 row0\" >ejection_fraction</th>\n",
              "      <td id=\"T_3c13c_row0_col0\" class=\"data row0 col0\" >1.000</td>\n",
              "      <td id=\"T_3c13c_row0_col1\" class=\"data row0 col1\" >-0.087</td>\n",
              "      <td id=\"T_3c13c_row0_col2\" class=\"data row0 col2\" >0.180</td>\n",
              "      <td id=\"T_3c13c_row0_col3\" class=\"data row0 col3\" >0.046</td>\n",
              "      <td id=\"T_3c13c_row0_col4\" class=\"data row0 col4\" >-0.285</td>\n",
              "    </tr>\n",
              "    <tr>\n",
              "      <th id=\"T_3c13c_level0_row1\" class=\"row_heading level0 row1\" >serum_creatinine</th>\n",
              "      <td id=\"T_3c13c_row1_col0\" class=\"data row1 col0\" >-0.087</td>\n",
              "      <td id=\"T_3c13c_row1_col1\" class=\"data row1 col1\" >1.000</td>\n",
              "      <td id=\"T_3c13c_row1_col2\" class=\"data row1 col2\" >-0.211</td>\n",
              "      <td id=\"T_3c13c_row1_col3\" class=\"data row1 col3\" >-0.189</td>\n",
              "      <td id=\"T_3c13c_row1_col4\" class=\"data row1 col4\" >0.286</td>\n",
              "    </tr>\n",
              "    <tr>\n",
              "      <th id=\"T_3c13c_level0_row2\" class=\"row_heading level0 row2\" >serum_sodium</th>\n",
              "      <td id=\"T_3c13c_row2_col0\" class=\"data row2 col0\" >0.180</td>\n",
              "      <td id=\"T_3c13c_row2_col1\" class=\"data row2 col1\" >-0.211</td>\n",
              "      <td id=\"T_3c13c_row2_col2\" class=\"data row2 col2\" >1.000</td>\n",
              "      <td id=\"T_3c13c_row2_col3\" class=\"data row2 col3\" >0.088</td>\n",
              "      <td id=\"T_3c13c_row2_col4\" class=\"data row2 col4\" >-0.196</td>\n",
              "    </tr>\n",
              "    <tr>\n",
              "      <th id=\"T_3c13c_level0_row3\" class=\"row_heading level0 row3\" >time</th>\n",
              "      <td id=\"T_3c13c_row3_col0\" class=\"data row3 col0\" >0.046</td>\n",
              "      <td id=\"T_3c13c_row3_col1\" class=\"data row3 col1\" >-0.189</td>\n",
              "      <td id=\"T_3c13c_row3_col2\" class=\"data row3 col2\" >0.088</td>\n",
              "      <td id=\"T_3c13c_row3_col3\" class=\"data row3 col3\" >1.000</td>\n",
              "      <td id=\"T_3c13c_row3_col4\" class=\"data row3 col4\" >-0.537</td>\n",
              "    </tr>\n",
              "    <tr>\n",
              "      <th id=\"T_3c13c_level0_row4\" class=\"row_heading level0 row4\" >DEATH_EVENT</th>\n",
              "      <td id=\"T_3c13c_row4_col0\" class=\"data row4 col0\" >-0.285</td>\n",
              "      <td id=\"T_3c13c_row4_col1\" class=\"data row4 col1\" >0.286</td>\n",
              "      <td id=\"T_3c13c_row4_col2\" class=\"data row4 col2\" >-0.196</td>\n",
              "      <td id=\"T_3c13c_row4_col3\" class=\"data row4 col3\" >-0.537</td>\n",
              "      <td id=\"T_3c13c_row4_col4\" class=\"data row4 col4\" >1.000</td>\n",
              "    </tr>\n",
              "  </tbody>\n",
              "</table>\n"
            ]
          },
          "metadata": {},
          "execution_count": 35
        }
      ],
      "source": [
        "train.corr().style.background_gradient(cmap='coolwarm').set_precision(3)"
      ]
    },
    {
      "cell_type": "markdown",
      "metadata": {
        "papermill": {
          "duration": 0.087662,
          "end_time": "2021-01-30T12:07:04.444128",
          "exception": false,
          "start_time": "2021-01-30T12:07:04.356466",
          "status": "completed"
        },
        "tags": [],
        "id": "WcBS76qWLu8i"
      },
      "source": [
        "##  split data"
      ]
    },
    {
      "cell_type": "code",
      "execution_count": null,
      "metadata": {
        "execution": {
          "iopub.execute_input": "2021-01-30T12:07:04.628024Z",
          "iopub.status.busy": "2021-01-30T12:07:04.627210Z",
          "iopub.status.idle": "2021-01-30T12:07:04.632727Z",
          "shell.execute_reply": "2021-01-30T12:07:04.632172Z"
        },
        "papermill": {
          "duration": 0.099238,
          "end_time": "2021-01-30T12:07:04.632844",
          "exception": false,
          "start_time": "2021-01-30T12:07:04.533606",
          "status": "completed"
        },
        "tags": [],
        "id": "WEWFpoR1Lu8i"
      },
      "outputs": [],
      "source": [
        "from sklearn.model_selection import train_test_split\n",
        "from sklearn import metrics\n",
        "from sklearn.metrics import accuracy_score"
      ]
    },
    {
      "cell_type": "code",
      "execution_count": null,
      "metadata": {
        "execution": {
          "iopub.execute_input": "2021-01-30T12:07:04.818924Z",
          "iopub.status.busy": "2021-01-30T12:07:04.818118Z",
          "iopub.status.idle": "2021-01-30T12:07:04.821515Z",
          "shell.execute_reply": "2021-01-30T12:07:04.820967Z"
        },
        "papermill": {
          "duration": 0.09913,
          "end_time": "2021-01-30T12:07:04.821633",
          "exception": false,
          "start_time": "2021-01-30T12:07:04.722503",
          "status": "completed"
        },
        "tags": [],
        "id": "qFjp8kH6Lu8j"
      },
      "outputs": [],
      "source": [
        "x=train.drop('DEATH_EVENT',axis=1)\n",
        "y=train.DEATH_EVENT"
      ]
    },
    {
      "cell_type": "code",
      "execution_count": null,
      "metadata": {
        "execution": {
          "iopub.execute_input": "2021-01-30T12:07:05.007578Z",
          "iopub.status.busy": "2021-01-30T12:07:05.006858Z",
          "iopub.status.idle": "2021-01-30T12:07:05.011691Z",
          "shell.execute_reply": "2021-01-30T12:07:05.012406Z"
        },
        "papermill": {
          "duration": 0.098457,
          "end_time": "2021-01-30T12:07:05.012616",
          "exception": false,
          "start_time": "2021-01-30T12:07:04.914159",
          "status": "completed"
        },
        "tags": [],
        "colab": {
          "base_uri": "https://localhost:8080/"
        },
        "id": "9KMlTeRTLu8j",
        "outputId": "9adedcd8-02c7-4672-e54c-2e61e081f3b4"
      },
      "outputs": [
        {
          "output_type": "stream",
          "name": "stdout",
          "text": [
            "(297, 4)\n",
            "(297,)\n"
          ]
        }
      ],
      "source": [
        "print(x.shape)\n",
        "print(y.shape)"
      ]
    },
    {
      "cell_type": "code",
      "execution_count": null,
      "metadata": {
        "execution": {
          "iopub.execute_input": "2021-01-30T12:07:05.198811Z",
          "iopub.status.busy": "2021-01-30T12:07:05.198003Z",
          "iopub.status.idle": "2021-01-30T12:07:05.201358Z",
          "shell.execute_reply": "2021-01-30T12:07:05.200707Z"
        },
        "papermill": {
          "duration": 0.098754,
          "end_time": "2021-01-30T12:07:05.201471",
          "exception": false,
          "start_time": "2021-01-30T12:07:05.102717",
          "status": "completed"
        },
        "tags": [],
        "id": "8SBATcq-Lu8j"
      },
      "outputs": [],
      "source": [
        "x_train,x_test,y_train,y_test = train_test_split(x,y,test_size=0.3)"
      ]
    },
    {
      "cell_type": "code",
      "execution_count": null,
      "metadata": {
        "execution": {
          "iopub.execute_input": "2021-01-30T12:07:05.391962Z",
          "iopub.status.busy": "2021-01-30T12:07:05.390988Z",
          "iopub.status.idle": "2021-01-30T12:07:05.395269Z",
          "shell.execute_reply": "2021-01-30T12:07:05.394178Z"
        },
        "papermill": {
          "duration": 0.105166,
          "end_time": "2021-01-30T12:07:05.395602",
          "exception": false,
          "start_time": "2021-01-30T12:07:05.290436",
          "status": "completed"
        },
        "tags": [],
        "colab": {
          "base_uri": "https://localhost:8080/"
        },
        "id": "leWqernqLu8j",
        "outputId": "b2d0542d-c438-4c62-b781-6ca0aeb19768"
      },
      "outputs": [
        {
          "output_type": "stream",
          "name": "stdout",
          "text": [
            "     ejection_fraction  serum_creatinine  serum_sodium  time\n",
            "18                  25               1.0           140    15\n",
            "31                  45               3.0           132    28\n",
            "276                 35               1.1           142   245\n",
            "58                  20               1.1           136    55\n",
            "165                 38               1.3           135   130\n",
            "..                 ...               ...           ...   ...\n",
            "270                 30               1.6           130   244\n",
            "268                 38               0.9           140   244\n",
            "295                 38               1.2           139   271\n",
            "178                 60               1.2           145   147\n",
            "94                  38               0.7           142    83\n",
            "\n",
            "[207 rows x 4 columns]\n",
            "141    0\n",
            "108    0\n",
            "166    0\n",
            "41     1\n",
            "163    1\n",
            "      ..\n",
            "87     0\n",
            "291    0\n",
            "137    0\n",
            "296    0\n",
            "223    0\n",
            "Name: DEATH_EVENT, Length: 90, dtype: int64\n"
          ]
        }
      ],
      "source": [
        "print(x_train)\n",
        "print(y_test)"
      ]
    },
    {
      "cell_type": "markdown",
      "metadata": {
        "papermill": {
          "duration": 0.088735,
          "end_time": "2021-01-30T12:07:05.573688",
          "exception": false,
          "start_time": "2021-01-30T12:07:05.484953",
          "status": "completed"
        },
        "tags": [],
        "id": "vN1_1hXJLu8j"
      },
      "source": [
        "## Feature Scaling"
      ]
    },
    {
      "cell_type": "code",
      "execution_count": null,
      "metadata": {
        "execution": {
          "iopub.execute_input": "2021-01-30T12:07:05.766552Z",
          "iopub.status.busy": "2021-01-30T12:07:05.761300Z",
          "iopub.status.idle": "2021-01-30T12:07:05.770309Z",
          "shell.execute_reply": "2021-01-30T12:07:05.769613Z"
        },
        "papermill": {
          "duration": 0.107436,
          "end_time": "2021-01-30T12:07:05.770442",
          "exception": false,
          "start_time": "2021-01-30T12:07:05.663006",
          "status": "completed"
        },
        "tags": [],
        "id": "l6O6bbtSLu8k"
      },
      "outputs": [],
      "source": [
        "from sklearn.preprocessing import StandardScaler\n",
        "sc = StandardScaler()\n",
        "x_train = sc.fit_transform(x_train)\n",
        "x_test = sc.transform(x_test)"
      ]
    },
    {
      "cell_type": "markdown",
      "metadata": {
        "papermill": {
          "duration": 0.088495,
          "end_time": "2021-01-30T12:07:05.947613",
          "exception": false,
          "start_time": "2021-01-30T12:07:05.859118",
          "status": "completed"
        },
        "tags": [],
        "id": "aZYy2d6fLu8k"
      },
      "source": [
        "### Logistic Regression"
      ]
    },
    {
      "cell_type": "code",
      "execution_count": null,
      "metadata": {
        "execution": {
          "iopub.execute_input": "2021-01-30T12:07:06.140652Z",
          "iopub.status.busy": "2021-01-30T12:07:06.139750Z",
          "iopub.status.idle": "2021-01-30T12:07:06.151112Z",
          "shell.execute_reply": "2021-01-30T12:07:06.152244Z"
        },
        "papermill": {
          "duration": 0.116949,
          "end_time": "2021-01-30T12:07:06.152415",
          "exception": false,
          "start_time": "2021-01-30T12:07:06.035466",
          "status": "completed"
        },
        "tags": [],
        "colab": {
          "base_uri": "https://localhost:8080/"
        },
        "id": "WU40epAkLu8k",
        "outputId": "61897929-8260-471e-8083-583f35938509"
      },
      "outputs": [
        {
          "output_type": "stream",
          "name": "stdout",
          "text": [
            "[[57  5]\n",
            " [12 16]]\n",
            "0.8111111111111111\n"
          ]
        }
      ],
      "source": [
        "# Making Confusion Matrix and calculating accuracy score\n",
        "from sklearn.linear_model import LogisticRegression\n",
        "from sklearn.metrics import confusion_matrix, accuracy_score\n",
        "\n",
        "model = LogisticRegression()\n",
        "\n",
        "#Fit the model\n",
        "model.fit(x_train, y_train)\n",
        "y_pred = model.predict(x_test)\n",
        "\n",
        "mylist = []\n",
        "# Confusion Matrix\n",
        "cm = confusion_matrix(y_test, y_pred)\n",
        "# accuracy score\n",
        "acc_logreg = accuracy_score(y_test, y_pred)\n",
        "\n",
        "mylist.append(acc_logreg)\n",
        "print(cm)\n",
        "print(acc_logreg)"
      ]
    },
    {
      "cell_type": "markdown",
      "metadata": {
        "papermill": {
          "duration": 0.090001,
          "end_time": "2021-01-30T12:07:06.330995",
          "exception": false,
          "start_time": "2021-01-30T12:07:06.240994",
          "status": "completed"
        },
        "tags": [],
        "id": "6altdqIrLu8k"
      },
      "source": [
        "## KNN"
      ]
    },
    {
      "cell_type": "code",
      "execution_count": null,
      "metadata": {
        "execution": {
          "iopub.execute_input": "2021-01-30T12:07:06.522107Z",
          "iopub.status.busy": "2021-01-30T12:07:06.521429Z",
          "iopub.status.idle": "2021-01-30T12:07:06.840078Z",
          "shell.execute_reply": "2021-01-30T12:07:06.839551Z"
        },
        "papermill": {
          "duration": 0.419799,
          "end_time": "2021-01-30T12:07:06.840193",
          "exception": false,
          "start_time": "2021-01-30T12:07:06.420394",
          "status": "completed"
        },
        "tags": [],
        "colab": {
          "base_uri": "https://localhost:8080/",
          "height": 377
        },
        "id": "PUn_fQk0Lu8k",
        "outputId": "b4317392-22cc-4281-9735-e295dababc0a"
      },
      "outputs": [
        {
          "output_type": "display_data",
          "data": {
            "text/plain": [
              "<Figure size 1080x432 with 1 Axes>"
            ],
            "image/png": "[encoded data removed]"
          },
          "metadata": {}
        }
      ],
      "source": [
        "# Finding the optimum number of neighbors \n",
        "\n",
        "from sklearn.neighbors import KNeighborsClassifier\n",
        "from sklearn.metrics import confusion_matrix, accuracy_score\n",
        "\n",
        "list1 = []\n",
        "for neighbors in range(3,10):\n",
        "    classifier = KNeighborsClassifier(n_neighbors=neighbors, metric='minkowski')\n",
        "    classifier.fit(x_train, y_train)\n",
        "    y_pred = classifier.predict(x_test)\n",
        "    list1.append(accuracy_score(y_test,y_pred))\n",
        "plt.plot(list(range(3,10)), list1)\n",
        "plt.show()"
      ]
    },
    {
      "cell_type": "code",
      "execution_count": null,
      "metadata": {
        "execution": {
          "iopub.execute_input": "2021-01-30T12:07:07.029915Z",
          "iopub.status.busy": "2021-01-30T12:07:07.029203Z",
          "iopub.status.idle": "2021-01-30T12:07:07.037542Z",
          "shell.execute_reply": "2021-01-30T12:07:07.036833Z"
        },
        "papermill": {
          "duration": 0.106555,
          "end_time": "2021-01-30T12:07:07.037674",
          "exception": false,
          "start_time": "2021-01-30T12:07:06.931119",
          "status": "completed"
        },
        "tags": [],
        "colab": {
          "base_uri": "https://localhost:8080/"
        },
        "id": "vyxzp6GhLu8l",
        "outputId": "f3c7c57f-4c31-4f0b-8cdc-741d2d0f4936"
      },
      "outputs": [
        {
          "output_type": "execute_result",
          "data": {
            "text/plain": [
              "KNeighborsClassifier()"
            ]
          },
          "metadata": {},
          "execution_count": 44
        }
      ],
      "source": [
        "# Training the K Nearest Neighbor Classifier on the Training set\n",
        "\n",
        "classifier = KNeighborsClassifier(n_neighbors=5)\n",
        "classifier.fit(x_train, y_train)"
      ]
    },
    {
      "cell_type": "code",
      "execution_count": null,
      "metadata": {
        "execution": {
          "iopub.execute_input": "2021-01-30T12:07:07.224621Z",
          "iopub.status.busy": "2021-01-30T12:07:07.223931Z",
          "iopub.status.idle": "2021-01-30T12:07:07.235298Z",
          "shell.execute_reply": "2021-01-30T12:07:07.235822Z"
        },
        "papermill": {
          "duration": 0.107735,
          "end_time": "2021-01-30T12:07:07.235978",
          "exception": false,
          "start_time": "2021-01-30T12:07:07.128243",
          "status": "completed"
        },
        "tags": [],
        "colab": {
          "base_uri": "https://localhost:8080/"
        },
        "id": "HCdIPIOLLu8l",
        "outputId": "383dc3fd-e025-4191-ef47-7027aa448820"
      },
      "outputs": [
        {
          "output_type": "stream",
          "name": "stdout",
          "text": [
            "[0 0 0 0 0 0 1 0 0 0 0 0 1 0 1 0 0 1 0 0 0 0 0 1 0 0 0 0 1 0 1 0 0 0 1 1 0\n",
            " 0 0 1 0 0 0 0 0 0 0 0 0 1 1 1 1 0 1 0 0 0 0 0 0 0 1 0 0 0 0 0 0 0 0 0 0 0\n",
            " 0 1 0 0 1 1 0 0 0 1 1 0 0 1 0 0]\n"
          ]
        }
      ],
      "source": [
        "# Predicting the Test set results\n",
        "\n",
        "y_pred = classifier.predict(x_test)\n",
        "print(y_pred)"
      ]
    },
    {
      "cell_type": "code",
      "execution_count": null,
      "metadata": {
        "execution": {
          "iopub.execute_input": "2021-01-30T12:07:07.426702Z",
          "iopub.status.busy": "2021-01-30T12:07:07.425102Z",
          "iopub.status.idle": "2021-01-30T12:07:07.432400Z",
          "shell.execute_reply": "2021-01-30T12:07:07.431861Z"
        },
        "papermill": {
          "duration": 0.10516,
          "end_time": "2021-01-30T12:07:07.432516",
          "exception": false,
          "start_time": "2021-01-30T12:07:07.327356",
          "status": "completed"
        },
        "tags": [],
        "colab": {
          "base_uri": "https://localhost:8080/"
        },
        "id": "zSvs57TcLu8l",
        "outputId": "a1165b5d-549e-405f-bd10-e319f69443bc"
      },
      "outputs": [
        {
          "output_type": "stream",
          "name": "stdout",
          "text": [
            "[[55  7]\n",
            " [13 15]]\n",
            "0.7777777777777778\n"
          ]
        }
      ],
      "source": [
        "# Making the confusion matrix and calculating accuracy score\n",
        "\n",
        "from sklearn.metrics import confusion_matrix, accuracy_score\n",
        "cm = confusion_matrix(y_test, y_pred)\n",
        "acc_knn = accuracy_score(y_test, y_pred)\n",
        "mylist.append(acc_knn)\n",
        "print(cm)\n",
        "print(acc_knn)"
      ]
    },
    {
      "cell_type": "markdown",
      "metadata": {
        "papermill": {
          "duration": 0.091986,
          "end_time": "2021-01-30T12:07:07.616516",
          "exception": false,
          "start_time": "2021-01-30T12:07:07.524530",
          "status": "completed"
        },
        "tags": [],
        "id": "O5Wk7s76Lu8l"
      },
      "source": [
        "## Support Vector Machines"
      ]
    },
    {
      "cell_type": "code",
      "execution_count": null,
      "metadata": {
        "execution": {
          "iopub.execute_input": "2021-01-30T12:07:07.811166Z",
          "iopub.status.busy": "2021-01-30T12:07:07.810470Z",
          "iopub.status.idle": "2021-01-30T12:07:08.143757Z",
          "shell.execute_reply": "2021-01-30T12:07:08.143059Z"
        },
        "papermill": {
          "duration": 0.436067,
          "end_time": "2021-01-30T12:07:08.143872",
          "exception": false,
          "start_time": "2021-01-30T12:07:07.707805",
          "status": "completed"
        },
        "tags": [],
        "colab": {
          "base_uri": "https://localhost:8080/",
          "height": 377
        },
        "id": "eoWyXu8jLu8l",
        "outputId": "991e794d-cd24-4333-c599-2a74e2916ae8"
      },
      "outputs": [
        {
          "output_type": "display_data",
          "data": {
            "text/plain": [
              "<Figure size 1080x432 with 1 Axes>"
            ],
            "image/png": "[encoded data removed]"
          },
          "metadata": {}
        }
      ],
      "source": [
        "from sklearn.svm import SVC\n",
        "from sklearn.metrics import confusion_matrix, accuracy_score\n",
        "list1 = []\n",
        "for c in [0.5,0.6,0.7,0.8,0.9,1.0]:\n",
        "    classifier = SVC(C = c, random_state=0, kernel = 'rbf')\n",
        "    classifier.fit(x_train, y_train)\n",
        "    y_pred = classifier.predict(x_test)\n",
        "    list1.append(accuracy_score(y_test,y_pred))\n",
        "plt.plot([0.5,0.6,0.7,0.8,0.9,1.0], list1)\n",
        "plt.show()"
      ]
    },
    {
      "cell_type": "code",
      "execution_count": null,
      "metadata": {
        "execution": {
          "iopub.execute_input": "2021-01-30T12:07:08.340630Z",
          "iopub.status.busy": "2021-01-30T12:07:08.339932Z",
          "iopub.status.idle": "2021-01-30T12:07:08.352007Z",
          "shell.execute_reply": "2021-01-30T12:07:08.352635Z"
        },
        "papermill": {
          "duration": 0.110083,
          "end_time": "2021-01-30T12:07:08.352795",
          "exception": false,
          "start_time": "2021-01-30T12:07:08.242712",
          "status": "completed"
        },
        "tags": [],
        "colab": {
          "base_uri": "https://localhost:8080/"
        },
        "id": "8FHCcRxNLu8m",
        "outputId": "fb6f71cd-b4db-4ae3-bf94-bb12f80d733b"
      },
      "outputs": [
        {
          "output_type": "execute_result",
          "data": {
            "text/plain": [
              "SVC(C=0.7, random_state=0)"
            ]
          },
          "metadata": {},
          "execution_count": 48
        }
      ],
      "source": [
        "# Training the Support Vector Classifier on the Training set\n",
        "\n",
        "from sklearn.svm import SVC\n",
        "classifier = SVC(C = 0.7, random_state=0, kernel = 'rbf')\n",
        "classifier.fit(x_train, y_train)"
      ]
    },
    {
      "cell_type": "code",
      "execution_count": null,
      "metadata": {
        "execution": {
          "iopub.execute_input": "2021-01-30T12:07:08.544018Z",
          "iopub.status.busy": "2021-01-30T12:07:08.543311Z",
          "iopub.status.idle": "2021-01-30T12:07:08.553586Z",
          "shell.execute_reply": "2021-01-30T12:07:08.552821Z"
        },
        "papermill": {
          "duration": 0.107161,
          "end_time": "2021-01-30T12:07:08.553745",
          "exception": false,
          "start_time": "2021-01-30T12:07:08.446584",
          "status": "completed"
        },
        "tags": [],
        "colab": {
          "base_uri": "https://localhost:8080/"
        },
        "id": "A9JgDPHOLu8m",
        "outputId": "c242b227-02cf-4109-8044-2bb49e72e551"
      },
      "outputs": [
        {
          "output_type": "stream",
          "name": "stdout",
          "text": [
            "[0 0 0 1 0 1 1 0 0 0 0 0 1 0 1 0 0 1 0 0 0 1 0 1 1 0 0 0 1 0 1 0 0 0 1 0 0\n",
            " 0 0 1 0 0 0 0 0 0 0 0 0 1 1 0 0 0 1 0 0 0 0 0 0 1 0 0 0 0 0 0 0 0 0 0 0 1\n",
            " 0 1 0 0 1 1 0 0 0 1 1 0 0 1 0 0]\n"
          ]
        }
      ],
      "source": [
        "# Predicting the test set results\n",
        "\n",
        "y_pred = classifier.predict(x_test)\n",
        "print(y_pred)"
      ]
    },
    {
      "cell_type": "code",
      "execution_count": null,
      "metadata": {
        "execution": {
          "iopub.execute_input": "2021-01-30T12:07:08.756039Z",
          "iopub.status.busy": "2021-01-30T12:07:08.755378Z",
          "iopub.status.idle": "2021-01-30T12:07:08.762733Z",
          "shell.execute_reply": "2021-01-30T12:07:08.762048Z"
        },
        "papermill": {
          "duration": 0.110852,
          "end_time": "2021-01-30T12:07:08.762848",
          "exception": false,
          "start_time": "2021-01-30T12:07:08.651996",
          "status": "completed"
        },
        "tags": [],
        "colab": {
          "base_uri": "https://localhost:8080/"
        },
        "id": "LG7T2FHmLu8m",
        "outputId": "ec8e4fe6-5537-4b4e-b14b-b564e3f6d391"
      },
      "outputs": [
        {
          "output_type": "stream",
          "name": "stdout",
          "text": [
            "[[53  9]\n",
            " [13 15]]\n",
            "0.7555555555555555\n"
          ]
        }
      ],
      "source": [
        "# Making the confusion matrix and calculating accuracy score\n",
        "\n",
        "from sklearn.metrics import confusion_matrix, accuracy_score\n",
        "cm = confusion_matrix(y_test, y_pred)\n",
        "acc_svc = accuracy_score(y_test, y_pred)\n",
        "print(cm)\n",
        "print(acc_svc)\n",
        "mylist.append(acc_svc)"
      ]
    },
    {
      "cell_type": "markdown",
      "metadata": {
        "papermill": {
          "duration": 0.095974,
          "end_time": "2021-01-30T12:07:08.953864",
          "exception": false,
          "start_time": "2021-01-30T12:07:08.857890",
          "status": "completed"
        },
        "tags": [],
        "id": "Oco8xJGcLu8m"
      },
      "source": [
        "## DecisionTreeClassifier"
      ]
    },
    {
      "cell_type": "code",
      "execution_count": null,
      "metadata": {
        "execution": {
          "iopub.execute_input": "2021-01-30T12:07:09.145043Z",
          "iopub.status.busy": "2021-01-30T12:07:09.144251Z",
          "iopub.status.idle": "2021-01-30T12:07:09.450472Z",
          "shell.execute_reply": "2021-01-30T12:07:09.451040Z"
        },
        "papermill": {
          "duration": 0.403657,
          "end_time": "2021-01-30T12:07:09.451185",
          "exception": false,
          "start_time": "2021-01-30T12:07:09.047528",
          "status": "completed"
        },
        "tags": [],
        "colab": {
          "base_uri": "https://localhost:8080/",
          "height": 377
        },
        "id": "yuMP8naFLu8m",
        "outputId": "00c53d4f-8578-4e86-b547-72662a72f7f8"
      },
      "outputs": [
        {
          "output_type": "display_data",
          "data": {
            "text/plain": [
              "<Figure size 1080x432 with 1 Axes>"
            ],
            "image/png": "[encoded data removed]"
          },
          "metadata": {}
        }
      ],
      "source": [
        "# Finding the optimum number of max_leaf_nodes\n",
        "\n",
        "from sklearn.tree import DecisionTreeClassifier\n",
        "from sklearn.metrics import confusion_matrix, accuracy_score\n",
        "list1 = []\n",
        "for leaves in range(2,15):\n",
        "    classifier = DecisionTreeClassifier(max_leaf_nodes = leaves, random_state=0, criterion='entropy')\n",
        "    classifier.fit(x_train, y_train)\n",
        "    y_pred = classifier.predict(x_test)\n",
        "    list1.append(accuracy_score(y_test,y_pred))\n",
        "#print(mylist)\n",
        "plt.plot(list(range(2,15)), list1)\n",
        "plt.show()"
      ]
    },
    {
      "cell_type": "code",
      "execution_count": null,
      "metadata": {
        "execution": {
          "iopub.execute_input": "2021-01-30T12:07:09.648005Z",
          "iopub.status.busy": "2021-01-30T12:07:09.647350Z",
          "iopub.status.idle": "2021-01-30T12:07:09.655114Z",
          "shell.execute_reply": "2021-01-30T12:07:09.655658Z"
        },
        "papermill": {
          "duration": 0.107371,
          "end_time": "2021-01-30T12:07:09.655808",
          "exception": false,
          "start_time": "2021-01-30T12:07:09.548437",
          "status": "completed"
        },
        "tags": [],
        "colab": {
          "base_uri": "https://localhost:8080/"
        },
        "id": "LjguPNW4Lu8n",
        "outputId": "e183516b-17aa-4d7b-85c4-8ced01328600"
      },
      "outputs": [
        {
          "output_type": "execute_result",
          "data": {
            "text/plain": [
              "DecisionTreeClassifier(criterion='entropy', max_leaf_nodes=10, random_state=0)"
            ]
          },
          "metadata": {},
          "execution_count": 52
        }
      ],
      "source": [
        "# Training the Decision Tree Classifier on the Training set\n",
        "\n",
        "classifier = DecisionTreeClassifier(max_leaf_nodes = 10, random_state=0, criterion='entropy')\n",
        "classifier.fit(x_train, y_train)"
      ]
    },
    {
      "cell_type": "code",
      "execution_count": null,
      "metadata": {
        "execution": {
          "iopub.execute_input": "2021-01-30T12:07:09.850471Z",
          "iopub.status.busy": "2021-01-30T12:07:09.849710Z",
          "iopub.status.idle": "2021-01-30T12:07:09.856314Z",
          "shell.execute_reply": "2021-01-30T12:07:09.855759Z"
        },
        "papermill": {
          "duration": 0.105432,
          "end_time": "2021-01-30T12:07:09.856453",
          "exception": false,
          "start_time": "2021-01-30T12:07:09.751021",
          "status": "completed"
        },
        "tags": [],
        "colab": {
          "base_uri": "https://localhost:8080/"
        },
        "id": "zfygOWxMLu8n",
        "outputId": "6bb1dde1-90d0-43d1-c1f8-9c68a353c15e"
      },
      "outputs": [
        {
          "output_type": "stream",
          "name": "stdout",
          "text": [
            "[0 0 0 1 0 1 1 0 0 0 0 0 1 0 1 0 0 1 1 0 0 1 0 0 0 0 0 0 1 0 1 0 0 0 1 0 0\n",
            " 0 0 1 0 0 0 0 0 0 0 1 0 1 1 0 1 0 0 0 0 0 0 0 0 1 0 0 0 0 1 1 0 0 0 1 0 0\n",
            " 0 1 0 0 1 1 0 0 0 0 1 0 0 1 0 0]\n"
          ]
        }
      ],
      "source": [
        "# Predicting the test set results\n",
        "\n",
        "y_pred = classifier.predict(x_test)\n",
        "print(y_pred)"
      ]
    },
    {
      "cell_type": "code",
      "execution_count": null,
      "metadata": {
        "execution": {
          "iopub.execute_input": "2021-01-30T12:07:10.057963Z",
          "iopub.status.busy": "2021-01-30T12:07:10.057060Z",
          "iopub.status.idle": "2021-01-30T12:07:10.063204Z",
          "shell.execute_reply": "2021-01-30T12:07:10.063878Z"
        },
        "papermill": {
          "duration": 0.111095,
          "end_time": "2021-01-30T12:07:10.064035",
          "exception": false,
          "start_time": "2021-01-30T12:07:09.952940",
          "status": "completed"
        },
        "tags": [],
        "colab": {
          "base_uri": "https://localhost:8080/"
        },
        "id": "g4faF24gLu8n",
        "outputId": "eab37fe2-1912-4a25-ff92-160a9bed2260"
      },
      "outputs": [
        {
          "output_type": "stream",
          "name": "stdout",
          "text": [
            "[[54  8]\n",
            " [11 17]]\n",
            "0.7888888888888889\n"
          ]
        }
      ],
      "source": [
        "# Making the confusion matrix and calculating accuracy score\n",
        "\n",
        "from sklearn.metrics import confusion_matrix, accuracy_score\n",
        "cm = confusion_matrix(y_test, y_pred)\n",
        "acc_decisiontree = accuracy_score(y_test, y_pred)\n",
        "print(cm)\n",
        "print(acc_decisiontree)\n",
        "mylist.append(acc_decisiontree)"
      ]
    },
    {
      "cell_type": "markdown",
      "metadata": {
        "papermill": {
          "duration": 0.097138,
          "end_time": "2021-01-30T12:07:10.259916",
          "exception": false,
          "start_time": "2021-01-30T12:07:10.162778",
          "status": "completed"
        },
        "tags": [],
        "id": "TklPdt1WLu8n"
      },
      "source": [
        "## RANDOM FOREST CLASSIFCATION"
      ]
    },
    {
      "cell_type": "code",
      "execution_count": null,
      "metadata": {
        "execution": {
          "iopub.execute_input": "2021-01-30T12:07:10.472679Z",
          "iopub.status.busy": "2021-01-30T12:07:10.471948Z",
          "iopub.status.idle": "2021-01-30T12:07:11.667176Z",
          "shell.execute_reply": "2021-01-30T12:07:11.667717Z"
        },
        "papermill": {
          "duration": 1.309452,
          "end_time": "2021-01-30T12:07:11.667860",
          "exception": false,
          "start_time": "2021-01-30T12:07:10.358408",
          "status": "completed"
        },
        "tags": [],
        "colab": {
          "base_uri": "https://localhost:8080/",
          "height": 377
        },
        "id": "N-RQQx6WLu8o",
        "outputId": "57c40bea-6277-4947-c222-9247cc9b78d1"
      },
      "outputs": [
        {
          "output_type": "display_data",
          "data": {
            "text/plain": [
              "<Figure size 1080x432 with 1 Axes>"
            ],
            "image/png": "[encoded data removed]"
          },
          "metadata": {}
        }
      ],
      "source": [
        "#Finding the optimum number of n_estimators\n",
        "\n",
        "from sklearn.ensemble import RandomForestClassifier\n",
        "from sklearn.metrics import confusion_matrix, accuracy_score\n",
        "list1 = []\n",
        "for estimators in range(10,30):\n",
        "    classifier = RandomForestClassifier(n_estimators = estimators, random_state=0, criterion='entropy')\n",
        "    classifier.fit(x_train, y_train)\n",
        "    y_pred = classifier.predict(x_test)\n",
        "    list1.append(accuracy_score(y_test,y_pred))\n",
        "#print(mylist)\n",
        "plt.plot(list(range(10,30)), list1)\n",
        "plt.show()"
      ]
    },
    {
      "cell_type": "code",
      "execution_count": null,
      "metadata": {
        "execution": {
          "iopub.execute_input": "2021-01-30T12:07:11.868748Z",
          "iopub.status.busy": "2021-01-30T12:07:11.867707Z",
          "iopub.status.idle": "2021-01-30T12:07:11.909036Z",
          "shell.execute_reply": "2021-01-30T12:07:11.908348Z"
        },
        "papermill": {
          "duration": 0.142,
          "end_time": "2021-01-30T12:07:11.909152",
          "exception": false,
          "start_time": "2021-01-30T12:07:11.767152",
          "status": "completed"
        },
        "tags": [],
        "colab": {
          "base_uri": "https://localhost:8080/"
        },
        "id": "cax-MgobLu8o",
        "outputId": "ed169d62-1bf0-4dd3-d618-dbb5b53546f6"
      },
      "outputs": [
        {
          "output_type": "execute_result",
          "data": {
            "text/plain": [
              "RandomForestClassifier(criterion='entropy', n_estimators=15, random_state=0)"
            ]
          },
          "metadata": {},
          "execution_count": 56
        }
      ],
      "source": [
        "# Training the RandomForest Classifier on the Training set\n",
        "\n",
        "from sklearn.ensemble import RandomForestClassifier\n",
        "classifier = RandomForestClassifier(n_estimators = 15, criterion='entropy', random_state=0)\n",
        "classifier.fit(x_train,y_train)"
      ]
    },
    {
      "cell_type": "code",
      "execution_count": null,
      "metadata": {
        "execution": {
          "iopub.execute_input": "2021-01-30T12:07:12.113901Z",
          "iopub.status.busy": "2021-01-30T12:07:12.113113Z",
          "iopub.status.idle": "2021-01-30T12:07:12.119107Z",
          "shell.execute_reply": "2021-01-30T12:07:12.119628Z"
        },
        "papermill": {
          "duration": 0.111308,
          "end_time": "2021-01-30T12:07:12.119772",
          "exception": false,
          "start_time": "2021-01-30T12:07:12.008464",
          "status": "completed"
        },
        "tags": [],
        "colab": {
          "base_uri": "https://localhost:8080/"
        },
        "id": "JW6fPVmeLu8o",
        "outputId": "b9aacfe3-8a5f-40f7-f723-775bea8c95f0"
      },
      "outputs": [
        {
          "output_type": "stream",
          "name": "stdout",
          "text": [
            "[0 0 0 1 0 1 1 0 0 0 0 0 1 0 1 0 0 1 0 0 0 0 0 0 0 0 0 0 1 0 1 0 0 0 1 0 0\n",
            " 0 0 1 0 0 0 0 0 0 0 0 0 1 1 0 1 0 1 0 0 0 0 0 0 1 0 0 0 0 0 0 0 0 0 0 0 0\n",
            " 0 1 0 0 1 1 0 1 0 0 1 0 0 1 0 0]\n"
          ]
        }
      ],
      "source": [
        "# Predicting the test set results\n",
        "\n",
        "y_pred = classifier.predict(x_test)\n",
        "print(y_pred)"
      ]
    },
    {
      "cell_type": "code",
      "execution_count": null,
      "metadata": {
        "execution": {
          "iopub.execute_input": "2021-01-30T12:07:12.326416Z",
          "iopub.status.busy": "2021-01-30T12:07:12.325615Z",
          "iopub.status.idle": "2021-01-30T12:07:12.331397Z",
          "shell.execute_reply": "2021-01-30T12:07:12.330609Z"
        },
        "papermill": {
          "duration": 0.112684,
          "end_time": "2021-01-30T12:07:12.331551",
          "exception": false,
          "start_time": "2021-01-30T12:07:12.218867",
          "status": "completed"
        },
        "tags": [],
        "colab": {
          "base_uri": "https://localhost:8080/"
        },
        "id": "ohCx0C74Lu8o",
        "outputId": "ba66e040-2324-437e-91a7-c0201f21a51a"
      },
      "outputs": [
        {
          "output_type": "stream",
          "name": "stdout",
          "text": [
            "[[57  5]\n",
            " [12 16]]\n",
            "0.8111111111111111\n"
          ]
        }
      ],
      "source": [
        "# Making the confusion matrix and calculating the accuracy score\n",
        "\n",
        "from sklearn.metrics import confusion_matrix, accuracy_score\n",
        "cm = confusion_matrix(y_test, y_pred)\n",
        "acc_randomforest = accuracy_score(y_test, y_pred)\n",
        "mylist.append(acc_randomforest)\n",
        "print(cm)\n",
        "print(acc_randomforest)"
      ]
    },
    {
      "cell_type": "markdown",
      "metadata": {
        "papermill": {
          "duration": 0.09958,
          "end_time": "2021-01-30T12:07:12.531943",
          "exception": false,
          "start_time": "2021-01-30T12:07:12.432363",
          "status": "completed"
        },
        "tags": [],
        "id": "Mgiy_RWwLu8o"
      },
      "source": [
        "## ANN (neural network )"
      ]
    },
    {
      "cell_type": "code",
      "execution_count": null,
      "metadata": {
        "execution": {
          "iopub.execute_input": "2021-01-30T12:07:12.740804Z",
          "iopub.status.busy": "2021-01-30T12:07:12.739921Z",
          "iopub.status.idle": "2021-01-30T12:07:18.946612Z",
          "shell.execute_reply": "2021-01-30T12:07:18.947099Z"
        },
        "papermill": {
          "duration": 6.314216,
          "end_time": "2021-01-30T12:07:18.947265",
          "exception": false,
          "start_time": "2021-01-30T12:07:12.633049",
          "status": "completed"
        },
        "tags": [],
        "id": "KLi7d2AqLu8p"
      },
      "outputs": [],
      "source": [
        "np.random.seed(0)\n",
        "import tensorflow as tf\n",
        "\n",
        "# Initialising the ANN\n",
        "\n",
        "ann = tf.keras.models.Sequential()"
      ]
    },
    {
      "cell_type": "code",
      "execution_count": null,
      "metadata": {
        "execution": {
          "iopub.execute_input": "2021-01-30T12:07:19.162479Z",
          "iopub.status.busy": "2021-01-30T12:07:19.161535Z",
          "iopub.status.idle": "2021-01-30T12:07:19.164678Z",
          "shell.execute_reply": "2021-01-30T12:07:19.164043Z"
        },
        "papermill": {
          "duration": 0.118254,
          "end_time": "2021-01-30T12:07:19.164807",
          "exception": false,
          "start_time": "2021-01-30T12:07:19.046553",
          "status": "completed"
        },
        "tags": [],
        "id": "UXtYbF54Lu8p"
      },
      "outputs": [],
      "source": [
        "# Adding the input layer and the first hidden layer\n",
        "\n",
        "ann.add(tf.keras.layers.Dense(units = 7, activation = 'relu'))"
      ]
    },
    {
      "cell_type": "code",
      "execution_count": null,
      "metadata": {
        "execution": {
          "iopub.execute_input": "2021-01-30T12:07:19.373679Z",
          "iopub.status.busy": "2021-01-30T12:07:19.372939Z",
          "iopub.status.idle": "2021-01-30T12:07:19.376418Z",
          "shell.execute_reply": "2021-01-30T12:07:19.375842Z"
        },
        "papermill": {
          "duration": 0.11188,
          "end_time": "2021-01-30T12:07:19.376529",
          "exception": false,
          "start_time": "2021-01-30T12:07:19.264649",
          "status": "completed"
        },
        "tags": [],
        "id": "b1rHJ39iLu8p"
      },
      "outputs": [],
      "source": [
        "# Adding the second hidden layer\n",
        "\n",
        "ann.add(tf.keras.layers.Dense(units = 7, activation = 'relu'))"
      ]
    },
    {
      "cell_type": "code",
      "execution_count": null,
      "metadata": {
        "execution": {
          "iopub.execute_input": "2021-01-30T12:07:19.580133Z",
          "iopub.status.busy": "2021-01-30T12:07:19.579069Z",
          "iopub.status.idle": "2021-01-30T12:07:19.585151Z",
          "shell.execute_reply": "2021-01-30T12:07:19.585836Z"
        },
        "papermill": {
          "duration": 0.10949,
          "end_time": "2021-01-30T12:07:19.585973",
          "exception": false,
          "start_time": "2021-01-30T12:07:19.476483",
          "status": "completed"
        },
        "tags": [],
        "id": "-ALedH6KLu8p"
      },
      "outputs": [],
      "source": [
        "# Adding the third hidden layer\n",
        "\n",
        "ann.add(tf.keras.layers.Dense(units = 7, activation = 'relu'))"
      ]
    },
    {
      "cell_type": "code",
      "execution_count": null,
      "metadata": {
        "execution": {
          "iopub.execute_input": "2021-01-30T12:07:19.791557Z",
          "iopub.status.busy": "2021-01-30T12:07:19.790449Z",
          "iopub.status.idle": "2021-01-30T12:07:19.796583Z",
          "shell.execute_reply": "2021-01-30T12:07:19.797061Z"
        },
        "papermill": {
          "duration": 0.110307,
          "end_time": "2021-01-30T12:07:19.797221",
          "exception": false,
          "start_time": "2021-01-30T12:07:19.686914",
          "status": "completed"
        },
        "tags": [],
        "id": "BdSNLBZ4Lu8q"
      },
      "outputs": [],
      "source": [
        "# Adding the fourth hidden layer\n",
        "\n",
        "ann.add(tf.keras.layers.Dense(units = 7, activation = 'relu'))"
      ]
    },
    {
      "cell_type": "code",
      "execution_count": null,
      "metadata": {
        "execution": {
          "iopub.execute_input": "2021-01-30T12:07:20.004040Z",
          "iopub.status.busy": "2021-01-30T12:07:20.002785Z",
          "iopub.status.idle": "2021-01-30T12:07:20.009638Z",
          "shell.execute_reply": "2021-01-30T12:07:20.010166Z"
        },
        "papermill": {
          "duration": 0.11175,
          "end_time": "2021-01-30T12:07:20.010364",
          "exception": false,
          "start_time": "2021-01-30T12:07:19.898614",
          "status": "completed"
        },
        "tags": [],
        "id": "HgMrEDK_Lu8q"
      },
      "outputs": [],
      "source": [
        "# Adding the output layer\n",
        "\n",
        "ann.add(tf.keras.layers.Dense(units = 1, activation = 'sigmoid'))"
      ]
    },
    {
      "cell_type": "code",
      "execution_count": null,
      "metadata": {
        "execution": {
          "iopub.execute_input": "2021-01-30T12:07:20.226962Z",
          "iopub.status.busy": "2021-01-30T12:07:20.226166Z",
          "iopub.status.idle": "2021-01-30T12:07:20.237396Z",
          "shell.execute_reply": "2021-01-30T12:07:20.236838Z"
        },
        "papermill": {
          "duration": 0.125506,
          "end_time": "2021-01-30T12:07:20.237519",
          "exception": false,
          "start_time": "2021-01-30T12:07:20.112013",
          "status": "completed"
        },
        "tags": [],
        "id": "VsKsG0QnLu8q"
      },
      "outputs": [],
      "source": [
        "# Compiling the ANN\n",
        "\n",
        "ann.compile(optimizer = 'adam', loss = 'binary_crossentropy' , metrics = ['accuracy'] )"
      ]
    },
    {
      "cell_type": "code",
      "execution_count": null,
      "metadata": {
        "execution": {
          "iopub.execute_input": "2021-01-30T12:07:20.445307Z",
          "iopub.status.busy": "2021-01-30T12:07:20.444483Z",
          "iopub.status.idle": "2021-01-30T12:07:23.616844Z",
          "shell.execute_reply": "2021-01-30T12:07:23.617428Z"
        },
        "papermill": {
          "duration": 3.279739,
          "end_time": "2021-01-30T12:07:23.617592",
          "exception": false,
          "start_time": "2021-01-30T12:07:20.337853",
          "status": "completed"
        },
        "tags": [],
        "colab": {
          "base_uri": "https://localhost:8080/"
        },
        "id": "MCa1Kq3nLu8q",
        "outputId": "127fc386-b474-4c7d-f33b-f3be4024baeb"
      },
      "outputs": [
        {
          "output_type": "stream",
          "name": "stdout",
          "text": [
            "Epoch 1/100\n",
            "13/13 [==============================] - 1s 2ms/step - loss: 0.6927 - accuracy: 0.3768\n",
            "Epoch 2/100\n",
            "13/13 [==============================] - 0s 3ms/step - loss: 0.6754 - accuracy: 0.5797\n",
            "Epoch 3/100\n",
            "13/13 [==============================] - 0s 2ms/step - loss: 0.6663 - accuracy: 0.6957\n",
            "Epoch 4/100\n",
            "13/13 [==============================] - 0s 2ms/step - loss: 0.6570 - accuracy: 0.7488\n",
            "Epoch 5/100\n",
            "13/13 [==============================] - 0s 2ms/step - loss: 0.6472 - accuracy: 0.7488\n",
            "Epoch 6/100\n",
            "13/13 [==============================] - 0s 2ms/step - loss: 0.6373 - accuracy: 0.7826\n",
            "Epoch 7/100\n",
            "13/13 [==============================] - 0s 3ms/step - loss: 0.6259 - accuracy: 0.7923\n",
            "Epoch 8/100\n",
            "13/13 [==============================] - 0s 3ms/step - loss: 0.6136 - accuracy: 0.7971\n",
            "Epoch 9/100\n",
            "13/13 [==============================] - 0s 2ms/step - loss: 0.6010 - accuracy: 0.8068\n",
            "Epoch 10/100\n",
            "13/13 [==============================] - 0s 3ms/step - loss: 0.5879 - accuracy: 0.8116\n",
            "Epoch 11/100\n",
            "13/13 [==============================] - 0s 2ms/step - loss: 0.5746 - accuracy: 0.8164\n",
            "Epoch 12/100\n",
            "13/13 [==============================] - 0s 3ms/step - loss: 0.5600 - accuracy: 0.8261\n",
            "Epoch 13/100\n",
            "13/13 [==============================] - 0s 2ms/step - loss: 0.5451 - accuracy: 0.8213\n",
            "Epoch 14/100\n",
            "13/13 [==============================] - 0s 2ms/step - loss: 0.5307 - accuracy: 0.8261\n",
            "Epoch 15/100\n",
            "13/13 [==============================] - 0s 2ms/step - loss: 0.5162 - accuracy: 0.8309\n",
            "Epoch 16/100\n",
            "13/13 [==============================] - 0s 3ms/step - loss: 0.5019 - accuracy: 0.8357\n",
            "Epoch 17/100\n",
            "13/13 [==============================] - 0s 2ms/step - loss: 0.4871 - accuracy: 0.8454\n",
            "Epoch 18/100\n",
            "13/13 [==============================] - 0s 2ms/step - loss: 0.4729 - accuracy: 0.8454\n",
            "Epoch 19/100\n",
            "13/13 [==============================] - 0s 2ms/step - loss: 0.4587 - accuracy: 0.8502\n",
            "Epoch 20/100\n",
            "13/13 [==============================] - 0s 2ms/step - loss: 0.4473 - accuracy: 0.8502\n",
            "Epoch 21/100\n",
            "13/13 [==============================] - 0s 3ms/step - loss: 0.4347 - accuracy: 0.8551\n",
            "Epoch 22/100\n",
            "13/13 [==============================] - 0s 2ms/step - loss: 0.4241 - accuracy: 0.8647\n",
            "Epoch 23/100\n",
            "13/13 [==============================] - 0s 2ms/step - loss: 0.4140 - accuracy: 0.8647\n",
            "Epoch 24/100\n",
            "13/13 [==============================] - 0s 2ms/step - loss: 0.4044 - accuracy: 0.8647\n",
            "Epoch 25/100\n",
            "13/13 [==============================] - 0s 2ms/step - loss: 0.3958 - accuracy: 0.8696\n",
            "Epoch 26/100\n",
            "13/13 [==============================] - 0s 3ms/step - loss: 0.3883 - accuracy: 0.8647\n",
            "Epoch 27/100\n",
            "13/13 [==============================] - 0s 3ms/step - loss: 0.3810 - accuracy: 0.8647\n",
            "Epoch 28/100\n",
            "13/13 [==============================] - 0s 2ms/step - loss: 0.3785 - accuracy: 0.8599\n",
            "Epoch 29/100\n",
            "13/13 [==============================] - 0s 2ms/step - loss: 0.3686 - accuracy: 0.8696\n",
            "Epoch 30/100\n",
            "13/13 [==============================] - 0s 2ms/step - loss: 0.3672 - accuracy: 0.8647\n",
            "Epoch 31/100\n",
            "13/13 [==============================] - 0s 3ms/step - loss: 0.3601 - accuracy: 0.8744\n",
            "Epoch 32/100\n",
            "13/13 [==============================] - 0s 2ms/step - loss: 0.3556 - accuracy: 0.8696\n",
            "Epoch 33/100\n",
            "13/13 [==============================] - 0s 2ms/step - loss: 0.3517 - accuracy: 0.8792\n",
            "Epoch 34/100\n",
            "13/13 [==============================] - 0s 3ms/step - loss: 0.3480 - accuracy: 0.8744\n",
            "Epoch 35/100\n",
            "13/13 [==============================] - 0s 2ms/step - loss: 0.3456 - accuracy: 0.8744\n",
            "Epoch 36/100\n",
            "13/13 [==============================] - 0s 3ms/step - loss: 0.3442 - accuracy: 0.8744\n",
            "Epoch 37/100\n",
            "13/13 [==============================] - 0s 3ms/step - loss: 0.3425 - accuracy: 0.8841\n",
            "Epoch 38/100\n",
            "13/13 [==============================] - 0s 2ms/step - loss: 0.3371 - accuracy: 0.8841\n",
            "Epoch 39/100\n",
            "13/13 [==============================] - 0s 2ms/step - loss: 0.3348 - accuracy: 0.8841\n",
            "Epoch 40/100\n",
            "13/13 [==============================] - 0s 2ms/step - loss: 0.3325 - accuracy: 0.8841\n",
            "Epoch 41/100\n",
            "13/13 [==============================] - 0s 3ms/step - loss: 0.3296 - accuracy: 0.8841\n",
            "Epoch 42/100\n",
            "13/13 [==============================] - 0s 3ms/step - loss: 0.3273 - accuracy: 0.8841\n",
            "Epoch 43/100\n",
            "13/13 [==============================] - 0s 9ms/step - loss: 0.3251 - accuracy: 0.8889\n",
            "Epoch 44/100\n",
            "13/13 [==============================] - 0s 8ms/step - loss: 0.3232 - accuracy: 0.8889\n",
            "Epoch 45/100\n",
            "13/13 [==============================] - 0s 9ms/step - loss: 0.3208 - accuracy: 0.8889\n",
            "Epoch 46/100\n",
            "13/13 [==============================] - 0s 10ms/step - loss: 0.3181 - accuracy: 0.8889\n",
            "Epoch 47/100\n",
            "13/13 [==============================] - 0s 10ms/step - loss: 0.3154 - accuracy: 0.8937\n",
            "Epoch 48/100\n",
            "13/13 [==============================] - 0s 8ms/step - loss: 0.3135 - accuracy: 0.8889\n",
            "Epoch 49/100\n",
            "13/13 [==============================] - 0s 7ms/step - loss: 0.3123 - accuracy: 0.8889\n",
            "Epoch 50/100\n",
            "13/13 [==============================] - 0s 4ms/step - loss: 0.3088 - accuracy: 0.8937\n",
            "Epoch 51/100\n",
            "13/13 [==============================] - 0s 3ms/step - loss: 0.3060 - accuracy: 0.8986\n",
            "Epoch 52/100\n",
            "13/13 [==============================] - 0s 3ms/step - loss: 0.3024 - accuracy: 0.8986\n",
            "Epoch 53/100\n",
            "13/13 [==============================] - 0s 4ms/step - loss: 0.3000 - accuracy: 0.8986\n",
            "Epoch 54/100\n",
            "13/13 [==============================] - 0s 2ms/step - loss: 0.2973 - accuracy: 0.8937\n",
            "Epoch 55/100\n",
            "13/13 [==============================] - 0s 2ms/step - loss: 0.2948 - accuracy: 0.8937\n",
            "Epoch 56/100\n",
            "13/13 [==============================] - 0s 2ms/step - loss: 0.2931 - accuracy: 0.8937\n",
            "Epoch 57/100\n",
            "13/13 [==============================] - 0s 2ms/step - loss: 0.2897 - accuracy: 0.8937\n",
            "Epoch 58/100\n",
            "13/13 [==============================] - 0s 2ms/step - loss: 0.2883 - accuracy: 0.8937\n",
            "Epoch 59/100\n",
            "13/13 [==============================] - 0s 2ms/step - loss: 0.2849 - accuracy: 0.8937\n",
            "Epoch 60/100\n",
            "13/13 [==============================] - 0s 2ms/step - loss: 0.2850 - accuracy: 0.8937\n",
            "Epoch 61/100\n",
            "13/13 [==============================] - 0s 2ms/step - loss: 0.2812 - accuracy: 0.8937\n",
            "Epoch 62/100\n",
            "13/13 [==============================] - 0s 10ms/step - loss: 0.2787 - accuracy: 0.8889\n",
            "Epoch 63/100\n",
            "13/13 [==============================] - 0s 10ms/step - loss: 0.2779 - accuracy: 0.8937\n",
            "Epoch 64/100\n",
            "13/13 [==============================] - 0s 9ms/step - loss: 0.2759 - accuracy: 0.8937\n",
            "Epoch 65/100\n",
            "13/13 [==============================] - 0s 7ms/step - loss: 0.2723 - accuracy: 0.8937\n",
            "Epoch 66/100\n",
            "13/13 [==============================] - 0s 8ms/step - loss: 0.2713 - accuracy: 0.8986\n",
            "Epoch 67/100\n",
            "13/13 [==============================] - 0s 8ms/step - loss: 0.2695 - accuracy: 0.8937\n",
            "Epoch 68/100\n",
            "13/13 [==============================] - 0s 9ms/step - loss: 0.2679 - accuracy: 0.8986\n",
            "Epoch 69/100\n",
            "13/13 [==============================] - 0s 8ms/step - loss: 0.2663 - accuracy: 0.8937\n",
            "Epoch 70/100\n",
            "13/13 [==============================] - 0s 4ms/step - loss: 0.2639 - accuracy: 0.8986\n",
            "Epoch 71/100\n",
            "13/13 [==============================] - 0s 6ms/step - loss: 0.2628 - accuracy: 0.8937\n",
            "Epoch 72/100\n",
            "13/13 [==============================] - 0s 3ms/step - loss: 0.2606 - accuracy: 0.8986\n",
            "Epoch 73/100\n",
            "13/13 [==============================] - 0s 2ms/step - loss: 0.2601 - accuracy: 0.8986\n",
            "Epoch 74/100\n",
            "13/13 [==============================] - 0s 2ms/step - loss: 0.2585 - accuracy: 0.8986\n",
            "Epoch 75/100\n",
            "13/13 [==============================] - 0s 2ms/step - loss: 0.2561 - accuracy: 0.8986\n",
            "Epoch 76/100\n",
            "13/13 [==============================] - 0s 2ms/step - loss: 0.2564 - accuracy: 0.8986\n",
            "Epoch 77/100\n",
            "13/13 [==============================] - 0s 2ms/step - loss: 0.2552 - accuracy: 0.8937\n",
            "Epoch 78/100\n",
            "13/13 [==============================] - 0s 2ms/step - loss: 0.2526 - accuracy: 0.8986\n",
            "Epoch 79/100\n",
            "13/13 [==============================] - 0s 2ms/step - loss: 0.2527 - accuracy: 0.8986\n",
            "Epoch 80/100\n",
            "13/13 [==============================] - 0s 2ms/step - loss: 0.2502 - accuracy: 0.8937\n",
            "Epoch 81/100\n",
            "13/13 [==============================] - 0s 2ms/step - loss: 0.2492 - accuracy: 0.8937\n",
            "Epoch 82/100\n",
            "13/13 [==============================] - 0s 9ms/step - loss: 0.2488 - accuracy: 0.8986\n",
            "Epoch 83/100\n",
            "13/13 [==============================] - 0s 8ms/step - loss: 0.2486 - accuracy: 0.8937\n",
            "Epoch 84/100\n",
            "13/13 [==============================] - 0s 7ms/step - loss: 0.2462 - accuracy: 0.8937\n",
            "Epoch 85/100\n",
            "13/13 [==============================] - 0s 7ms/step - loss: 0.2453 - accuracy: 0.9034\n",
            "Epoch 86/100\n",
            "13/13 [==============================] - 0s 8ms/step - loss: 0.2442 - accuracy: 0.8937\n",
            "Epoch 87/100\n",
            "13/13 [==============================] - 0s 10ms/step - loss: 0.2434 - accuracy: 0.8937\n",
            "Epoch 88/100\n",
            "13/13 [==============================] - 0s 8ms/step - loss: 0.2428 - accuracy: 0.8937\n",
            "Epoch 89/100\n",
            "13/13 [==============================] - 0s 4ms/step - loss: 0.2413 - accuracy: 0.8986\n",
            "Epoch 90/100\n",
            "13/13 [==============================] - 0s 6ms/step - loss: 0.2404 - accuracy: 0.9034\n",
            "Epoch 91/100\n",
            "13/13 [==============================] - 0s 6ms/step - loss: 0.2408 - accuracy: 0.9034\n",
            "Epoch 92/100\n",
            "13/13 [==============================] - 0s 2ms/step - loss: 0.2385 - accuracy: 0.9034\n",
            "Epoch 93/100\n",
            "13/13 [==============================] - 0s 2ms/step - loss: 0.2384 - accuracy: 0.9034\n",
            "Epoch 94/100\n",
            "13/13 [==============================] - 0s 3ms/step - loss: 0.2370 - accuracy: 0.9034\n",
            "Epoch 95/100\n",
            "13/13 [==============================] - 0s 2ms/step - loss: 0.2354 - accuracy: 0.9082\n",
            "Epoch 96/100\n",
            "13/13 [==============================] - 0s 2ms/step - loss: 0.2359 - accuracy: 0.9082\n",
            "Epoch 97/100\n",
            "13/13 [==============================] - 0s 2ms/step - loss: 0.2368 - accuracy: 0.9082\n",
            "Epoch 98/100\n",
            "13/13 [==============================] - 0s 2ms/step - loss: 0.2344 - accuracy: 0.9082\n",
            "Epoch 99/100\n",
            "13/13 [==============================] - 0s 2ms/step - loss: 0.2331 - accuracy: 0.9179\n",
            "Epoch 100/100\n",
            "13/13 [==============================] - 0s 3ms/step - loss: 0.2326 - accuracy: 0.9130\n"
          ]
        },
        {
          "output_type": "execute_result",
          "data": {
            "text/plain": [
              "<keras.callbacks.History at 0x7fd8a40599d0>"
            ]
          },
          "metadata": {},
          "execution_count": 67
        }
      ],
      "source": [
        "# Training the ANN on the training set\n",
        "\n",
        "ann.fit(x_train, y_train, batch_size = 16, epochs = 100)"
      ]
    },
    {
      "cell_type": "code",
      "execution_count": null,
      "metadata": {
        "execution": {
          "iopub.execute_input": "2021-01-30T12:07:23.983014Z",
          "iopub.status.busy": "2021-01-30T12:07:23.980637Z",
          "iopub.status.idle": "2021-01-30T12:07:24.110411Z",
          "shell.execute_reply": "2021-01-30T12:07:24.109361Z"
        },
        "papermill": {
          "duration": 0.313949,
          "end_time": "2021-01-30T12:07:24.110550",
          "exception": false,
          "start_time": "2021-01-30T12:07:23.796601",
          "status": "completed"
        },
        "tags": [],
        "id": "Sld1Os0DLu8q"
      },
      "outputs": [],
      "source": [
        "# Predicting the test set results\n",
        "\n",
        "y_pred = ann.predict(x_test)\n",
        "y_pred = (y_pred > 0.5)\n",
        "np.set_printoptions()\n"
      ]
    },
    {
      "cell_type": "code",
      "execution_count": null,
      "metadata": {
        "execution": {
          "iopub.execute_input": "2021-01-30T12:07:24.473609Z",
          "iopub.status.busy": "2021-01-30T12:07:24.472828Z",
          "iopub.status.idle": "2021-01-30T12:07:24.477399Z",
          "shell.execute_reply": "2021-01-30T12:07:24.477911Z"
        },
        "papermill": {
          "duration": 0.191587,
          "end_time": "2021-01-30T12:07:24.478079",
          "exception": false,
          "start_time": "2021-01-30T12:07:24.286492",
          "status": "completed"
        },
        "tags": [],
        "colab": {
          "base_uri": "https://localhost:8080/"
        },
        "id": "IMGxjDZMLu8r",
        "outputId": "d5c80941-e829-4c3b-82b3-084b85d397af"
      },
      "outputs": [
        {
          "output_type": "stream",
          "name": "stdout",
          "text": [
            "Confusion Matrix\n",
            "[[54  8]\n",
            " [15 13]]\n",
            "\n",
            "Accuracy\n",
            "0.7444444444444445\n"
          ]
        }
      ],
      "source": [
        "# Making the confusion matrix, calculating accuracy_score \n",
        "\n",
        "from sklearn.metrics import confusion_matrix, accuracy_score\n",
        "\n",
        "# confusion matrix\n",
        "cm = confusion_matrix(y_test,y_pred)\n",
        "print(\"Confusion Matrix\")\n",
        "print(cm)\n",
        "print()\n",
        "\n",
        "# accuracy\n",
        "ac_ann = accuracy_score(y_test,y_pred)\n",
        "print(\"Accuracy\")\n",
        "print(ac_ann)\n",
        "mylist.append(ac_ann)"
      ]
    },
    {
      "cell_type": "markdown",
      "metadata": {
        "papermill": {
          "duration": 0.175445,
          "end_time": "2021-01-30T12:07:24.832694",
          "exception": false,
          "start_time": "2021-01-30T12:07:24.657249",
          "status": "completed"
        },
        "tags": [],
        "id": "TIvegHiDLu8r"
      },
      "source": [
        "## xgboost "
      ]
    },
    {
      "cell_type": "code",
      "execution_count": null,
      "metadata": {
        "execution": {
          "iopub.execute_input": "2021-01-30T12:07:25.195289Z",
          "iopub.status.busy": "2021-01-30T12:07:25.194621Z",
          "iopub.status.idle": "2021-01-30T12:07:25.993098Z",
          "shell.execute_reply": "2021-01-30T12:07:25.992451Z"
        },
        "papermill": {
          "duration": 0.982934,
          "end_time": "2021-01-30T12:07:25.993210",
          "exception": false,
          "start_time": "2021-01-30T12:07:25.010276",
          "status": "completed"
        },
        "tags": [],
        "colab": {
          "base_uri": "https://localhost:8080/",
          "height": 377
        },
        "id": "_dqfBhzCLu8r",
        "outputId": "8cacc365-42dc-4beb-f782-f2267cc1beca"
      },
      "outputs": [
        {
          "output_type": "display_data",
          "data": {
            "text/plain": [
              "<Figure size 1080x432 with 1 Axes>"
            ],
            "image/png": "[encoded data removed]"
          },
          "metadata": {}
        }
      ],
      "source": [
        "from xgboost import XGBClassifier\n",
        "from sklearn.metrics import confusion_matrix, accuracy_score\n",
        "list1 = []\n",
        "for estimators in range(10,30,1):\n",
        "    classifier = XGBClassifier(n_estimators = estimators, max_depth=12, subsample=0.7)\n",
        "    classifier.fit(x_train, y_train)\n",
        "    y_pred = classifier.predict(x_test)\n",
        "    list1.append(accuracy_score(y_test,y_pred))\n",
        "#print(mylist)\n",
        "plt.plot(list(range(10,30,1)), list1)\n",
        "plt.show()"
      ]
    },
    {
      "cell_type": "code",
      "execution_count": null,
      "metadata": {
        "execution": {
          "iopub.execute_input": "2021-01-30T12:07:26.361579Z",
          "iopub.status.busy": "2021-01-30T12:07:26.354529Z",
          "iopub.status.idle": "2021-01-30T12:07:26.368864Z",
          "shell.execute_reply": "2021-01-30T12:07:26.369538Z"
        },
        "papermill": {
          "duration": 0.198552,
          "end_time": "2021-01-30T12:07:26.369716",
          "exception": false,
          "start_time": "2021-01-30T12:07:26.171164",
          "status": "completed"
        },
        "tags": [],
        "colab": {
          "base_uri": "https://localhost:8080/"
        },
        "id": "weeorzz1Lu8r",
        "outputId": "8fb9aa65-70a5-41c2-bb8f-35a45eba8c03"
      },
      "outputs": [
        {
          "output_type": "execute_result",
          "data": {
            "text/plain": [
              "XGBClassifier(max_depth=12, n_estimators=10, subsample=0.7)"
            ]
          },
          "metadata": {},
          "execution_count": 71
        }
      ],
      "source": [
        "from xgboost import XGBClassifier\n",
        "classifier = XGBClassifier(n_estimators = 10, max_depth=12, subsample=0.7)\n",
        "classifier.fit(x_train,y_train)"
      ]
    },
    {
      "cell_type": "code",
      "execution_count": null,
      "metadata": {
        "execution": {
          "iopub.execute_input": "2021-01-30T12:07:26.781368Z",
          "iopub.status.busy": "2021-01-30T12:07:26.780559Z",
          "iopub.status.idle": "2021-01-30T12:07:26.790753Z",
          "shell.execute_reply": "2021-01-30T12:07:26.789489Z"
        },
        "papermill": {
          "duration": 0.194478,
          "end_time": "2021-01-30T12:07:26.790944",
          "exception": false,
          "start_time": "2021-01-30T12:07:26.596466",
          "status": "completed"
        },
        "tags": [],
        "colab": {
          "base_uri": "https://localhost:8080/"
        },
        "id": "Yhbq535HLu8r",
        "outputId": "aebf50ab-ab57-4ae4-a648-0bae27e1f2e4"
      },
      "outputs": [
        {
          "output_type": "stream",
          "name": "stdout",
          "text": [
            "[0 0 0 1 0 1 1 0 0 0 0 0 1 0 1 0 0 1 0 0 0 0 0 0 0 0 0 0 1 0 1 0 0 0 1 0 0\n",
            " 0 0 1 0 0 0 0 0 0 0 0 0 1 1 0 1 0 0 0 0 0 0 0 0 1 0 0 0 0 1 0 0 0 0 1 0 0\n",
            " 0 1 0 0 1 1 0 1 0 0 1 0 0 1 0 0]\n"
          ]
        }
      ],
      "source": [
        "y_pred = classifier.predict(x_test)\n",
        "print(y_pred)"
      ]
    },
    {
      "cell_type": "code",
      "execution_count": null,
      "metadata": {
        "execution": {
          "iopub.execute_input": "2021-01-30T12:07:27.204078Z",
          "iopub.status.busy": "2021-01-30T12:07:27.203408Z",
          "iopub.status.idle": "2021-01-30T12:07:27.209566Z",
          "shell.execute_reply": "2021-01-30T12:07:27.208953Z"
        },
        "papermill": {
          "duration": 0.191616,
          "end_time": "2021-01-30T12:07:27.209719",
          "exception": false,
          "start_time": "2021-01-30T12:07:27.018103",
          "status": "completed"
        },
        "tags": [],
        "colab": {
          "base_uri": "https://localhost:8080/"
        },
        "id": "IbyBzUCcLu8r",
        "outputId": "d632bd59-f777-4b7c-a2a4-df6375eec87e"
      },
      "outputs": [
        {
          "output_type": "stream",
          "name": "stdout",
          "text": [
            "[[57  5]\n",
            " [11 17]]\n",
            "0.8222222222222222\n"
          ]
        }
      ],
      "source": [
        "# Making the confusion matrix and calculating the accuracy score\n",
        "\n",
        "from sklearn.metrics import confusion_matrix, accuracy_score\n",
        "cm = confusion_matrix(y_test, y_pred)\n",
        "ac_xgboost = accuracy_score(y_test, y_pred)\n",
        "mylist.append(ac_xgboost)\n",
        "print(cm)\n",
        "print(ac_xgboost)"
      ]
    },
    {
      "cell_type": "markdown",
      "metadata": {
        "papermill": {
          "duration": 0.179468,
          "end_time": "2021-01-30T12:07:27.571070",
          "exception": false,
          "start_time": "2021-01-30T12:07:27.391602",
          "status": "completed"
        },
        "tags": [],
        "id": "GA3gV-ChLu8s"
      },
      "source": [
        "## catboost"
      ]
    },
    {
      "cell_type": "code",
      "source": [
        "pip install catboost"
      ],
      "metadata": {
        "colab": {
          "base_uri": "https://localhost:8080/"
        },
        "id": "9BF8RMYLSkqh",
        "outputId": "141d3b98-58df-4ba6-8a4c-56bec83836ea"
      },
      "execution_count": null,
      "outputs": [
        {
          "output_type": "stream",
          "name": "stdout",
          "text": [
            "Collecting catboost\n",
            "  Downloading catboost-1.0.4-cp37-none-manylinux1_x86_64.whl (76.1 MB)\n",
            "\u001b[K     |████████████████████████████████| 76.1 MB 1.1 MB/s \n",
            "\u001b[?25hRequirement already satisfied: numpy>=1.16.0 in /usr/local/lib/python3.7/dist-packages (from catboost) (1.21.5)\n",
            "Requirement already satisfied: six in /usr/local/lib/python3.7/dist-packages (from catboost) (1.15.0)\n",
            "Requirement already satisfied: matplotlib in /usr/local/lib/python3.7/dist-packages (from catboost) (3.2.2)\n",
            "Requirement already satisfied: plotly in /usr/local/lib/python3.7/dist-packages (from catboost) (5.5.0)\n",
            "Requirement already satisfied: graphviz in /usr/local/lib/python3.7/dist-packages (from catboost) (0.10.1)\n",
            "Requirement already satisfied: scipy in /usr/local/lib/python3.7/dist-packages (from catboost) (1.4.1)\n",
            "Requirement already satisfied: pandas>=0.24.0 in /usr/local/lib/python3.7/dist-packages (from catboost) (1.3.5)\n",
            "Requirement already satisfied: python-dateutil>=2.7.3 in /usr/local/lib/python3.7/dist-packages (from pandas>=0.24.0->catboost) (2.8.2)\n",
            "Requirement already satisfied: pytz>=2017.3 in /usr/local/lib/python3.7/dist-packages (from pandas>=0.24.0->catboost) (2018.9)\n",
            "Requirement already satisfied: kiwisolver>=1.0.1 in /usr/local/lib/python3.7/dist-packages (from matplotlib->catboost) (1.4.0)\n",
            "Requirement already satisfied: pyparsing!=2.0.4,!=2.1.2,!=2.1.6,>=2.0.1 in /usr/local/lib/python3.7/dist-packages (from matplotlib->catboost) (3.0.7)\n",
            "Requirement already satisfied: cycler>=0.10 in /usr/local/lib/python3.7/dist-packages (from matplotlib->catboost) (0.11.0)\n",
            "Requirement already satisfied: typing-extensions in /usr/local/lib/python3.7/dist-packages (from kiwisolver>=1.0.1->matplotlib->catboost) (3.10.0.2)\n",
            "Requirement already satisfied: tenacity>=6.2.0 in /usr/local/lib/python3.7/dist-packages (from plotly->catboost) (8.0.1)\n",
            "Installing collected packages: catboost\n",
            "Successfully installed catboost-1.0.4\n"
          ]
        }
      ]
    },
    {
      "cell_type": "code",
      "execution_count": null,
      "metadata": {
        "execution": {
          "iopub.execute_input": "2021-01-30T12:07:27.938596Z",
          "iopub.status.busy": "2021-01-30T12:07:27.937547Z",
          "iopub.status.idle": "2021-01-30T12:07:29.285161Z",
          "shell.execute_reply": "2021-01-30T12:07:29.284621Z"
        },
        "papermill": {
          "duration": 1.533747,
          "end_time": "2021-01-30T12:07:29.285290",
          "exception": false,
          "start_time": "2021-01-30T12:07:27.751543",
          "status": "completed"
        },
        "tags": [],
        "colab": {
          "base_uri": "https://localhost:8080/"
        },
        "id": "ynIurVSxLu8s",
        "outputId": "ba76e59e-d747-4ef7-bdb8-d8c2f489a5f0"
      },
      "outputs": [
        {
          "output_type": "stream",
          "name": "stdout",
          "text": [
            "Learning rate set to 0.005258\n",
            "0:\tlearn: 0.6882741\ttotal: 47.3ms\tremaining: 47.2s\n",
            "1:\tlearn: 0.6831621\ttotal: 47.7ms\tremaining: 23.8s\n",
            "2:\tlearn: 0.6780986\ttotal: 48.3ms\tremaining: 16s\n",
            "3:\tlearn: 0.6725532\ttotal: 49.2ms\tremaining: 12.3s\n",
            "4:\tlearn: 0.6680584\ttotal: 50.1ms\tremaining: 9.96s\n",
            "5:\tlearn: 0.6629171\ttotal: 51ms\tremaining: 8.44s\n",
            "6:\tlearn: 0.6584386\ttotal: 51.8ms\tremaining: 7.35s\n",
            "7:\tlearn: 0.6533351\ttotal: 52.7ms\tremaining: 6.53s\n",
            "8:\tlearn: 0.6491798\ttotal: 53.9ms\tremaining: 5.94s\n",
            "9:\tlearn: 0.6446775\ttotal: 54.7ms\tremaining: 5.42s\n",
            "10:\tlearn: 0.6390302\ttotal: 55.6ms\tremaining: 5s\n",
            "11:\tlearn: 0.6355313\ttotal: 56.2ms\tremaining: 4.63s\n",
            "12:\tlearn: 0.6309046\ttotal: 56.8ms\tremaining: 4.31s\n",
            "13:\tlearn: 0.6261365\ttotal: 57.4ms\tremaining: 4.04s\n",
            "14:\tlearn: 0.6213693\ttotal: 57.9ms\tremaining: 3.8s\n",
            "15:\tlearn: 0.6175760\ttotal: 58.5ms\tremaining: 3.6s\n",
            "16:\tlearn: 0.6140731\ttotal: 59ms\tremaining: 3.41s\n",
            "17:\tlearn: 0.6094597\ttotal: 59.6ms\tremaining: 3.25s\n",
            "18:\tlearn: 0.6047519\ttotal: 60.2ms\tremaining: 3.11s\n",
            "19:\tlearn: 0.6001612\ttotal: 60.7ms\tremaining: 2.98s\n",
            "20:\tlearn: 0.5958800\ttotal: 61.3ms\tremaining: 2.86s\n",
            "21:\tlearn: 0.5923276\ttotal: 61.9ms\tremaining: 2.75s\n",
            "22:\tlearn: 0.5870840\ttotal: 62.4ms\tremaining: 2.65s\n",
            "23:\tlearn: 0.5830150\ttotal: 63.2ms\tremaining: 2.57s\n",
            "24:\tlearn: 0.5796021\ttotal: 64ms\tremaining: 2.5s\n",
            "25:\tlearn: 0.5754023\ttotal: 64.8ms\tremaining: 2.43s\n",
            "26:\tlearn: 0.5717214\ttotal: 65.6ms\tremaining: 2.36s\n",
            "27:\tlearn: 0.5676134\ttotal: 66.4ms\tremaining: 2.3s\n",
            "28:\tlearn: 0.5645722\ttotal: 67.2ms\tremaining: 2.25s\n",
            "29:\tlearn: 0.5609562\ttotal: 68ms\tremaining: 2.2s\n",
            "30:\tlearn: 0.5574937\ttotal: 68.7ms\tremaining: 2.15s\n",
            "31:\tlearn: 0.5537214\ttotal: 69.5ms\tremaining: 2.1s\n",
            "32:\tlearn: 0.5505125\ttotal: 70.3ms\tremaining: 2.06s\n",
            "33:\tlearn: 0.5478100\ttotal: 71.1ms\tremaining: 2.02s\n",
            "34:\tlearn: 0.5437246\ttotal: 71.9ms\tremaining: 1.98s\n",
            "35:\tlearn: 0.5413459\ttotal: 72.6ms\tremaining: 1.94s\n",
            "36:\tlearn: 0.5380483\ttotal: 73.6ms\tremaining: 1.92s\n",
            "37:\tlearn: 0.5340203\ttotal: 74.6ms\tremaining: 1.89s\n",
            "38:\tlearn: 0.5298369\ttotal: 75.4ms\tremaining: 1.86s\n",
            "39:\tlearn: 0.5265925\ttotal: 76.2ms\tremaining: 1.83s\n",
            "40:\tlearn: 0.5231622\ttotal: 77.1ms\tremaining: 1.8s\n",
            "41:\tlearn: 0.5188607\ttotal: 77.9ms\tremaining: 1.77s\n",
            "42:\tlearn: 0.5157498\ttotal: 78.7ms\tremaining: 1.75s\n",
            "43:\tlearn: 0.5131678\ttotal: 79.5ms\tremaining: 1.73s\n",
            "44:\tlearn: 0.5094346\ttotal: 80.3ms\tremaining: 1.7s\n",
            "45:\tlearn: 0.5063291\ttotal: 81.1ms\tremaining: 1.68s\n",
            "46:\tlearn: 0.5031890\ttotal: 81.8ms\tremaining: 1.66s\n",
            "47:\tlearn: 0.5004413\ttotal: 82.6ms\tremaining: 1.64s\n",
            "48:\tlearn: 0.4971776\ttotal: 83.4ms\tremaining: 1.62s\n",
            "49:\tlearn: 0.4948961\ttotal: 84.2ms\tremaining: 1.6s\n",
            "50:\tlearn: 0.4925984\ttotal: 85ms\tremaining: 1.58s\n",
            "51:\tlearn: 0.4900377\ttotal: 85.8ms\tremaining: 1.56s\n",
            "52:\tlearn: 0.4876635\ttotal: 86.6ms\tremaining: 1.55s\n",
            "53:\tlearn: 0.4851825\ttotal: 87.4ms\tremaining: 1.53s\n",
            "54:\tlearn: 0.4825738\ttotal: 88.2ms\tremaining: 1.51s\n",
            "55:\tlearn: 0.4799740\ttotal: 88.9ms\tremaining: 1.5s\n",
            "56:\tlearn: 0.4770713\ttotal: 89.8ms\tremaining: 1.48s\n",
            "57:\tlearn: 0.4744453\ttotal: 90.6ms\tremaining: 1.47s\n",
            "58:\tlearn: 0.4718038\ttotal: 91.3ms\tremaining: 1.46s\n",
            "59:\tlearn: 0.4693744\ttotal: 92.1ms\tremaining: 1.44s\n",
            "60:\tlearn: 0.4667000\ttotal: 93ms\tremaining: 1.43s\n",
            "61:\tlearn: 0.4638426\ttotal: 93.7ms\tremaining: 1.42s\n",
            "62:\tlearn: 0.4613367\ttotal: 94.5ms\tremaining: 1.41s\n",
            "63:\tlearn: 0.4588530\ttotal: 95.3ms\tremaining: 1.39s\n",
            "64:\tlearn: 0.4565059\ttotal: 96.1ms\tremaining: 1.38s\n",
            "65:\tlearn: 0.4543169\ttotal: 96.9ms\tremaining: 1.37s\n",
            "66:\tlearn: 0.4517287\ttotal: 97.6ms\tremaining: 1.36s\n",
            "67:\tlearn: 0.4496650\ttotal: 98.4ms\tremaining: 1.35s\n",
            "68:\tlearn: 0.4475922\ttotal: 99.2ms\tremaining: 1.34s\n",
            "69:\tlearn: 0.4453277\ttotal: 100ms\tremaining: 1.33s\n",
            "70:\tlearn: 0.4432151\ttotal: 101ms\tremaining: 1.32s\n",
            "71:\tlearn: 0.4403000\ttotal: 102ms\tremaining: 1.31s\n",
            "72:\tlearn: 0.4381773\ttotal: 102ms\tremaining: 1.3s\n",
            "73:\tlearn: 0.4360560\ttotal: 103ms\tremaining: 1.29s\n",
            "74:\tlearn: 0.4337336\ttotal: 104ms\tremaining: 1.28s\n",
            "75:\tlearn: 0.4310964\ttotal: 105ms\tremaining: 1.28s\n",
            "76:\tlearn: 0.4282016\ttotal: 106ms\tremaining: 1.27s\n",
            "77:\tlearn: 0.4253511\ttotal: 107ms\tremaining: 1.26s\n",
            "78:\tlearn: 0.4229607\ttotal: 108ms\tremaining: 1.25s\n",
            "79:\tlearn: 0.4208741\ttotal: 108ms\tremaining: 1.25s\n",
            "80:\tlearn: 0.4188514\ttotal: 109ms\tremaining: 1.24s\n",
            "81:\tlearn: 0.4173578\ttotal: 110ms\tremaining: 1.23s\n",
            "82:\tlearn: 0.4151053\ttotal: 111ms\tremaining: 1.22s\n",
            "83:\tlearn: 0.4133038\ttotal: 112ms\tremaining: 1.22s\n",
            "84:\tlearn: 0.4115344\ttotal: 112ms\tremaining: 1.21s\n",
            "85:\tlearn: 0.4093845\ttotal: 113ms\tremaining: 1.2s\n",
            "86:\tlearn: 0.4079604\ttotal: 114ms\tremaining: 1.2s\n",
            "87:\tlearn: 0.4050614\ttotal: 115ms\tremaining: 1.19s\n",
            "88:\tlearn: 0.4028490\ttotal: 116ms\tremaining: 1.19s\n",
            "89:\tlearn: 0.4008465\ttotal: 117ms\tremaining: 1.18s\n",
            "90:\tlearn: 0.3988003\ttotal: 117ms\tremaining: 1.17s\n",
            "91:\tlearn: 0.3966316\ttotal: 118ms\tremaining: 1.17s\n",
            "92:\tlearn: 0.3950584\ttotal: 119ms\tremaining: 1.16s\n",
            "93:\tlearn: 0.3928603\ttotal: 120ms\tremaining: 1.16s\n",
            "94:\tlearn: 0.3910295\ttotal: 121ms\tremaining: 1.15s\n",
            "95:\tlearn: 0.3891869\ttotal: 121ms\tremaining: 1.14s\n",
            "96:\tlearn: 0.3871970\ttotal: 122ms\tremaining: 1.14s\n",
            "97:\tlearn: 0.3856095\ttotal: 123ms\tremaining: 1.14s\n",
            "98:\tlearn: 0.3839665\ttotal: 124ms\tremaining: 1.13s\n",
            "99:\tlearn: 0.3820283\ttotal: 125ms\tremaining: 1.13s\n",
            "100:\tlearn: 0.3797618\ttotal: 126ms\tremaining: 1.12s\n",
            "101:\tlearn: 0.3779076\ttotal: 127ms\tremaining: 1.12s\n",
            "102:\tlearn: 0.3758174\ttotal: 128ms\tremaining: 1.11s\n",
            "103:\tlearn: 0.3738707\ttotal: 129ms\tremaining: 1.11s\n",
            "104:\tlearn: 0.3719706\ttotal: 129ms\tremaining: 1.1s\n",
            "105:\tlearn: 0.3699709\ttotal: 130ms\tremaining: 1.1s\n",
            "106:\tlearn: 0.3683280\ttotal: 131ms\tremaining: 1.09s\n",
            "107:\tlearn: 0.3663966\ttotal: 132ms\tremaining: 1.09s\n",
            "108:\tlearn: 0.3649064\ttotal: 133ms\tremaining: 1.08s\n",
            "109:\tlearn: 0.3632999\ttotal: 133ms\tremaining: 1.08s\n",
            "110:\tlearn: 0.3616698\ttotal: 134ms\tremaining: 1.07s\n",
            "111:\tlearn: 0.3603985\ttotal: 135ms\tremaining: 1.07s\n",
            "112:\tlearn: 0.3586412\ttotal: 136ms\tremaining: 1.06s\n",
            "113:\tlearn: 0.3570969\ttotal: 137ms\tremaining: 1.06s\n",
            "114:\tlearn: 0.3550676\ttotal: 137ms\tremaining: 1.06s\n",
            "115:\tlearn: 0.3541764\ttotal: 138ms\tremaining: 1.05s\n",
            "116:\tlearn: 0.3531929\ttotal: 139ms\tremaining: 1.05s\n",
            "117:\tlearn: 0.3517488\ttotal: 140ms\tremaining: 1.04s\n",
            "118:\tlearn: 0.3503400\ttotal: 141ms\tremaining: 1.04s\n",
            "119:\tlearn: 0.3488568\ttotal: 142ms\tremaining: 1.04s\n",
            "120:\tlearn: 0.3480548\ttotal: 142ms\tremaining: 1.03s\n",
            "121:\tlearn: 0.3470520\ttotal: 143ms\tremaining: 1.03s\n",
            "122:\tlearn: 0.3459679\ttotal: 144ms\tremaining: 1.03s\n",
            "123:\tlearn: 0.3446973\ttotal: 145ms\tremaining: 1.02s\n",
            "124:\tlearn: 0.3436666\ttotal: 146ms\tremaining: 1.02s\n",
            "125:\tlearn: 0.3420643\ttotal: 146ms\tremaining: 1.01s\n",
            "126:\tlearn: 0.3407586\ttotal: 147ms\tremaining: 1.01s\n",
            "127:\tlearn: 0.3404864\ttotal: 148ms\tremaining: 1s\n",
            "128:\tlearn: 0.3394918\ttotal: 148ms\tremaining: 1s\n",
            "129:\tlearn: 0.3379394\ttotal: 149ms\tremaining: 998ms\n",
            "130:\tlearn: 0.3368150\ttotal: 150ms\tremaining: 994ms\n",
            "131:\tlearn: 0.3357292\ttotal: 151ms\tremaining: 991ms\n",
            "132:\tlearn: 0.3347663\ttotal: 152ms\tremaining: 988ms\n",
            "133:\tlearn: 0.3336327\ttotal: 153ms\tremaining: 986ms\n",
            "134:\tlearn: 0.3324856\ttotal: 154ms\tremaining: 987ms\n",
            "135:\tlearn: 0.3313354\ttotal: 155ms\tremaining: 984ms\n",
            "136:\tlearn: 0.3303806\ttotal: 156ms\tremaining: 981ms\n",
            "137:\tlearn: 0.3291854\ttotal: 157ms\tremaining: 978ms\n",
            "138:\tlearn: 0.3277040\ttotal: 157ms\tremaining: 974ms\n",
            "139:\tlearn: 0.3265805\ttotal: 158ms\tremaining: 972ms\n",
            "140:\tlearn: 0.3248817\ttotal: 159ms\tremaining: 969ms\n",
            "141:\tlearn: 0.3236584\ttotal: 160ms\tremaining: 965ms\n",
            "142:\tlearn: 0.3226222\ttotal: 161ms\tremaining: 962ms\n",
            "143:\tlearn: 0.3210791\ttotal: 161ms\tremaining: 959ms\n",
            "144:\tlearn: 0.3199759\ttotal: 162ms\tremaining: 956ms\n",
            "145:\tlearn: 0.3186661\ttotal: 163ms\tremaining: 953ms\n",
            "146:\tlearn: 0.3179232\ttotal: 163ms\tremaining: 948ms\n",
            "147:\tlearn: 0.3169297\ttotal: 168ms\tremaining: 968ms\n",
            "148:\tlearn: 0.3158383\ttotal: 169ms\tremaining: 966ms\n",
            "149:\tlearn: 0.3148805\ttotal: 170ms\tremaining: 964ms\n",
            "150:\tlearn: 0.3137104\ttotal: 171ms\tremaining: 962ms\n",
            "151:\tlearn: 0.3125554\ttotal: 172ms\tremaining: 960ms\n",
            "152:\tlearn: 0.3113617\ttotal: 173ms\tremaining: 958ms\n",
            "153:\tlearn: 0.3104486\ttotal: 179ms\tremaining: 984ms\n",
            "154:\tlearn: 0.3094337\ttotal: 184ms\tremaining: 1s\n",
            "155:\tlearn: 0.3088579\ttotal: 189ms\tremaining: 1.02s\n",
            "156:\tlearn: 0.3080728\ttotal: 191ms\tremaining: 1.02s\n",
            "157:\tlearn: 0.3071316\ttotal: 193ms\tremaining: 1.03s\n",
            "158:\tlearn: 0.3063169\ttotal: 195ms\tremaining: 1.03s\n",
            "159:\tlearn: 0.3052387\ttotal: 197ms\tremaining: 1.03s\n",
            "160:\tlearn: 0.3043156\ttotal: 199ms\tremaining: 1.03s\n",
            "161:\tlearn: 0.3033497\ttotal: 200ms\tremaining: 1.03s\n",
            "162:\tlearn: 0.3025672\ttotal: 202ms\tremaining: 1.04s\n",
            "163:\tlearn: 0.3013768\ttotal: 204ms\tremaining: 1.04s\n",
            "164:\tlearn: 0.3000515\ttotal: 205ms\tremaining: 1.04s\n",
            "165:\tlearn: 0.2989571\ttotal: 207ms\tremaining: 1.04s\n",
            "166:\tlearn: 0.2977543\ttotal: 209ms\tremaining: 1.04s\n",
            "167:\tlearn: 0.2962311\ttotal: 211ms\tremaining: 1.04s\n",
            "168:\tlearn: 0.2956394\ttotal: 213ms\tremaining: 1.05s\n",
            "169:\tlearn: 0.2949198\ttotal: 215ms\tremaining: 1.05s\n",
            "170:\tlearn: 0.2941483\ttotal: 217ms\tremaining: 1.05s\n",
            "171:\tlearn: 0.2930785\ttotal: 219ms\tremaining: 1.05s\n",
            "172:\tlearn: 0.2924490\ttotal: 220ms\tremaining: 1.05s\n",
            "173:\tlearn: 0.2912930\ttotal: 222ms\tremaining: 1.05s\n",
            "174:\tlearn: 0.2903191\ttotal: 223ms\tremaining: 1.05s\n",
            "175:\tlearn: 0.2892676\ttotal: 223ms\tremaining: 1.04s\n",
            "176:\tlearn: 0.2883408\ttotal: 224ms\tremaining: 1.04s\n",
            "177:\tlearn: 0.2870659\ttotal: 225ms\tremaining: 1.04s\n",
            "178:\tlearn: 0.2862358\ttotal: 225ms\tremaining: 1.03s\n",
            "179:\tlearn: 0.2853629\ttotal: 226ms\tremaining: 1.03s\n",
            "180:\tlearn: 0.2846604\ttotal: 226ms\tremaining: 1.02s\n",
            "181:\tlearn: 0.2840686\ttotal: 227ms\tremaining: 1.02s\n",
            "182:\tlearn: 0.2831758\ttotal: 228ms\tremaining: 1.02s\n",
            "183:\tlearn: 0.2822937\ttotal: 228ms\tremaining: 1.01s\n",
            "184:\tlearn: 0.2814178\ttotal: 229ms\tremaining: 1.01s\n",
            "185:\tlearn: 0.2804068\ttotal: 229ms\tremaining: 1s\n",
            "186:\tlearn: 0.2797828\ttotal: 230ms\tremaining: 999ms\n",
            "187:\tlearn: 0.2787430\ttotal: 230ms\tremaining: 995ms\n",
            "188:\tlearn: 0.2776788\ttotal: 231ms\tremaining: 991ms\n",
            "189:\tlearn: 0.2768243\ttotal: 232ms\tremaining: 987ms\n",
            "190:\tlearn: 0.2758217\ttotal: 232ms\tremaining: 983ms\n",
            "191:\tlearn: 0.2750188\ttotal: 233ms\tremaining: 979ms\n",
            "192:\tlearn: 0.2740830\ttotal: 233ms\tremaining: 976ms\n",
            "193:\tlearn: 0.2733013\ttotal: 234ms\tremaining: 972ms\n",
            "194:\tlearn: 0.2718629\ttotal: 234ms\tremaining: 968ms\n",
            "195:\tlearn: 0.2711367\ttotal: 235ms\tremaining: 964ms\n",
            "196:\tlearn: 0.2700705\ttotal: 236ms\tremaining: 960ms\n",
            "197:\tlearn: 0.2694174\ttotal: 236ms\tremaining: 957ms\n",
            "198:\tlearn: 0.2687484\ttotal: 237ms\tremaining: 954ms\n",
            "199:\tlearn: 0.2675638\ttotal: 238ms\tremaining: 951ms\n",
            "200:\tlearn: 0.2669298\ttotal: 238ms\tremaining: 947ms\n",
            "201:\tlearn: 0.2659747\ttotal: 239ms\tremaining: 944ms\n",
            "202:\tlearn: 0.2651467\ttotal: 240ms\tremaining: 941ms\n",
            "203:\tlearn: 0.2645368\ttotal: 240ms\tremaining: 938ms\n",
            "204:\tlearn: 0.2636392\ttotal: 241ms\tremaining: 935ms\n",
            "205:\tlearn: 0.2630011\ttotal: 242ms\tremaining: 931ms\n",
            "206:\tlearn: 0.2621688\ttotal: 242ms\tremaining: 928ms\n",
            "207:\tlearn: 0.2615944\ttotal: 243ms\tremaining: 924ms\n",
            "208:\tlearn: 0.2608752\ttotal: 243ms\tremaining: 921ms\n",
            "209:\tlearn: 0.2604170\ttotal: 244ms\tremaining: 917ms\n",
            "210:\tlearn: 0.2598570\ttotal: 244ms\tremaining: 914ms\n",
            "211:\tlearn: 0.2592025\ttotal: 245ms\tremaining: 911ms\n",
            "212:\tlearn: 0.2585798\ttotal: 246ms\tremaining: 907ms\n",
            "213:\tlearn: 0.2579973\ttotal: 246ms\tremaining: 904ms\n",
            "214:\tlearn: 0.2570609\ttotal: 247ms\tremaining: 901ms\n",
            "215:\tlearn: 0.2561657\ttotal: 247ms\tremaining: 897ms\n",
            "216:\tlearn: 0.2554124\ttotal: 248ms\tremaining: 894ms\n",
            "217:\tlearn: 0.2547624\ttotal: 248ms\tremaining: 891ms\n",
            "218:\tlearn: 0.2544013\ttotal: 249ms\tremaining: 888ms\n",
            "219:\tlearn: 0.2537090\ttotal: 249ms\tremaining: 884ms\n",
            "220:\tlearn: 0.2529450\ttotal: 250ms\tremaining: 881ms\n",
            "221:\tlearn: 0.2523296\ttotal: 251ms\tremaining: 878ms\n",
            "222:\tlearn: 0.2512969\ttotal: 251ms\tremaining: 875ms\n",
            "223:\tlearn: 0.2507594\ttotal: 252ms\tremaining: 872ms\n",
            "224:\tlearn: 0.2501797\ttotal: 252ms\tremaining: 870ms\n",
            "225:\tlearn: 0.2497292\ttotal: 253ms\tremaining: 868ms\n",
            "226:\tlearn: 0.2487590\ttotal: 254ms\tremaining: 866ms\n",
            "227:\tlearn: 0.2482697\ttotal: 255ms\tremaining: 863ms\n",
            "228:\tlearn: 0.2479469\ttotal: 255ms\tremaining: 860ms\n",
            "229:\tlearn: 0.2472614\ttotal: 256ms\tremaining: 858ms\n",
            "230:\tlearn: 0.2468371\ttotal: 257ms\tremaining: 855ms\n",
            "231:\tlearn: 0.2461902\ttotal: 258ms\tremaining: 853ms\n",
            "232:\tlearn: 0.2452382\ttotal: 258ms\tremaining: 850ms\n",
            "233:\tlearn: 0.2446534\ttotal: 259ms\tremaining: 847ms\n",
            "234:\tlearn: 0.2441838\ttotal: 259ms\tremaining: 844ms\n",
            "235:\tlearn: 0.2436463\ttotal: 260ms\tremaining: 841ms\n",
            "236:\tlearn: 0.2430573\ttotal: 260ms\tremaining: 838ms\n",
            "237:\tlearn: 0.2422990\ttotal: 261ms\tremaining: 835ms\n",
            "238:\tlearn: 0.2416138\ttotal: 261ms\tremaining: 833ms\n",
            "239:\tlearn: 0.2411780\ttotal: 262ms\tremaining: 830ms\n",
            "240:\tlearn: 0.2404580\ttotal: 263ms\tremaining: 827ms\n",
            "241:\tlearn: 0.2398743\ttotal: 263ms\tremaining: 824ms\n",
            "242:\tlearn: 0.2390379\ttotal: 264ms\tremaining: 822ms\n",
            "243:\tlearn: 0.2384721\ttotal: 264ms\tremaining: 819ms\n",
            "244:\tlearn: 0.2379086\ttotal: 265ms\tremaining: 816ms\n",
            "245:\tlearn: 0.2373072\ttotal: 265ms\tremaining: 813ms\n",
            "246:\tlearn: 0.2368674\ttotal: 266ms\tremaining: 812ms\n",
            "247:\tlearn: 0.2362660\ttotal: 267ms\tremaining: 809ms\n",
            "248:\tlearn: 0.2355614\ttotal: 267ms\tremaining: 807ms\n",
            "249:\tlearn: 0.2350581\ttotal: 268ms\tremaining: 804ms\n",
            "250:\tlearn: 0.2342979\ttotal: 269ms\tremaining: 802ms\n",
            "251:\tlearn: 0.2337527\ttotal: 270ms\tremaining: 800ms\n",
            "252:\tlearn: 0.2330601\ttotal: 270ms\tremaining: 798ms\n",
            "253:\tlearn: 0.2326198\ttotal: 271ms\tremaining: 795ms\n",
            "254:\tlearn: 0.2320931\ttotal: 271ms\tremaining: 793ms\n",
            "255:\tlearn: 0.2314656\ttotal: 272ms\tremaining: 790ms\n",
            "256:\tlearn: 0.2307717\ttotal: 272ms\tremaining: 788ms\n",
            "257:\tlearn: 0.2302538\ttotal: 273ms\tremaining: 785ms\n",
            "258:\tlearn: 0.2296318\ttotal: 274ms\tremaining: 783ms\n",
            "259:\tlearn: 0.2290271\ttotal: 274ms\tremaining: 780ms\n",
            "260:\tlearn: 0.2283068\ttotal: 275ms\tremaining: 778ms\n",
            "261:\tlearn: 0.2275450\ttotal: 275ms\tremaining: 775ms\n",
            "262:\tlearn: 0.2269590\ttotal: 276ms\tremaining: 773ms\n",
            "263:\tlearn: 0.2264118\ttotal: 276ms\tremaining: 771ms\n",
            "264:\tlearn: 0.2258165\ttotal: 277ms\tremaining: 768ms\n",
            "265:\tlearn: 0.2256354\ttotal: 277ms\tremaining: 766ms\n",
            "266:\tlearn: 0.2247105\ttotal: 278ms\tremaining: 763ms\n",
            "267:\tlearn: 0.2241835\ttotal: 279ms\tremaining: 761ms\n",
            "268:\tlearn: 0.2237376\ttotal: 279ms\tremaining: 759ms\n",
            "269:\tlearn: 0.2230364\ttotal: 280ms\tremaining: 757ms\n",
            "270:\tlearn: 0.2224093\ttotal: 281ms\tremaining: 755ms\n",
            "271:\tlearn: 0.2220007\ttotal: 281ms\tremaining: 753ms\n",
            "272:\tlearn: 0.2214069\ttotal: 282ms\tremaining: 751ms\n",
            "273:\tlearn: 0.2209216\ttotal: 282ms\tremaining: 748ms\n",
            "274:\tlearn: 0.2203866\ttotal: 283ms\tremaining: 746ms\n",
            "275:\tlearn: 0.2199293\ttotal: 284ms\tremaining: 744ms\n",
            "276:\tlearn: 0.2196899\ttotal: 284ms\tremaining: 742ms\n",
            "277:\tlearn: 0.2192516\ttotal: 285ms\tremaining: 740ms\n",
            "278:\tlearn: 0.2184836\ttotal: 285ms\tremaining: 738ms\n",
            "279:\tlearn: 0.2178592\ttotal: 286ms\tremaining: 735ms\n",
            "280:\tlearn: 0.2172922\ttotal: 287ms\tremaining: 733ms\n",
            "281:\tlearn: 0.2166506\ttotal: 287ms\tremaining: 731ms\n",
            "282:\tlearn: 0.2164118\ttotal: 288ms\tremaining: 729ms\n",
            "283:\tlearn: 0.2156654\ttotal: 288ms\tremaining: 727ms\n",
            "284:\tlearn: 0.2151247\ttotal: 289ms\tremaining: 724ms\n",
            "285:\tlearn: 0.2148550\ttotal: 289ms\tremaining: 722ms\n",
            "286:\tlearn: 0.2143746\ttotal: 290ms\tremaining: 720ms\n",
            "287:\tlearn: 0.2137140\ttotal: 290ms\tremaining: 718ms\n",
            "288:\tlearn: 0.2132328\ttotal: 291ms\tremaining: 716ms\n",
            "289:\tlearn: 0.2127754\ttotal: 292ms\tremaining: 714ms\n",
            "290:\tlearn: 0.2122928\ttotal: 292ms\tremaining: 712ms\n",
            "291:\tlearn: 0.2118371\ttotal: 293ms\tremaining: 710ms\n",
            "292:\tlearn: 0.2113120\ttotal: 294ms\tremaining: 709ms\n",
            "293:\tlearn: 0.2108885\ttotal: 294ms\tremaining: 707ms\n",
            "294:\tlearn: 0.2103439\ttotal: 295ms\tremaining: 705ms\n",
            "295:\tlearn: 0.2099339\ttotal: 295ms\tremaining: 703ms\n",
            "296:\tlearn: 0.2097420\ttotal: 296ms\tremaining: 701ms\n",
            "297:\tlearn: 0.2092968\ttotal: 297ms\tremaining: 699ms\n",
            "298:\tlearn: 0.2087483\ttotal: 297ms\tremaining: 697ms\n",
            "299:\tlearn: 0.2080323\ttotal: 298ms\tremaining: 695ms\n",
            "300:\tlearn: 0.2075825\ttotal: 298ms\tremaining: 693ms\n",
            "301:\tlearn: 0.2069296\ttotal: 299ms\tremaining: 691ms\n",
            "302:\tlearn: 0.2065110\ttotal: 299ms\tremaining: 689ms\n",
            "303:\tlearn: 0.2059266\ttotal: 300ms\tremaining: 687ms\n",
            "304:\tlearn: 0.2054411\ttotal: 300ms\tremaining: 685ms\n",
            "305:\tlearn: 0.2052076\ttotal: 301ms\tremaining: 683ms\n",
            "306:\tlearn: 0.2044709\ttotal: 302ms\tremaining: 681ms\n",
            "307:\tlearn: 0.2040147\ttotal: 302ms\tremaining: 679ms\n",
            "308:\tlearn: 0.2036554\ttotal: 303ms\tremaining: 677ms\n",
            "309:\tlearn: 0.2031923\ttotal: 303ms\tremaining: 675ms\n",
            "310:\tlearn: 0.2027127\ttotal: 304ms\tremaining: 674ms\n",
            "311:\tlearn: 0.2023979\ttotal: 305ms\tremaining: 672ms\n",
            "312:\tlearn: 0.2018613\ttotal: 305ms\tremaining: 670ms\n",
            "313:\tlearn: 0.2014935\ttotal: 306ms\tremaining: 668ms\n",
            "314:\tlearn: 0.2010956\ttotal: 306ms\tremaining: 666ms\n",
            "315:\tlearn: 0.2005463\ttotal: 307ms\tremaining: 665ms\n",
            "316:\tlearn: 0.2001887\ttotal: 308ms\tremaining: 663ms\n",
            "317:\tlearn: 0.1998479\ttotal: 308ms\tremaining: 661ms\n",
            "318:\tlearn: 0.1994912\ttotal: 309ms\tremaining: 659ms\n",
            "319:\tlearn: 0.1990842\ttotal: 309ms\tremaining: 657ms\n",
            "320:\tlearn: 0.1987409\ttotal: 310ms\tremaining: 655ms\n",
            "321:\tlearn: 0.1983670\ttotal: 310ms\tremaining: 654ms\n",
            "322:\tlearn: 0.1980737\ttotal: 311ms\tremaining: 652ms\n",
            "323:\tlearn: 0.1977715\ttotal: 312ms\tremaining: 650ms\n",
            "324:\tlearn: 0.1972035\ttotal: 312ms\tremaining: 648ms\n",
            "325:\tlearn: 0.1969985\ttotal: 313ms\tremaining: 646ms\n",
            "326:\tlearn: 0.1966789\ttotal: 313ms\tremaining: 645ms\n",
            "327:\tlearn: 0.1961044\ttotal: 317ms\tremaining: 649ms\n",
            "328:\tlearn: 0.1955620\ttotal: 317ms\tremaining: 647ms\n",
            "329:\tlearn: 0.1951145\ttotal: 318ms\tremaining: 646ms\n",
            "330:\tlearn: 0.1947072\ttotal: 319ms\tremaining: 644ms\n",
            "331:\tlearn: 0.1943953\ttotal: 319ms\tremaining: 642ms\n",
            "332:\tlearn: 0.1936943\ttotal: 320ms\tremaining: 641ms\n",
            "333:\tlearn: 0.1932729\ttotal: 320ms\tremaining: 639ms\n",
            "334:\tlearn: 0.1928167\ttotal: 321ms\tremaining: 637ms\n",
            "335:\tlearn: 0.1925780\ttotal: 322ms\tremaining: 636ms\n",
            "336:\tlearn: 0.1921071\ttotal: 322ms\tremaining: 634ms\n",
            "337:\tlearn: 0.1914933\ttotal: 323ms\tremaining: 632ms\n",
            "338:\tlearn: 0.1910387\ttotal: 324ms\tremaining: 631ms\n",
            "339:\tlearn: 0.1902956\ttotal: 324ms\tremaining: 629ms\n",
            "340:\tlearn: 0.1898532\ttotal: 325ms\tremaining: 628ms\n",
            "341:\tlearn: 0.1893384\ttotal: 325ms\tremaining: 626ms\n",
            "342:\tlearn: 0.1889812\ttotal: 326ms\tremaining: 625ms\n",
            "343:\tlearn: 0.1886274\ttotal: 327ms\tremaining: 623ms\n",
            "344:\tlearn: 0.1883216\ttotal: 327ms\tremaining: 621ms\n",
            "345:\tlearn: 0.1879508\ttotal: 328ms\tremaining: 620ms\n",
            "346:\tlearn: 0.1878633\ttotal: 328ms\tremaining: 618ms\n",
            "347:\tlearn: 0.1874252\ttotal: 329ms\tremaining: 616ms\n",
            "348:\tlearn: 0.1871236\ttotal: 329ms\tremaining: 614ms\n",
            "349:\tlearn: 0.1864999\ttotal: 330ms\tremaining: 613ms\n",
            "350:\tlearn: 0.1860590\ttotal: 331ms\tremaining: 611ms\n",
            "351:\tlearn: 0.1856791\ttotal: 331ms\tremaining: 609ms\n",
            "352:\tlearn: 0.1854355\ttotal: 332ms\tremaining: 608ms\n",
            "353:\tlearn: 0.1851989\ttotal: 332ms\tremaining: 606ms\n",
            "354:\tlearn: 0.1846800\ttotal: 333ms\tremaining: 605ms\n",
            "355:\tlearn: 0.1842021\ttotal: 333ms\tremaining: 603ms\n",
            "356:\tlearn: 0.1839556\ttotal: 334ms\tremaining: 602ms\n",
            "357:\tlearn: 0.1837303\ttotal: 335ms\tremaining: 600ms\n",
            "358:\tlearn: 0.1834413\ttotal: 335ms\tremaining: 599ms\n",
            "359:\tlearn: 0.1831942\ttotal: 336ms\tremaining: 597ms\n",
            "360:\tlearn: 0.1827454\ttotal: 337ms\tremaining: 596ms\n",
            "361:\tlearn: 0.1824153\ttotal: 337ms\tremaining: 595ms\n",
            "362:\tlearn: 0.1821710\ttotal: 338ms\tremaining: 594ms\n",
            "363:\tlearn: 0.1819668\ttotal: 339ms\tremaining: 592ms\n",
            "364:\tlearn: 0.1816470\ttotal: 340ms\tremaining: 591ms\n",
            "365:\tlearn: 0.1812725\ttotal: 341ms\tremaining: 591ms\n",
            "366:\tlearn: 0.1808339\ttotal: 342ms\tremaining: 590ms\n",
            "367:\tlearn: 0.1805016\ttotal: 342ms\tremaining: 588ms\n",
            "368:\tlearn: 0.1800847\ttotal: 343ms\tremaining: 587ms\n",
            "369:\tlearn: 0.1797344\ttotal: 344ms\tremaining: 585ms\n",
            "370:\tlearn: 0.1792822\ttotal: 344ms\tremaining: 584ms\n",
            "371:\tlearn: 0.1787797\ttotal: 346ms\tremaining: 584ms\n",
            "372:\tlearn: 0.1784766\ttotal: 347ms\tremaining: 584ms\n",
            "373:\tlearn: 0.1781931\ttotal: 349ms\tremaining: 583ms\n",
            "374:\tlearn: 0.1779347\ttotal: 350ms\tremaining: 583ms\n",
            "375:\tlearn: 0.1776983\ttotal: 351ms\tremaining: 583ms\n",
            "376:\tlearn: 0.1773978\ttotal: 353ms\tremaining: 583ms\n",
            "377:\tlearn: 0.1771425\ttotal: 354ms\tremaining: 583ms\n",
            "378:\tlearn: 0.1769492\ttotal: 356ms\tremaining: 583ms\n",
            "379:\tlearn: 0.1765356\ttotal: 357ms\tremaining: 583ms\n",
            "380:\tlearn: 0.1762950\ttotal: 359ms\tremaining: 583ms\n",
            "381:\tlearn: 0.1762082\ttotal: 360ms\tremaining: 582ms\n",
            "382:\tlearn: 0.1760550\ttotal: 361ms\tremaining: 582ms\n",
            "383:\tlearn: 0.1758493\ttotal: 363ms\tremaining: 582ms\n",
            "384:\tlearn: 0.1755538\ttotal: 364ms\tremaining: 581ms\n",
            "385:\tlearn: 0.1751029\ttotal: 365ms\tremaining: 581ms\n",
            "386:\tlearn: 0.1746105\ttotal: 368ms\tremaining: 583ms\n",
            "387:\tlearn: 0.1744772\ttotal: 369ms\tremaining: 583ms\n",
            "388:\tlearn: 0.1741508\ttotal: 371ms\tremaining: 582ms\n",
            "389:\tlearn: 0.1738229\ttotal: 372ms\tremaining: 582ms\n",
            "390:\tlearn: 0.1735587\ttotal: 374ms\tremaining: 582ms\n",
            "391:\tlearn: 0.1731040\ttotal: 375ms\tremaining: 582ms\n",
            "392:\tlearn: 0.1729538\ttotal: 377ms\tremaining: 582ms\n",
            "393:\tlearn: 0.1728276\ttotal: 379ms\tremaining: 582ms\n",
            "394:\tlearn: 0.1724175\ttotal: 380ms\tremaining: 582ms\n",
            "395:\tlearn: 0.1719938\ttotal: 382ms\tremaining: 582ms\n",
            "396:\tlearn: 0.1718155\ttotal: 383ms\tremaining: 582ms\n",
            "397:\tlearn: 0.1714196\ttotal: 386ms\tremaining: 583ms\n",
            "398:\tlearn: 0.1709964\ttotal: 387ms\tremaining: 583ms\n",
            "399:\tlearn: 0.1704525\ttotal: 389ms\tremaining: 583ms\n",
            "400:\tlearn: 0.1703719\ttotal: 390ms\tremaining: 583ms\n",
            "401:\tlearn: 0.1701504\ttotal: 394ms\tremaining: 586ms\n",
            "402:\tlearn: 0.1700081\ttotal: 395ms\tremaining: 585ms\n",
            "403:\tlearn: 0.1697548\ttotal: 396ms\tremaining: 585ms\n",
            "404:\tlearn: 0.1695491\ttotal: 398ms\tremaining: 584ms\n",
            "405:\tlearn: 0.1692819\ttotal: 399ms\tremaining: 584ms\n",
            "406:\tlearn: 0.1690804\ttotal: 401ms\tremaining: 584ms\n",
            "407:\tlearn: 0.1687172\ttotal: 402ms\tremaining: 583ms\n",
            "408:\tlearn: 0.1684071\ttotal: 404ms\tremaining: 583ms\n",
            "409:\tlearn: 0.1682884\ttotal: 405ms\tremaining: 583ms\n",
            "410:\tlearn: 0.1680458\ttotal: 407ms\tremaining: 583ms\n",
            "411:\tlearn: 0.1677879\ttotal: 407ms\tremaining: 581ms\n",
            "412:\tlearn: 0.1675757\ttotal: 408ms\tremaining: 580ms\n",
            "413:\tlearn: 0.1673089\ttotal: 409ms\tremaining: 579ms\n",
            "414:\tlearn: 0.1670516\ttotal: 409ms\tremaining: 577ms\n",
            "415:\tlearn: 0.1669774\ttotal: 410ms\tremaining: 576ms\n",
            "416:\tlearn: 0.1668159\ttotal: 411ms\tremaining: 574ms\n",
            "417:\tlearn: 0.1665335\ttotal: 411ms\tremaining: 572ms\n",
            "418:\tlearn: 0.1662738\ttotal: 412ms\tremaining: 571ms\n",
            "419:\tlearn: 0.1660940\ttotal: 412ms\tremaining: 569ms\n",
            "420:\tlearn: 0.1655983\ttotal: 413ms\tremaining: 568ms\n",
            "421:\tlearn: 0.1654557\ttotal: 413ms\tremaining: 566ms\n",
            "422:\tlearn: 0.1651999\ttotal: 414ms\tremaining: 565ms\n",
            "423:\tlearn: 0.1648196\ttotal: 415ms\tremaining: 563ms\n",
            "424:\tlearn: 0.1645289\ttotal: 415ms\tremaining: 562ms\n",
            "425:\tlearn: 0.1642442\ttotal: 416ms\tremaining: 560ms\n",
            "426:\tlearn: 0.1640016\ttotal: 416ms\tremaining: 558ms\n",
            "427:\tlearn: 0.1636342\ttotal: 417ms\tremaining: 557ms\n",
            "428:\tlearn: 0.1633801\ttotal: 417ms\tremaining: 556ms\n",
            "429:\tlearn: 0.1631735\ttotal: 418ms\tremaining: 554ms\n",
            "430:\tlearn: 0.1629509\ttotal: 418ms\tremaining: 552ms\n",
            "431:\tlearn: 0.1627248\ttotal: 419ms\tremaining: 551ms\n",
            "432:\tlearn: 0.1625190\ttotal: 420ms\tremaining: 550ms\n",
            "433:\tlearn: 0.1621722\ttotal: 420ms\tremaining: 548ms\n",
            "434:\tlearn: 0.1621679\ttotal: 421ms\tremaining: 546ms\n",
            "435:\tlearn: 0.1617661\ttotal: 421ms\tremaining: 545ms\n",
            "436:\tlearn: 0.1614083\ttotal: 422ms\tremaining: 544ms\n",
            "437:\tlearn: 0.1610237\ttotal: 423ms\tremaining: 542ms\n",
            "438:\tlearn: 0.1607365\ttotal: 423ms\tremaining: 541ms\n",
            "439:\tlearn: 0.1605486\ttotal: 423ms\tremaining: 539ms\n",
            "440:\tlearn: 0.1601677\ttotal: 424ms\tremaining: 537ms\n",
            "441:\tlearn: 0.1598980\ttotal: 424ms\tremaining: 536ms\n",
            "442:\tlearn: 0.1597015\ttotal: 425ms\tremaining: 534ms\n",
            "443:\tlearn: 0.1593192\ttotal: 426ms\tremaining: 533ms\n",
            "444:\tlearn: 0.1590261\ttotal: 426ms\tremaining: 531ms\n",
            "445:\tlearn: 0.1589062\ttotal: 427ms\tremaining: 530ms\n",
            "446:\tlearn: 0.1585618\ttotal: 428ms\tremaining: 529ms\n",
            "447:\tlearn: 0.1582254\ttotal: 428ms\tremaining: 527ms\n",
            "448:\tlearn: 0.1581123\ttotal: 429ms\tremaining: 526ms\n",
            "449:\tlearn: 0.1579730\ttotal: 429ms\tremaining: 525ms\n",
            "450:\tlearn: 0.1578107\ttotal: 430ms\tremaining: 523ms\n",
            "451:\tlearn: 0.1576836\ttotal: 431ms\tremaining: 522ms\n",
            "452:\tlearn: 0.1575284\ttotal: 431ms\tremaining: 521ms\n",
            "453:\tlearn: 0.1573211\ttotal: 432ms\tremaining: 519ms\n",
            "454:\tlearn: 0.1570685\ttotal: 432ms\tremaining: 518ms\n",
            "455:\tlearn: 0.1567646\ttotal: 433ms\tremaining: 517ms\n",
            "456:\tlearn: 0.1565612\ttotal: 434ms\tremaining: 515ms\n",
            "457:\tlearn: 0.1562327\ttotal: 434ms\tremaining: 514ms\n",
            "458:\tlearn: 0.1559316\ttotal: 435ms\tremaining: 512ms\n",
            "459:\tlearn: 0.1555811\ttotal: 435ms\tremaining: 511ms\n",
            "460:\tlearn: 0.1553245\ttotal: 436ms\tremaining: 510ms\n",
            "461:\tlearn: 0.1551071\ttotal: 437ms\tremaining: 509ms\n",
            "462:\tlearn: 0.1548216\ttotal: 438ms\tremaining: 507ms\n",
            "463:\tlearn: 0.1546011\ttotal: 438ms\tremaining: 506ms\n",
            "464:\tlearn: 0.1544600\ttotal: 439ms\tremaining: 505ms\n",
            "465:\tlearn: 0.1542642\ttotal: 439ms\tremaining: 503ms\n",
            "466:\tlearn: 0.1540281\ttotal: 440ms\tremaining: 502ms\n",
            "467:\tlearn: 0.1538655\ttotal: 440ms\tremaining: 501ms\n",
            "468:\tlearn: 0.1534588\ttotal: 441ms\tremaining: 499ms\n",
            "469:\tlearn: 0.1532367\ttotal: 442ms\tremaining: 498ms\n",
            "470:\tlearn: 0.1529244\ttotal: 442ms\tremaining: 497ms\n",
            "471:\tlearn: 0.1527487\ttotal: 443ms\tremaining: 495ms\n",
            "472:\tlearn: 0.1525389\ttotal: 443ms\tremaining: 494ms\n",
            "473:\tlearn: 0.1523396\ttotal: 444ms\tremaining: 492ms\n",
            "474:\tlearn: 0.1522062\ttotal: 444ms\tremaining: 491ms\n",
            "475:\tlearn: 0.1518870\ttotal: 445ms\tremaining: 490ms\n",
            "476:\tlearn: 0.1517252\ttotal: 445ms\tremaining: 488ms\n",
            "477:\tlearn: 0.1515589\ttotal: 446ms\tremaining: 487ms\n",
            "478:\tlearn: 0.1511920\ttotal: 447ms\tremaining: 486ms\n",
            "479:\tlearn: 0.1510985\ttotal: 448ms\tremaining: 485ms\n",
            "480:\tlearn: 0.1509278\ttotal: 448ms\tremaining: 484ms\n",
            "481:\tlearn: 0.1507674\ttotal: 449ms\tremaining: 483ms\n",
            "482:\tlearn: 0.1505736\ttotal: 450ms\tremaining: 481ms\n",
            "483:\tlearn: 0.1504938\ttotal: 450ms\tremaining: 480ms\n",
            "484:\tlearn: 0.1503642\ttotal: 451ms\tremaining: 479ms\n",
            "485:\tlearn: 0.1500344\ttotal: 451ms\tremaining: 477ms\n",
            "486:\tlearn: 0.1498438\ttotal: 452ms\tremaining: 476ms\n",
            "487:\tlearn: 0.1497020\ttotal: 453ms\tremaining: 475ms\n",
            "488:\tlearn: 0.1494132\ttotal: 453ms\tremaining: 474ms\n",
            "489:\tlearn: 0.1492694\ttotal: 454ms\tremaining: 472ms\n",
            "490:\tlearn: 0.1490391\ttotal: 454ms\tremaining: 471ms\n",
            "491:\tlearn: 0.1488874\ttotal: 455ms\tremaining: 470ms\n",
            "492:\tlearn: 0.1486923\ttotal: 455ms\tremaining: 468ms\n",
            "493:\tlearn: 0.1484187\ttotal: 456ms\tremaining: 467ms\n",
            "494:\tlearn: 0.1481342\ttotal: 456ms\tremaining: 466ms\n",
            "495:\tlearn: 0.1479806\ttotal: 457ms\tremaining: 464ms\n",
            "496:\tlearn: 0.1478747\ttotal: 458ms\tremaining: 463ms\n",
            "497:\tlearn: 0.1476616\ttotal: 458ms\tremaining: 462ms\n",
            "498:\tlearn: 0.1474136\ttotal: 459ms\tremaining: 461ms\n",
            "499:\tlearn: 0.1472006\ttotal: 459ms\tremaining: 459ms\n",
            "500:\tlearn: 0.1470011\ttotal: 460ms\tremaining: 458ms\n",
            "501:\tlearn: 0.1467143\ttotal: 461ms\tremaining: 457ms\n",
            "502:\tlearn: 0.1465277\ttotal: 461ms\tremaining: 456ms\n",
            "503:\tlearn: 0.1463815\ttotal: 462ms\tremaining: 455ms\n",
            "504:\tlearn: 0.1462877\ttotal: 463ms\tremaining: 453ms\n",
            "505:\tlearn: 0.1461439\ttotal: 463ms\tremaining: 452ms\n",
            "506:\tlearn: 0.1459313\ttotal: 464ms\tremaining: 451ms\n",
            "507:\tlearn: 0.1456829\ttotal: 464ms\tremaining: 450ms\n",
            "508:\tlearn: 0.1456037\ttotal: 465ms\tremaining: 448ms\n",
            "509:\tlearn: 0.1454900\ttotal: 465ms\tremaining: 447ms\n",
            "510:\tlearn: 0.1452777\ttotal: 466ms\tremaining: 446ms\n",
            "511:\tlearn: 0.1451866\ttotal: 467ms\tremaining: 445ms\n",
            "512:\tlearn: 0.1448573\ttotal: 467ms\tremaining: 443ms\n",
            "513:\tlearn: 0.1445885\ttotal: 470ms\tremaining: 444ms\n",
            "514:\tlearn: 0.1444685\ttotal: 471ms\tremaining: 443ms\n",
            "515:\tlearn: 0.1442869\ttotal: 471ms\tremaining: 442ms\n",
            "516:\tlearn: 0.1440833\ttotal: 477ms\tremaining: 446ms\n",
            "517:\tlearn: 0.1438898\ttotal: 478ms\tremaining: 445ms\n",
            "518:\tlearn: 0.1436818\ttotal: 479ms\tremaining: 444ms\n",
            "519:\tlearn: 0.1434959\ttotal: 479ms\tremaining: 442ms\n",
            "520:\tlearn: 0.1432016\ttotal: 480ms\tremaining: 441ms\n",
            "521:\tlearn: 0.1430398\ttotal: 480ms\tremaining: 440ms\n",
            "522:\tlearn: 0.1429104\ttotal: 481ms\tremaining: 439ms\n",
            "523:\tlearn: 0.1426193\ttotal: 482ms\tremaining: 438ms\n",
            "524:\tlearn: 0.1422940\ttotal: 482ms\tremaining: 436ms\n",
            "525:\tlearn: 0.1420342\ttotal: 483ms\tremaining: 435ms\n",
            "526:\tlearn: 0.1419209\ttotal: 483ms\tremaining: 434ms\n",
            "527:\tlearn: 0.1418073\ttotal: 484ms\tremaining: 433ms\n",
            "528:\tlearn: 0.1417319\ttotal: 484ms\tremaining: 431ms\n",
            "529:\tlearn: 0.1414125\ttotal: 485ms\tremaining: 430ms\n",
            "530:\tlearn: 0.1411372\ttotal: 486ms\tremaining: 429ms\n",
            "531:\tlearn: 0.1410086\ttotal: 486ms\tremaining: 428ms\n",
            "532:\tlearn: 0.1407323\ttotal: 487ms\tremaining: 426ms\n",
            "533:\tlearn: 0.1405026\ttotal: 487ms\tremaining: 425ms\n",
            "534:\tlearn: 0.1402738\ttotal: 488ms\tremaining: 424ms\n",
            "535:\tlearn: 0.1401702\ttotal: 489ms\tremaining: 423ms\n",
            "536:\tlearn: 0.1400102\ttotal: 489ms\tremaining: 422ms\n",
            "537:\tlearn: 0.1397185\ttotal: 490ms\tremaining: 421ms\n",
            "538:\tlearn: 0.1395577\ttotal: 490ms\tremaining: 419ms\n",
            "539:\tlearn: 0.1394371\ttotal: 491ms\tremaining: 418ms\n",
            "540:\tlearn: 0.1391850\ttotal: 491ms\tremaining: 417ms\n",
            "541:\tlearn: 0.1390292\ttotal: 492ms\tremaining: 416ms\n",
            "542:\tlearn: 0.1388280\ttotal: 493ms\tremaining: 415ms\n",
            "543:\tlearn: 0.1387872\ttotal: 493ms\tremaining: 413ms\n",
            "544:\tlearn: 0.1387006\ttotal: 494ms\tremaining: 412ms\n",
            "545:\tlearn: 0.1385828\ttotal: 496ms\tremaining: 412ms\n",
            "546:\tlearn: 0.1383842\ttotal: 497ms\tremaining: 411ms\n",
            "547:\tlearn: 0.1382965\ttotal: 497ms\tremaining: 410ms\n",
            "548:\tlearn: 0.1379488\ttotal: 498ms\tremaining: 409ms\n",
            "549:\tlearn: 0.1378589\ttotal: 499ms\tremaining: 408ms\n",
            "550:\tlearn: 0.1377766\ttotal: 500ms\tremaining: 407ms\n",
            "551:\tlearn: 0.1376380\ttotal: 501ms\tremaining: 406ms\n",
            "552:\tlearn: 0.1374478\ttotal: 501ms\tremaining: 405ms\n",
            "553:\tlearn: 0.1371020\ttotal: 502ms\tremaining: 404ms\n",
            "554:\tlearn: 0.1369401\ttotal: 503ms\tremaining: 403ms\n",
            "555:\tlearn: 0.1365695\ttotal: 504ms\tremaining: 402ms\n",
            "556:\tlearn: 0.1363423\ttotal: 504ms\tremaining: 401ms\n",
            "557:\tlearn: 0.1361824\ttotal: 505ms\tremaining: 400ms\n",
            "558:\tlearn: 0.1359504\ttotal: 506ms\tremaining: 399ms\n",
            "559:\tlearn: 0.1357293\ttotal: 507ms\tremaining: 398ms\n",
            "560:\tlearn: 0.1355028\ttotal: 508ms\tremaining: 397ms\n",
            "561:\tlearn: 0.1354294\ttotal: 508ms\tremaining: 396ms\n",
            "562:\tlearn: 0.1352649\ttotal: 509ms\tremaining: 395ms\n",
            "563:\tlearn: 0.1351010\ttotal: 510ms\tremaining: 394ms\n",
            "564:\tlearn: 0.1350419\ttotal: 511ms\tremaining: 393ms\n",
            "565:\tlearn: 0.1349150\ttotal: 512ms\tremaining: 392ms\n",
            "566:\tlearn: 0.1345755\ttotal: 512ms\tremaining: 391ms\n",
            "567:\tlearn: 0.1343854\ttotal: 513ms\tremaining: 390ms\n",
            "568:\tlearn: 0.1342547\ttotal: 514ms\tremaining: 389ms\n",
            "569:\tlearn: 0.1340888\ttotal: 515ms\tremaining: 388ms\n",
            "570:\tlearn: 0.1340156\ttotal: 516ms\tremaining: 387ms\n",
            "571:\tlearn: 0.1338763\ttotal: 516ms\tremaining: 386ms\n",
            "572:\tlearn: 0.1337411\ttotal: 517ms\tremaining: 385ms\n",
            "573:\tlearn: 0.1335332\ttotal: 518ms\tremaining: 384ms\n",
            "574:\tlearn: 0.1334812\ttotal: 519ms\tremaining: 383ms\n",
            "575:\tlearn: 0.1332683\ttotal: 519ms\tremaining: 382ms\n",
            "576:\tlearn: 0.1329763\ttotal: 520ms\tremaining: 381ms\n",
            "577:\tlearn: 0.1327719\ttotal: 521ms\tremaining: 380ms\n",
            "578:\tlearn: 0.1326534\ttotal: 522ms\tremaining: 379ms\n",
            "579:\tlearn: 0.1323947\ttotal: 523ms\tremaining: 378ms\n",
            "580:\tlearn: 0.1323091\ttotal: 523ms\tremaining: 377ms\n",
            "581:\tlearn: 0.1320589\ttotal: 524ms\tremaining: 376ms\n",
            "582:\tlearn: 0.1318540\ttotal: 525ms\tremaining: 376ms\n",
            "583:\tlearn: 0.1317452\ttotal: 526ms\tremaining: 375ms\n",
            "584:\tlearn: 0.1314372\ttotal: 527ms\tremaining: 374ms\n",
            "585:\tlearn: 0.1313013\ttotal: 527ms\tremaining: 373ms\n",
            "586:\tlearn: 0.1311631\ttotal: 528ms\tremaining: 372ms\n",
            "587:\tlearn: 0.1310342\ttotal: 529ms\tremaining: 371ms\n",
            "588:\tlearn: 0.1309050\ttotal: 530ms\tremaining: 370ms\n",
            "589:\tlearn: 0.1308619\ttotal: 530ms\tremaining: 369ms\n",
            "590:\tlearn: 0.1307088\ttotal: 531ms\tremaining: 368ms\n",
            "591:\tlearn: 0.1303974\ttotal: 532ms\tremaining: 367ms\n",
            "592:\tlearn: 0.1302719\ttotal: 533ms\tremaining: 366ms\n",
            "593:\tlearn: 0.1300243\ttotal: 533ms\tremaining: 365ms\n",
            "594:\tlearn: 0.1298801\ttotal: 534ms\tremaining: 364ms\n",
            "595:\tlearn: 0.1298619\ttotal: 535ms\tremaining: 363ms\n",
            "596:\tlearn: 0.1296378\ttotal: 536ms\tremaining: 362ms\n",
            "597:\tlearn: 0.1295707\ttotal: 537ms\tremaining: 361ms\n",
            "598:\tlearn: 0.1293222\ttotal: 537ms\tremaining: 360ms\n",
            "599:\tlearn: 0.1292102\ttotal: 538ms\tremaining: 359ms\n",
            "600:\tlearn: 0.1290355\ttotal: 539ms\tremaining: 358ms\n",
            "601:\tlearn: 0.1289911\ttotal: 539ms\tremaining: 357ms\n",
            "602:\tlearn: 0.1288836\ttotal: 540ms\tremaining: 356ms\n",
            "603:\tlearn: 0.1287631\ttotal: 541ms\tremaining: 355ms\n",
            "604:\tlearn: 0.1286084\ttotal: 542ms\tremaining: 354ms\n",
            "605:\tlearn: 0.1284777\ttotal: 543ms\tremaining: 353ms\n",
            "606:\tlearn: 0.1282357\ttotal: 544ms\tremaining: 352ms\n",
            "607:\tlearn: 0.1281377\ttotal: 544ms\tremaining: 351ms\n",
            "608:\tlearn: 0.1279800\ttotal: 545ms\tremaining: 350ms\n",
            "609:\tlearn: 0.1279112\ttotal: 546ms\tremaining: 349ms\n",
            "610:\tlearn: 0.1277149\ttotal: 547ms\tremaining: 348ms\n",
            "611:\tlearn: 0.1274936\ttotal: 548ms\tremaining: 347ms\n",
            "612:\tlearn: 0.1272613\ttotal: 548ms\tremaining: 346ms\n",
            "613:\tlearn: 0.1269734\ttotal: 549ms\tremaining: 345ms\n",
            "614:\tlearn: 0.1268446\ttotal: 550ms\tremaining: 344ms\n",
            "615:\tlearn: 0.1266717\ttotal: 551ms\tremaining: 343ms\n",
            "616:\tlearn: 0.1265169\ttotal: 551ms\tremaining: 342ms\n",
            "617:\tlearn: 0.1262830\ttotal: 552ms\tremaining: 341ms\n",
            "618:\tlearn: 0.1261428\ttotal: 553ms\tremaining: 340ms\n",
            "619:\tlearn: 0.1259345\ttotal: 554ms\tremaining: 339ms\n",
            "620:\tlearn: 0.1257727\ttotal: 555ms\tremaining: 338ms\n",
            "621:\tlearn: 0.1256311\ttotal: 555ms\tremaining: 337ms\n",
            "622:\tlearn: 0.1254530\ttotal: 556ms\tremaining: 337ms\n",
            "623:\tlearn: 0.1254104\ttotal: 557ms\tremaining: 336ms\n",
            "624:\tlearn: 0.1253541\ttotal: 558ms\tremaining: 335ms\n",
            "625:\tlearn: 0.1251859\ttotal: 559ms\tremaining: 334ms\n",
            "626:\tlearn: 0.1250741\ttotal: 559ms\tremaining: 333ms\n",
            "627:\tlearn: 0.1249538\ttotal: 560ms\tremaining: 332ms\n",
            "628:\tlearn: 0.1247287\ttotal: 561ms\tremaining: 331ms\n",
            "629:\tlearn: 0.1246399\ttotal: 562ms\tremaining: 330ms\n",
            "630:\tlearn: 0.1244373\ttotal: 563ms\tremaining: 329ms\n",
            "631:\tlearn: 0.1242505\ttotal: 563ms\tremaining: 328ms\n",
            "632:\tlearn: 0.1240993\ttotal: 564ms\tremaining: 327ms\n",
            "633:\tlearn: 0.1238756\ttotal: 565ms\tremaining: 326ms\n",
            "634:\tlearn: 0.1236948\ttotal: 566ms\tremaining: 325ms\n",
            "635:\tlearn: 0.1234949\ttotal: 567ms\tremaining: 324ms\n",
            "636:\tlearn: 0.1233133\ttotal: 567ms\tremaining: 323ms\n",
            "637:\tlearn: 0.1230276\ttotal: 568ms\tremaining: 322ms\n",
            "638:\tlearn: 0.1227856\ttotal: 569ms\tremaining: 322ms\n",
            "639:\tlearn: 0.1226661\ttotal: 570ms\tremaining: 321ms\n",
            "640:\tlearn: 0.1225126\ttotal: 571ms\tremaining: 320ms\n",
            "641:\tlearn: 0.1224420\ttotal: 572ms\tremaining: 319ms\n",
            "642:\tlearn: 0.1222697\ttotal: 573ms\tremaining: 318ms\n",
            "643:\tlearn: 0.1221184\ttotal: 573ms\tremaining: 317ms\n",
            "644:\tlearn: 0.1219128\ttotal: 574ms\tremaining: 316ms\n",
            "645:\tlearn: 0.1216169\ttotal: 575ms\tremaining: 315ms\n",
            "646:\tlearn: 0.1213652\ttotal: 576ms\tremaining: 314ms\n",
            "647:\tlearn: 0.1211952\ttotal: 577ms\tremaining: 313ms\n",
            "648:\tlearn: 0.1209915\ttotal: 577ms\tremaining: 312ms\n",
            "649:\tlearn: 0.1207946\ttotal: 578ms\tremaining: 311ms\n",
            "650:\tlearn: 0.1206716\ttotal: 579ms\tremaining: 310ms\n",
            "651:\tlearn: 0.1205114\ttotal: 580ms\tremaining: 309ms\n",
            "652:\tlearn: 0.1203527\ttotal: 581ms\tremaining: 308ms\n",
            "653:\tlearn: 0.1202576\ttotal: 581ms\tremaining: 308ms\n",
            "654:\tlearn: 0.1200467\ttotal: 582ms\tremaining: 307ms\n",
            "655:\tlearn: 0.1198432\ttotal: 583ms\tremaining: 306ms\n",
            "656:\tlearn: 0.1197000\ttotal: 584ms\tremaining: 305ms\n",
            "657:\tlearn: 0.1195783\ttotal: 584ms\tremaining: 304ms\n",
            "658:\tlearn: 0.1193800\ttotal: 585ms\tremaining: 303ms\n",
            "659:\tlearn: 0.1191639\ttotal: 586ms\tremaining: 302ms\n",
            "660:\tlearn: 0.1191165\ttotal: 587ms\tremaining: 301ms\n",
            "661:\tlearn: 0.1190425\ttotal: 588ms\tremaining: 300ms\n",
            "662:\tlearn: 0.1188959\ttotal: 588ms\tremaining: 299ms\n",
            "663:\tlearn: 0.1186197\ttotal: 589ms\tremaining: 298ms\n",
            "664:\tlearn: 0.1183518\ttotal: 590ms\tremaining: 297ms\n",
            "665:\tlearn: 0.1182299\ttotal: 591ms\tremaining: 296ms\n",
            "666:\tlearn: 0.1180890\ttotal: 592ms\tremaining: 295ms\n",
            "667:\tlearn: 0.1179443\ttotal: 592ms\tremaining: 294ms\n",
            "668:\tlearn: 0.1177495\ttotal: 593ms\tremaining: 294ms\n",
            "669:\tlearn: 0.1175967\ttotal: 594ms\tremaining: 293ms\n",
            "670:\tlearn: 0.1175017\ttotal: 595ms\tremaining: 292ms\n",
            "671:\tlearn: 0.1173012\ttotal: 600ms\tremaining: 293ms\n",
            "672:\tlearn: 0.1171912\ttotal: 601ms\tremaining: 292ms\n",
            "673:\tlearn: 0.1168939\ttotal: 601ms\tremaining: 291ms\n",
            "674:\tlearn: 0.1167414\ttotal: 602ms\tremaining: 290ms\n",
            "675:\tlearn: 0.1165000\ttotal: 605ms\tremaining: 290ms\n",
            "676:\tlearn: 0.1163740\ttotal: 605ms\tremaining: 289ms\n",
            "677:\tlearn: 0.1162310\ttotal: 606ms\tremaining: 288ms\n",
            "678:\tlearn: 0.1160640\ttotal: 607ms\tremaining: 287ms\n",
            "679:\tlearn: 0.1158607\ttotal: 608ms\tremaining: 286ms\n",
            "680:\tlearn: 0.1156899\ttotal: 609ms\tremaining: 285ms\n",
            "681:\tlearn: 0.1155822\ttotal: 609ms\tremaining: 284ms\n",
            "682:\tlearn: 0.1153665\ttotal: 610ms\tremaining: 283ms\n",
            "683:\tlearn: 0.1151862\ttotal: 611ms\tremaining: 282ms\n",
            "684:\tlearn: 0.1150536\ttotal: 612ms\tremaining: 281ms\n",
            "685:\tlearn: 0.1149123\ttotal: 613ms\tremaining: 280ms\n",
            "686:\tlearn: 0.1147223\ttotal: 613ms\tremaining: 279ms\n",
            "687:\tlearn: 0.1146235\ttotal: 614ms\tremaining: 278ms\n",
            "688:\tlearn: 0.1143911\ttotal: 615ms\tremaining: 278ms\n",
            "689:\tlearn: 0.1142355\ttotal: 616ms\tremaining: 277ms\n",
            "690:\tlearn: 0.1140717\ttotal: 616ms\tremaining: 276ms\n",
            "691:\tlearn: 0.1139541\ttotal: 617ms\tremaining: 275ms\n",
            "692:\tlearn: 0.1137841\ttotal: 618ms\tremaining: 274ms\n",
            "693:\tlearn: 0.1137284\ttotal: 619ms\tremaining: 273ms\n",
            "694:\tlearn: 0.1135673\ttotal: 620ms\tremaining: 272ms\n",
            "695:\tlearn: 0.1134648\ttotal: 620ms\tremaining: 271ms\n",
            "696:\tlearn: 0.1132992\ttotal: 621ms\tremaining: 270ms\n",
            "697:\tlearn: 0.1132205\ttotal: 622ms\tremaining: 269ms\n",
            "698:\tlearn: 0.1130816\ttotal: 623ms\tremaining: 268ms\n",
            "699:\tlearn: 0.1128911\ttotal: 624ms\tremaining: 267ms\n",
            "700:\tlearn: 0.1128733\ttotal: 624ms\tremaining: 266ms\n",
            "701:\tlearn: 0.1127762\ttotal: 627ms\tremaining: 266ms\n",
            "702:\tlearn: 0.1126979\ttotal: 628ms\tremaining: 265ms\n",
            "703:\tlearn: 0.1125116\ttotal: 630ms\tremaining: 265ms\n",
            "704:\tlearn: 0.1124403\ttotal: 633ms\tremaining: 265ms\n",
            "705:\tlearn: 0.1123303\ttotal: 634ms\tremaining: 264ms\n",
            "706:\tlearn: 0.1122424\ttotal: 635ms\tremaining: 263ms\n",
            "707:\tlearn: 0.1120324\ttotal: 635ms\tremaining: 262ms\n",
            "708:\tlearn: 0.1119487\ttotal: 638ms\tremaining: 262ms\n",
            "709:\tlearn: 0.1118353\ttotal: 639ms\tremaining: 261ms\n",
            "710:\tlearn: 0.1117134\ttotal: 639ms\tremaining: 260ms\n",
            "711:\tlearn: 0.1115767\ttotal: 640ms\tremaining: 259ms\n",
            "712:\tlearn: 0.1113030\ttotal: 641ms\tremaining: 258ms\n",
            "713:\tlearn: 0.1112362\ttotal: 642ms\tremaining: 257ms\n",
            "714:\tlearn: 0.1109899\ttotal: 643ms\tremaining: 256ms\n",
            "715:\tlearn: 0.1109019\ttotal: 644ms\tremaining: 255ms\n",
            "716:\tlearn: 0.1108081\ttotal: 644ms\tremaining: 254ms\n",
            "717:\tlearn: 0.1107232\ttotal: 645ms\tremaining: 253ms\n",
            "718:\tlearn: 0.1105573\ttotal: 646ms\tremaining: 252ms\n",
            "719:\tlearn: 0.1105034\ttotal: 647ms\tremaining: 251ms\n",
            "720:\tlearn: 0.1103628\ttotal: 647ms\tremaining: 251ms\n",
            "721:\tlearn: 0.1101257\ttotal: 648ms\tremaining: 250ms\n",
            "722:\tlearn: 0.1098579\ttotal: 649ms\tremaining: 249ms\n",
            "723:\tlearn: 0.1096919\ttotal: 650ms\tremaining: 248ms\n",
            "724:\tlearn: 0.1094989\ttotal: 651ms\tremaining: 247ms\n",
            "725:\tlearn: 0.1093701\ttotal: 651ms\tremaining: 246ms\n",
            "726:\tlearn: 0.1090834\ttotal: 652ms\tremaining: 245ms\n",
            "727:\tlearn: 0.1090289\ttotal: 653ms\tremaining: 244ms\n",
            "728:\tlearn: 0.1088936\ttotal: 654ms\tremaining: 243ms\n",
            "729:\tlearn: 0.1087265\ttotal: 655ms\tremaining: 242ms\n",
            "730:\tlearn: 0.1085861\ttotal: 655ms\tremaining: 241ms\n",
            "731:\tlearn: 0.1084752\ttotal: 656ms\tremaining: 240ms\n",
            "732:\tlearn: 0.1083431\ttotal: 657ms\tremaining: 239ms\n",
            "733:\tlearn: 0.1082211\ttotal: 658ms\tremaining: 238ms\n",
            "734:\tlearn: 0.1081118\ttotal: 659ms\tremaining: 237ms\n",
            "735:\tlearn: 0.1079485\ttotal: 659ms\tremaining: 237ms\n",
            "736:\tlearn: 0.1077401\ttotal: 660ms\tremaining: 236ms\n",
            "737:\tlearn: 0.1075412\ttotal: 661ms\tremaining: 235ms\n",
            "738:\tlearn: 0.1073141\ttotal: 662ms\tremaining: 234ms\n",
            "739:\tlearn: 0.1071609\ttotal: 662ms\tremaining: 233ms\n",
            "740:\tlearn: 0.1070817\ttotal: 663ms\tremaining: 232ms\n",
            "741:\tlearn: 0.1069481\ttotal: 664ms\tremaining: 231ms\n",
            "742:\tlearn: 0.1067621\ttotal: 665ms\tremaining: 230ms\n",
            "743:\tlearn: 0.1065935\ttotal: 666ms\tremaining: 229ms\n",
            "744:\tlearn: 0.1064578\ttotal: 666ms\tremaining: 228ms\n",
            "745:\tlearn: 0.1061791\ttotal: 667ms\tremaining: 227ms\n",
            "746:\tlearn: 0.1060253\ttotal: 668ms\tremaining: 226ms\n",
            "747:\tlearn: 0.1059165\ttotal: 669ms\tremaining: 225ms\n",
            "748:\tlearn: 0.1056966\ttotal: 669ms\tremaining: 224ms\n",
            "749:\tlearn: 0.1055152\ttotal: 670ms\tremaining: 223ms\n",
            "750:\tlearn: 0.1053761\ttotal: 671ms\tremaining: 222ms\n",
            "751:\tlearn: 0.1051464\ttotal: 672ms\tremaining: 222ms\n",
            "752:\tlearn: 0.1050601\ttotal: 673ms\tremaining: 221ms\n",
            "753:\tlearn: 0.1048767\ttotal: 674ms\tremaining: 220ms\n",
            "754:\tlearn: 0.1046875\ttotal: 674ms\tremaining: 219ms\n",
            "755:\tlearn: 0.1045392\ttotal: 675ms\tremaining: 218ms\n",
            "756:\tlearn: 0.1044377\ttotal: 676ms\tremaining: 217ms\n",
            "757:\tlearn: 0.1043338\ttotal: 677ms\tremaining: 216ms\n",
            "758:\tlearn: 0.1041928\ttotal: 677ms\tremaining: 215ms\n",
            "759:\tlearn: 0.1040813\ttotal: 678ms\tremaining: 214ms\n",
            "760:\tlearn: 0.1039736\ttotal: 679ms\tremaining: 213ms\n",
            "761:\tlearn: 0.1038049\ttotal: 680ms\tremaining: 212ms\n",
            "762:\tlearn: 0.1037002\ttotal: 680ms\tremaining: 211ms\n",
            "763:\tlearn: 0.1036069\ttotal: 681ms\tremaining: 210ms\n",
            "764:\tlearn: 0.1034374\ttotal: 682ms\tremaining: 210ms\n",
            "765:\tlearn: 0.1033262\ttotal: 683ms\tremaining: 209ms\n",
            "766:\tlearn: 0.1032049\ttotal: 684ms\tremaining: 208ms\n",
            "767:\tlearn: 0.1031145\ttotal: 684ms\tremaining: 207ms\n",
            "768:\tlearn: 0.1030366\ttotal: 685ms\tremaining: 206ms\n",
            "769:\tlearn: 0.1029562\ttotal: 686ms\tremaining: 205ms\n",
            "770:\tlearn: 0.1029053\ttotal: 687ms\tremaining: 204ms\n",
            "771:\tlearn: 0.1027339\ttotal: 688ms\tremaining: 203ms\n",
            "772:\tlearn: 0.1025309\ttotal: 688ms\tremaining: 202ms\n",
            "773:\tlearn: 0.1023588\ttotal: 689ms\tremaining: 201ms\n",
            "774:\tlearn: 0.1022993\ttotal: 690ms\tremaining: 200ms\n",
            "775:\tlearn: 0.1021961\ttotal: 691ms\tremaining: 199ms\n",
            "776:\tlearn: 0.1019817\ttotal: 691ms\tremaining: 198ms\n",
            "777:\tlearn: 0.1018526\ttotal: 692ms\tremaining: 198ms\n",
            "778:\tlearn: 0.1017517\ttotal: 693ms\tremaining: 197ms\n",
            "779:\tlearn: 0.1016542\ttotal: 694ms\tremaining: 196ms\n",
            "780:\tlearn: 0.1014188\ttotal: 695ms\tremaining: 195ms\n",
            "781:\tlearn: 0.1012400\ttotal: 700ms\tremaining: 195ms\n",
            "782:\tlearn: 0.1010160\ttotal: 703ms\tremaining: 195ms\n",
            "783:\tlearn: 0.1008680\ttotal: 704ms\tremaining: 194ms\n",
            "784:\tlearn: 0.1008404\ttotal: 705ms\tremaining: 193ms\n",
            "785:\tlearn: 0.1007371\ttotal: 706ms\tremaining: 192ms\n",
            "786:\tlearn: 0.1006405\ttotal: 708ms\tremaining: 191ms\n",
            "787:\tlearn: 0.1005856\ttotal: 709ms\tremaining: 191ms\n",
            "788:\tlearn: 0.1005269\ttotal: 710ms\tremaining: 190ms\n",
            "789:\tlearn: 0.1003719\ttotal: 712ms\tremaining: 189ms\n",
            "790:\tlearn: 0.1001063\ttotal: 713ms\tremaining: 188ms\n",
            "791:\tlearn: 0.0999385\ttotal: 715ms\tremaining: 188ms\n",
            "792:\tlearn: 0.0998265\ttotal: 716ms\tremaining: 187ms\n",
            "793:\tlearn: 0.0998059\ttotal: 717ms\tremaining: 186ms\n",
            "794:\tlearn: 0.0996723\ttotal: 718ms\tremaining: 185ms\n",
            "795:\tlearn: 0.0995338\ttotal: 720ms\tremaining: 184ms\n",
            "796:\tlearn: 0.0994349\ttotal: 721ms\tremaining: 184ms\n",
            "797:\tlearn: 0.0992635\ttotal: 722ms\tremaining: 183ms\n",
            "798:\tlearn: 0.0991411\ttotal: 724ms\tremaining: 182ms\n",
            "799:\tlearn: 0.0989936\ttotal: 725ms\tremaining: 181ms\n",
            "800:\tlearn: 0.0989245\ttotal: 727ms\tremaining: 181ms\n",
            "801:\tlearn: 0.0988150\ttotal: 728ms\tremaining: 180ms\n",
            "802:\tlearn: 0.0987400\ttotal: 729ms\tremaining: 179ms\n",
            "803:\tlearn: 0.0986226\ttotal: 731ms\tremaining: 178ms\n",
            "804:\tlearn: 0.0985580\ttotal: 732ms\tremaining: 177ms\n",
            "805:\tlearn: 0.0984308\ttotal: 734ms\tremaining: 177ms\n",
            "806:\tlearn: 0.0983074\ttotal: 735ms\tremaining: 176ms\n",
            "807:\tlearn: 0.0981985\ttotal: 737ms\tremaining: 175ms\n",
            "808:\tlearn: 0.0980848\ttotal: 738ms\tremaining: 174ms\n",
            "809:\tlearn: 0.0980320\ttotal: 740ms\tremaining: 174ms\n",
            "810:\tlearn: 0.0979248\ttotal: 741ms\tremaining: 173ms\n",
            "811:\tlearn: 0.0977970\ttotal: 742ms\tremaining: 172ms\n",
            "812:\tlearn: 0.0977208\ttotal: 743ms\tremaining: 171ms\n",
            "813:\tlearn: 0.0976747\ttotal: 744ms\tremaining: 170ms\n",
            "814:\tlearn: 0.0975165\ttotal: 745ms\tremaining: 169ms\n",
            "815:\tlearn: 0.0973829\ttotal: 745ms\tremaining: 168ms\n",
            "816:\tlearn: 0.0972592\ttotal: 746ms\tremaining: 167ms\n",
            "817:\tlearn: 0.0971880\ttotal: 747ms\tremaining: 166ms\n",
            "818:\tlearn: 0.0970881\ttotal: 748ms\tremaining: 165ms\n",
            "819:\tlearn: 0.0970197\ttotal: 748ms\tremaining: 164ms\n",
            "820:\tlearn: 0.0968779\ttotal: 749ms\tremaining: 163ms\n",
            "821:\tlearn: 0.0967838\ttotal: 750ms\tremaining: 162ms\n",
            "822:\tlearn: 0.0966362\ttotal: 751ms\tremaining: 161ms\n",
            "823:\tlearn: 0.0965396\ttotal: 752ms\tremaining: 161ms\n",
            "824:\tlearn: 0.0963656\ttotal: 752ms\tremaining: 160ms\n",
            "825:\tlearn: 0.0962859\ttotal: 753ms\tremaining: 159ms\n",
            "826:\tlearn: 0.0961527\ttotal: 754ms\tremaining: 158ms\n",
            "827:\tlearn: 0.0959614\ttotal: 755ms\tremaining: 157ms\n",
            "828:\tlearn: 0.0958471\ttotal: 756ms\tremaining: 156ms\n",
            "829:\tlearn: 0.0956684\ttotal: 756ms\tremaining: 155ms\n",
            "830:\tlearn: 0.0955568\ttotal: 757ms\tremaining: 154ms\n",
            "831:\tlearn: 0.0955144\ttotal: 758ms\tremaining: 153ms\n",
            "832:\tlearn: 0.0953545\ttotal: 759ms\tremaining: 152ms\n",
            "833:\tlearn: 0.0952173\ttotal: 760ms\tremaining: 151ms\n",
            "834:\tlearn: 0.0951505\ttotal: 760ms\tremaining: 150ms\n",
            "835:\tlearn: 0.0949957\ttotal: 761ms\tremaining: 149ms\n",
            "836:\tlearn: 0.0948247\ttotal: 762ms\tremaining: 148ms\n",
            "837:\tlearn: 0.0947133\ttotal: 763ms\tremaining: 147ms\n",
            "838:\tlearn: 0.0946024\ttotal: 764ms\tremaining: 147ms\n",
            "839:\tlearn: 0.0945581\ttotal: 764ms\tremaining: 146ms\n",
            "840:\tlearn: 0.0943866\ttotal: 765ms\tremaining: 145ms\n",
            "841:\tlearn: 0.0942751\ttotal: 766ms\tremaining: 144ms\n",
            "842:\tlearn: 0.0941415\ttotal: 773ms\tremaining: 144ms\n",
            "843:\tlearn: 0.0940413\ttotal: 774ms\tremaining: 143ms\n",
            "844:\tlearn: 0.0940035\ttotal: 775ms\tremaining: 142ms\n",
            "845:\tlearn: 0.0938824\ttotal: 775ms\tremaining: 141ms\n",
            "846:\tlearn: 0.0937913\ttotal: 776ms\tremaining: 140ms\n",
            "847:\tlearn: 0.0936813\ttotal: 777ms\tremaining: 139ms\n",
            "848:\tlearn: 0.0935590\ttotal: 777ms\tremaining: 138ms\n",
            "849:\tlearn: 0.0934686\ttotal: 778ms\tremaining: 137ms\n",
            "850:\tlearn: 0.0933547\ttotal: 778ms\tremaining: 136ms\n",
            "851:\tlearn: 0.0931425\ttotal: 779ms\tremaining: 135ms\n",
            "852:\tlearn: 0.0929954\ttotal: 780ms\tremaining: 134ms\n",
            "853:\tlearn: 0.0928248\ttotal: 781ms\tremaining: 134ms\n",
            "854:\tlearn: 0.0926444\ttotal: 782ms\tremaining: 133ms\n",
            "855:\tlearn: 0.0925194\ttotal: 783ms\tremaining: 132ms\n",
            "856:\tlearn: 0.0924305\ttotal: 783ms\tremaining: 131ms\n",
            "857:\tlearn: 0.0923923\ttotal: 784ms\tremaining: 130ms\n",
            "858:\tlearn: 0.0922873\ttotal: 785ms\tremaining: 129ms\n",
            "859:\tlearn: 0.0921947\ttotal: 786ms\tremaining: 128ms\n",
            "860:\tlearn: 0.0920731\ttotal: 787ms\tremaining: 127ms\n",
            "861:\tlearn: 0.0919146\ttotal: 787ms\tremaining: 126ms\n",
            "862:\tlearn: 0.0918753\ttotal: 788ms\tremaining: 125ms\n",
            "863:\tlearn: 0.0917409\ttotal: 789ms\tremaining: 124ms\n",
            "864:\tlearn: 0.0916383\ttotal: 790ms\tremaining: 123ms\n",
            "865:\tlearn: 0.0915046\ttotal: 790ms\tremaining: 122ms\n",
            "866:\tlearn: 0.0914464\ttotal: 791ms\tremaining: 121ms\n",
            "867:\tlearn: 0.0913482\ttotal: 792ms\tremaining: 120ms\n",
            "868:\tlearn: 0.0911930\ttotal: 793ms\tremaining: 120ms\n",
            "869:\tlearn: 0.0910917\ttotal: 794ms\tremaining: 119ms\n",
            "870:\tlearn: 0.0910319\ttotal: 794ms\tremaining: 118ms\n",
            "871:\tlearn: 0.0909156\ttotal: 795ms\tremaining: 117ms\n",
            "872:\tlearn: 0.0907743\ttotal: 796ms\tremaining: 116ms\n",
            "873:\tlearn: 0.0906998\ttotal: 797ms\tremaining: 115ms\n",
            "874:\tlearn: 0.0905980\ttotal: 798ms\tremaining: 114ms\n",
            "875:\tlearn: 0.0905756\ttotal: 798ms\tremaining: 113ms\n",
            "876:\tlearn: 0.0904756\ttotal: 799ms\tremaining: 112ms\n",
            "877:\tlearn: 0.0903138\ttotal: 800ms\tremaining: 111ms\n",
            "878:\tlearn: 0.0901872\ttotal: 801ms\tremaining: 110ms\n",
            "879:\tlearn: 0.0900709\ttotal: 802ms\tremaining: 109ms\n",
            "880:\tlearn: 0.0899338\ttotal: 802ms\tremaining: 108ms\n",
            "881:\tlearn: 0.0898773\ttotal: 803ms\tremaining: 107ms\n",
            "882:\tlearn: 0.0897825\ttotal: 804ms\tremaining: 107ms\n",
            "883:\tlearn: 0.0897275\ttotal: 805ms\tremaining: 106ms\n",
            "884:\tlearn: 0.0896819\ttotal: 806ms\tremaining: 105ms\n",
            "885:\tlearn: 0.0895323\ttotal: 806ms\tremaining: 104ms\n",
            "886:\tlearn: 0.0894529\ttotal: 807ms\tremaining: 103ms\n",
            "887:\tlearn: 0.0893461\ttotal: 808ms\tremaining: 102ms\n",
            "888:\tlearn: 0.0892171\ttotal: 809ms\tremaining: 101ms\n",
            "889:\tlearn: 0.0891337\ttotal: 810ms\tremaining: 100ms\n",
            "890:\tlearn: 0.0890382\ttotal: 811ms\tremaining: 99.2ms\n",
            "891:\tlearn: 0.0889298\ttotal: 811ms\tremaining: 98.3ms\n",
            "892:\tlearn: 0.0888253\ttotal: 812ms\tremaining: 97.3ms\n",
            "893:\tlearn: 0.0886337\ttotal: 813ms\tremaining: 96.4ms\n",
            "894:\tlearn: 0.0885853\ttotal: 814ms\tremaining: 95.5ms\n",
            "895:\tlearn: 0.0884105\ttotal: 815ms\tremaining: 94.6ms\n",
            "896:\tlearn: 0.0883765\ttotal: 815ms\tremaining: 93.6ms\n",
            "897:\tlearn: 0.0882580\ttotal: 816ms\tremaining: 92.7ms\n",
            "898:\tlearn: 0.0881852\ttotal: 817ms\tremaining: 91.8ms\n",
            "899:\tlearn: 0.0880884\ttotal: 818ms\tremaining: 90.9ms\n",
            "900:\tlearn: 0.0880530\ttotal: 818ms\tremaining: 89.9ms\n",
            "901:\tlearn: 0.0880093\ttotal: 819ms\tremaining: 89ms\n",
            "902:\tlearn: 0.0879202\ttotal: 820ms\tremaining: 88.1ms\n",
            "903:\tlearn: 0.0877019\ttotal: 821ms\tremaining: 87.2ms\n",
            "904:\tlearn: 0.0876477\ttotal: 822ms\tremaining: 86.3ms\n",
            "905:\tlearn: 0.0874941\ttotal: 823ms\tremaining: 85.3ms\n",
            "906:\tlearn: 0.0873995\ttotal: 823ms\tremaining: 84.4ms\n",
            "907:\tlearn: 0.0873764\ttotal: 824ms\tremaining: 83.5ms\n",
            "908:\tlearn: 0.0873227\ttotal: 825ms\tremaining: 82.6ms\n",
            "909:\tlearn: 0.0872293\ttotal: 826ms\tremaining: 81.7ms\n",
            "910:\tlearn: 0.0871513\ttotal: 827ms\tremaining: 80.7ms\n",
            "911:\tlearn: 0.0869869\ttotal: 827ms\tremaining: 79.8ms\n",
            "912:\tlearn: 0.0868816\ttotal: 828ms\tremaining: 78.9ms\n",
            "913:\tlearn: 0.0867952\ttotal: 829ms\tremaining: 78ms\n",
            "914:\tlearn: 0.0866033\ttotal: 830ms\tremaining: 77.1ms\n",
            "915:\tlearn: 0.0865393\ttotal: 831ms\tremaining: 76.2ms\n",
            "916:\tlearn: 0.0864616\ttotal: 831ms\tremaining: 75.2ms\n",
            "917:\tlearn: 0.0863873\ttotal: 832ms\tremaining: 74.3ms\n",
            "918:\tlearn: 0.0862578\ttotal: 833ms\tremaining: 73.4ms\n",
            "919:\tlearn: 0.0860922\ttotal: 834ms\tremaining: 72.5ms\n",
            "920:\tlearn: 0.0859608\ttotal: 835ms\tremaining: 71.6ms\n",
            "921:\tlearn: 0.0859182\ttotal: 835ms\tremaining: 70.7ms\n",
            "922:\tlearn: 0.0857868\ttotal: 836ms\tremaining: 69.7ms\n",
            "923:\tlearn: 0.0857004\ttotal: 837ms\tremaining: 68.8ms\n",
            "924:\tlearn: 0.0856491\ttotal: 838ms\tremaining: 67.9ms\n",
            "925:\tlearn: 0.0854536\ttotal: 838ms\tremaining: 67ms\n",
            "926:\tlearn: 0.0854115\ttotal: 839ms\tremaining: 66.1ms\n",
            "927:\tlearn: 0.0853574\ttotal: 840ms\tremaining: 65.2ms\n",
            "928:\tlearn: 0.0851395\ttotal: 841ms\tremaining: 64.3ms\n",
            "929:\tlearn: 0.0850138\ttotal: 842ms\tremaining: 63.3ms\n",
            "930:\tlearn: 0.0849087\ttotal: 842ms\tremaining: 62.4ms\n",
            "931:\tlearn: 0.0847738\ttotal: 843ms\tremaining: 61.5ms\n",
            "932:\tlearn: 0.0847426\ttotal: 844ms\tremaining: 60.6ms\n",
            "933:\tlearn: 0.0846364\ttotal: 845ms\tremaining: 59.7ms\n",
            "934:\tlearn: 0.0845509\ttotal: 845ms\tremaining: 58.8ms\n",
            "935:\tlearn: 0.0844711\ttotal: 846ms\tremaining: 57.9ms\n",
            "936:\tlearn: 0.0843845\ttotal: 847ms\tremaining: 57ms\n",
            "937:\tlearn: 0.0842698\ttotal: 848ms\tremaining: 56ms\n",
            "938:\tlearn: 0.0841325\ttotal: 849ms\tremaining: 55.1ms\n",
            "939:\tlearn: 0.0840421\ttotal: 849ms\tremaining: 54.2ms\n",
            "940:\tlearn: 0.0840197\ttotal: 850ms\tremaining: 53.3ms\n",
            "941:\tlearn: 0.0839599\ttotal: 851ms\tremaining: 52.4ms\n",
            "942:\tlearn: 0.0838792\ttotal: 852ms\tremaining: 51.5ms\n",
            "943:\tlearn: 0.0837694\ttotal: 853ms\tremaining: 50.6ms\n",
            "944:\tlearn: 0.0836671\ttotal: 853ms\tremaining: 49.7ms\n",
            "945:\tlearn: 0.0835655\ttotal: 854ms\tremaining: 48.8ms\n",
            "946:\tlearn: 0.0834681\ttotal: 855ms\tremaining: 47.9ms\n",
            "947:\tlearn: 0.0833900\ttotal: 856ms\tremaining: 46.9ms\n",
            "948:\tlearn: 0.0832651\ttotal: 857ms\tremaining: 46ms\n",
            "949:\tlearn: 0.0831305\ttotal: 857ms\tremaining: 45.1ms\n",
            "950:\tlearn: 0.0830087\ttotal: 858ms\tremaining: 44.2ms\n",
            "951:\tlearn: 0.0829341\ttotal: 859ms\tremaining: 43.3ms\n",
            "952:\tlearn: 0.0828639\ttotal: 860ms\tremaining: 42.4ms\n",
            "953:\tlearn: 0.0828257\ttotal: 861ms\tremaining: 41.5ms\n",
            "954:\tlearn: 0.0827132\ttotal: 861ms\tremaining: 40.6ms\n",
            "955:\tlearn: 0.0826385\ttotal: 862ms\tremaining: 39.7ms\n",
            "956:\tlearn: 0.0825253\ttotal: 863ms\tremaining: 38.8ms\n",
            "957:\tlearn: 0.0823796\ttotal: 864ms\tremaining: 37.9ms\n",
            "958:\tlearn: 0.0823146\ttotal: 864ms\tremaining: 37ms\n",
            "959:\tlearn: 0.0822047\ttotal: 865ms\tremaining: 36ms\n",
            "960:\tlearn: 0.0820599\ttotal: 866ms\tremaining: 35.1ms\n",
            "961:\tlearn: 0.0819539\ttotal: 867ms\tremaining: 34.2ms\n",
            "962:\tlearn: 0.0818931\ttotal: 868ms\tremaining: 33.3ms\n",
            "963:\tlearn: 0.0818305\ttotal: 869ms\tremaining: 32.5ms\n",
            "964:\tlearn: 0.0817705\ttotal: 870ms\tremaining: 31.6ms\n",
            "965:\tlearn: 0.0816466\ttotal: 871ms\tremaining: 30.7ms\n",
            "966:\tlearn: 0.0815844\ttotal: 872ms\tremaining: 29.8ms\n",
            "967:\tlearn: 0.0815025\ttotal: 873ms\tremaining: 28.9ms\n",
            "968:\tlearn: 0.0813371\ttotal: 874ms\tremaining: 28ms\n",
            "969:\tlearn: 0.0812392\ttotal: 875ms\tremaining: 27.1ms\n",
            "970:\tlearn: 0.0811145\ttotal: 876ms\tremaining: 26.2ms\n",
            "971:\tlearn: 0.0810335\ttotal: 877ms\tremaining: 25.3ms\n",
            "972:\tlearn: 0.0809313\ttotal: 878ms\tremaining: 24.4ms\n",
            "973:\tlearn: 0.0808815\ttotal: 878ms\tremaining: 23.4ms\n",
            "974:\tlearn: 0.0806869\ttotal: 880ms\tremaining: 22.6ms\n",
            "975:\tlearn: 0.0806157\ttotal: 880ms\tremaining: 21.6ms\n",
            "976:\tlearn: 0.0805327\ttotal: 881ms\tremaining: 20.7ms\n",
            "977:\tlearn: 0.0804352\ttotal: 882ms\tremaining: 19.8ms\n",
            "978:\tlearn: 0.0803632\ttotal: 883ms\tremaining: 18.9ms\n",
            "979:\tlearn: 0.0802874\ttotal: 884ms\tremaining: 18.1ms\n",
            "980:\tlearn: 0.0801818\ttotal: 885ms\tremaining: 17.1ms\n",
            "981:\tlearn: 0.0800317\ttotal: 886ms\tremaining: 16.2ms\n",
            "982:\tlearn: 0.0799267\ttotal: 887ms\tremaining: 15.3ms\n",
            "983:\tlearn: 0.0797601\ttotal: 888ms\tremaining: 14.4ms\n",
            "984:\tlearn: 0.0796551\ttotal: 889ms\tremaining: 13.5ms\n",
            "985:\tlearn: 0.0795665\ttotal: 889ms\tremaining: 12.6ms\n",
            "986:\tlearn: 0.0794465\ttotal: 890ms\tremaining: 11.7ms\n",
            "987:\tlearn: 0.0793811\ttotal: 891ms\tremaining: 10.8ms\n",
            "988:\tlearn: 0.0793512\ttotal: 892ms\tremaining: 9.92ms\n",
            "989:\tlearn: 0.0792692\ttotal: 893ms\tremaining: 9.02ms\n",
            "990:\tlearn: 0.0792344\ttotal: 893ms\tremaining: 8.11ms\n",
            "991:\tlearn: 0.0791295\ttotal: 894ms\tremaining: 7.21ms\n",
            "992:\tlearn: 0.0790063\ttotal: 895ms\tremaining: 6.31ms\n",
            "993:\tlearn: 0.0789648\ttotal: 896ms\tremaining: 5.41ms\n",
            "994:\tlearn: 0.0788905\ttotal: 896ms\tremaining: 4.5ms\n",
            "995:\tlearn: 0.0788540\ttotal: 897ms\tremaining: 3.6ms\n",
            "996:\tlearn: 0.0787575\ttotal: 898ms\tremaining: 2.7ms\n",
            "997:\tlearn: 0.0787127\ttotal: 899ms\tremaining: 1.8ms\n",
            "998:\tlearn: 0.0785141\ttotal: 900ms\tremaining: 900us\n",
            "999:\tlearn: 0.0784166\ttotal: 901ms\tremaining: 0us\n"
          ]
        },
        {
          "output_type": "execute_result",
          "data": {
            "text/plain": [
              "<catboost.core.CatBoostClassifier at 0x7fd8a3b95350>"
            ]
          },
          "metadata": {},
          "execution_count": 77
        }
      ],
      "source": [
        "from catboost import CatBoostClassifier\n",
        "classifier = CatBoostClassifier()\n",
        "classifier.fit(x_train, y_train)"
      ]
    },
    {
      "cell_type": "code",
      "execution_count": null,
      "metadata": {
        "execution": {
          "iopub.execute_input": "2021-01-30T12:07:29.708166Z",
          "iopub.status.busy": "2021-01-30T12:07:29.707156Z",
          "iopub.status.idle": "2021-01-30T12:07:29.715352Z",
          "shell.execute_reply": "2021-01-30T12:07:29.714772Z"
        },
        "papermill": {
          "duration": 0.200122,
          "end_time": "2021-01-30T12:07:29.715465",
          "exception": false,
          "start_time": "2021-01-30T12:07:29.515343",
          "status": "completed"
        },
        "tags": [],
        "colab": {
          "base_uri": "https://localhost:8080/"
        },
        "id": "eB4ix6RhLu8s",
        "outputId": "8c4924c8-ace3-4010-ed30-c61f6a26dc7b"
      },
      "outputs": [
        {
          "output_type": "stream",
          "name": "stdout",
          "text": [
            "[0 0 0 1 0 1 1 0 0 0 0 0 1 0 1 0 0 1 0 0 0 0 0 1 0 0 0 0 1 0 1 0 0 0 1 0 0\n",
            " 0 0 1 0 0 0 0 0 0 0 0 0 1 1 1 1 0 1 0 0 0 0 0 0 1 1 0 0 0 1 0 0 0 0 0 0 0\n",
            " 0 1 0 0 0 1 0 0 1 0 1 0 0 1 0 0]\n"
          ]
        }
      ],
      "source": [
        "y_pred = classifier.predict(x_test)\n",
        "print(y_pred)"
      ]
    },
    {
      "cell_type": "code",
      "execution_count": null,
      "metadata": {
        "execution": {
          "iopub.execute_input": "2021-01-30T12:07:30.094887Z",
          "iopub.status.busy": "2021-01-30T12:07:30.094099Z",
          "iopub.status.idle": "2021-01-30T12:07:30.099801Z",
          "shell.execute_reply": "2021-01-30T12:07:30.100257Z"
        },
        "papermill": {
          "duration": 0.200033,
          "end_time": "2021-01-30T12:07:30.100425",
          "exception": false,
          "start_time": "2021-01-30T12:07:29.900392",
          "status": "completed"
        },
        "tags": [],
        "colab": {
          "base_uri": "https://localhost:8080/"
        },
        "id": "G5Hmu7oJLu8s",
        "outputId": "8ee72756-4253-4163-8a9e-93900a9d1d6b"
      },
      "outputs": [
        {
          "output_type": "stream",
          "name": "stdout",
          "text": [
            "[[55  7]\n",
            " [11 17]]\n",
            "0.8\n"
          ]
        }
      ],
      "source": [
        "# Making the confusion matrix and calculating the accuracy score\n",
        "\n",
        "from sklearn.metrics import confusion_matrix, accuracy_score\n",
        "cm = confusion_matrix(y_test, y_pred)\n",
        "ac_catboost = accuracy_score(y_test, y_pred)\n",
        "mylist.append(ac_catboost)\n",
        "print(cm)\n",
        "print(ac_catboost)"
      ]
    },
    {
      "cell_type": "code",
      "execution_count": null,
      "metadata": {
        "execution": {
          "iopub.execute_input": "2021-01-30T12:07:30.484766Z",
          "iopub.status.busy": "2021-01-30T12:07:30.483805Z",
          "iopub.status.idle": "2021-01-30T12:07:30.488987Z",
          "shell.execute_reply": "2021-01-30T12:07:30.488336Z"
        },
        "papermill": {
          "duration": 0.204646,
          "end_time": "2021-01-30T12:07:30.489108",
          "exception": false,
          "start_time": "2021-01-30T12:07:30.284462",
          "status": "completed"
        },
        "tags": [],
        "colab": {
          "base_uri": "https://localhost:8080/",
          "height": 300
        },
        "id": "h5kYOijYLu8s",
        "outputId": "be5f90ca-4f33-4342-9210-9143dcf56fac"
      },
      "outputs": [
        {
          "output_type": "execute_result",
          "data": {
            "text/plain": [
              "                     Model     Score\n",
              "6                  xgboost  0.822222\n",
              "2      Logistic Regression  0.811111\n",
              "3            Random Forest  0.811111\n",
              "7                 catboost  0.800000\n",
              "5            Decision Tree  0.788889\n",
              "1                      KNN  0.777778\n",
              "0  Support Vector Machines  0.755556\n",
              "4                      ANN  0.744444"
            ],
            "text/html": [
              "\n",
              "  <div id=\"df-7a332ee0-a40b-4c92-a37f-705e826f93f0\">\n",
              "    <div class=\"colab-df-container\">\n",
              "      <div>\n",
              "<style scoped>\n",
              "    .dataframe tbody tr th:only-of-type {\n",
              "        vertical-align: middle;\n",
              "    }\n",
              "\n",
              "    .dataframe tbody tr th {\n",
              "        vertical-align: top;\n",
              "    }\n",
              "\n",
              "    .dataframe thead th {\n",
              "        text-align: right;\n",
              "    }\n",
              "</style>\n",
              "<table border=\"1\" class=\"dataframe\">\n",
              "  <thead>\n",
              "    <tr style=\"text-align: right;\">\n",
              "      <th></th>\n",
              "      <th>Model</th>\n",
              "      <th>Score</th>\n",
              "    </tr>\n",
              "  </thead>\n",
              "  <tbody>\n",
              "    <tr>\n",
              "      <th>6</th>\n",
              "      <td>xgboost</td>\n",
              "      <td>0.822222</td>\n",
              "    </tr>\n",
              "    <tr>\n",
              "      <th>2</th>\n",
              "      <td>Logistic Regression</td>\n",
              "      <td>0.811111</td>\n",
              "    </tr>\n",
              "    <tr>\n",
              "      <th>3</th>\n",
              "      <td>Random Forest</td>\n",
              "      <td>0.811111</td>\n",
              "    </tr>\n",
              "    <tr>\n",
              "      <th>7</th>\n",
              "      <td>catboost</td>\n",
              "      <td>0.800000</td>\n",
              "    </tr>\n",
              "    <tr>\n",
              "      <th>5</th>\n",
              "      <td>Decision Tree</td>\n",
              "      <td>0.788889</td>\n",
              "    </tr>\n",
              "    <tr>\n",
              "      <th>1</th>\n",
              "      <td>KNN</td>\n",
              "      <td>0.777778</td>\n",
              "    </tr>\n",
              "    <tr>\n",
              "      <th>0</th>\n",
              "      <td>Support Vector Machines</td>\n",
              "      <td>0.755556</td>\n",
              "    </tr>\n",
              "    <tr>\n",
              "      <th>4</th>\n",
              "      <td>ANN</td>\n",
              "      <td>0.744444</td>\n",
              "    </tr>\n",
              "  </tbody>\n",
              "</table>\n",
              "</div>\n",
              "      <button class=\"colab-df-convert\" onclick=\"convertToInteractive('df-7a332ee0-a40b-4c92-a37f-705e826f93f0')\"\n",
              "              title=\"Convert this dataframe to an interactive table.\"\n",
              "              style=\"display:none;\">\n",
              "        \n",
              "  <svg xmlns=\"http://www.w3.org/2000/svg\" height=\"24px\"viewBox=\"0 0 24 24\"\n",
              "       width=\"24px\">\n",
              "    <path d=\"M0 0h24v24H0V0z\" fill=\"none\"/>\n",
              "    <path d=\"M18.56 5.44l.94 2.06.94-2.06 2.06-.94-2.06-.94-.94-2.06-.94 2.06-2.06.94zm-11 1L8.5 8.5l.94-2.06 2.06-.94-2.06-.94L8.5 2.5l-.94 2.06-2.06.94zm10 10l.94 2.06.94-2.06 2.06-.94-2.06-.94-.94-2.06-.94 2.06-2.06.94z\"/><path d=\"M17.41 7.96l-1.37-1.37c-.4-.4-.92-.59-1.43-.59-.52 0-1.04.2-1.43.59L10.3 9.45l-7.72 7.72c-.78.78-.78 2.05 0 2.83L4 21.41c.39.39.9.59 1.41.59.51 0 1.02-.2 1.41-.59l7.78-7.78 2.81-2.81c.8-.78.8-2.07 0-2.86zM5.41 20L4 18.59l7.72-7.72 1.47 1.35L5.41 20z\"/>\n",
              "  </svg>\n",
              "      </button>\n",
              "      \n",
              "  <style>\n",
              "    .colab-df-container {\n",
              "      display:flex;\n",
              "      flex-wrap:wrap;\n",
              "      gap: 12px;\n",
              "    }\n",
              "\n",
              "    .colab-df-convert {\n",
              "      background-color: #E8F0FE;\n",
              "      border: none;\n",
              "      border-radius: 50%;\n",
              "      cursor: pointer;\n",
              "      display: none;\n",
              "      fill: #1967D2;\n",
              "      height: 32px;\n",
              "      padding: 0 0 0 0;\n",
              "      width: 32px;\n",
              "    }\n",
              "\n",
              "    .colab-df-convert:hover {\n",
              "      background-color: #E2EBFA;\n",
              "      box-shadow: 0px 1px 2px rgba(60, 64, 67, 0.3), 0px 1px 3px 1px rgba(60, 64, 67, 0.15);\n",
              "      fill: #174EA6;\n",
              "    }\n",
              "\n",
              "    [theme=dark] .colab-df-convert {\n",
              "      background-color: #3B4455;\n",
              "      fill: #D2E3FC;\n",
              "    }\n",
              "\n",
              "    [theme=dark] .colab-df-convert:hover {\n",
              "      background-color: #434B5C;\n",
              "      box-shadow: 0px 1px 3px 1px rgba(0, 0, 0, 0.15);\n",
              "      filter: drop-shadow(0px 1px 2px rgba(0, 0, 0, 0.3));\n",
              "      fill: #FFFFFF;\n",
              "    }\n",
              "  </style>\n",
              "\n",
              "      <script>\n",
              "        const buttonEl =\n",
              "          document.querySelector('#df-7a332ee0-a40b-4c92-a37f-705e826f93f0 button.colab-df-convert');\n",
              "        buttonEl.style.display =\n",
              "          google.colab.kernel.accessAllowed ? 'block' : 'none';\n",
              "\n",
              "        async function convertToInteractive(key) {\n",
              "          const element = document.querySelector('#df-7a332ee0-a40b-4c92-a37f-705e826f93f0');\n",
              "          const dataTable =\n",
              "            await google.colab.kernel.invokeFunction('convertToInteractive',\n",
              "                                                     [key], {});\n",
              "          if (!dataTable) return;\n",
              "\n",
              "          const docLinkHtml = 'Like what you see? Visit the ' +\n",
              "            '<a target=\"_blank\" href=https://colab.research.google.com/notebooks/data_table.ipynb>data table notebook</a>'\n",
              "            + ' to learn more about interactive tables.';\n",
              "          element.innerHTML = '';\n",
              "          dataTable['output_type'] = 'display_data';\n",
              "          await google.colab.output.renderOutput(dataTable, element);\n",
              "          const docLink = document.createElement('div');\n",
              "          docLink.innerHTML = docLinkHtml;\n",
              "          element.appendChild(docLink);\n",
              "        }\n",
              "      </script>\n",
              "    </div>\n",
              "  </div>\n",
              "  "
            ]
          },
          "metadata": {},
          "execution_count": 80
        }
      ],
      "source": [
        "models = pd.DataFrame({\n",
        "    'Model': ['Support Vector Machines', 'KNN', 'Logistic Regression', \n",
        "              'Random Forest', 'ANN',   \n",
        "              'Decision Tree','xgboost','catboost'],\n",
        "    'Score': [acc_svc, acc_knn, acc_logreg, \n",
        "              acc_randomforest, ac_ann, acc_decisiontree,ac_xgboost,ac_catboost\n",
        "              ]})\n",
        "models.sort_values(by='Score', ascending=False)"
      ]
    },
    {
      "cell_type": "code",
      "execution_count": null,
      "metadata": {
        "execution": {
          "iopub.execute_input": "2021-01-30T12:07:30.871523Z",
          "iopub.status.busy": "2021-01-30T12:07:30.870816Z",
          "iopub.status.idle": "2021-01-30T12:07:31.159370Z",
          "shell.execute_reply": "2021-01-30T12:07:31.158800Z"
        },
        "papermill": {
          "duration": 0.483902,
          "end_time": "2021-01-30T12:07:31.159487",
          "exception": false,
          "start_time": "2021-01-30T12:07:30.675585",
          "status": "completed"
        },
        "tags": [],
        "colab": {
          "base_uri": "https://localhost:8080/",
          "height": 444
        },
        "id": "DB-Ra8cbLu8t",
        "outputId": "81fa7e6b-1f8a-4cf1-9348-2496c76f4417"
      },
      "outputs": [
        {
          "output_type": "display_data",
          "data": {
            "text/plain": [
              "<Figure size 1080x432 with 1 Axes>"
            ],
            "image/png": "[encoded data removed]"
          },
          "metadata": {}
        }
      ],
      "source": [
        "plt.rcParams['figure.figsize']=15,6 \n",
        "sns.set_style(\"darkgrid\")\n",
        "ax = sns.barplot(x=models.Model, y=models.Score, palette = \"rocket\", saturation =1.5)\n",
        "plt.xlabel(\"Classifier Models\", fontsize = 20 )\n",
        "plt.ylabel(\"% of Accuracy\", fontsize = 20)\n",
        "plt.title(\"Accuracy of different Classifier Models\", fontsize = 20)\n",
        "plt.xticks(fontsize = 12, horizontalalignment = 'center', rotation = 8)\n",
        "plt.yticks(fontsize = 13)\n",
        "for p in ax.patches:\n",
        "    width, height = p.get_width(), p.get_height()\n",
        "    x, y = p.get_xy() \n",
        "    ax.annotate(f'{height:.2%}', (x + width/2, y + height*1.02), ha='center', fontsize = 'x-large')\n",
        "plt.show()"
      ]
    }
  ],
  "metadata": {
    "kernelspec": {
      "display_name": "Python 3",
      "language": "python",
      "name": "python3"
    },
    "language_info": {
      "codemirror_mode": {
        "name": "ipython",
        "version": 3
      },
      "file_extension": ".py",
      "mimetype": "text/x-python",
      "name": "python",
      "nbconvert_exporter": "python",
      "pygments_lexer": "ipython3",
      "version": "3.7.6"
    },
    "papermill": {
      "duration": 51.400719,
      "end_time": "2021-01-30T12:07:31.838403",
      "environment_variables": {},
      "exception": null,
      "input_path": "__notebook__.ipynb",
      "output_path": "__notebook__.ipynb",
      "parameters": {},
      "start_time": "2021-01-30T12:06:40.437684",
      "version": "2.1.0"
    },
    "colab": {
      "name": "heart-failure-prediction.ipynb",
      "provenance": [],
      "collapsed_sections": [
        "WtLg0uUJLu8e"
      ],
      "include_colab_link": true
    }
  },
  "nbformat": 4,
  "nbformat_minor": 0
}